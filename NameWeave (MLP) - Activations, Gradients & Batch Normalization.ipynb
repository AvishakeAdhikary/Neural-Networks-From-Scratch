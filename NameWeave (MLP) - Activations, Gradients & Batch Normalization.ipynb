{
 "cells": [
  {
   "cell_type": "markdown",
   "id": "315c0af3-8e9f-4468-bc06-bf3358c7a3a9",
   "metadata": {},
   "source": [
    "# Welcome to NameWeave (MLP) - Activations, Gradients & Batch Normalization"
   ]
  },
  {
   "cell_type": "markdown",
   "id": "942ff9bc-d232-4977-8bc5-2ce361240518",
   "metadata": {},
   "source": [
    "Let's rearrange our last code from <a href=\"https://github.com/AvishakeAdhikary/Neural-Networks-From-Scratch/blob/main/NameWeave%20-%20Multi%20Layer%20Perceptron.ipynb\">NameWeave - Multi Layer Perceptron</a> file, to make it look a little bit more tidier first."
   ]
  },
  {
   "cell_type": "markdown",
   "id": "063da9f8-7add-487e-a282-8097f9457702",
   "metadata": {
    "jp-MarkdownHeadingCollapsed": true
   },
   "source": [
    "# Installing Dependencies"
   ]
  },
  {
   "cell_type": "code",
   "execution_count": 1,
   "id": "2195360b-8b96-4701-8c4a-1f9e2409f667",
   "metadata": {},
   "outputs": [
    {
     "name": "stdout",
     "output_type": "stream",
     "text": [
      "Requirement already satisfied: torch in c:\\users\\avhis\\appdata\\local\\programs\\python\\python311\\lib\\site-packages (2.1.2)\n",
      "Requirement already satisfied: filelock in c:\\users\\avhis\\appdata\\local\\programs\\python\\python311\\lib\\site-packages (from torch) (3.13.1)\n",
      "Requirement already satisfied: typing-extensions in c:\\users\\avhis\\appdata\\local\\programs\\python\\python311\\lib\\site-packages (from torch) (4.9.0)\n",
      "Requirement already satisfied: sympy in c:\\users\\avhis\\appdata\\local\\programs\\python\\python311\\lib\\site-packages (from torch) (1.12)\n",
      "Requirement already satisfied: networkx in c:\\users\\avhis\\appdata\\local\\programs\\python\\python311\\lib\\site-packages (from torch) (3.2.1)\n",
      "Requirement already satisfied: jinja2 in c:\\users\\avhis\\appdata\\local\\programs\\python\\python311\\lib\\site-packages (from torch) (3.1.3)\n",
      "Requirement already satisfied: fsspec in c:\\users\\avhis\\appdata\\local\\programs\\python\\python311\\lib\\site-packages (from torch) (2023.12.2)\n",
      "Requirement already satisfied: MarkupSafe>=2.0 in c:\\users\\avhis\\appdata\\local\\programs\\python\\python311\\lib\\site-packages (from jinja2->torch) (2.1.4)\n",
      "Requirement already satisfied: mpmath>=0.19 in c:\\users\\avhis\\appdata\\local\\programs\\python\\python311\\lib\\site-packages (from sympy->torch) (1.3.0)\n",
      "Requirement already satisfied: numpy in c:\\users\\avhis\\appdata\\local\\programs\\python\\python311\\lib\\site-packages (1.26.3)\n",
      "Requirement already satisfied: pandas in c:\\users\\avhis\\appdata\\local\\programs\\python\\python311\\lib\\site-packages (2.2.0)\n",
      "Requirement already satisfied: numpy<2,>=1.23.2 in c:\\users\\avhis\\appdata\\local\\programs\\python\\python311\\lib\\site-packages (from pandas) (1.26.3)\n",
      "Requirement already satisfied: python-dateutil>=2.8.2 in c:\\users\\avhis\\appdata\\local\\programs\\python\\python311\\lib\\site-packages (from pandas) (2.8.2)\n",
      "Requirement already satisfied: pytz>=2020.1 in c:\\users\\avhis\\appdata\\local\\programs\\python\\python311\\lib\\site-packages (from pandas) (2023.3.post1)\n",
      "Requirement already satisfied: tzdata>=2022.7 in c:\\users\\avhis\\appdata\\local\\programs\\python\\python311\\lib\\site-packages (from pandas) (2023.4)\n",
      "Requirement already satisfied: six>=1.5 in c:\\users\\avhis\\appdata\\local\\programs\\python\\python311\\lib\\site-packages (from python-dateutil>=2.8.2->pandas) (1.16.0)\n",
      "Requirement already satisfied: matplotlib in c:\\users\\avhis\\appdata\\local\\programs\\python\\python311\\lib\\site-packages (3.8.2)\n",
      "Requirement already satisfied: contourpy>=1.0.1 in c:\\users\\avhis\\appdata\\local\\programs\\python\\python311\\lib\\site-packages (from matplotlib) (1.2.0)\n",
      "Requirement already satisfied: cycler>=0.10 in c:\\users\\avhis\\appdata\\local\\programs\\python\\python311\\lib\\site-packages (from matplotlib) (0.12.1)\n",
      "Requirement already satisfied: fonttools>=4.22.0 in c:\\users\\avhis\\appdata\\local\\programs\\python\\python311\\lib\\site-packages (from matplotlib) (4.47.2)\n",
      "Requirement already satisfied: kiwisolver>=1.3.1 in c:\\users\\avhis\\appdata\\local\\programs\\python\\python311\\lib\\site-packages (from matplotlib) (1.4.5)\n",
      "Requirement already satisfied: numpy<2,>=1.21 in c:\\users\\avhis\\appdata\\local\\programs\\python\\python311\\lib\\site-packages (from matplotlib) (1.26.3)\n",
      "Requirement already satisfied: packaging>=20.0 in c:\\users\\avhis\\appdata\\local\\programs\\python\\python311\\lib\\site-packages (from matplotlib) (23.2)\n",
      "Requirement already satisfied: pillow>=8 in c:\\users\\avhis\\appdata\\local\\programs\\python\\python311\\lib\\site-packages (from matplotlib) (10.2.0)\n",
      "Requirement already satisfied: pyparsing>=2.3.1 in c:\\users\\avhis\\appdata\\local\\programs\\python\\python311\\lib\\site-packages (from matplotlib) (3.1.1)\n",
      "Requirement already satisfied: python-dateutil>=2.7 in c:\\users\\avhis\\appdata\\local\\programs\\python\\python311\\lib\\site-packages (from matplotlib) (2.8.2)\n",
      "Requirement already satisfied: six>=1.5 in c:\\users\\avhis\\appdata\\local\\programs\\python\\python311\\lib\\site-packages (from python-dateutil>=2.7->matplotlib) (1.16.0)\n"
     ]
    }
   ],
   "source": [
    "!pip install torch\n",
    "!pip install numpy\n",
    "!pip install pandas\n",
    "!pip install matplotlib"
   ]
  },
  {
   "cell_type": "markdown",
   "id": "e4dd255c-4fe6-4944-9248-f9f2c2227e3e",
   "metadata": {
    "jp-MarkdownHeadingCollapsed": true
   },
   "source": [
    "# Importing Libraries"
   ]
  },
  {
   "cell_type": "code",
   "execution_count": 2,
   "id": "d6b3941b-d85f-48c4-aebd-f0e07f32ebb3",
   "metadata": {},
   "outputs": [
    {
     "name": "stderr",
     "output_type": "stream",
     "text": [
      "C:\\Users\\avhis\\AppData\\Local\\Temp\\ipykernel_304\\3082457058.py:5: DeprecationWarning: \n",
      "Pyarrow will become a required dependency of pandas in the next major release of pandas (pandas 3.0),\n",
      "(to allow more performant data types, such as the Arrow string type, and better interoperability with other libraries)\n",
      "but was not found to be installed on your system.\n",
      "If this would cause problems for you,\n",
      "please provide us feedback at https://github.com/pandas-dev/pandas/issues/54466\n",
      "        \n",
      "  import pandas as pd\n"
     ]
    }
   ],
   "source": [
    "import random\n",
    "import torch\n",
    "import torch.nn.functional as F\n",
    "import numpy as np\n",
    "import pandas as pd\n",
    "import matplotlib.pyplot as plt"
   ]
  },
  {
   "cell_type": "markdown",
   "id": "d816f158-9e9d-4f35-b4ef-32029c2a20cf",
   "metadata": {
    "jp-MarkdownHeadingCollapsed": true
   },
   "source": [
    "# Loading Dataset\n"
   ]
  },
  {
   "cell_type": "code",
   "execution_count": 3,
   "id": "60fe9b91-d31f-440d-a2b5-aab3cb5e860a",
   "metadata": {},
   "outputs": [],
   "source": [
    "words = open(\"Datasets/Indian_Names.txt\").read().splitlines()\n",
    "words = [word.lower() for word in words]"
   ]
  },
  {
   "cell_type": "code",
   "execution_count": 4,
   "id": "42fe1ad8-a645-45b2-9849-d41ce414af4c",
   "metadata": {},
   "outputs": [
    {
     "data": {
      "text/plain": [
       "53982"
      ]
     },
     "execution_count": 4,
     "metadata": {},
     "output_type": "execute_result"
    }
   ],
   "source": [
    "len(words)"
   ]
  },
  {
   "cell_type": "markdown",
   "id": "76baec50-f9e2-49b7-838c-499d4365c010",
   "metadata": {
    "jp-MarkdownHeadingCollapsed": true
   },
   "source": [
    "# Building Vocabulary\n"
   ]
  },
  {
   "cell_type": "code",
   "execution_count": 5,
   "id": "f4ef31b6-2b8e-4901-82df-86c69c5d06bc",
   "metadata": {},
   "outputs": [
    {
     "name": "stdout",
     "output_type": "stream",
     "text": [
      "Characters: ['a', 'b', 'c', 'd', 'e', 'f', 'g', 'h', 'i', 'j', 'k', 'l', 'm', 'n', 'o', 'p', 'q', 'r', 's', 't', 'u', 'v', 'w', 'x', 'y', 'z']\n",
      "STOI: {'a': 1, 'b': 2, 'c': 3, 'd': 4, 'e': 5, 'f': 6, 'g': 7, 'h': 8, 'i': 9, 'j': 10, 'k': 11, 'l': 12, 'm': 13, 'n': 14, 'o': 15, 'p': 16, 'q': 17, 'r': 18, 's': 19, 't': 20, 'u': 21, 'v': 22, 'w': 23, 'x': 24, 'y': 25, 'z': 26, '.': 0}\n",
      "ITOS {1: 'a', 2: 'b', 3: 'c', 4: 'd', 5: 'e', 6: 'f', 7: 'g', 8: 'h', 9: 'i', 10: 'j', 11: 'k', 12: 'l', 13: 'm', 14: 'n', 15: 'o', 16: 'p', 17: 'q', 18: 'r', 19: 's', 20: 't', 21: 'u', 22: 'v', 23: 'w', 24: 'x', 25: 'y', 26: 'z', 0: '.'}\n",
      "Vocabulary Size: 27\n"
     ]
    }
   ],
   "source": [
    "# Remember we need our starting and ending tokens as well in these mappings,\n",
    "characters = sorted(list(set(''.join(words)))) # Gives us all the characters in the english alphabet, hopefully our dataset has all of them\n",
    "stoi = {s:i+1 for i,s in enumerate(characters)} # Enumerate returns the tuples of number and string, which can then be mapped to string:index\n",
    "# We manually add these tokens for convenience\n",
    "stoi['.'] = 0\n",
    "itos = {i:s for s,i in stoi.items()} # After we have the string:index mapping, we can easily iterate over their items to map index:string\n",
    "print(\"Characters:\", characters)\n",
    "print(\"STOI:\", stoi)\n",
    "print(\"ITOS\", itos)\n",
    "# We define a common vocabulary size\n",
    "vocabularySize = len(stoi)\n",
    "print(\"Vocabulary Size:\", vocabularySize)"
   ]
  },
  {
   "cell_type": "markdown",
   "id": "237843e6-2bb5-4dd6-b39a-30ac7a87d544",
   "metadata": {
    "jp-MarkdownHeadingCollapsed": true
   },
   "source": [
    "# Building Dataset"
   ]
  },
  {
   "cell_type": "code",
   "execution_count": 8,
   "id": "5b215480-e47f-4fa0-865f-530e74b81958",
   "metadata": {},
   "outputs": [
    {
     "name": "stdout",
     "output_type": "stream",
     "text": [
      "Total Examples: 53982\n",
      "Training Examples: 43185\n",
      "Validation Examples: 5398\n",
      "Test Examples: 5399\n"
     ]
    }
   ],
   "source": [
    "# We define a Block Size based on the number of characters we feed are going to feed to predict the next one\n",
    "blockSize = 3\n",
    "# Will build the dataset on only the words we take as input\n",
    "def buildDataset(words):\n",
    "    # We define two lists, inputs & outputs, where inputs are our blocks of the block size mentioned above and outputs are the label indexes\n",
    "    inputs , outputs = [], []\n",
    "    # We iterate over each word\n",
    "    for word in words:\n",
    "        # We define the block for each iteration and fill it with 0 values -> [0, 0, 0]\n",
    "        block = [0] * blockSize\n",
    "        # We run another loop for each word's character, here word also needs the ending token '.'\n",
    "        for character in word + '.':\n",
    "            # We take out the index from our look-up table\n",
    "            index = stoi[character]\n",
    "            # We append the input with our block\n",
    "            inputs.append(block)\n",
    "            # We append the output label with out index of the character\n",
    "            outputs.append([index])\n",
    "            # We then take the block, crop it 1 size from the left and append the next index to it (sliding window of name)\n",
    "            block = block[1:] + [index]\n",
    "    # We also convert these inputs and outputs to tensors for neural network processing\n",
    "    inputs = torch.tensor(inputs)\n",
    "    outputs = torch.flatten(torch.tensor(outputs))\n",
    "    # We return the inputs and outputs\n",
    "    return inputs, outputs\n",
    "\n",
    "# We define a manual seed to random\n",
    "random.seed(69)\n",
    "# We shuffle all the words, so that the model receives all kinds of data\n",
    "random.shuffle(words)\n",
    "# We define two number of inputs\n",
    "# We take the number of examples to 80% in the first variable\n",
    "numberOfInputs1 = int(0.8*len(words))\n",
    "# We take the number of examples to 90% in the first variable\n",
    "numberOfInputs2 = int(0.9*len(words))\n",
    "# Inputs and outputs that go till 80% of the examples\n",
    "trainingInputs, trainingOutputs = buildDataset(words[:numberOfInputs1])\n",
    "# Inputs and outputs that start at 80% of the examples and go till 90% of the examples\n",
    "validationInputs, validationOutputs = buildDataset(words[numberOfInputs1:numberOfInputs2])\n",
    "# Inputs and outputs that start at 90% of the examples\n",
    "testInputs, testOutputs = buildDataset(words[numberOfInputs2:])\n",
    "\n",
    "# We can check the numbers\n",
    "print(\"Total Examples:\",len(words)) # 100%\n",
    "print(\"Training Examples:\",len(words[:numberOfInputs1])) # 80%\n",
    "print(\"Validation Examples:\",len(words[numberOfInputs1:numberOfInputs2])) # 10%\n",
    "print(\"Test Examples:\",len(words[numberOfInputs2:])) # 10%"
   ]
  },
  {
   "cell_type": "markdown",
   "id": "9476c3ab-25f7-42f4-b148-3543b2290de9",
   "metadata": {
    "jp-MarkdownHeadingCollapsed": true
   },
   "source": [
    "# Neural Network Initialization - Weights, Biases & Parameters"
   ]
  },
  {
   "cell_type": "code",
   "execution_count": 10,
   "id": "20dc9d19-e859-4cb3-b14c-c60bbb38d686",
   "metadata": {},
   "outputs": [],
   "source": [
    "# We will define a generator to give the same result on your machine, as of my machine\n",
    "generator = torch.Generator().manual_seed(6942069420)\n",
    "# Embedding Matrix (Input Layer)\n",
    "embeddingFeatureSpaceLength = 10 \n",
    "embeddingLookUpMatrix = torch.randn((vocabularySize, embeddingFeatureSpaceLength), generator=generator)\n",
    "# Hidden Layer\n",
    "numberOfHiddenLayerNeurons = 200 # We increase the number of neurons here\n",
    "weightsOfHiddenLayer = torch.randn((blockSize*embeddingFeatureSpaceLength), numberOfHiddenLayerNeurons, generator=generator)\n",
    "biasesOfHiddenLayer = torch.randn(numberOfHiddenLayerNeurons, generator=generator)\n",
    "# Output Layer / Final Layer\n",
    "weightsOfFinalLayer = torch.randn(numberOfHiddenLayerNeurons, vocabularySize, generator=generator)\n",
    "biasesOfFinalLayer = torch.randn(vocabularySize, generator=generator)\n",
    "# Parameters\n",
    "parameters = [embeddingLookUpMatrix, weightsOfHiddenLayer, biasesOfHiddenLayer, weightsOfFinalLayer, biasesOfFinalLayer]\n",
    "# We set all the requires gradient to True\n",
    "for parameter in parameters:\n",
    "    parameter.requires_grad = True"
   ]
  },
  {
   "cell_type": "markdown",
   "id": "83ed5bc2-f88a-4917-985e-a89d3d7f5340",
   "metadata": {
    "jp-MarkdownHeadingCollapsed": true
   },
   "source": [
    "# Neural Network - Training, Back-Propagation & Updation"
   ]
  },
  {
   "cell_type": "code",
   "execution_count": 16,
   "id": "85131a3f-89e9-403b-b76b-0d676eb603be",
   "metadata": {},
   "outputs": [
    {
     "name": "stdout",
     "output_type": "stream",
     "text": [
      "      0/ 200000: 25.4462\n",
      "  10000/ 200000: 2.3372\n",
      "  20000/ 200000: 2.0521\n",
      "  30000/ 200000: 2.4103\n",
      "  40000/ 200000: 1.9892\n",
      "  50000/ 200000: 2.7770\n",
      "  60000/ 200000: 2.4457\n",
      "  70000/ 200000: 2.1623\n",
      "  80000/ 200000: 2.1746\n",
      "  90000/ 200000: 1.9633\n",
      " 100000/ 200000: 1.9765\n",
      " 110000/ 200000: 1.9889\n",
      " 120000/ 200000: 1.8822\n",
      " 130000/ 200000: 2.2266\n",
      " 140000/ 200000: 1.8511\n",
      " 150000/ 200000: 1.9462\n",
      " 160000/ 200000: 1.9257\n",
      " 170000/ 200000: 2.2852\n",
      " 180000/ 200000: 2.0552\n",
      " 190000/ 200000: 2.0097\n",
      "Minibatch Loss: tensor(1.5459, grad_fn=<NllLossBackward0>)\n"
     ]
    }
   ],
   "source": [
    "# We want to track the losses that we use in the training\n",
    "losses = []\n",
    "\n",
    "# We define the number of epochs\n",
    "epochs = 200000\n",
    "for i in range(epochs):\n",
    "    # Mini-Batches\n",
    "    indexes = torch.randint(low=0, high=trainingInputs.shape[0], size=(32,)) # I changed it to 32 to make it look nicer in my mind\n",
    "    inputBatch, outputBatch = trainingInputs[indexes], trainingOutputs[indexes]\n",
    "    \n",
    "    # Forward Pass (Mini-Batch)\n",
    "    embedding = embeddingLookUpMatrix[inputBatch]\n",
    "    concatenatedEmbedding = embedding.view(embedding.shape[0], -1) # These are all the input examples in a concatenated form\n",
    "    hiddenLayerPreActivationStates = embedding.view(-1, blockSize*embeddingFeatureSpaceLength) @ weightsOfHiddenLayer + biasesOfHiddenLayer\n",
    "    hiddenLayerPostActivationStates = torch.tanh(hiddenLayerPreActivationStates) # We divided the states into two parts pre and post non-linearity\n",
    "    logits = hiddenLayerPostActivationStates @ weightsOfFinalLayer + biasesOfFinalLayer\n",
    "    loss = F.cross_entropy(logits, trainingOutputs[indexes])\n",
    "    \n",
    "    # Backward Pass (Mini-Batch)\n",
    "    for parameter in parameters:\n",
    "        parameter.grad = None\n",
    "    loss.backward()\n",
    "    \n",
    "    # Update Weights (Mini-Batch)\n",
    "    learning_rate = 0.1 if i < 100000 else 0.01\n",
    "    for parameter in parameters:\n",
    "        parameter.data += -learning_rate * parameter.grad\n",
    "\n",
    "    # Tracking the stats\n",
    "    # We append the losses that we use per iteration\n",
    "    if i % 10000 == 0: \n",
    "        print(f'{i:7d}/{epochs:7d}: {loss.item():.4f}')\n",
    "    losses.append(loss.log10().item()) # We do that to squash the steep curve to a nicer graph\n",
    "print(\"Minibatch Loss:\", loss)"
   ]
  },
  {
   "cell_type": "code",
   "execution_count": 17,
   "id": "ea217524-6261-4db8-80e9-9d39fb70b18f",
   "metadata": {},
   "outputs": [
    {
     "data": {
      "text/plain": [
       "[<matplotlib.lines.Line2D at 0x2efc9dd3690>]"
      ]
     },
     "execution_count": 17,
     "metadata": {},
     "output_type": "execute_result"
    },
    {
     "data": {
      "image/png": "[encoded data removed]",
      "text/plain": [
       "<Figure size 640x480 with 1 Axes>"
      ]
     },
     "metadata": {},
     "output_type": "display_data"
    }
   ],
   "source": [
    "plt.plot(losses)"
   ]
  },
  {
   "cell_type": "markdown",
   "id": "414e35a8-4d88-482e-949f-c0f0622600d7",
   "metadata": {},
   "source": [
    "Once again, we see a steep descent for the first few iterations"
   ]
  },
  {
   "cell_type": "markdown",
   "id": "5d240aed-30af-4d1c-b694-419cc852a06a",
   "metadata": {},
   "source": [
    "Remeber how I said,\\\n",
    "**We tend to calculate the loss on a test-split very cautiously and very few times,** \\\n",
    "**Because, every single time we evaluate our test loss, the model learns something from the split..** \\\n",
    "**So, we basically end up overfitting the test-split as well.** \\\n",
    "**Therefore, we are only allowed to test the loss on test-split very less times.**"
   ]
  },
  {
   "cell_type": "markdown",
   "id": "3a1c0e33-fe3c-4efd-ad12-6a2af54adbd8",
   "metadata": {},
   "source": [
    "Keeping exactly that in mind, we make our next snippet..."
   ]
  },
  {
   "cell_type": "code",
   "execution_count": 20,
   "id": "45ac1c37-afd8-4bd7-8d44-8fbee47ded8e",
   "metadata": {},
   "outputs": [
    {
     "name": "stdout",
     "output_type": "stream",
     "text": [
      "Training Loss:1.9471455812454224\n",
      "Validation Loss:1.9744399785995483\n"
     ]
    }
   ],
   "source": [
    "# Method to split the \n",
    "@torch.no_grad() # Decorator for disabling gradient tracking throughout the function underneath\n",
    "def splitLoss(split):\n",
    "    input, output = {\n",
    "        'Training': (trainingInputs, trainingOutputs),\n",
    "        'Validation': (validationInputs, validationOutputs),\n",
    "        'Testing': (testInputs, testOutputs)\n",
    "    }[split]\n",
    "    # Based on the split we can then index into the embedding look-up matrix using its inputs to get the embeddings\n",
    "    embedding = embeddingLookUpMatrix[input]\n",
    "    concatenatedEmbedding = embedding.view(embedding.shape[0], -1) # These are all the input examples in a concatenated form\n",
    "    hiddenLayerStates = torch.tanh(concatenatedEmbedding @ weightsOfHiddenLayer + biasesOfHiddenLayer)\n",
    "    logits = hiddenLayerStates @ weightsOfFinalLayer + biasesOfFinalLayer\n",
    "    loss = F.cross_entropy(logits, output)\n",
    "    print(f\"{split} Loss:{loss.item()}\")  \n",
    "\n",
    "# We can then call this method to calculate and print loss\n",
    "splitLoss('Training')\n",
    "splitLoss('Validation')"
   ]
  },
  {
   "cell_type": "markdown",
   "id": "af66f8b9-ff30-4be1-a087-57d9e10f3795",
   "metadata": {},
   "source": [
    "Here,\n",
    "```python\n",
    "@torch.no_grad()\n",
    "```\n",
    "is a *decorator* in Python, and in this context, it's used to disable gradient tracking within the decorated function. \\\n",
    "Gradient tracking is a feature in PyTorch that keeps track of operations for automatic differentiation (backpropagation). \\\n",
    "Disabling it within the function is often useful when you don't want to compute gradients, such as during *inference* or when evaluating the model's performance."
   ]
  },
  {
   "cell_type": "markdown",
   "id": "b63aadce-b831-460a-90dc-332c44196a53",
   "metadata": {
    "jp-MarkdownHeadingCollapsed": true
   },
   "source": [
    "# Sampling from our model"
   ]
  },
  {
   "cell_type": "code",
   "execution_count": 21,
   "id": "47a5a52e-ceac-4e76-be1f-98e709bd82e3",
   "metadata": {},
   "outputs": [
    {
     "name": "stdout",
     "output_type": "stream",
     "text": [
      "kundunya.\n",
      "hita.\n",
      "niriaiththan.\n",
      "man.\n",
      "karidevani.\n",
      "jamirishnu.\n",
      "achelve.\n",
      "meenardraseka.\n",
      "kaasagaanin.\n",
      "jaivaadhunavihan.\n",
      "kirini.\n",
      "nirth.\n",
      "banthana.\n",
      "mevmullimenoshitrayaanithevanoja.\n",
      "laya.\n",
      "kobigi.\n",
      "satra.\n",
      "udhavavaraikravalgish.\n",
      "suswnishivanutharuchadashithantayan.\n",
      "meraja.\n"
     ]
    }
   ],
   "source": [
    "# We will define a generator to give the same result on your machine, as of my machine\n",
    "generator = torch.Generator().manual_seed(6942069420)\n",
    "\n",
    "# We will define a generator to give the same result on your machine, as of my machine\n",
    "numberOfWordsToSample = 20\n",
    "\n",
    "# We iterate over the number of words we want to predict\n",
    "for _ in range(numberOfWordsToSample):\n",
    "    # We define a output list to append the next character and print it at the end\n",
    "    output = []\n",
    "    # We define the block for each iteration and fill it with 0 values -> [0, 0, 0]\n",
    "    block = [0] * blockSize\n",
    "\n",
    "    # We will now iterate over each word's characters\n",
    "    while True:\n",
    "        # We would create an output embedding that would be based on the block\n",
    "        embedding = embeddingLookUpMatrix[torch.tensor([block])]\n",
    "        # We would be doing a foward pass on the above embedding vector \n",
    "        hiddenLayerStates = torch.tanh(embedding.view(1, -1) @ weightsOfHiddenLayer + biasesOfHiddenLayer)\n",
    "        logits = hiddenLayerStates @ weightsOfFinalLayer + biasesOfFinalLayer\n",
    "        probabilities = F.softmax(logits, dim=1)\n",
    "        # We can now sample the next character\n",
    "        index = torch.multinomial(probabilities, num_samples=1, generator=generator).item()\n",
    "        # We then take the block, crop it 1 size from the left and append the next index to it (sliding window of name)\n",
    "        block = block[1:] + [index]\n",
    "        # We then append the sampled character to the output\n",
    "        output.append(index)\n",
    "        # If we hit '.' end token, we will break out from the loop\n",
    "        if index == 0:\n",
    "            break\n",
    "    # We print generated name out\n",
    "    print(''.join(itos[index] for index in output))"
   ]
  },
  {
   "cell_type": "markdown",
   "id": "c675c473-188d-41ac-99c7-2e4b89ae0e00",
   "metadata": {},
   "source": [
    "# Understanding Losses"
   ]
  },
  {
   "cell_type": "markdown",
   "id": "99db2100-0821-4765-8175-9e115652fe6c",
   "metadata": {
    "jp-MarkdownHeadingCollapsed": true
   },
   "source": [
    "### Looking into our initial Loss"
   ]
  },
  {
   "cell_type": "markdown",
   "id": "6e1bb786-def8-4d80-952c-74fa3ee4766a",
   "metadata": {},
   "source": [
    "This is me recording the losses I get for the very first time I run this notebook for myself.\\\n",
    "You may get different losses during your own runtime.\n",
    "\n",
    "```python\n",
    "      0/ 200000: 25.4462\n",
    "  10000/ 200000: 2.3372\n",
    "  20000/ 200000: 2.0521\n",
    "  30000/ 200000: 2.4103\n",
    "  40000/ 200000: 1.9892\n",
    "  50000/ 200000: 2.7770\n",
    "  60000/ 200000: 2.4457\n",
    "  70000/ 200000: 2.1623\n",
    "  80000/ 200000: 2.1746\n",
    "  90000/ 200000: 1.9633\n",
    " 100000/ 200000: 1.9765\n",
    " 110000/ 200000: 1.9889\n",
    " 120000/ 200000: 1.8822\n",
    " 130000/ 200000: 2.2266\n",
    " 140000/ 200000: 1.8511\n",
    " 150000/ 200000: 1.9462\n",
    " 160000/ 200000: 1.9257\n",
    " 170000/ 200000: 2.2852\n",
    " 180000/ 200000: 2.0552\n",
    " 190000/ 200000: 2.0097\n",
    "Minibatch Loss: tensor(1.5459, grad_fn=<NllLossBackward0>)\n",
    "```"
   ]
  },
  {
   "attachments": {
    "108d77f6-5c41-4f15-b35c-bef0d1bac23a.png": {
     "image/png": "[encoded data removed]"
    }
   },
   "cell_type": "markdown",
   "id": "3048f6eb-1129-4eb0-8fdc-8600e05579f5",
   "metadata": {},
   "source": [
    "![image.png](attachment:108d77f6-5c41-4f15-b35c-bef0d1bac23a.png)"
   ]
  },
  {
   "cell_type": "markdown",
   "id": "ce649d3a-3c61-45f6-9cd5-7cd29d2c84c3",
   "metadata": {},
   "source": [
    "You see how the loss at the beginning is *25.4462* and then it suddenly comes down to *2.3372*?\n",
    "\n",
    "First of all, during the training of the neural networks you always have a rough idea of **what the loss is going to be** during the **initialization of the neural network** itself.\n",
    "\n",
    "How?\\\n",
    "Well it totally depends on the loss function and the problem setup.\n",
    "\n",
    "Let's calculate what the loss in our case should we be expecting, together..."
   ]
  },
  {
   "cell_type": "markdown",
   "id": "8e5b1a19-6e69-4664-adc2-5ee4345e5449",
   "metadata": {
    "jp-MarkdownHeadingCollapsed": true
   },
   "source": [
    "### Calculating Expected Loss"
   ]
  },
  {
   "cell_type": "markdown",
   "id": "86fa559c-6345-4656-92f7-e7f61cf9324d",
   "metadata": {},
   "source": [
    "We understand that we are trying to classify the character that comes our of our neural network from our 27 characters.\\\n",
    "So we have no reason to believe that whatever comes out of the neural network to be more likely than the other.\\\n",
    "Thus, we expect that whatever comes out of our neural network is an uniform distribution, assigning all equal probabilities to all the 27 characters.\n",
    "\n",
    "\n",
    "What Is the Formula for **Uniform Distribution**? \\\n",
    "The formula for a ***discrete uniform distribution*** is:\n",
    "\n",
    "$$ P_x = \\frac{1}{n} $$\n",
    "where, $$n = \\text{Number of values in the range}$$\n",
    "\n",
    "Therefore,\\\n",
    "We expect loss to be roughly:\n",
    "$$ P_x = \\frac{1}{27} $$\n",
    "\n",
    "\n",
    "And because we are doing the negetive log likelihood,\\\n",
    "we will have:\n",
    "$$ -\\log(P_x = \\frac{1}{27}) $$\n",
    "\n",
    "which is roughly:\n",
    "```python\n",
    "-torch.tensor(1/27.0).log()\n",
    "```\n",
    "```python\n",
    "3.2958\n",
    "```\n",
    "\n",
    "which is much less than our original\n",
    "```python\n",
    "25.4462\n",
    "```\n"
   ]
  },
  {
   "cell_type": "markdown",
   "id": "e5761339-8b0f-4119-bae0-3bd95042788a",
   "metadata": {},
   "source": [
    "**What is happening?**\n",
    "\n",
    "Well, the neural network is currently very confident about some characters and very unconfident for some characters.\\\n",
    "And so it is very confidently wrong at times and that's what makes it record such high loss."
   ]
  },
  {
   "cell_type": "markdown",
   "id": "61c2d032-9e46-44ee-aa54-1268b48f7758",
   "metadata": {},
   "source": [
    "#### Let's understand this now"
   ]
  },
  {
   "cell_type": "markdown",
   "id": "b2a50272-67a0-4a96-8693-b6dd39243349",
   "metadata": {},
   "source": [
    "First let's understand how softmax works."
   ]
  },
  {
   "cell_type": "markdown",
   "id": "5c85de6a-31bf-4570-ba8c-ec0cdcc90ec7",
   "metadata": {},
   "source": [
    "The softmax function is a function that turns a vector of K real values into a into a probability distribution of K real values that sum to 1."
   ]
  },
  {
   "cell_type": "markdown",
   "id": "9eda8fd1-555f-457d-bfac-6c75d37c0aae",
   "metadata": {},
   "source": [
    "![](https://ik.imagekit.io/botpenguin1/assets/website/Softmax_Function_07fe934386.png)\n",
    "\n",
    "$$\\text{softmax}(x_i) = \\frac{e^{x_i}}{\\sum_{j=1}^{N} e^{x_j}}$$\n",
    "where $x_i$ is the $i$-th element of the input vector, and $N$ is the total number of elements in the vector.\n"
   ]
  },
  {
   "cell_type": "markdown",
   "id": "d2e3413c-9560-42e7-ba2d-568d0445c830",
   "metadata": {},
   "source": [
    "Let's take a 4-dimensional example to understand it first\n",
    "\n",
    "```python\n",
    "logits = torch.tensor([0.0, 0.0, 0.0, 0.0])\n",
    "probabilities = torch.softmax(logits, dim=0)\n",
    "loss = -probabilities[2].log() # Just for the sake of the example I am indexing into the 3rd element\n",
    "print(\"Logits:\", logits)\n",
    "print(\"Probabilities:\", probabilities)\n",
    "print(\"Loss (3rd element):\", loss)\n",
    "```\n",
    "\n",
    "Output we get:\n",
    "```python\n",
    "Logits: tensor([0., 0., 0., 0.])\n",
    "Probabilities: tensor([0.2500, 0.2500, 0.2500, 0.2500])\n",
    "Loss (3rd element): tensor(1.3863)\n",
    "```"
   ]
  },
  {
   "cell_type": "markdown",
   "id": "faedae57-82bd-4150-be52-9a41a31beac4",
   "metadata": {},
   "source": [
    "This happens because:\n",
    "$$\\text{softmax}(0.0) = \\frac{e^{0.0}}{e^{0.0} + e^{0.0} + e^{0.0} + e^{0.0}}$$\n",
    "\n",
    "Since $e^0 = 1$, this simplifies to:\n",
    "\n",
    "$$ \\text{softmax}(0.0) = \\frac{1}{1 + 1 + 1 + 1} = \\frac{1}{4} = 0.25 $$"
   ]
  },
  {
   "cell_type": "markdown",
   "id": "3543a155-4dd4-4863-b993-5b0799dd3e9e",
   "metadata": {},
   "source": [
    "We can try changing an element to a very high number say *5*,\n",
    "\n",
    "```python\n",
    "logits = torch.tensor([0.0, 0.0, 5.0, 0.0])\n",
    "probabilities = torch.softmax(logits, dim=0)\n",
    "loss = -probabilities[2].log() # Just for the sake of the example I am indexing into the 3rd element\n",
    "print(\"Logits:\", logits)\n",
    "print(\"Probabilities:\", probabilities)\n",
    "print(\"Loss (3rd element):\", loss)\n",
    "```\n",
    "\n",
    "Output we get: (Very low loss)\n",
    "```python\n",
    "Logits: tensor([0., 0., 5., 0.])\r\n",
    "Probabilities: tensor([0.0066, 0.0066, 0.9802, 0.0066])\r\n",
    "Loss (3rd element): tensor(0.0200)\n",
    "\n",
    "```"
   ]
  },
  {
   "cell_type": "markdown",
   "id": "4728b725-563e-402e-be57-0a93b69cd455",
   "metadata": {},
   "source": [
    "It can happen that some other logit may have this high number *(5)* and we have a normal *(0)*,\n",
    "\n",
    "```python\n",
    "logits = torch.tensor([0.0, 5.0, 0.0, 0.0])\n",
    "probabilities = torch.softmax(logits, dim=0)\n",
    "loss = -probabilities[2].log() # Just for the sake of the example I am indexing into the 3rd element\n",
    "print(\"Logits:\", logits)\n",
    "print(\"Probabilities:\", probabilities)\n",
    "print(\"Loss (3rd element):\", loss)\n",
    "```\n",
    "\n",
    "Output we get: (Very high loss)\n",
    "```python\n",
    "Logits: tensor([0., 5., 0., 0.])\r\n",
    "Probabilities: tensor([0.0066, 0.9802, 0.0066, 0.0066])\r\n",
    "Loss (3rd element): tensor(5.0200)\n",
    "```"
   ]
  },
  {
   "cell_type": "markdown",
   "id": "98aa1cda-cc3c-4a09-b377-0ff1a2bea4a2",
   "metadata": {},
   "source": [
    "So the moment they start taking extreme values separate from one another,\n",
    "```python\n",
    "logits = torch.tensor([-3.0, 5.0, 0.0, 0.0])\n",
    "probabilities = torch.softmax(logits, dim=0)\n",
    "loss = -probabilities[2].log() # Just for the sake of the example I am indexing into the 3rd element\n",
    "print(\"Logits:\", logits)\n",
    "print(\"Probabilities:\", probabilities)\n",
    "print(\"Loss (3rd element):\", loss)\n",
    "```\n",
    "Output we get: (Very high loss)\n",
    "```python\n",
    "Logits: tensor([-3.,  5.,  0.,  0.])\r\n",
    "Probabilities: tensor([3.3089e-04, 9.8638e-01, 6.6462e-03, 6.6462e-03])\r\n",
    "Loss (3rd element): tensor(5.0137)\n",
    "```"
   ]
  },
  {
   "cell_type": "markdown",
   "id": "3255196c-dfa7-42c5-b57c-7bcd3876e4f1",
   "metadata": {},
   "source": [
    "Makes sense, but want a `torch.randn()` example?\n",
    "\n",
    "I've got you covered... (Keep in mind that whatever comes out of `torch.randn()` is of normal distribution)"
   ]
  },
  {
   "cell_type": "markdown",
   "id": "d6825357-c51b-4df3-bb57-a41b9b7fa1fb",
   "metadata": {},
   "source": [
    "Let's take a `torch.randn()` example,\n",
    "```python\n",
    "logits = torch.randn(4)\n",
    "probabilities = torch.softmax(logits, dim=0)\n",
    "loss = -probabilities[2].log() # Just for the sake of the example I am indexing into the 3rd element\n",
    "print(\"Logits:\", logits)\n",
    "print(\"Probabilities:\", probabilities)\n",
    "print(\"Loss (3rd element):\", loss)\n",
    "```\n",
    "Output I get: (Because the logits that come out are near 0, outputs turn out to be okay)\n",
    "```python\n",
    "Logits: tensor([-0.2112,  0.6164, -0.3974, -1.2911])\r\n",
    "Probabilities: tensor([0.2243, 0.5132, 0.1862, 0.0762])\r\n",
    "Loss (3rd element): tensor(1.6808)\n",
    "```"
   ]
  },
  {
   "cell_type": "markdown",
   "id": "65bb1203-0f5c-4015-b405-a35e0f3bc792",
   "metadata": {},
   "source": [
    "But when we start scaling up the values,\n",
    "```python\n",
    "logits = torch.randn(4)  * 10\n",
    "probabilities = torch.softmax(logits, dim=0)\n",
    "loss = -probabilities[2].log() # Just for the sake of the example I am indexing into the 3rd element\n",
    "print(\"Logits:\", logits)\n",
    "print(\"Probabilities:\", probabilities)\n",
    "print(\"Loss (3rd element):\", loss)\n",
    "```\n",
    "Output we get: (I recorded 5 examples)\n",
    "```python\n",
    "Logits: tensor([-19.9521,  16.8229, -14.9549,  22.1436])\n",
    "Probabilities: tensor([5.1990e-19, 4.8653e-03, 7.6947e-17, 9.9513e-01])\n",
    "Loss (3rd element): tensor(37.1034)\n",
    ",,,,,,,,\n",
    "Logits: tensor([ -0.5194,   5.6846,  -1.0787, -13.2674])\n",
    "Probabilities: tensor([2.0151e-03, 9.9683e-01, 1.1518e-03, 5.8599e-09])\n",
    "Loss (3rd element): tensor(6.7665)\n",
    ",,,,,,,,\n",
    "Logits: tensor([  0.8513, -17.1741, -14.3672,   6.3023])\n",
    "Probabilities: tensor([4.2736e-03, 6.3455e-11, 1.0507e-09, 9.9573e-01])\n",
    "Loss (3rd element): tensor(20.6738)\n",
    ",,,,,,,,\n",
    "Logits: tensor([ -7.1875,  13.1279,  -9.7690, -14.5558])\n",
    "Probabilities: tensor([1.5036e-09, 1.0000e+00, 1.1377e-10, 9.4873e-13])\n",
    "Loss (3rd element): tensor(22.8969)\n",
    ",,,,,,,,\n",
    "Logits: tensor([-19.2067, -11.2704,  -0.9133,  14.4960])\n",
    "Probabilities: tensor([2.3073e-15, 6.4536e-12, 2.0315e-07, 1.0000e+00])\n",
    "Loss (3rd element): tensor(15.4093)\n",
    "```\n",
    "\n",
    "We see that because these get extreme values, it is very unlikely that our neural network will be guessing correctly.\n",
    "\n",
    "If we start taking extreme scales like `100`, we can get:\n",
    "```python\n",
    "Logits: tensor([ -23.6667,  -79.3696, -102.5978,  178.2205])\n",
    "Probabilities: tensor([0., 0., 0., 1.])\n",
    "Loss (3rd element): tensor(inf)\n",
    "```"
   ]
  },
  {
   "cell_type": "markdown",
   "id": "9979c242-7133-46ab-8801-53c03ddd6ba9",
   "metadata": {},
   "source": [
    "Concluding the above examples,\\\n",
    "We want our logits to be equal or near 0.\n",
    "\n",
    "And since we don't want to take any random arbitrary positive or negetive number, we want our logits to be near 0."
   ]
  },
  {
   "cell_type": "markdown",
   "id": "be4d258f-ff36-4e22-9ae8-0edee9b01262",
   "metadata": {},
   "source": [
    "### Fixing Neural Network"
   ]
  },
  {
   "cell_type": "markdown",
   "id": "e108a5c9-1493-40bf-88e3-d59d83c86912",
   "metadata": {},
   "source": [
    "#### Let's see where we go wrong in out neural network"
   ]
  },
  {
   "cell_type": "markdown",
   "id": "1b84ac9a-c8de-400f-9336-ed3814cbad42",
   "metadata": {},
   "source": [
    "Let's reinitialize our neural network and run the training for the very first iteration"
   ]
  },
  {
   "cell_type": "code",
   "execution_count": 51,
   "id": "3c3d6650-1d5c-41ab-9762-cec613bbc09f",
   "metadata": {},
   "outputs": [],
   "source": [
    "# We will define a generator to give the same result on your machine, as of my machine\n",
    "generator = torch.Generator().manual_seed(6942069420)\n",
    "# Embedding Matrix (Input Layer)\n",
    "embeddingFeatureSpaceLength = 10 \n",
    "embeddingLookUpMatrix = torch.randn((vocabularySize, embeddingFeatureSpaceLength), generator=generator)\n",
    "# Hidden Layer\n",
    "numberOfHiddenLayerNeurons = 200 # We increase the number of neurons here\n",
    "weightsOfHiddenLayer = torch.randn((blockSize*embeddingFeatureSpaceLength), numberOfHiddenLayerNeurons, generator=generator)\n",
    "biasesOfHiddenLayer = torch.randn(numberOfHiddenLayerNeurons, generator=generator)\n",
    "# Output Layer / Final Layer\n",
    "weightsOfFinalLayer = torch.randn(numberOfHiddenLayerNeurons, vocabularySize, generator=generator)\n",
    "biasesOfFinalLayer = torch.randn(vocabularySize, generator=generator)\n",
    "# Parameters\n",
    "parameters = [embeddingLookUpMatrix, weightsOfHiddenLayer, biasesOfHiddenLayer, weightsOfFinalLayer, biasesOfFinalLayer]\n",
    "# We set all the requires gradient to True\n",
    "for parameter in parameters:\n",
    "    parameter.requires_grad = True"
   ]
  },
  {
   "cell_type": "code",
   "execution_count": 52,
   "id": "c4ce5925-8973-4ff3-bea5-a4b2c47e0d8e",
   "metadata": {},
   "outputs": [
    {
     "name": "stdout",
     "output_type": "stream",
     "text": [
      "      0/ 200000: 24.5937\n"
     ]
    }
   ],
   "source": [
    "# We want to track the losses that we use in the training\n",
    "losses = []\n",
    "\n",
    "# We define the number of epochs\n",
    "epochs = 200000\n",
    "for i in range(epochs):\n",
    "    # Mini-Batches\n",
    "    indexes = torch.randint(low=0, high=trainingInputs.shape[0], size=(32,)) # I changed it to 32 to make it look nicer in my mind\n",
    "    inputBatch, outputBatch = trainingInputs[indexes], trainingOutputs[indexes]\n",
    "    \n",
    "    # Forward Pass (Mini-Batch)\n",
    "    embedding = embeddingLookUpMatrix[inputBatch]\n",
    "    concatenatedEmbedding = embedding.view(embedding.shape[0], -1) # These are all the input examples in a concatenated form\n",
    "    hiddenLayerPreActivationStates = embedding.view(-1, blockSize*embeddingFeatureSpaceLength) @ weightsOfHiddenLayer + biasesOfHiddenLayer\n",
    "    hiddenLayerPostActivationStates = torch.tanh(hiddenLayerPreActivationStates) # We divided the states into two parts pre and post non-linearity\n",
    "    logits = hiddenLayerPostActivationStates @ weightsOfFinalLayer + biasesOfFinalLayer\n",
    "    loss = F.cross_entropy(logits, trainingOutputs[indexes])\n",
    "    \n",
    "    # Backward Pass (Mini-Batch)\n",
    "    for parameter in parameters:\n",
    "        parameter.grad = None\n",
    "    loss.backward()\n",
    "    \n",
    "    # Update Weights (Mini-Batch)\n",
    "    learning_rate = 0.1 if i < 100000 else 0.01\n",
    "    for parameter in parameters:\n",
    "        parameter.data += -learning_rate * parameter.grad\n",
    "\n",
    "    # Tracking the stats\n",
    "    # We append the losses that we use per iteration\n",
    "    if i % 10000 == 0: \n",
    "        print(f'{i:7d}/{epochs:7d}: {loss.item():.4f}')\n",
    "    losses.append(loss.log10().item()) # We do that to squash the steep curve to a nicer graph\n",
    "    \n",
    "    break # To run it only 1 time"
   ]
  },
  {
   "cell_type": "markdown",
   "id": "081dd66a-c374-422e-a5d6-64636c3883f2",
   "metadata": {},
   "source": [
    "Let's try to look at our logits now..."
   ]
  },
  {
   "cell_type": "code",
   "execution_count": 53,
   "id": "1c6f323f-f819-4296-9035-f70a1f276e3d",
   "metadata": {},
   "outputs": [
    {
     "name": "stdout",
     "output_type": "stream",
     "text": [
      "tensor([ -6.7638,  11.2628,   3.1952, -19.1932, -12.5686,  -0.1633,   6.3827,\n",
      "         -3.2364,  -2.5520,  39.4363,  13.4373,   0.5839,  -8.1110,  -6.3495,\n",
      "        -12.3009,   1.4096,   0.9403,  15.3641,   4.4587,  30.1650,  -0.6366,\n",
      "        -17.3920,  -5.1900,  11.7134,  -9.8508, -17.1061,  -0.6482],\n",
      "       grad_fn=<SelectBackward0>)\n"
     ]
    }
   ],
   "source": [
    "print(logits[0])"
   ]
  },
  {
   "cell_type": "markdown",
   "id": "237df57d-5cae-41c4-91ad-53605ae27bdd",
   "metadata": {},
   "source": [
    "We see that they take pretty extreme values. And these logits should be very much closer to 0.\n",
    "\n",
    "So **how can we make our logits initialize as closer to 0**?\n",
    "\n",
    "We see that we are using:\n",
    "```python\n",
    "logits = hiddenLayerPostActivationStates @ weightsOfFinalLayer + biasesOfFinalLayer\n",
    "```\n",
    "\n",
    "Seems like to reduce these numbers what we can do is, we can discard the additional `bias` and scale `hiddenLayerPostActivationStates` down to a very low number...\n",
    "\n",
    "So at initialization we can do to discard the bias is (multiplying the value with 0) and scale the hidden states to a very small number (multiplying the value with a small number),\n",
    "```python\n",
    "# Output Layer / Final Layer\n",
    "weightsOfFinalLayer = torch.randn(numberOfHiddenLayerNeurons, vocabularySize, generator=generator) * 0.1\n",
    "biasesOfFinalLayer = torch.randn(vocabularySize, generator=generator) * 0\n",
    "```\n"
   ]
  },
  {
   "cell_type": "code",
   "execution_count": 55,
   "id": "577062d8-cff9-496c-ab34-fcacef84ff33",
   "metadata": {},
   "outputs": [],
   "source": [
    "# We will define a generator to give the same result on your machine, as of my machine\n",
    "generator = torch.Generator().manual_seed(6942069420)\n",
    "# Embedding Matrix (Input Layer)\n",
    "embeddingFeatureSpaceLength = 10 \n",
    "embeddingLookUpMatrix = torch.randn((vocabularySize, embeddingFeatureSpaceLength), generator=generator)\n",
    "# Hidden Layer\n",
    "numberOfHiddenLayerNeurons = 200 # We increase the number of neurons here\n",
    "weightsOfHiddenLayer = torch.randn((blockSize*embeddingFeatureSpaceLength), numberOfHiddenLayerNeurons, generator=generator)\n",
    "biasesOfHiddenLayer = torch.randn(numberOfHiddenLayerNeurons, generator=generator)\n",
    "# Output Layer / Final Layer\n",
    "weightsOfFinalLayer = torch.randn(numberOfHiddenLayerNeurons, vocabularySize, generator=generator) * 0.1\n",
    "biasesOfFinalLayer = torch.randn(vocabularySize, generator=generator) * 0\n",
    "# Parameters\n",
    "parameters = [embeddingLookUpMatrix, weightsOfHiddenLayer, biasesOfHiddenLayer, weightsOfFinalLayer, biasesOfFinalLayer]\n",
    "# We set all the requires gradient to True\n",
    "for parameter in parameters:\n",
    "    parameter.requires_grad = True"
   ]
  },
  {
   "cell_type": "code",
   "execution_count": 56,
   "id": "0d6e72c9-95e4-4740-be8f-136b28a81658",
   "metadata": {},
   "outputs": [
    {
     "name": "stdout",
     "output_type": "stream",
     "text": [
      "      0/ 200000: 3.9423\n",
      "tensor([-0.4788, -0.8809, -0.9034, -1.2299, -3.5740, -1.2541, -0.3757,  1.8513,\n",
      "         0.9006, -1.3779,  1.2780, -0.0972,  1.3983,  0.8668,  2.2659, -2.7135,\n",
      "         0.0466, -0.6929,  0.3837, -1.2431,  1.4112,  1.0546,  0.3389, -1.7076,\n",
      "         0.4544, -2.1233,  0.8949], grad_fn=<SelectBackward0>)\n"
     ]
    }
   ],
   "source": [
    "# We want to track the losses that we use in the training\n",
    "losses = []\n",
    "\n",
    "# We define the number of epochs\n",
    "epochs = 200000\n",
    "for i in range(epochs):\n",
    "    # Mini-Batches\n",
    "    indexes = torch.randint(low=0, high=trainingInputs.shape[0], size=(32,)) # I changed it to 32 to make it look nicer in my mind\n",
    "    inputBatch, outputBatch = trainingInputs[indexes], trainingOutputs[indexes]\n",
    "    \n",
    "    # Forward Pass (Mini-Batch)\n",
    "    embedding = embeddingLookUpMatrix[inputBatch]\n",
    "    concatenatedEmbedding = embedding.view(embedding.shape[0], -1) # These are all the input examples in a concatenated form\n",
    "    hiddenLayerPreActivationStates = embedding.view(-1, blockSize*embeddingFeatureSpaceLength) @ weightsOfHiddenLayer + biasesOfHiddenLayer\n",
    "    hiddenLayerPostActivationStates = torch.tanh(hiddenLayerPreActivationStates) # We divided the states into two parts pre and post non-linearity\n",
    "    logits = hiddenLayerPostActivationStates @ weightsOfFinalLayer + biasesOfFinalLayer\n",
    "    loss = F.cross_entropy(logits, trainingOutputs[indexes])\n",
    "    \n",
    "    # Backward Pass (Mini-Batch)\n",
    "    for parameter in parameters:\n",
    "        parameter.grad = None\n",
    "    loss.backward()\n",
    "    \n",
    "    # Update Weights (Mini-Batch)\n",
    "    learning_rate = 0.1 if i < 100000 else 0.01\n",
    "    for parameter in parameters:\n",
    "        parameter.data += -learning_rate * parameter.grad\n",
    "\n",
    "    # Tracking the stats\n",
    "    # We append the losses that we use per iteration\n",
    "    if i % 10000 == 0: \n",
    "        print(f'{i:7d}/{epochs:7d}: {loss.item():.4f}')\n",
    "    losses.append(loss.log10().item()) # We do that to squash the steep curve to a nicer graph\n",
    "    \n",
    "    break # To run it only 1 time\n",
    "print(logits[0])"
   ]
  },
  {
   "cell_type": "markdown",
   "id": "96a991ae-4dbf-4fa5-b31d-40607131e0df",
   "metadata": {},
   "source": [
    "The moment we do this we see that the loss suddenly come down to something like `3.9423`\\\n",
    "Which is way closer to what we actually wanted (`3.2958`)"
   ]
  },
  {
   "cell_type": "markdown",
   "id": "ad548ac6-38d9-4aa6-a0f9-fe47dd7f62ba",
   "metadata": {},
   "source": [
    "So you must be wondering what happens when we exactly set it to `0` instead of `0.1`..."
   ]
  },
  {
   "cell_type": "code",
   "execution_count": 57,
   "id": "59ae0e93-de88-4220-812e-c61e64bc3f9f",
   "metadata": {},
   "outputs": [],
   "source": [
    "# We will define a generator to give the same result on your machine, as of my machine\n",
    "generator = torch.Generator().manual_seed(6942069420)\n",
    "# Embedding Matrix (Input Layer)\n",
    "embeddingFeatureSpaceLength = 10 \n",
    "embeddingLookUpMatrix = torch.randn((vocabularySize, embeddingFeatureSpaceLength), generator=generator)\n",
    "# Hidden Layer\n",
    "numberOfHiddenLayerNeurons = 200 # We increase the number of neurons here\n",
    "weightsOfHiddenLayer = torch.randn((blockSize*embeddingFeatureSpaceLength), numberOfHiddenLayerNeurons, generator=generator)\n",
    "biasesOfHiddenLayer = torch.randn(numberOfHiddenLayerNeurons, generator=generator)\n",
    "# Output Layer / Final Layer\n",
    "weightsOfFinalLayer = torch.randn(numberOfHiddenLayerNeurons, vocabularySize, generator=generator) * 0\n",
    "biasesOfFinalLayer = torch.randn(vocabularySize, generator=generator) * 0\n",
    "# Parameters\n",
    "parameters = [embeddingLookUpMatrix, weightsOfHiddenLayer, biasesOfHiddenLayer, weightsOfFinalLayer, biasesOfFinalLayer]\n",
    "# We set all the requires gradient to True\n",
    "for parameter in parameters:\n",
    "    parameter.requires_grad = True"
   ]
  },
  {
   "cell_type": "code",
   "execution_count": 58,
   "id": "6c63a67b-9b6e-401a-83e5-22362937779b",
   "metadata": {},
   "outputs": [
    {
     "name": "stdout",
     "output_type": "stream",
     "text": [
      "      0/ 200000: 3.2958\n",
      "tensor([0., 0., 0., 0., 0., 0., 0., 0., 0., 0., 0., 0., 0., 0., 0., 0., 0., 0., 0., 0., 0., 0., 0., 0.,\n",
      "        0., 0., 0.], grad_fn=<SelectBackward0>)\n"
     ]
    }
   ],
   "source": [
    "# We want to track the losses that we use in the training\n",
    "losses = []\n",
    "\n",
    "# We define the number of epochs\n",
    "epochs = 200000\n",
    "for i in range(epochs):\n",
    "    # Mini-Batches\n",
    "    indexes = torch.randint(low=0, high=trainingInputs.shape[0], size=(32,)) # I changed it to 32 to make it look nicer in my mind\n",
    "    inputBatch, outputBatch = trainingInputs[indexes], trainingOutputs[indexes]\n",
    "    \n",
    "    # Forward Pass (Mini-Batch)\n",
    "    embedding = embeddingLookUpMatrix[inputBatch]\n",
    "    concatenatedEmbedding = embedding.view(embedding.shape[0], -1) # These are all the input examples in a concatenated form\n",
    "    hiddenLayerPreActivationStates = embedding.view(-1, blockSize*embeddingFeatureSpaceLength) @ weightsOfHiddenLayer + biasesOfHiddenLayer\n",
    "    hiddenLayerPostActivationStates = torch.tanh(hiddenLayerPreActivationStates) # We divided the states into two parts pre and post non-linearity\n",
    "    logits = hiddenLayerPostActivationStates @ weightsOfFinalLayer + biasesOfFinalLayer\n",
    "    loss = F.cross_entropy(logits, trainingOutputs[indexes])\n",
    "    \n",
    "    # Backward Pass (Mini-Batch)\n",
    "    for parameter in parameters:\n",
    "        parameter.grad = None\n",
    "    loss.backward()\n",
    "    \n",
    "    # Update Weights (Mini-Batch)\n",
    "    learning_rate = 0.1 if i < 100000 else 0.01\n",
    "    for parameter in parameters:\n",
    "        parameter.data += -learning_rate * parameter.grad\n",
    "\n",
    "    # Tracking the stats\n",
    "    # We append the losses that we use per iteration\n",
    "    if i % 10000 == 0: \n",
    "        print(f'{i:7d}/{epochs:7d}: {loss.item():.4f}')\n",
    "    losses.append(loss.log10().item()) # We do that to squash the steep curve to a nicer graph\n",
    "    \n",
    "    break # To run it only 1 time\n",
    "print(logits[0])"
   ]
  },
  {
   "cell_type": "markdown",
   "id": "64fae4e4-c77f-4b68-b8a3-04c1f4cee101",
   "metadata": {},
   "source": [
    "We get exactly what we'd expect: `3.2958`\n",
    "\n",
    "But I don't use it as exactly `0`, because it can very easily *break the symmetry*.\n",
    "\n",
    "For now let's just keep the value to be something as low as `0.01`.\n",
    "\n",
    "So right now, we have some entropy and not exactly `0`.\n",
    "\n",
    "So let's re run our optimization to see where we are..."
   ]
  },
  {
   "cell_type": "markdown",
   "id": "4f7f5e05-f9ea-4c9c-bbf6-318c4f5e4e66",
   "metadata": {},
   "source": [
    "#### Re-running Optimization"
   ]
  },
  {
   "cell_type": "code",
   "execution_count": 59,
   "id": "a0973539-a4c0-48f0-a9b8-2788fbca79a3",
   "metadata": {},
   "outputs": [],
   "source": [
    "# We will define a generator to give the same result on your machine, as of my machine\n",
    "generator = torch.Generator().manual_seed(6942069420)\n",
    "# Embedding Matrix (Input Layer)\n",
    "embeddingFeatureSpaceLength = 10 \n",
    "embeddingLookUpMatrix = torch.randn((vocabularySize, embeddingFeatureSpaceLength), generator=generator)\n",
    "# Hidden Layer\n",
    "numberOfHiddenLayerNeurons = 200 # We increase the number of neurons here\n",
    "weightsOfHiddenLayer = torch.randn((blockSize*embeddingFeatureSpaceLength), numberOfHiddenLayerNeurons, generator=generator)\n",
    "biasesOfHiddenLayer = torch.randn(numberOfHiddenLayerNeurons, generator=generator)\n",
    "# Output Layer / Final Layer\n",
    "weightsOfFinalLayer = torch.randn(numberOfHiddenLayerNeurons, vocabularySize, generator=generator) * 0.01\n",
    "biasesOfFinalLayer = torch.randn(vocabularySize, generator=generator) * 0\n",
    "# Parameters\n",
    "parameters = [embeddingLookUpMatrix, weightsOfHiddenLayer, biasesOfHiddenLayer, weightsOfFinalLayer, biasesOfFinalLayer]\n",
    "# We set all the requires gradient to True\n",
    "for parameter in parameters:\n",
    "    parameter.requires_grad = True"
   ]
  },
  {
   "cell_type": "code",
   "execution_count": 60,
   "id": "02de4b54-35d5-4671-9dc7-2da139f9e4a6",
   "metadata": {},
   "outputs": [
    {
     "name": "stdout",
     "output_type": "stream",
     "text": [
      "      0/ 200000: 3.3119\n",
      "  10000/ 200000: 2.5628\n",
      "  20000/ 200000: 1.9610\n",
      "  30000/ 200000: 2.2764\n",
      "  40000/ 200000: 1.8407\n",
      "  50000/ 200000: 2.2547\n",
      "  60000/ 200000: 1.6596\n",
      "  70000/ 200000: 1.6566\n",
      "  80000/ 200000: 2.1137\n",
      "  90000/ 200000: 1.5822\n",
      " 100000/ 200000: 2.0502\n",
      " 110000/ 200000: 1.5557\n",
      " 120000/ 200000: 2.0663\n",
      " 130000/ 200000: 1.7741\n",
      " 140000/ 200000: 1.5805\n",
      " 150000/ 200000: 1.5953\n",
      " 160000/ 200000: 2.3281\n",
      " 170000/ 200000: 1.9812\n",
      " 180000/ 200000: 1.9841\n",
      " 190000/ 200000: 1.8055\n"
     ]
    }
   ],
   "source": [
    "# We want to track the losses that we use in the training\n",
    "losses = []\n",
    "\n",
    "# We define the number of epochs\n",
    "epochs = 200000\n",
    "for i in range(epochs):\n",
    "    # Mini-Batches\n",
    "    indexes = torch.randint(low=0, high=trainingInputs.shape[0], size=(32,)) # I changed it to 32 to make it look nicer in my mind\n",
    "    inputBatch, outputBatch = trainingInputs[indexes], trainingOutputs[indexes]\n",
    "    \n",
    "    # Forward Pass (Mini-Batch)\n",
    "    embedding = embeddingLookUpMatrix[inputBatch]\n",
    "    concatenatedEmbedding = embedding.view(embedding.shape[0], -1) # These are all the input examples in a concatenated form\n",
    "    hiddenLayerPreActivationStates = embedding.view(-1, blockSize*embeddingFeatureSpaceLength) @ weightsOfHiddenLayer + biasesOfHiddenLayer\n",
    "    hiddenLayerPostActivationStates = torch.tanh(hiddenLayerPreActivationStates) # We divided the states into two parts pre and post non-linearity\n",
    "    logits = hiddenLayerPostActivationStates @ weightsOfFinalLayer + biasesOfFinalLayer\n",
    "    loss = F.cross_entropy(logits, trainingOutputs[indexes])\n",
    "    \n",
    "    # Backward Pass (Mini-Batch)\n",
    "    for parameter in parameters:\n",
    "        parameter.grad = None\n",
    "    loss.backward()\n",
    "    \n",
    "    # Update Weights (Mini-Batch)\n",
    "    learning_rate = 0.1 if i < 100000 else 0.01\n",
    "    for parameter in parameters:\n",
    "        parameter.data += -learning_rate * parameter.grad\n",
    "\n",
    "    # Tracking the stats\n",
    "    # We append the losses that we use per iteration\n",
    "    if i % 10000 == 0: \n",
    "        print(f'{i:7d}/{epochs:7d}: {loss.item():.4f}')\n",
    "    losses.append(loss.log10().item()) # We do that to squash the steep curve to a nicer graph"
   ]
  },
  {
   "cell_type": "markdown",
   "id": "dbfb2182-655d-4f3a-889b-6572906afc34",
   "metadata": {},
   "source": [
    "We see that our losses have scaled down pretty nicely and we are getting what we actually expect to see..."
   ]
  },
  {
   "cell_type": "code",
   "execution_count": 61,
   "id": "c48b3248-62e2-4470-89e4-132b6f19b2be",
   "metadata": {},
   "outputs": [
    {
     "data": {
      "text/plain": [
       "[<matplotlib.lines.Line2D at 0x2efcb24b450>]"
      ]
     },
     "execution_count": 61,
     "metadata": {},
     "output_type": "execute_result"
    },
    {
     "data": {
      "image/png": "[encoded data removed]",
      "text/plain": [
       "<Figure size 640x480 with 1 Axes>"
      ]
     },
     "metadata": {},
     "output_type": "display_data"
    }
   ],
   "source": [
    "plt.plot(losses)"
   ]
  },
  {
   "cell_type": "markdown",
   "id": "8570816b-8ac0-4f47-a412-f202979e9a1b",
   "metadata": {},
   "source": [
    "We also see that our plot of the losses now don't have the steep descent appearance.\\\n",
    "That is because what our optimization is *squashing* the logits down and then rearranging the logits.\\\n",
    "So if we took away the part of *squashing* the logits down, then we don't get these easy gains, we get the hard gains for the very first iterations...\n",
    "\n",
    "So good things are coming up now:\n",
    "1. Loss is what we expect it to be\n",
    "2. Loss is coming down\n",
    "\n",
    "```python\n",
    "Original Loss: 2.0097\n",
    "Loss after optimization: 1.8055\n",
    "```\n",
    "\n",
    "Why is the loss coming down you ask?\n",
    "\n",
    "That is because, we are taking the easy part of *squashing the logits down* from the neural network, so we are **utilizing more time on optimizing** than utilizing that time in *squashing* the logits down.\n"
   ]
  },
  {
   "cell_type": "code",
   "execution_count": null,
   "id": "45316850-1903-44f9-a107-608fc60e26dd",
   "metadata": {},
   "outputs": [],
   "source": []
  },
  {
   "cell_type": "code",
   "execution_count": null,
   "id": "556186a6-f314-4210-83db-1459694e8957",
   "metadata": {},
   "outputs": [],
   "source": []
  },
  {
   "cell_type": "code",
   "execution_count": null,
   "id": "a47aacfe-6a17-41f8-a395-9976cd4f0a1a",
   "metadata": {},
   "outputs": [],
   "source": []
  },
  {
   "cell_type": "code",
   "execution_count": null,
   "id": "bbfaf890-ef2c-4f3f-8e20-719819ffee86",
   "metadata": {},
   "outputs": [],
   "source": []
  }
 ],
 "metadata": {
  "kernelspec": {
   "display_name": "Python 3 (ipykernel)",
   "language": "python",
   "name": "python3"
  },
  "language_info": {
   "codemirror_mode": {
    "name": "ipython",
    "version": 3
   },
   "file_extension": ".py",
   "mimetype": "text/x-python",
   "name": "python",
   "nbconvert_exporter": "python",
   "pygments_lexer": "ipython3",
   "version": "3.11.7"
  }
 },
 "nbformat": 4,
 "nbformat_minor": 5
}
