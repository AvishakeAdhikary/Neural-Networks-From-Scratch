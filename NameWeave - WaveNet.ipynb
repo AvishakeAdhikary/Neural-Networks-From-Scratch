{
 "cells": [
  {
   "cell_type": "markdown",
   "id": "60e1889f-a41b-4a08-b77f-349907ed6f94",
   "metadata": {
    "jp-MarkdownHeadingCollapsed": true
   },
   "source": [
    "# Welcome to NameWeave - WaveNet"
   ]
  },
  {
   "cell_type": "markdown",
   "id": "8042dd73-d2a3-49c2-86b9-0d290b408e51",
   "metadata": {},
   "source": [
    "In this notebook we will try to complexify our neural network to get better results and generated names from our <a href=\"https://github.com/AvishakeAdhikary/Neural-Networks-From-Scratch/blob/main/NameWeave%20(MLP)%20-%20Activations%2C%20Gradients%20%26%20Batch%20Normalization.ipynb\">NameWeave (MLP) - Activations, Gradients & Batch Normalization</a> notebook.\n",
    "\n",
    "But for starters we will have our code very similar to our <a href=\"https://github.com/AvishakeAdhikary/Neural-Networks-From-Scratch/blob/main/NameWeave%20(MLP)%20-%20Activations%2C%20Gradients%20%26%20Batch%20Normalization.ipynb\">NameWeave (MLP) - Activations, Gradients & Batch Normalization</a> notebook."
   ]
  },
  {
   "cell_type": "markdown",
   "id": "7490b706-da0b-4056-aedf-c54aadc5b555",
   "metadata": {},
   "source": [
    "Also, remember how I left an intentional problem lurking under <a href=\"https://github.com/AvishakeAdhikary/Neural-Networks-From-Scratch/blob/main/NameWeave%20(MLP)%20-%20Activations%2C%20Gradients%20%26%20Batch%20Normalization.ipynb\">NameWeave (MLP) - Activations, Gradients & Batch Normalization</a> notebook?\n",
    "\n",
    "I fixed it during this starter code, so hopefully you'll also be able to recognize what we have to be careful with...\n"
   ]
  },
  {
   "cell_type": "markdown",
   "id": "16df5710-db0e-435a-b9f1-bc8a9f2e189f",
   "metadata": {
    "jp-MarkdownHeadingCollapsed": true
   },
   "source": [
    "# Installing Dependencies"
   ]
  },
  {
   "cell_type": "code",
   "execution_count": 1,
   "id": "e9d0e5c4-3866-43fd-b1ce-1f136bdc70b6",
   "metadata": {},
   "outputs": [
    {
     "name": "stdout",
     "output_type": "stream",
     "text": [
      "Requirement already satisfied: torch in c:\\users\\avhis\\appdata\\local\\programs\\python\\python311\\lib\\site-packages (2.1.2)\n",
      "Requirement already satisfied: filelock in c:\\users\\avhis\\appdata\\local\\programs\\python\\python311\\lib\\site-packages (from torch) (3.13.1)\n",
      "Requirement already satisfied: typing-extensions in c:\\users\\avhis\\appdata\\local\\programs\\python\\python311\\lib\\site-packages (from torch) (4.9.0)\n",
      "Requirement already satisfied: sympy in c:\\users\\avhis\\appdata\\local\\programs\\python\\python311\\lib\\site-packages (from torch) (1.12)\n",
      "Requirement already satisfied: networkx in c:\\users\\avhis\\appdata\\local\\programs\\python\\python311\\lib\\site-packages (from torch) (3.2.1)\n",
      "Requirement already satisfied: jinja2 in c:\\users\\avhis\\appdata\\local\\programs\\python\\python311\\lib\\site-packages (from torch) (3.1.3)\n",
      "Requirement already satisfied: fsspec in c:\\users\\avhis\\appdata\\local\\programs\\python\\python311\\lib\\site-packages (from torch) (2023.12.2)\n",
      "Requirement already satisfied: MarkupSafe>=2.0 in c:\\users\\avhis\\appdata\\local\\programs\\python\\python311\\lib\\site-packages (from jinja2->torch) (2.1.4)\n",
      "Requirement already satisfied: mpmath>=0.19 in c:\\users\\avhis\\appdata\\local\\programs\\python\\python311\\lib\\site-packages (from sympy->torch) (1.3.0)\n",
      "Requirement already satisfied: numpy in c:\\users\\avhis\\appdata\\local\\programs\\python\\python311\\lib\\site-packages (1.26.3)\n",
      "Requirement already satisfied: pandas in c:\\users\\avhis\\appdata\\local\\programs\\python\\python311\\lib\\site-packages (2.2.0)\n",
      "Requirement already satisfied: numpy<2,>=1.23.2 in c:\\users\\avhis\\appdata\\local\\programs\\python\\python311\\lib\\site-packages (from pandas) (1.26.3)\n",
      "Requirement already satisfied: python-dateutil>=2.8.2 in c:\\users\\avhis\\appdata\\local\\programs\\python\\python311\\lib\\site-packages (from pandas) (2.8.2)\n",
      "Requirement already satisfied: pytz>=2020.1 in c:\\users\\avhis\\appdata\\local\\programs\\python\\python311\\lib\\site-packages (from pandas) (2023.3.post1)\n",
      "Requirement already satisfied: tzdata>=2022.7 in c:\\users\\avhis\\appdata\\local\\programs\\python\\python311\\lib\\site-packages (from pandas) (2023.4)\n",
      "Requirement already satisfied: six>=1.5 in c:\\users\\avhis\\appdata\\local\\programs\\python\\python311\\lib\\site-packages (from python-dateutil>=2.8.2->pandas) (1.16.0)\n",
      "Requirement already satisfied: matplotlib in c:\\users\\avhis\\appdata\\local\\programs\\python\\python311\\lib\\site-packages (3.8.2)\n",
      "Requirement already satisfied: contourpy>=1.0.1 in c:\\users\\avhis\\appdata\\local\\programs\\python\\python311\\lib\\site-packages (from matplotlib) (1.2.0)\n",
      "Requirement already satisfied: cycler>=0.10 in c:\\users\\avhis\\appdata\\local\\programs\\python\\python311\\lib\\site-packages (from matplotlib) (0.12.1)\n",
      "Requirement already satisfied: fonttools>=4.22.0 in c:\\users\\avhis\\appdata\\local\\programs\\python\\python311\\lib\\site-packages (from matplotlib) (4.47.2)\n",
      "Requirement already satisfied: kiwisolver>=1.3.1 in c:\\users\\avhis\\appdata\\local\\programs\\python\\python311\\lib\\site-packages (from matplotlib) (1.4.5)\n",
      "Requirement already satisfied: numpy<2,>=1.21 in c:\\users\\avhis\\appdata\\local\\programs\\python\\python311\\lib\\site-packages (from matplotlib) (1.26.3)\n",
      "Requirement already satisfied: packaging>=20.0 in c:\\users\\avhis\\appdata\\local\\programs\\python\\python311\\lib\\site-packages (from matplotlib) (23.2)\n",
      "Requirement already satisfied: pillow>=8 in c:\\users\\avhis\\appdata\\local\\programs\\python\\python311\\lib\\site-packages (from matplotlib) (10.2.0)\n",
      "Requirement already satisfied: pyparsing>=2.3.1 in c:\\users\\avhis\\appdata\\local\\programs\\python\\python311\\lib\\site-packages (from matplotlib) (3.1.1)\n",
      "Requirement already satisfied: python-dateutil>=2.7 in c:\\users\\avhis\\appdata\\local\\programs\\python\\python311\\lib\\site-packages (from matplotlib) (2.8.2)\n",
      "Requirement already satisfied: six>=1.5 in c:\\users\\avhis\\appdata\\local\\programs\\python\\python311\\lib\\site-packages (from python-dateutil>=2.7->matplotlib) (1.16.0)\n"
     ]
    }
   ],
   "source": [
    "!pip install torch\n",
    "!pip install numpy\n",
    "!pip install pandas\n",
    "!pip install matplotlib"
   ]
  },
  {
   "cell_type": "markdown",
   "id": "66af9b1f-56e8-490a-9ba5-e5406b9cf29b",
   "metadata": {
    "jp-MarkdownHeadingCollapsed": true
   },
   "source": [
    "# Importing Libraries\n"
   ]
  },
  {
   "cell_type": "code",
   "execution_count": 2,
   "id": "ff899079-b80d-4e89-b34f-60364c521141",
   "metadata": {},
   "outputs": [
    {
     "name": "stderr",
     "output_type": "stream",
     "text": [
      "C:\\Users\\avhis\\AppData\\Local\\Temp\\ipykernel_3012\\3082457058.py:5: DeprecationWarning: \n",
      "Pyarrow will become a required dependency of pandas in the next major release of pandas (pandas 3.0),\n",
      "(to allow more performant data types, such as the Arrow string type, and better interoperability with other libraries)\n",
      "but was not found to be installed on your system.\n",
      "If this would cause problems for you,\n",
      "please provide us feedback at https://github.com/pandas-dev/pandas/issues/54466\n",
      "        \n",
      "  import pandas as pd\n"
     ]
    }
   ],
   "source": [
    "import random\n",
    "import torch\n",
    "import torch.nn.functional as F\n",
    "import numpy as np\n",
    "import pandas as pd\n",
    "import matplotlib.pyplot as plt"
   ]
  },
  {
   "cell_type": "markdown",
   "id": "c89fead9-91fd-42dd-843e-295b5088fd64",
   "metadata": {
    "jp-MarkdownHeadingCollapsed": true
   },
   "source": [
    "# Loading Dataset"
   ]
  },
  {
   "cell_type": "code",
   "execution_count": 3,
   "id": "9eb6e322-fb26-4de4-97a0-e97d97fe2421",
   "metadata": {},
   "outputs": [],
   "source": [
    "words = open(\"Datasets/Indian_Names.txt\").read().splitlines()\n",
    "words = [word.lower() for word in words]"
   ]
  },
  {
   "cell_type": "code",
   "execution_count": 4,
   "id": "376b910a-40b5-40c4-afd2-496b20516362",
   "metadata": {},
   "outputs": [
    {
     "data": {
      "text/plain": [
       "53982"
      ]
     },
     "execution_count": 4,
     "metadata": {},
     "output_type": "execute_result"
    }
   ],
   "source": [
    "len(words)"
   ]
  },
  {
   "cell_type": "markdown",
   "id": "c020299d-4b5e-403f-90bd-002b0325340b",
   "metadata": {
    "jp-MarkdownHeadingCollapsed": true
   },
   "source": [
    "# Building Vocabulary"
   ]
  },
  {
   "cell_type": "code",
   "execution_count": 5,
   "id": "369648a6-125c-49c0-921c-a9e8c3fd6077",
   "metadata": {},
   "outputs": [
    {
     "name": "stdout",
     "output_type": "stream",
     "text": [
      "Characters: ['a', 'b', 'c', 'd', 'e', 'f', 'g', 'h', 'i', 'j', 'k', 'l', 'm', 'n', 'o', 'p', 'q', 'r', 's', 't', 'u', 'v', 'w', 'x', 'y', 'z']\n",
      "STOI: {'a': 1, 'b': 2, 'c': 3, 'd': 4, 'e': 5, 'f': 6, 'g': 7, 'h': 8, 'i': 9, 'j': 10, 'k': 11, 'l': 12, 'm': 13, 'n': 14, 'o': 15, 'p': 16, 'q': 17, 'r': 18, 's': 19, 't': 20, 'u': 21, 'v': 22, 'w': 23, 'x': 24, 'y': 25, 'z': 26, '.': 0}\n",
      "ITOS {1: 'a', 2: 'b', 3: 'c', 4: 'd', 5: 'e', 6: 'f', 7: 'g', 8: 'h', 9: 'i', 10: 'j', 11: 'k', 12: 'l', 13: 'm', 14: 'n', 15: 'o', 16: 'p', 17: 'q', 18: 'r', 19: 's', 20: 't', 21: 'u', 22: 'v', 23: 'w', 24: 'x', 25: 'y', 26: 'z', 0: '.'}\n",
      "Vocabulary Size: 27\n"
     ]
    }
   ],
   "source": [
    "# Remember we need our starting and ending tokens as well in these mappings,\n",
    "characters = sorted(list(set(''.join(words)))) # Gives us all the characters in the english alphabet, hopefully our dataset has all of them\n",
    "stoi = {s:i+1 for i,s in enumerate(characters)} # Enumerate returns the tuples of number and string, which can then be mapped to string:index\n",
    "# We manually add these tokens for convenience\n",
    "stoi['.'] = 0\n",
    "itos = {i:s for s,i in stoi.items()} # After we have the string:index mapping, we can easily iterate over their items to map index:string\n",
    "print(\"Characters:\", characters)\n",
    "print(\"STOI:\", stoi)\n",
    "print(\"ITOS\", itos)\n",
    "# We define a common vocabulary size\n",
    "vocabularySize = len(stoi)\n",
    "print(\"Vocabulary Size:\", vocabularySize)"
   ]
  },
  {
   "cell_type": "markdown",
   "id": "b8363b31-4db9-4211-b145-779a2cb933c9",
   "metadata": {
    "jp-MarkdownHeadingCollapsed": true
   },
   "source": [
    "# Building Dataset"
   ]
  },
  {
   "cell_type": "code",
   "execution_count": 6,
   "id": "b165d663-0d02-46dc-9a06-a1838c6fcf63",
   "metadata": {},
   "outputs": [
    {
     "name": "stdout",
     "output_type": "stream",
     "text": [
      "Total Examples: 53982\n",
      "Training Examples: 43185\n",
      "Validation Examples: 5398\n",
      "Test Examples: 5399\n"
     ]
    }
   ],
   "source": [
    "# We define a Block Size based on the number of characters we feed are going to feed to predict the next one\n",
    "blockSize = 3\n",
    "# Will build the dataset on only the words we take as input\n",
    "def buildDataset(words):\n",
    "    # We define two lists, inputs & outputs, where inputs are our blocks of the block size mentioned above and outputs are the label indexes\n",
    "    inputs , outputs = [], []\n",
    "    # We iterate over each word\n",
    "    for word in words:\n",
    "        # We define the block for each iteration and fill it with 0 values -> [0, 0, 0]\n",
    "        block = [0] * blockSize\n",
    "        # We run another loop for each word's character, here word also needs the ending token '.'\n",
    "        for character in word + '.':\n",
    "            # We take out the index from our look-up table\n",
    "            index = stoi[character]\n",
    "            # We append the input with our block\n",
    "            inputs.append(block)\n",
    "            # We append the output label with out index of the character\n",
    "            outputs.append([index])\n",
    "            # We then take the block, crop it 1 size from the left and append the next index to it (sliding window of name)\n",
    "            block = block[1:] + [index]\n",
    "    # We also convert these inputs and outputs to tensors for neural network processing\n",
    "    inputs = torch.tensor(inputs)\n",
    "    outputs = torch.flatten(torch.tensor(outputs))\n",
    "    # We return the inputs and outputs\n",
    "    return inputs, outputs\n",
    "\n",
    "# We define a manual seed to random\n",
    "random.seed(69)\n",
    "# We shuffle all the words, so that the model receives all kinds of data\n",
    "random.shuffle(words)\n",
    "# We define two number of inputs\n",
    "# We take the number of examples to 80% in the first variable\n",
    "numberOfInputs1 = int(0.8*len(words))\n",
    "# We take the number of examples to 90% in the first variable\n",
    "numberOfInputs2 = int(0.9*len(words))\n",
    "# Inputs and outputs that go till 80% of the examples\n",
    "trainingInputs, trainingOutputs = buildDataset(words[:numberOfInputs1])\n",
    "# Inputs and outputs that start at 80% of the examples and go till 90% of the examples\n",
    "validationInputs, validationOutputs = buildDataset(words[numberOfInputs1:numberOfInputs2])\n",
    "# Inputs and outputs that start at 90% of the examples\n",
    "testInputs, testOutputs = buildDataset(words[numberOfInputs2:])\n",
    "\n",
    "# We can check the numbers\n",
    "print(\"Total Examples:\",len(words)) # 100%\n",
    "print(\"Training Examples:\",len(words[:numberOfInputs1])) # 80%\n",
    "print(\"Validation Examples:\",len(words[numberOfInputs1:numberOfInputs2])) # 10%\n",
    "print(\"Test Examples:\",len(words[numberOfInputs2:])) # 10%"
   ]
  },
  {
   "cell_type": "markdown",
   "id": "82958536-d9f7-4f27-ae13-672273e660e0",
   "metadata": {
    "jp-MarkdownHeadingCollapsed": true
   },
   "source": [
    "# Modular Block Definition"
   ]
  },
  {
   "cell_type": "markdown",
   "id": "92509e46-8907-4dca-b1d2-752d721b7e30",
   "metadata": {},
   "source": [
    "You will see that we previously had a generator object in this modular code...\n",
    "\n",
    "This is for seed reproducability.\n",
    "\n",
    "And we will only use a manual seeding directly into PyTorch using:\n",
    "```python\n",
    "torch.manual_seed(69420)\n",
    "```"
   ]
  },
  {
   "cell_type": "code",
   "execution_count": 7,
   "id": "de0c6e2c-670a-4f8c-b6c0-aaa1094841de",
   "metadata": {},
   "outputs": [],
   "source": [
    "class Linear:\n",
    "    # Constructor to initialize the weights and biases\n",
    "    def __init__(self, fan_in, fan_out, bias=True):\n",
    "        # We initialize the weights using fan-in and fan-out and use the kaiming initialization which is the square root of fan-in\n",
    "        self.weights = torch.randn((fan_in, fan_out)) / fan_in**0.5\n",
    "        # We initilize the biases using fan-out and set them to 0 values if bias is set to True else we set it to None\n",
    "        self.biases = torch.zeros(fan_out) if bias else None\n",
    "    # Defines how we forward pass these layers which is (y = wx + b)\n",
    "    def __call__(self, inputs):\n",
    "        # (w*x)\n",
    "        self.out = inputs @ self.weights\n",
    "        # Checking if we have a bias\n",
    "        if self.biases is not None:\n",
    "            # (wx) + b\n",
    "            self.out += self.biases\n",
    "        # We return (y = wx + b)\n",
    "        return self.out\n",
    "    # Defines a method to return all the parameters used by this layer\n",
    "    def parameters(self):\n",
    "        # If bias is there return (w*x + b) else return (w*x)\n",
    "        return [self.weights] + ([] if self.biases is None else [self.biases])\n",
    "class BatchNorm1d:\n",
    "    # Constructor to initialize the gain, bias, and the buffers (running mean and running variance) using the dimensions we get\n",
    "    def __init__(self, dimensions, epsilon=1e-5, momentum=0.1, training=True):\n",
    "        self.epsilon = epsilon\n",
    "        self.momentum = momentum\n",
    "        # Parameters using dimensions\n",
    "        # We initialize the gains to 1 values of dimensions\n",
    "        self.gamma = torch.ones(dimensions)\n",
    "        # We initialize the bias to 0 values of dimensions\n",
    "        self.beta = torch.zeros(dimensions)\n",
    "        # Buffers\n",
    "        # We initialize the running mean to 0 values of dimensions\n",
    "        self.running_mean = torch.zeros(dimensions)\n",
    "        # We initialize the running variance to 1 values of dimensions\n",
    "        self.running_variance = torch.ones(dimensions)\n",
    "        # We initialize a checker parameter that checks whether we are training or not (We will discuss this later) \n",
    "        self.training = training\n",
    "    # Forward Pass and Buffer Updation based on the inputs\n",
    "    def __call__(self, inputs):\n",
    "        # Forward Pass\n",
    "        # ------------\n",
    "        # If training is set to true we will calculate the mean and variance estimated from the current batch of inputs\n",
    "        if self.training:\n",
    "            # Initializing mean of current batch of inputs along dimension 0 and keeping the dimensions\n",
    "            input_mean = inputs.mean(0, keepdim=True)\n",
    "            # Initializing variance of current batch of inputs along dimension 0 and keeping the dimensions\n",
    "            input_variance = inputs.var(0, keepdim=True)\n",
    "        # If not training, we will use the running mean and variance of the inputs of the saved values\n",
    "        else:\n",
    "            input_mean = self.running_mean\n",
    "            input_variance = self.running_variance\n",
    "        # We center the inputs around zero and scaling it to have unit variance using the defined formula\n",
    "        unit_variance = (inputs - input_mean) / torch.sqrt(input_variance) + self.epsilon\n",
    "        # After calulating the unit_variance we can perform the operation (y = wx + b) on this layer\n",
    "        self.out = self.gamma * unit_variance + self.beta\n",
    "        # ------------\n",
    "        # Buffer Updation\n",
    "        # ------------\n",
    "        # If training is set to true we will update the running mean and variance estimated from the momentum (without gradient updation)\n",
    "        if self.training:\n",
    "            # We disable gradient updation\n",
    "            with torch.no_grad():\n",
    "                # We perform (batchRunningMean = 0.999 * batchRunningMean + 0.001 * batchMeanAtIteration)\n",
    "                self.running_mean = (1 - self.momentum) * self.running_mean + self.momentum * input_mean\n",
    "                # We perform (batchRunningStandardDeviation = 0.999 * batchRunningStandardDeviation + 0.001 * batchStandardDeviationAtIteration)\n",
    "                self.running_variance = (1 - self.momentum) * self.running_variance + self.momentum * input_variance\n",
    "        # We return the (y = wx + b) after all the calculations are done (if any)\n",
    "        return self.out\n",
    "        # ------------\n",
    "    # Defines a method to return all the parameters used by this layer\n",
    "    def parameters(self):\n",
    "        # We return the parameters (gamma and beta)\n",
    "        return [self.gamma, self.beta]\n",
    "class Tanh:\n",
    "    def __call__(self, inputs):\n",
    "        # Calculates tanh based on the inputs\n",
    "        self.out = torch.tanh(inputs)\n",
    "        return self.out\n",
    "    # Returns an empty list because there are no paramters in this layer\n",
    "    def parameters(self):\n",
    "        return []"
   ]
  },
  {
   "cell_type": "markdown",
   "id": "d51268a1-fe73-47ff-a9c5-a103c4364584",
   "metadata": {
    "jp-MarkdownHeadingCollapsed": true
   },
   "source": [
    "# Neural Network Initialization - Weights, Biases & Parameters"
   ]
  },
  {
   "cell_type": "code",
   "execution_count": 8,
   "id": "f2dc6405-bb27-4b96-bf4d-ede111513a44",
   "metadata": {},
   "outputs": [
    {
     "name": "stdout",
     "output_type": "stream",
     "text": [
      "Number of parameters: 12124\n"
     ]
    }
   ],
   "source": [
    "# We will define a manual seed to give a similar result on your machine, as of my machine\n",
    "torch.manual_seed(69420)\n",
    "embeddingFeatureSpaceLength = 10\n",
    "numberOfHiddenLayerNeurons = 200\n",
    "# Initializing the embedding look-up matrix\n",
    "embeddingLookUpMatrix = torch.randn((vocabularySize, embeddingFeatureSpaceLength))\n",
    "# Initializing the layers into a single list called 'layers', stacking them one after another\n",
    "layers = [\n",
    "    Linear(embeddingFeatureSpaceLength * blockSize, numberOfHiddenLayerNeurons, bias=False), BatchNorm1d(numberOfHiddenLayerNeurons), Tanh(),\n",
    "    Linear(             numberOfHiddenLayerNeurons,             vocabularySize, bias=False), BatchNorm1d(vocabularySize),\n",
    "]\n",
    "\n",
    "# Disabling Gradient Tracking\n",
    "with torch.no_grad():\n",
    "    # Making the final activation less confident\n",
    "    layers[-1].gamma *= 0.1\n",
    "\n",
    "# We initialize all the parameters\n",
    "parameters = [embeddingLookUpMatrix] + [parameter for layer in layers for parameter in layer.parameters()]\n",
    "# We check the number of parameters by printing its value\n",
    "print(\"Number of parameters:\", sum(parameter.nelement() for parameter in parameters))\n",
    "# We set 'requires_grad' to True in order to track gradients\n",
    "for parameter in parameters:\n",
    "    parameter.requires_grad = True"
   ]
  },
  {
   "cell_type": "markdown",
   "id": "3263d5f4-80d1-447d-a329-82e724938cf7",
   "metadata": {
    "jp-MarkdownHeadingCollapsed": true
   },
   "source": [
    "# Forward Pass"
   ]
  },
  {
   "cell_type": "code",
   "execution_count": 9,
   "id": "cdf66833-b4b7-485a-b612-87420c47fbaa",
   "metadata": {},
   "outputs": [
    {
     "name": "stdout",
     "output_type": "stream",
     "text": [
      "      0/ 200000: 3.2929\n",
      "  10000/ 200000: 2.4449\n",
      "  20000/ 200000: 1.7085\n",
      "  30000/ 200000: 2.3984\n",
      "  40000/ 200000: 1.8998\n",
      "  50000/ 200000: 2.1423\n",
      "  60000/ 200000: 1.8823\n",
      "  70000/ 200000: 1.8821\n",
      "  80000/ 200000: 2.2512\n",
      "  90000/ 200000: 2.3865\n",
      " 100000/ 200000: 2.0659\n",
      " 110000/ 200000: 1.6045\n",
      " 120000/ 200000: 1.8543\n",
      " 130000/ 200000: 2.1539\n",
      " 140000/ 200000: 1.6183\n",
      " 150000/ 200000: 1.8724\n",
      " 160000/ 200000: 1.8351\n",
      " 170000/ 200000: 1.5911\n",
      " 180000/ 200000: 1.8755\n",
      " 190000/ 200000: 2.0474\n"
     ]
    }
   ],
   "source": [
    "# We want to track the losses that we use in the training\n",
    "losses = []\n",
    "# We define the number of epochs\n",
    "epochs = 200000\n",
    "# We define the batch size\n",
    "batchSize = 32\n",
    "\n",
    "for i in range(epochs):\n",
    "    # Mini-Batches\n",
    "    indexes = torch.randint(low=0, high=trainingInputs.shape[0], size=(batchSize,))\n",
    "    inputBatch, outputBatch = trainingInputs[indexes], trainingOutputs[indexes]\n",
    "    \n",
    "    # Forward Pass (Mini-Batch)\n",
    "    embedding = embeddingLookUpMatrix[inputBatch]\n",
    "    concatenatedEmbedding = embedding.view(embedding.shape[0], -1)\n",
    "\n",
    "    # Check outputs after batch normalization layers\n",
    "    for layer in layers:\n",
    "        # We call the forward pass of each layer\n",
    "        concatenatedEmbedding = layer(concatenatedEmbedding)\n",
    "    loss = F.cross_entropy(concatenatedEmbedding, outputBatch)\n",
    "    # Backward Pass (Mini-Batch)\n",
    "    # We reset the gradients\n",
    "    for parameter in parameters:\n",
    "        parameter.grad = None\n",
    "    loss.backward()\n",
    "\n",
    "    # Update Weights (Mini-Batch)\n",
    "    learning_rate = 0.1 if i < 150000 else 0.01\n",
    "    for parameter in parameters:\n",
    "        parameter.data += -learning_rate * parameter.grad\n",
    "\n",
    "    # Tracking the stats\n",
    "    # We append the losses that we use per iteration\n",
    "    if i % 10000 == 0: \n",
    "        print(f'{i:7d}/{epochs:7d}: {loss.item():.4f}')\n",
    "    losses.append(loss.log10().item()) # We do that to squash the steep curve to a nicer graph"
   ]
  },
  {
   "cell_type": "code",
   "execution_count": 10,
   "id": "3f15345a-1b9d-458e-8ee6-d411aeea1878",
   "metadata": {},
   "outputs": [
    {
     "data": {
      "text/plain": [
       "[<matplotlib.lines.Line2D at 0x246e64fc750>]"
      ]
     },
     "execution_count": 10,
     "metadata": {},
     "output_type": "execute_result"
    },
    {
     "data": {
      "image/png": "[encoded data removed]",
      "text/plain": [
       "<Figure size 640x480 with 1 Axes>"
      ]
     },
     "metadata": {},
     "output_type": "display_data"
    }
   ],
   "source": [
    "plt.plot(losses)"
   ]
  },
  {
   "cell_type": "markdown",
   "id": "2de92f85-5207-4cdf-bc0d-5d99e538a008",
   "metadata": {},
   "source": [
    "Our losses look pretty ugly and we will fix that in a second..."
   ]
  },
  {
   "cell_type": "markdown",
   "id": "30461e5f-dbb6-485b-ad08-fceeb6da58c4",
   "metadata": {
    "jp-MarkdownHeadingCollapsed": true
   },
   "source": [
    "### Evaluating Losses"
   ]
  },
  {
   "cell_type": "code",
   "execution_count": 11,
   "id": "b0780c1d-f4d7-45a3-9524-4d4fab0251f8",
   "metadata": {},
   "outputs": [
    {
     "name": "stdout",
     "output_type": "stream",
     "text": [
      "Training Loss:1.897056221961975\n",
      "Validation Loss:1.9188517332077026\n"
     ]
    }
   ],
   "source": [
    "# Decorator for disabling gradient tracking throughout the function underneath\n",
    "@torch.no_grad()\n",
    "def splitLoss(split):\n",
    "    input, output = {\n",
    "        'Training': (trainingInputs, trainingOutputs),\n",
    "        'Validation': (validationInputs, validationOutputs),\n",
    "        'Testing': (testInputs, testOutputs)\n",
    "    }[split]\n",
    "    # Based on the split we can then index into the embedding look-up matrix using its inputs to get the embeddings\n",
    "    embedding = embeddingLookUpMatrix[input]\n",
    "    concatenatedEmbedding = embedding.view(embedding.shape[0], -1)\n",
    "    for layer in layers:\n",
    "        concatenatedEmbedding = layer(concatenatedEmbedding)\n",
    "    loss = F.cross_entropy(concatenatedEmbedding, output)\n",
    "    print(f\"{split} Loss:{loss.item()}\")\n",
    "# We can then call this method to calculate and print loss\n",
    "splitLoss('Training')\n",
    "splitLoss('Validation')"
   ]
  },
  {
   "cell_type": "markdown",
   "id": "57271016-63e6-42a8-8ab8-ff57da3433f9",
   "metadata": {
    "jp-MarkdownHeadingCollapsed": true
   },
   "source": [
    "# Sampling from the Neural Network"
   ]
  },
  {
   "cell_type": "markdown",
   "id": "8a0c86bf-d3bd-4a27-8b24-ef41adef7bef",
   "metadata": {},
   "source": [
    "Now comes the main part...\n",
    "\n",
    "I intentionally did not set the training attribute of `BatchNorm1d` layers to `False` last time.\n",
    "\n",
    "First we have to understand that batch normalization behaves differently during training and inference. During training, batch normalization computes batch statistics (mean and variance) based on the current batch of data, which can sometimes lead to issues with small batch sizes or non-representative batches. However, during inference, it's common practice to use precomputed running statistics (accumulated during training) and fix the batch normalization layers to not update their statistics further.\n",
    "\n",
    "By setting `layer.training = False` for `BatchNorm1d` layers during sampling, we effectively switch them to inference mode, ensuring that they use precomputed running statistics (such as the moving average ($\\mu$) for mean and moving variance($\\sigma^2$) for variance) and do not update their parameters (such as $\\gamma$ and $\\beta$, which are learnable parameters) during sampling."
   ]
  },
  {
   "cell_type": "markdown",
   "id": "550c8957-e106-4420-ba49-80e716ec0d23",
   "metadata": {},
   "source": [
    "So, if you're trying to pass in a single example of *context* into a `Batch-Normalization` layer which is in `Training` mode, we are going to end up estimating the `variance` of the batch.\n",
    "\n",
    "So, what is the issue then? We are trying to estimate the `variance` in the `Batch-Normalization` layer in the first place...\n",
    "\n",
    "Well, `variance` tries to look at the amount of *spread* in the data. So, `variance` of a single number, is `not-a-number` a.k.a `NaN` in PyTorch.\n",
    "\n",
    "For example, if we have a very simple example:\n",
    "```python\n",
    "torch.var(torch.tensor([69.0]))\n",
    "```\n",
    "\n",
    "We get the result:\n",
    "```python\n",
    "tensor(nan)\n",
    "```"
   ]
  },
  {
   "cell_type": "code",
   "execution_count": 12,
   "id": "1516632e-0622-4557-9aeb-8885330b5317",
   "metadata": {},
   "outputs": [
    {
     "name": "stdout",
     "output_type": "stream",
     "text": [
      "prasenapraguruthrapa.\n",
      "swaran.\n",
      "arveeran.\n",
      "dhy.\n",
      "haranithusree.\n",
      "sud.\n",
      "kadtwaz.\n",
      "ridapathindermitdalan.\n",
      "chini.\n",
      "wen.\n",
      "sivani.\n",
      "haran.\n",
      "kala.\n",
      "yothushan.\n",
      "dheemalaimithasshan.\n",
      "akshinod.\n",
      "tha.\n",
      "prama.\n",
      "nila.\n",
      "divthirampyi.\n"
     ]
    }
   ],
   "source": [
    "# We define a Block Size based on the number of characters we feed are going to feed to predict the next one\n",
    "blockSize = 3\n",
    "# We will define a generator to give the same result on your machine, as of my machine\n",
    "numberOfWordsToSample = 20\n",
    "\n",
    "for layer in layers:\n",
    "    layer.training = False\n",
    "\n",
    "# We iterate over the number of words we want to predict\n",
    "for _ in range(numberOfWordsToSample):\n",
    "    # We define a output list to append the next character and print it at the end\n",
    "    output = []\n",
    "    # We define the block for each iteration and fill it with 0 values -> [0, 0, 0]\n",
    "    block = [0] * blockSize\n",
    "\n",
    "    # We will now iterate over each word's characters\n",
    "    while True:\n",
    "        # We would create an output embedding that would be based on the block\n",
    "        embedding = embeddingLookUpMatrix[torch.tensor([block])]\n",
    "        concatenatedEmbedding = embedding.view(embedding.shape[0], -1)\n",
    "        # Inside the loop where layers are applied\n",
    "        for layer in layers:\n",
    "            concatenatedEmbedding = layer(concatenatedEmbedding)\n",
    "        # Apply softmax\n",
    "        probabilities = F.softmax(concatenatedEmbedding, dim=1)\n",
    "        # We can now sample the next character\n",
    "        index = torch.multinomial(probabilities, num_samples=1).item()\n",
    "        # We then take the block, crop it 1 size from the left and append the next index to it (sliding window of name)\n",
    "        block = block[1:] + [index]\n",
    "        # We then append the sampled character to the output\n",
    "        output.append(index)\n",
    "        # If we hit '.' end token, we will break out from the loop\n",
    "        if index == 0:\n",
    "            break\n",
    "    # We print generated name out\n",
    "    print(''.join(itos[index] for index in output))"
   ]
  },
  {
   "cell_type": "markdown",
   "id": "b38a8087-3475-4ecc-b61c-cb075fc34040",
   "metadata": {},
   "source": [
    "Now let's fix the loss graph first...."
   ]
  },
  {
   "cell_type": "markdown",
   "id": "7f428683-f41d-4e6a-a975-d1c09f1aa7ab",
   "metadata": {
    "jp-MarkdownHeadingCollapsed": true
   },
   "source": [
    "# Fixing Loss Graph"
   ]
  },
  {
   "cell_type": "markdown",
   "id": "48706631-6202-464d-b5c1-95850fce2ab6",
   "metadata": {},
   "source": [
    "Let's recall what `losses` are first...\n",
    "\n",
    "`losses` are nothing but a python list of floating point numbers.\n",
    "\n",
    "So if we try to print the first `10` numbers from the list:\n",
    "```python\n",
    "losses[:10]\n",
    "```\n",
    "We get something like this:\n",
    "```python\n",
    "[0.517582893371582,\n",
    " 0.5161539316177368,\n",
    " 0.5183981657028198,\n",
    " 0.5125000476837158,\n",
    " 0.5141331553459167,\n",
    " 0.5116288065910339,\n",
    " 0.5155861377716064,\n",
    " 0.5093725919723511,\n",
    " 0.5093583464622498,\n",
    " 0.5094155073165894]\n",
    "```\n",
    "\n",
    "We understand that we are calculating losses of mini-batches of only `32` examples, and we can get *very lucky and very unlucky* in any one of these batches, which eventually creates a very thick loss graph. Despite these fluctuations, over a large number of epochs, the trend in the loss graph typically demonstrates a gradual decrease, indicating the model's learning progress over time. To visualize this trend more effectively, we apply a `logarithmic transformation` to the `loss` values, *squashing* the steep curve into a smoother graph for better interpretation.\n",
    "\n",
    "We also saw that each of our `losses` floating point numbers were stretched out across the number of `epochs` we had during forward pass.\n",
    "\n",
    "Which means if we try to average these `losses` in short intervals of `epochs`, we will smooth out the representation of the *trend* in the `losses` over time..."
   ]
  },
  {
   "cell_type": "markdown",
   "id": "ebfbdcfa-6fd1-4894-aa79-8d92df06c276",
   "metadata": {},
   "source": [
    "Let's understand how we can do this...\n",
    "\n",
    "For example if we take a tensor of the first `10` numbers we do something like this:\n",
    "```python\n",
    "torch.arange(10)\n",
    "```\n",
    "Which gives us:\n",
    "```python\n",
    "tensor([0, 1, 2, 3, 4, 5, 6, 7, 8, 9])\n",
    "\n",
    "```\n",
    "\n",
    "We understand that this is a `1` dimensional array.\n",
    "\n",
    "But we can recall that we can `view` this array in `2` dimensions now...\n",
    "```python\n",
    "torch.arange(10).view(2, 5)\n",
    "```\n",
    "For which we get:\n",
    "```python\n",
    "tensor([[0, 1, 2, 3, 4],\n",
    "        [5, 6, 7, 8, 9]])\n",
    "```\n",
    "Here we see that the first `10` numbers are now being *viewed* as a `2` by `5` array, where the first row consists of the first `5` elements and the second row consists of the `5` numbers right after that.\n",
    "\n",
    "Similarly, we can also do:\n",
    "```python\n",
    "torch.arange(10).view(5, 2)\n",
    "```\n",
    "For which we get:\n",
    "```python\n",
    "tensor([[0, 1],\n",
    "        [2, 3],\n",
    "        [4, 5],\n",
    "        [6, 7],\n",
    "        [8, 9]])\n",
    "```\n",
    "Here we see that the first `10` numbers are now being *viewed* as a `5` by `2` array, where each row consists of `2` elements for `5` rows.\n",
    "\n",
    "We can also recall that we can get the exact same output by using `-1` in place of one of these numbers to make python calculate what the other number must be in order to make the number of elements work out.\n",
    "\n",
    "So for example, we have:\n",
    "```python\n",
    "torch.arange(10).view(-1, 5)\n",
    "```\n",
    "or\n",
    "```python\n",
    "torch.arange(10).view(2, -1)\n",
    "```\n",
    "For which we get:\n",
    "```python\n",
    "tensor([[0, 1, 2, 3, 4],\n",
    "        [5, 6, 7, 8, 9]])\n",
    "```\n",
    "And we have:\n",
    "```python\n",
    "torch.arange(10).view(5, -1)\n",
    "```\n",
    "or\n",
    "```python\n",
    "torch.arange(10).view(-1, 2)\n",
    "```\n",
    "For which we get:\n",
    "```python\n",
    "tensor([[0, 1],\n",
    "        [2, 3],\n",
    "        [4, 5],\n",
    "        [6, 7],\n",
    "        [8, 9]])\n",
    "```"
   ]
  },
  {
   "cell_type": "markdown",
   "id": "c2c150b8-3e6e-407c-a238-63d9f9b9e029",
   "metadata": {},
   "source": [
    "So using the same logic we can use the same logic to first create a tensor out of the original python list `losses` and check the shape of it.\n",
    "\n",
    "Using:\n",
    "```python\n",
    "torch.tensor(losses).shape\n",
    "```\n",
    "We get:\n",
    "```python\n",
    "torch.Size([200000])\n",
    "```\n",
    "\n",
    "We see that we have the floating point loss numbers for each of those number of `epochs`...\n",
    "\n",
    "We can now use the `view` logic to let PyTorch figure out the number of rows using `-1` and use the columns arguement to specify the number of `intervals of epochs` we want to average out.\n",
    "\n",
    "Let's say we want to average out `epochs` of `1000` intervals.\n",
    "\n",
    "So now we can view our rows of `1000 epoch intervals` of `losses`:\n",
    "```python\n",
    "torch.tensor(losses).view(-1, 1000).shape\n",
    "```\n",
    "We get:\n",
    "```python\n",
    "torch.Size([200, 1000])\n",
    "```\n",
    "\n",
    "So we can average out all the rows using the `mean()` at dimension `1`...\n",
    "\n",
    "So if we now check the shape:\n",
    "```python\n",
    "torch.tensor(losses).view(-1, 1000).mean(1).shape\n",
    "```\n",
    "And we see that we get the same number of rows:\n",
    "```python\n",
    "torch.Size([200])\n",
    "```\n",
    "\n",
    "So we can now easily plot this using:"
   ]
  },
  {
   "cell_type": "code",
   "execution_count": 13,
   "id": "81bec19c-7a99-4327-b1ff-89612fd33517",
   "metadata": {},
   "outputs": [
    {
     "data": {
      "text/plain": [
       "[<matplotlib.lines.Line2D at 0x246e7e72550>]"
      ]
     },
     "execution_count": 13,
     "metadata": {},
     "output_type": "execute_result"
    },
    {
     "data": {
      "image/png": "[encoded data removed]",
      "text/plain": [
       "<Figure size 640x480 with 1 Axes>"
      ]
     },
     "metadata": {},
     "output_type": "display_data"
    }
   ],
   "source": [
    "plt.plot(torch.tensor(losses).view(-1, 1000).mean(1))"
   ]
  },
  {
   "cell_type": "markdown",
   "id": "37272a78-3d19-4c9e-a458-c504e0e6bf6b",
   "metadata": {},
   "source": [
    "This smoothing doesn't eliminate the individual spikes and dips in the loss graph but provides a clearer picture of the overall trend by reducing the impact of those fluctuations...\n",
    "\n",
    "Let's now move on to the next section..."
   ]
  },
  {
   "cell_type": "markdown",
   "id": "bac8f414-6c5e-4391-a382-69932ea70fee",
   "metadata": {
    "jp-MarkdownHeadingCollapsed": true
   },
   "source": [
    "# *PyTorch-ifying* Modular Code"
   ]
  },
  {
   "cell_type": "markdown",
   "id": "8d45830f-d2f2-4507-805f-090d7f9fb2c3",
   "metadata": {},
   "source": [
    "You see how our modular blocks are still a little bit *gnarly* during the forward pass?\n",
    "\n",
    "We use too many lines of code\n",
    "\n",
    "For example, we use:\n",
    "```python\n",
    "    # Forward Pass (Mini-Batch)\n",
    "    embedding = embeddingLookUpMatrix[inputBatch]\n",
    "    concatenatedEmbedding = embedding.view(embedding.shape[0], -1)\n",
    "    \n",
    "    for layer in layers:\n",
    "        # We call the forward pass of each layer\n",
    "        concatenatedEmbedding = layer(concatenatedEmbedding)\n",
    "    loss = F.cross_entropy(concatenatedEmbedding, outputBatch)\n",
    "```\n",
    "\n",
    "You see how the `inputBatch`(s) are used to index into `embeddingLookUpMatrix`, but it is still outside of the `layers`, and in addition to that the `view()` operation is also outside of these `layers`.\n",
    "\n",
    "Let's modularize this code by creating `layers` for these and we can add them to our `layers[]` list.\n",
    "\n",
    "So we know that we need two things:\n",
    "1. Embedding Layer\n",
    "2. Flatten Layer\n",
    "\n",
    "`Embedding` Layer is required for `embeddingLookUpMatrix` because we index into it using `inputBatch`. And `Flatten` Layer is required because we are effectively doing a *concatenation* operation for the sequence of embeddings we want to push through as an input, and stretches these embeddings into a single row of array, which is basically a **flatening** operation..."
   ]
  },
  {
   "cell_type": "markdown",
   "id": "8b14400f-ad80-4c95-bcb4-8c40be2a8f28",
   "metadata": {},
   "source": [
    "Now, not surprisingly, these `Embedding` and `Flatten` modules are already there in PyTorch block.\n",
    "\n",
    "For example, the `Embedding` module is there:\n",
    "```python\n",
    "torch.nn.Embedding(num_embeddings, embedding_dim, padding_idx=None, max_norm=None, norm_type=2.0, scale_grad_by_freq=False, sparse=False, _weight=None, _freeze=False, device=None, dtype=None)\n",
    "```\n",
    "\n",
    "We see that it takes a long list of arguements, but we would like to keep things simple and only have `num_embeddings` and `embedding_dim`.\n",
    "\n",
    "And according to the documentation we see that:\\\n",
    "**Parameters**:\n",
    "- **num_embeddings** (`int`) – size of the dictionary of embeddings\n",
    "- **embedding_dim** (`int`) – the size of each embedding vector\n",
    "\n",
    "Also, for example the `Flatten` module is there:\n",
    "```python\n",
    "torch.nn.Flatten(start_dim=1, end_dim=-1)\n",
    "```\n",
    "\n",
    "Once again we see that it takes a number of arguements but we are have our own custom *concatenation* operation to aid...\n",
    "\n",
    "So let's now implement the modular blocks..."
   ]
  },
  {
   "cell_type": "markdown",
   "id": "824884d1-8bc0-44f9-84e2-b0e24b9961b7",
   "metadata": {
    "jp-MarkdownHeadingCollapsed": true
   },
   "source": [
    "### Modular Block Definition"
   ]
  },
  {
   "cell_type": "code",
   "execution_count": 12,
   "id": "9553f3d9-c600-472c-82e0-da347d226206",
   "metadata": {},
   "outputs": [],
   "source": [
    "class Linear:\n",
    "    # Constructor to initialize the weights and biases\n",
    "    def __init__(self, fan_in, fan_out, bias=True):\n",
    "        # We initialize the weights using fan-in and fan-out and use the kaiming initialization which is the square root of fan-in\n",
    "        self.weights = torch.randn((fan_in, fan_out)) / fan_in**0.5\n",
    "        # We initilize the biases using fan-out and set them to 0 values if bias is set to True else we set it to None\n",
    "        self.biases = torch.zeros(fan_out) if bias else None\n",
    "    # Defines how we forward pass these layers which is (y = wx + b)\n",
    "    def __call__(self, inputs):\n",
    "        # (w*x)\n",
    "        self.out = inputs @ self.weights\n",
    "        # Checking if we have a bias\n",
    "        if self.biases is not None:\n",
    "            # (wx) + b\n",
    "            self.out += self.biases\n",
    "        # We return (y = wx + b)\n",
    "        return self.out\n",
    "    # Defines a method to return all the parameters used by this layer\n",
    "    def parameters(self):\n",
    "        # If bias is there return (w*x + b) else return (w*x)\n",
    "        return [self.weights] + ([] if self.biases is None else [self.biases])\n",
    "class BatchNorm1d:\n",
    "    # Constructor to initialize the gain, bias, and the buffers (running mean and running variance) using the dimensions we get\n",
    "    def __init__(self, dimensions, epsilon=1e-5, momentum=0.1, training=True):\n",
    "        self.epsilon = epsilon\n",
    "        self.momentum = momentum\n",
    "        # Parameters using dimensions\n",
    "        # We initialize the gains to 1 values of dimensions\n",
    "        self.gamma = torch.ones(dimensions)\n",
    "        # We initialize the bias to 0 values of dimensions\n",
    "        self.beta = torch.zeros(dimensions)\n",
    "        # Buffers\n",
    "        # We initialize the running mean to 0 values of dimensions\n",
    "        self.running_mean = torch.zeros(dimensions)\n",
    "        # We initialize the running variance to 1 values of dimensions\n",
    "        self.running_variance = torch.ones(dimensions)\n",
    "        # We initialize a checker parameter that checks whether we are training or not (We will discuss this later) \n",
    "        self.training = training\n",
    "    # Forward Pass and Buffer Updation based on the inputs\n",
    "    def __call__(self, inputs):\n",
    "        # Forward Pass\n",
    "        # ------------\n",
    "        # If training is set to true we will calculate the mean and variance estimated from the current batch of inputs\n",
    "        if self.training:\n",
    "            # Initializing mean of current batch of inputs along dimension 0 and keeping the dimensions\n",
    "            input_mean = inputs.mean(0, keepdim=True)\n",
    "            # Initializing variance of current batch of inputs along dimension 0 and keeping the dimensions\n",
    "            input_variance = inputs.var(0, keepdim=True)\n",
    "        # If not training, we will use the running mean and variance of the inputs of the saved values\n",
    "        else:\n",
    "            input_mean = self.running_mean\n",
    "            input_variance = self.running_variance\n",
    "        # We center the inputs around zero and scaling it to have unit variance using the defined formula\n",
    "        unit_variance = (inputs - input_mean) / torch.sqrt(input_variance) + self.epsilon\n",
    "        # After calulating the unit_variance we can perform the operation (y = wx + b) on this layer\n",
    "        self.out = self.gamma * unit_variance + self.beta\n",
    "        # ------------\n",
    "        # Buffer Updation\n",
    "        # ------------\n",
    "        # If training is set to true we will update the running mean and variance estimated from the momentum (without gradient updation)\n",
    "        if self.training:\n",
    "            # We disable gradient updation\n",
    "            with torch.no_grad():\n",
    "                # We perform (batchRunningMean = 0.999 * batchRunningMean + 0.001 * batchMeanAtIteration)\n",
    "                self.running_mean = (1 - self.momentum) * self.running_mean + self.momentum * input_mean\n",
    "                # We perform (batchRunningStandardDeviation = 0.999 * batchRunningStandardDeviation + 0.001 * batchStandardDeviationAtIteration)\n",
    "                self.running_variance = (1 - self.momentum) * self.running_variance + self.momentum * input_variance\n",
    "        # We return the (y = wx + b) after all the calculations are done (if any)\n",
    "        return self.out\n",
    "        # ------------\n",
    "    # Defines a method to return all the parameters used by this layer\n",
    "    def parameters(self):\n",
    "        # We return the parameters (gamma and beta)\n",
    "        return [self.gamma, self.beta]\n",
    "class Tanh:\n",
    "    def __call__(self, inputs):\n",
    "        # Calculates tanh based on the inputs\n",
    "        self.out = torch.tanh(inputs)\n",
    "        return self.out\n",
    "    # Returns an empty list because there are no paramters in this layer\n",
    "    def parameters(self):\n",
    "        return []\n",
    "class Embedding:\n",
    "    # Constructor to initialize the weights of the embedding\n",
    "    def __init__(self, num_embeddings, embedding_dim):\n",
    "        # Initializing the weights of the embedding\n",
    "        self.weights = torch.randn((num_embeddings, embedding_dim))\n",
    "    # The indexing operation in the forward pass : Similar to -> embedding = embeddingLookUpMatrix[inputBatch]\n",
    "    def __call__(self, indexes):\n",
    "        self.out = self.weights[indexes]\n",
    "        return self.out\n",
    "    # Defines a method to return all the parameters used by this layer in a list (weights)\n",
    "    def parameters(self):\n",
    "        return [self.weights]\n",
    "class Flatten:\n",
    "    # Concatenation operation in the forward pass : Similar to -> concatenatedEmbedding = embedding.view(embedding.shape[0], -1)\n",
    "    def __call__(self, inputs):\n",
    "        self.out = inputs.view(inputs.shape[0], -1)\n",
    "        return self.out\n",
    "    # Defines a method to return all the parameters used by this layer in a list (empty list)\n",
    "    def parameters(self):\n",
    "        return []"
   ]
  },
  {
   "cell_type": "markdown",
   "id": "35de3c10-62c0-452d-86db-78219c4cdacc",
   "metadata": {},
   "source": [
    "Now that we have this, we can start modifying our **initialization** to be a more simpler code...\n",
    "\n",
    "Previously we had:\n",
    "```python\n",
    "# Initializing the embedding look-up matrix\n",
    "embeddingLookUpMatrix = torch.randn((vocabularySize, embeddingFeatureSpaceLength))\n",
    "# Initializing the layers into a single list called 'layers', stacking them one after another\n",
    "layers = [\n",
    "    Linear(embeddingFeatureSpaceLength * blockSize, numberOfHiddenLayerNeurons, bias=False), BatchNorm1d(numberOfHiddenLayerNeurons), Tanh(),\n",
    "    Linear(             numberOfHiddenLayerNeurons,             vocabularySize, bias=False), BatchNorm1d(vocabularySize),\n",
    "]\n",
    "```\n",
    "So now we can take out the line `embeddingLookUpMatrix = torch.randn((vocabularySize, embeddingFeatureSpaceLength))` and the `Embedding` and `Flatten` layer to the `layers` list...\n",
    "\n",
    "Like this:\n",
    "```python\n",
    "# Initializing the layers into a single list called 'layers', stacking them one after another\n",
    "layers = [\n",
    "    Embedding(vocabularySize, embeddingFeatureSpaceLength),\n",
    "    Flatten(),\n",
    "    Linear(embeddingFeatureSpaceLength * blockSize, numberOfHiddenLayerNeurons, bias=False), BatchNorm1d(numberOfHiddenLayerNeurons), Tanh(),\n",
    "    Linear(             numberOfHiddenLayerNeurons,             vocabularySize, bias=False), BatchNorm1d(vocabularySize),\n",
    "]\n",
    "```\n",
    "\n",
    "Also during initialization we had the `parameters` as:\n",
    "```python\n",
    "# We initialize all the parameters\n",
    "parameters = [embeddingLookUpMatrix] + [parameter for layer in layers for parameter in layer.parameters()]\n",
    "```\n",
    "\n",
    "But now we do not need to *special case* the `embeddingLookUpMatrix` because of the `parameters()` method implemented in our module block...\n",
    "\n",
    "So now we have:\n",
    "```python\n",
    "# We initialize all the parameters\n",
    "parameters = [parameter for layer in layers for parameter in layer.parameters()]\n",
    "```\n",
    "\n",
    "Let's now simplify the **forward pass**...\n",
    "\n",
    "\n",
    "Previously we had:\n",
    "```python\n",
    "# Forward Pass (Mini-Batch)\n",
    "embedding = embeddingLookUpMatrix[inputBatch]\n",
    "concatenatedEmbedding = embedding.view(embedding.shape[0], -1)\n",
    "    \n",
    "for layer in layers:\n",
    "    # We call the forward pass of each layer\n",
    "    concatenatedEmbedding = layer(concatenatedEmbedding)\n",
    "loss = F.cross_entropy(concatenatedEmbedding, outputBatch)\n",
    "```\n",
    "\n",
    "So now we can take out the lines `embedding = embeddingLookUpMatrix[inputBatch]` and `concatenatedEmbedding = embedding.view(embedding.shape[0], -1)` and put them into our layers...\n",
    "\n",
    "So now we have:\n",
    "```python\n",
    "# Forward Pass (Mini-Batch)\n",
    "for layer in layers:\n",
    "    # We call the forward pass of each layer\n",
    "    inputBatch = layer(inputBatch)\n",
    "loss = F.cross_entropy(inputBatch, outputBatch)\n",
    "```\n",
    "\n",
    "Let's now implement it in our code..."
   ]
  },
  {
   "cell_type": "markdown",
   "id": "6e2e208e-836d-46e2-bc87-92cd926ee828",
   "metadata": {
    "jp-MarkdownHeadingCollapsed": true
   },
   "source": [
    "### Neural Network Initialization - Weights, Biases & Parameters"
   ]
  },
  {
   "cell_type": "code",
   "execution_count": 13,
   "id": "e1049099-6573-4f38-bad8-2e805cf90421",
   "metadata": {},
   "outputs": [
    {
     "name": "stdout",
     "output_type": "stream",
     "text": [
      "Number of parameters: 12124\n"
     ]
    }
   ],
   "source": [
    "# We will define a manual seed to give a similar result on your machine, as of my machine\n",
    "torch.manual_seed(69420)\n",
    "embeddingFeatureSpaceLength = 10\n",
    "numberOfHiddenLayerNeurons = 200\n",
    "\n",
    "# Initializing the layers into a single list called 'layers', stacking them one after another\n",
    "layers = [\n",
    "    Embedding(vocabularySize, embeddingFeatureSpaceLength),\n",
    "    Flatten(),\n",
    "    Linear(embeddingFeatureSpaceLength * blockSize, numberOfHiddenLayerNeurons, bias=False), BatchNorm1d(numberOfHiddenLayerNeurons), Tanh(),\n",
    "    Linear(             numberOfHiddenLayerNeurons,             vocabularySize, bias=False), BatchNorm1d(vocabularySize),\n",
    "]\n",
    "\n",
    "# Disabling Gradient Tracking\n",
    "with torch.no_grad():\n",
    "    # Making the final activation less confident\n",
    "    layers[-1].gamma *= 0.1\n",
    "\n",
    "# We initialize all the parameters\n",
    "parameters = [parameter for layer in layers for parameter in layer.parameters()]\n",
    "# We check the number of parameters by printing its value\n",
    "print(\"Number of parameters:\", sum(parameter.nelement() for parameter in parameters))\n",
    "# We set 'requires_grad' to True in order to track gradients\n",
    "for parameter in parameters:\n",
    "    parameter.requires_grad = True"
   ]
  },
  {
   "cell_type": "markdown",
   "id": "f79124a3-4699-437e-8573-e773e86eb2a6",
   "metadata": {
    "jp-MarkdownHeadingCollapsed": true
   },
   "source": [
    "### Forward Pass"
   ]
  },
  {
   "cell_type": "markdown",
   "id": "1dbcc499-d328-4706-af8e-8176e69acb79",
   "metadata": {},
   "source": [
    "We will for now insert a `break` at the end just to run the forward pass for the first iteration to make sure it runs properly and we can take it out later..."
   ]
  },
  {
   "cell_type": "code",
   "execution_count": 14,
   "id": "0610b150-682c-4ce4-98cf-f5a666e56785",
   "metadata": {},
   "outputs": [
    {
     "name": "stdout",
     "output_type": "stream",
     "text": [
      "      0/ 200000: 3.2929\n"
     ]
    }
   ],
   "source": [
    "# We want to track the losses that we use in the training\n",
    "losses = []\n",
    "# We define the number of epochs\n",
    "epochs = 200000\n",
    "# We define the batch size\n",
    "batchSize = 32\n",
    "\n",
    "for i in range(epochs):\n",
    "    # Mini-Batches\n",
    "    indexes = torch.randint(low=0, high=trainingInputs.shape[0], size=(batchSize,))\n",
    "    inputBatch, outputBatch = trainingInputs[indexes], trainingOutputs[indexes]\n",
    "    \n",
    "    # Forward Pass (Mini-Batch)\n",
    "    for layer in layers:\n",
    "        # We call the forward pass of each layer\n",
    "        inputBatch = layer(inputBatch)\n",
    "    loss = F.cross_entropy(inputBatch, outputBatch)\n",
    "    # Backward Pass (Mini-Batch)\n",
    "    # We reset the gradients\n",
    "    for parameter in parameters:\n",
    "        parameter.grad = None\n",
    "    loss.backward()\n",
    "\n",
    "    # Update Weights (Mini-Batch)\n",
    "    learning_rate = 0.1 if i < 150000 else 0.01\n",
    "    for parameter in parameters:\n",
    "        parameter.data += -learning_rate * parameter.grad\n",
    "\n",
    "    # Tracking the stats\n",
    "    # We append the losses that we use per iteration\n",
    "    if i % 10000 == 0: \n",
    "        print(f'{i:7d}/{epochs:7d}: {loss.item():.4f}')\n",
    "    losses.append(loss.log10().item()) # We do that to squash the steep curve to a nicer graph\n",
    "\n",
    "    break"
   ]
  },
  {
   "cell_type": "markdown",
   "id": "4a8b8808-6f5d-482f-bf67-c015abc1a6af",
   "metadata": {},
   "source": [
    "Nice, so we do get an output and we can continue to *pytorchify* our code more..."
   ]
  },
  {
   "cell_type": "markdown",
   "id": "cb1e2e94-10f0-49ff-a964-39aa9058a529",
   "metadata": {
    "jp-MarkdownHeadingCollapsed": true
   },
   "source": [
    "## Further *Pytorch-ifiying* our code"
   ]
  },
  {
   "cell_type": "markdown",
   "id": "e2c1ce6c-1b23-49a1-8a83-3a67edaae0d2",
   "metadata": {},
   "source": [
    "Right now we are maintaining our code in a naked python list of `layers`.\n",
    "\n",
    "We can also simplify this by introducing a concept of PyTorch `Containers`.\n",
    "\n",
    "We are basically building `TORCH.NN` from scratch, and inside of `TORCH.NN`, there is a concept of `Containers`.\n",
    "\n",
    "These `containers` are used for organizing layers into form of `lists` and `dictionationaries` and so on...\n",
    "\n",
    "There is a `Container` within all the containers that have been implemented in PyTorch, known as `Sequential`. This `Sequential` container maintains a list of layers and passes a given input through all the layers, sequentially.\n",
    "\n",
    "Which is the exact same thing that we have been doing in our `layers` list.\n",
    "\n",
    "So let's implement our own `Sequential` class."
   ]
  },
  {
   "cell_type": "markdown",
   "id": "58a4aab7-9240-438d-a01b-c4dea78b099e",
   "metadata": {
    "jp-MarkdownHeadingCollapsed": true
   },
   "source": [
    "### Modular Block Definition"
   ]
  },
  {
   "cell_type": "code",
   "execution_count": 15,
   "id": "f66058ba-b1da-4377-80bb-791043972ef4",
   "metadata": {},
   "outputs": [],
   "source": [
    "class Linear:\n",
    "    # Constructor to initialize the weights and biases\n",
    "    def __init__(self, fan_in, fan_out, bias=True):\n",
    "        # We initialize the weights using fan-in and fan-out and use the kaiming initialization which is the square root of fan-in\n",
    "        self.weights = torch.randn((fan_in, fan_out)) / fan_in**0.5\n",
    "        # We initilize the biases using fan-out and set them to 0 values if bias is set to True else we set it to None\n",
    "        self.biases = torch.zeros(fan_out) if bias else None\n",
    "    # Defines how we forward pass these layers which is (y = wx + b)\n",
    "    def __call__(self, inputs):\n",
    "        # (w*x)\n",
    "        self.out = inputs @ self.weights\n",
    "        # Checking if we have a bias\n",
    "        if self.biases is not None:\n",
    "            # (wx) + b\n",
    "            self.out += self.biases\n",
    "        # We return (y = wx + b)\n",
    "        return self.out\n",
    "    # Defines a method to return all the parameters used by this layer\n",
    "    def parameters(self):\n",
    "        # If bias is there return (w*x + b) else return (w*x)\n",
    "        return [self.weights] + ([] if self.biases is None else [self.biases])\n",
    "class BatchNorm1d:\n",
    "    # Constructor to initialize the gain, bias, and the buffers (running mean and running variance) using the dimensions we get\n",
    "    def __init__(self, dimensions, epsilon=1e-5, momentum=0.1, training=True):\n",
    "        self.epsilon = epsilon\n",
    "        self.momentum = momentum\n",
    "        # Parameters using dimensions\n",
    "        # We initialize the gains to 1 values of dimensions\n",
    "        self.gamma = torch.ones(dimensions)\n",
    "        # We initialize the bias to 0 values of dimensions\n",
    "        self.beta = torch.zeros(dimensions)\n",
    "        # Buffers\n",
    "        # We initialize the running mean to 0 values of dimensions\n",
    "        self.running_mean = torch.zeros(dimensions)\n",
    "        # We initialize the running variance to 1 values of dimensions\n",
    "        self.running_variance = torch.ones(dimensions)\n",
    "        # We initialize a checker parameter that checks whether we are training or not (We will discuss this later) \n",
    "        self.training = training\n",
    "    # Forward Pass and Buffer Updation based on the inputs\n",
    "    def __call__(self, inputs):\n",
    "        # Forward Pass\n",
    "        # ------------\n",
    "        # If training is set to true we will calculate the mean and variance estimated from the current batch of inputs\n",
    "        if self.training:\n",
    "            # Initializing mean of current batch of inputs along dimension 0 and keeping the dimensions\n",
    "            input_mean = inputs.mean(0, keepdim=True)\n",
    "            # Initializing variance of current batch of inputs along dimension 0 and keeping the dimensions\n",
    "            input_variance = inputs.var(0, keepdim=True)\n",
    "        # If not training, we will use the running mean and variance of the inputs of the saved values\n",
    "        else:\n",
    "            input_mean = self.running_mean\n",
    "            input_variance = self.running_variance\n",
    "        # We center the inputs around zero and scaling it to have unit variance using the defined formula\n",
    "        unit_variance = (inputs - input_mean) / torch.sqrt(input_variance) + self.epsilon\n",
    "        # After calulating the unit_variance we can perform the operation (y = wx + b) on this layer\n",
    "        self.out = self.gamma * unit_variance + self.beta\n",
    "        # ------------\n",
    "        # Buffer Updation\n",
    "        # ------------\n",
    "        # If training is set to true we will update the running mean and variance estimated from the momentum (without gradient updation)\n",
    "        if self.training:\n",
    "            # We disable gradient updation\n",
    "            with torch.no_grad():\n",
    "                # We perform (batchRunningMean = 0.999 * batchRunningMean + 0.001 * batchMeanAtIteration)\n",
    "                self.running_mean = (1 - self.momentum) * self.running_mean + self.momentum * input_mean\n",
    "                # We perform (batchRunningStandardDeviation = 0.999 * batchRunningStandardDeviation + 0.001 * batchStandardDeviationAtIteration)\n",
    "                self.running_variance = (1 - self.momentum) * self.running_variance + self.momentum * input_variance\n",
    "        # We return the (y = wx + b) after all the calculations are done (if any)\n",
    "        return self.out\n",
    "        # ------------\n",
    "    # Defines a method to return all the parameters used by this layer\n",
    "    def parameters(self):\n",
    "        # We return the parameters (gamma and beta)\n",
    "        return [self.gamma, self.beta]\n",
    "class Tanh:\n",
    "    def __call__(self, inputs):\n",
    "        # Calculates tanh based on the inputs\n",
    "        self.out = torch.tanh(inputs)\n",
    "        return self.out\n",
    "    # Returns an empty list because there are no paramters in this layer\n",
    "    def parameters(self):\n",
    "        return []\n",
    "class Embedding:\n",
    "    # Constructor to initialize the weights of the embedding\n",
    "    def __init__(self, num_embeddings, embedding_dim):\n",
    "        # Initializing the weights of the embedding\n",
    "        self.weights = torch.randn((num_embeddings, embedding_dim))\n",
    "    # The indexing operation in the forward pass : Similar to -> embedding = embeddingLookUpMatrix[inputBatch]\n",
    "    def __call__(self, indexes):\n",
    "        self.out = self.weights[indexes]\n",
    "        return self.out\n",
    "    # Defines a method to return all the parameters used by this layer in a list (weights)\n",
    "    def parameters(self):\n",
    "        return [self.weights]\n",
    "class Flatten:\n",
    "    # Concatenation operation in the forward pass : Similar to -> concatenatedEmbedding = embedding.view(embedding.shape[0], -1)\n",
    "    def __call__(self, inputs):\n",
    "        self.out = inputs.view(inputs.shape[0], -1)\n",
    "        return self.out\n",
    "    # Defines a method to return all the parameters used by this layer in a list (empty list)\n",
    "    def parameters(self):\n",
    "        return []\n",
    "class Sequential:\n",
    "     # Constructor to initialize the layers\n",
    "    def __init__(self, layers):\n",
    "        # Initializing the weights of the embedding\n",
    "        self.layers = layers\n",
    "    # Calling all the layers based on the inputs: Using __call__ for all the layes given all the inputs\n",
    "    def __call__(self, inputs):\n",
    "        for layer in self.layers:\n",
    "            inputs = layer(inputs)\n",
    "        self.out = inputs\n",
    "        return self.out\n",
    "    # Defines a method to return all the parameters used in all the layers in a list\n",
    "    def parameters(self):\n",
    "        return [parameter for layer in self.layers for parameter in layer.parameters()]"
   ]
  },
  {
   "cell_type": "markdown",
   "id": "85abf415-e23a-4c7f-9dba-5151447118f0",
   "metadata": {
    "jp-MarkdownHeadingCollapsed": true
   },
   "source": [
    "### Neural Network Initialization - Weights, Biases & Parameters"
   ]
  },
  {
   "cell_type": "markdown",
   "id": "6733f9f3-bd2a-43dd-87cc-56b0f9f8b51a",
   "metadata": {},
   "source": [
    "Now we can start simplifying our code:\n",
    "\n",
    "Previously we had:\n",
    "```python\n",
    "# Initializing the layers into a single list called 'layers', stacking them one after another\n",
    "layers = [\n",
    "    Embedding(vocabularySize, embeddingFeatureSpaceLength),\n",
    "    Flatten(),\n",
    "    Linear(embeddingFeatureSpaceLength * blockSize, numberOfHiddenLayerNeurons, bias=False), BatchNorm1d(numberOfHiddenLayerNeurons), Tanh(),\n",
    "    Linear(             numberOfHiddenLayerNeurons,             vocabularySize, bias=False), BatchNorm1d(vocabularySize),\n",
    "]\n",
    "```\n",
    "\n",
    "Now we can have:\n",
    "```python\n",
    "# Initializing the model's sequential layers into a single module called model\n",
    "model = Sequential([\n",
    "    Embedding(vocabularySize, embeddingFeatureSpaceLength),\n",
    "    Flatten(),\n",
    "    Linear(embeddingFeatureSpaceLength * blockSize, numberOfHiddenLayerNeurons, bias=False), BatchNorm1d(numberOfHiddenLayerNeurons), Tanh(),\n",
    "    Linear(             numberOfHiddenLayerNeurons,             vocabularySize, bias=False), BatchNorm1d(vocabularySize),\n",
    "])\n",
    "```\n",
    "\n",
    "Here we see that `layers` becomes a `model`, which is a notion of a *Module*.\n",
    "\n",
    "See how I use the word *Module* a lot?\n",
    "\n",
    "Well that's because, a **Module** is the base class for all the classes in PyTorch.\n",
    "\n",
    "Also before we had:\n",
    "```python\n",
    "# We initialize all the parameters\n",
    "parameters = [parameter for layer in layers for parameter in layer.parameters()]\n",
    "```\n",
    "\n",
    "Now, because we implemented the same within the `Sequential` class, we can have:\n",
    "```python\n",
    "# We initialize all the parameters\n",
    "parameters = model.parameters()\n",
    "```\n",
    "\n",
    "So now we have:"
   ]
  },
  {
   "cell_type": "code",
   "execution_count": 16,
   "id": "6c376da6-6820-4ac1-908a-d1da321d47ac",
   "metadata": {},
   "outputs": [
    {
     "name": "stdout",
     "output_type": "stream",
     "text": [
      "Number of parameters: 12124\n"
     ]
    }
   ],
   "source": [
    "# We will define a manual seed to give a similar result on your machine, as of my machine\n",
    "torch.manual_seed(69420)\n",
    "embeddingFeatureSpaceLength = 10\n",
    "numberOfHiddenLayerNeurons = 200\n",
    "\n",
    "# Initializing the layers into a single list called 'layers', stacking them one after another\n",
    "model = Sequential([\n",
    "    Embedding(vocabularySize, embeddingFeatureSpaceLength),\n",
    "    Flatten(),\n",
    "    Linear(embeddingFeatureSpaceLength * blockSize, numberOfHiddenLayerNeurons, bias=False), BatchNorm1d(numberOfHiddenLayerNeurons), Tanh(),\n",
    "    Linear(             numberOfHiddenLayerNeurons,             vocabularySize, bias=False), BatchNorm1d(vocabularySize),\n",
    "])\n",
    "\n",
    "# Disabling Gradient Tracking\n",
    "with torch.no_grad():\n",
    "    # Making the final activation less confident\n",
    "    layers[-1].gamma *= 0.1\n",
    "\n",
    "# We initialize all the parameters\n",
    "parameters = model.parameters()\n",
    "# We check the number of parameters by printing its value\n",
    "print(\"Number of parameters:\", sum(parameter.nelement() for parameter in parameters))\n",
    "# We set 'requires_grad' to True in order to track gradients\n",
    "for parameter in parameters:\n",
    "    parameter.requires_grad = True"
   ]
  },
  {
   "cell_type": "markdown",
   "id": "731f9bfb-7c8b-4ef7-ae37-2982eb1172d6",
   "metadata": {
    "jp-MarkdownHeadingCollapsed": true
   },
   "source": [
    "### Forward Pass"
   ]
  },
  {
   "cell_type": "markdown",
   "id": "2920c182-ef9d-4178-b1df-11bc62ec80b7",
   "metadata": {},
   "source": [
    "This time, we can also improve forward pass substantially...\n",
    "\n",
    "That's because, we don't have to forward the inputs manually in a loop.\n",
    "\n",
    "Previously we had:\n",
    "```python\n",
    "# Forward Pass (Mini-Batch)\n",
    "for layer in layers:\n",
    "    # We call the forward pass of each layer\n",
    "    inputBatch = layer(inputBatch)\n",
    "loss = F.cross_entropy(inputBatch, outputBatch)\n",
    "```\n",
    "\n",
    "Now we simply call the model using the input data(`inputBatch`):\n",
    "```python\n",
    "# Forward Pass (Mini-Batch)\n",
    "logits = model(inputBatch)\n",
    "loss = F.cross_entropy(logits, outputBatch)\n",
    "```"
   ]
  },
  {
   "cell_type": "code",
   "execution_count": 17,
   "id": "595a76d3-a605-4875-a88c-d6cfc67b740e",
   "metadata": {},
   "outputs": [
    {
     "name": "stdout",
     "output_type": "stream",
     "text": [
      "      0/ 200000: 3.6497\n"
     ]
    }
   ],
   "source": [
    "# We want to track the losses that we use in the training\n",
    "losses = []\n",
    "# We define the number of epochs\n",
    "epochs = 200000\n",
    "# We define the batch size\n",
    "batchSize = 32\n",
    "\n",
    "for i in range(epochs):\n",
    "    # Mini-Batches\n",
    "    indexes = torch.randint(low=0, high=trainingInputs.shape[0], size=(batchSize,))\n",
    "    inputBatch, outputBatch = trainingInputs[indexes], trainingOutputs[indexes]\n",
    "    \n",
    "    # Forward Pass (Mini-Batch)\n",
    "    logits = model(inputBatch)\n",
    "    loss = F.cross_entropy(logits, outputBatch)\n",
    "    # Backward Pass (Mini-Batch)\n",
    "    # We reset the gradients\n",
    "    for parameter in parameters:\n",
    "        parameter.grad = None\n",
    "    loss.backward()\n",
    "\n",
    "    # Update Weights (Mini-Batch)\n",
    "    learning_rate = 0.1 if i < 150000 else 0.01\n",
    "    for parameter in parameters:\n",
    "        parameter.data += -learning_rate * parameter.grad\n",
    "\n",
    "    # Tracking the stats\n",
    "    # We append the losses that we use per iteration\n",
    "    if i % 10000 == 0: \n",
    "        print(f'{i:7d}/{epochs:7d}: {loss.item():.4f}')\n",
    "    losses.append(loss.log10().item()) # We do that to squash the steep curve to a nicer graph\n",
    "\n",
    "    break"
   ]
  },
  {
   "cell_type": "markdown",
   "id": "84783072-25e7-4adf-8d07-6d47963a22bd",
   "metadata": {},
   "source": [
    "#### Evaluating Losses"
   ]
  },
  {
   "cell_type": "markdown",
   "id": "4efe3851-b034-4cd8-a364-10e2de1793c1",
   "metadata": {},
   "source": [
    "So, similarly like the old code:\n",
    "```python\n",
    "# Based on the split we can then index into the embedding look-up matrix using its inputs to get the embeddings\n",
    "embedding = embeddingLookUpMatrix[input]\n",
    "concatenatedEmbedding = embedding.view(embedding.shape[0], -1)\n",
    "for layer in layers:\n",
    "    concatenatedEmbedding = layer(concatenatedEmbedding)\n",
    "loss = F.cross_entropy(concatenatedEmbedding, output)\n",
    "```\n",
    "\n",
    "We can have:\n",
    "```python\n",
    "logits = model(input)\n",
    "loss = F.cross_entropy(logits, output)\n",
    "```"
   ]
  },
  {
   "cell_type": "code",
   "execution_count": 14,
   "id": "8c53673e-6d65-4e48-9cc3-01cc78595e34",
   "metadata": {},
   "outputs": [
    {
     "name": "stdout",
     "output_type": "stream",
     "text": [
      "Training Loss:3.6893813610076904\n",
      "Validation Loss:3.6842901706695557\n"
     ]
    }
   ],
   "source": [
    "# Decorator for disabling gradient tracking throughout the function underneath\n",
    "@torch.no_grad()\n",
    "def splitLoss(split):\n",
    "    input, output = {\n",
    "        'Training': (trainingInputs, trainingOutputs),\n",
    "        'Validation': (validationInputs, validationOutputs),\n",
    "        'Testing': (testInputs, testOutputs)\n",
    "    }[split]\n",
    "    # Based on the split we can now forward through layers to get the logits\n",
    "    logits = model(input)\n",
    "    loss = F.cross_entropy(logits, output)\n",
    "    print(f\"{split} Loss:{loss.item()}\")\n",
    "# We can then call this method to calculate and print loss\n",
    "splitLoss('Training')\n",
    "splitLoss('Validation')"
   ]
  },
  {
   "cell_type": "markdown",
   "id": "10c572ac-d3e8-4e06-b504-4aac35d8b2ce",
   "metadata": {},
   "source": [
    "Don't sweat on the losses too much, this was just the first epoch and our neural network is not trained until we remove the `break` in the forward pass."
   ]
  },
  {
   "cell_type": "markdown",
   "id": "aedd5d4f-c8cd-482e-aff5-9d1bd0c9258f",
   "metadata": {
    "jp-MarkdownHeadingCollapsed": true
   },
   "source": [
    "### Sampling from the Neural Network"
   ]
  },
  {
   "cell_type": "markdown",
   "id": "5d1af804-4387-48ef-9104-367e859ba87d",
   "metadata": {},
   "source": [
    "So previously we had:\n",
    "```python\n",
    "# We would create an output embedding that would be based on the block\n",
    "embedding = embeddingLookUpMatrix[torch.tensor([block])]\n",
    "concatenatedEmbedding = embedding.view(embedding.shape[0], -1)\n",
    "# Inside the loop where layers are applied\n",
    "for layer in layers:\n",
    "    concatenatedEmbedding = layer(concatenatedEmbedding)\n",
    "# Apply softmax\n",
    "probabilities = F.softmax(concatenatedEmbedding, dim=1)\n",
    "```\n",
    "\n",
    "Now we have:\n",
    "```python\n",
    "# Now we simply call the model on the context\n",
    "logits = model(torch.tensor([block]))\n",
    "# Apply softmax\n",
    "probabilities = F.softmax(logits, dim=1)\n",
    "```"
   ]
  },
  {
   "cell_type": "code",
   "execution_count": 18,
   "id": "4fafb9ff-8d8b-4e37-8edb-8fd8d5db1245",
   "metadata": {},
   "outputs": [
    {
     "name": "stdout",
     "output_type": "stream",
     "text": [
      "pvcgrvloatsayltpegyglhntbttmkotwndch.\n",
      "jpvxzmidcuvnmanf.\n",
      ".\n",
      "bnrkdfkfhvkqjhcypfpfyaqirfsewssnlvjkcgnpjnafof.\n",
      ".\n",
      "vuswvmkdkgxezoplmnkxyuowbdylnxbniapxblxbolfnzrcnyrnlw.\n",
      "dtdcwrkdg.\n",
      "o.\n",
      "lspvrnjxpzrtwqvjlgkdnktvlolscyezaarqinlsxhjivfb.\n",
      ".\n",
      "nvcxzoadxzkcscraufozhphvpabosgnddguifwlhkwle.\n",
      "rmefnadwkulfvudbaibnate.\n",
      ".\n",
      "wsbciikxsvbchwycyhamrkyvcvkjgklmcsyqdtakjufytlule.\n",
      "nbruxkzrqnoutrmgezvrcrsjhidpxhtelbmiqul.\n",
      "sssaeanffthjevnwkrjhavrbxanesphmv.\n",
      "gajcpnutzaknayuficubvnkxzcipzsaivnlcwaeknlkbsyayyurwdtqcjhszdornrwpwdfuqjnrxhxoixioowfsryrurspkmoydimfpkm.\n",
      "dbtfwjzgbepoub.\n",
      "zrvikvshesszgjk.\n",
      "bsqevdukg.\n"
     ]
    }
   ],
   "source": [
    "# We define a Block Size based on the number of characters we feed are going to feed to predict the next one\n",
    "blockSize = 3\n",
    "# We will define a generator to give the same result on your machine, as of my machine\n",
    "numberOfWordsToSample = 20\n",
    "\n",
    "for layer in model.layers:\n",
    "    layer.training = False\n",
    "\n",
    "# We iterate over the number of words we want to predict\n",
    "for _ in range(numberOfWordsToSample):\n",
    "    # We define a output list to append the next character and print it at the end\n",
    "    output = []\n",
    "    # We define the block for each iteration and fill it with 0 values -> [0, 0, 0]\n",
    "    block = [0] * blockSize\n",
    "\n",
    "    # We will now iterate over each word's characters\n",
    "    while True:\n",
    "        # Now we simply call the model on the context\n",
    "        logits = model(torch.tensor([block]))\n",
    "        # Apply softmax\n",
    "        probabilities = F.softmax(logits, dim=1)\n",
    "        # We can now sample the next character\n",
    "        index = torch.multinomial(probabilities, num_samples=1).item()\n",
    "        # We then take the block, crop it 1 size from the left and append the next index to it (sliding window of name)\n",
    "        block = block[1:] + [index]\n",
    "        # We then append the sampled character to the output\n",
    "        output.append(index)\n",
    "        # If we hit '.' end token, we will break out from the loop\n",
    "        if index == 0:\n",
    "            break\n",
    "    # We print generated name out\n",
    "    print(''.join(itos[index] for index in output))"
   ]
  },
  {
   "cell_type": "markdown",
   "id": "f8a5847c-c1fc-4ff8-9888-be80826305f8",
   "metadata": {},
   "source": [
    "Once again, don't sweat on the outputs too much, this was just the first epoch and our neural network is not trained until we remove the `break` in the forward pass."
   ]
  },
  {
   "cell_type": "markdown",
   "id": "7d0a4105-3804-48ba-98e0-a265c1f93e1a",
   "metadata": {},
   "source": [
    "So let's re-run everything without the `break` and see where we are, and check new ways to introduce new ways to improve our code (for this notebook, `WaveNet`."
   ]
  },
  {
   "cell_type": "markdown",
   "id": "6c885de1-0070-4192-ac58-bcc67c813243",
   "metadata": {},
   "source": [
    "## Re-Running *PyTorch-ified* Code"
   ]
  },
  {
   "cell_type": "markdown",
   "id": "8a1b94a6-7ad4-49de-81c9-3bcbbedc77e0",
   "metadata": {
    "jp-MarkdownHeadingCollapsed": true
   },
   "source": [
    "### Modular Block Definition"
   ]
  },
  {
   "cell_type": "code",
   "execution_count": 19,
   "id": "58daadae-5ece-44e6-8cb8-58179d6a7eb3",
   "metadata": {},
   "outputs": [],
   "source": [
    "class Linear:\n",
    "    # Constructor to initialize the weights and biases\n",
    "    def __init__(self, fan_in, fan_out, bias=True):\n",
    "        # We initialize the weights using fan-in and fan-out and use the kaiming initialization which is the square root of fan-in\n",
    "        self.weights = torch.randn((fan_in, fan_out)) / fan_in**0.5\n",
    "        # We initilize the biases using fan-out and set them to 0 values if bias is set to True else we set it to None\n",
    "        self.biases = torch.zeros(fan_out) if bias else None\n",
    "    # Defines how we forward pass these layers which is (y = wx + b)\n",
    "    def __call__(self, inputs):\n",
    "        # (w*x)\n",
    "        self.out = inputs @ self.weights\n",
    "        # Checking if we have a bias\n",
    "        if self.biases is not None:\n",
    "            # (wx) + b\n",
    "            self.out += self.biases\n",
    "        # We return (y = wx + b)\n",
    "        return self.out\n",
    "    # Defines a method to return all the parameters used by this layer\n",
    "    def parameters(self):\n",
    "        # If bias is there return (w*x + b) else return (w*x)\n",
    "        return [self.weights] + ([] if self.biases is None else [self.biases])\n",
    "class BatchNorm1d:\n",
    "    # Constructor to initialize the gain, bias, and the buffers (running mean and running variance) using the dimensions we get\n",
    "    def __init__(self, dimensions, epsilon=1e-5, momentum=0.1, training=True):\n",
    "        self.epsilon = epsilon\n",
    "        self.momentum = momentum\n",
    "        # Parameters using dimensions\n",
    "        # We initialize the gains to 1 values of dimensions\n",
    "        self.gamma = torch.ones(dimensions)\n",
    "        # We initialize the bias to 0 values of dimensions\n",
    "        self.beta = torch.zeros(dimensions)\n",
    "        # Buffers\n",
    "        # We initialize the running mean to 0 values of dimensions\n",
    "        self.running_mean = torch.zeros(dimensions)\n",
    "        # We initialize the running variance to 1 values of dimensions\n",
    "        self.running_variance = torch.ones(dimensions)\n",
    "        # We initialize a checker parameter that checks whether we are training or not (We will discuss this later) \n",
    "        self.training = training\n",
    "    # Forward Pass and Buffer Updation based on the inputs\n",
    "    def __call__(self, inputs):\n",
    "        # Forward Pass\n",
    "        # ------------\n",
    "        # If training is set to true we will calculate the mean and variance estimated from the current batch of inputs\n",
    "        if self.training:\n",
    "            # Initializing mean of current batch of inputs along dimension 0 and keeping the dimensions\n",
    "            input_mean = inputs.mean(0, keepdim=True)\n",
    "            # Initializing variance of current batch of inputs along dimension 0 and keeping the dimensions\n",
    "            input_variance = inputs.var(0, keepdim=True)\n",
    "        # If not training, we will use the running mean and variance of the inputs of the saved values\n",
    "        else:\n",
    "            input_mean = self.running_mean\n",
    "            input_variance = self.running_variance\n",
    "        # We center the inputs around zero and scaling it to have unit variance using the defined formula\n",
    "        unit_variance = (inputs - input_mean) / torch.sqrt(input_variance) + self.epsilon\n",
    "        # After calulating the unit_variance we can perform the operation (y = wx + b) on this layer\n",
    "        self.out = self.gamma * unit_variance + self.beta\n",
    "        # ------------\n",
    "        # Buffer Updation\n",
    "        # ------------\n",
    "        # If training is set to true we will update the running mean and variance estimated from the momentum (without gradient updation)\n",
    "        if self.training:\n",
    "            # We disable gradient updation\n",
    "            with torch.no_grad():\n",
    "                # We perform (batchRunningMean = 0.999 * batchRunningMean + 0.001 * batchMeanAtIteration)\n",
    "                self.running_mean = (1 - self.momentum) * self.running_mean + self.momentum * input_mean\n",
    "                # We perform (batchRunningStandardDeviation = 0.999 * batchRunningStandardDeviation + 0.001 * batchStandardDeviationAtIteration)\n",
    "                self.running_variance = (1 - self.momentum) * self.running_variance + self.momentum * input_variance\n",
    "        # We return the (y = wx + b) after all the calculations are done (if any)\n",
    "        return self.out\n",
    "        # ------------\n",
    "    # Defines a method to return all the parameters used by this layer\n",
    "    def parameters(self):\n",
    "        # We return the parameters (gamma and beta)\n",
    "        return [self.gamma, self.beta]\n",
    "class Tanh:\n",
    "    def __call__(self, inputs):\n",
    "        # Calculates tanh based on the inputs\n",
    "        self.out = torch.tanh(inputs)\n",
    "        return self.out\n",
    "    # Returns an empty list because there are no paramters in this layer\n",
    "    def parameters(self):\n",
    "        return []\n",
    "class Embedding:\n",
    "    # Constructor to initialize the weights of the embedding\n",
    "    def __init__(self, num_embeddings, embedding_dim):\n",
    "        # Initializing the weights of the embedding\n",
    "        self.weights = torch.randn((num_embeddings, embedding_dim))\n",
    "    # The indexing operation in the forward pass : Similar to -> embedding = embeddingLookUpMatrix[inputBatch]\n",
    "    def __call__(self, indexes):\n",
    "        self.out = self.weights[indexes]\n",
    "        return self.out\n",
    "    # Defines a method to return all the parameters used by this layer in a list (weights)\n",
    "    def parameters(self):\n",
    "        return [self.weights]\n",
    "class Flatten:\n",
    "    # Concatenation operation in the forward pass : Similar to -> concatenatedEmbedding = embedding.view(embedding.shape[0], -1)\n",
    "    def __call__(self, inputs):\n",
    "        self.out = inputs.view(inputs.shape[0], -1)\n",
    "        return self.out\n",
    "    # Defines a method to return all the parameters used by this layer in a list (empty list)\n",
    "    def parameters(self):\n",
    "        return []\n",
    "class Sequential:\n",
    "     # Constructor to initialize the layers\n",
    "    def __init__(self, layers):\n",
    "        # Initializing the weights of the embedding\n",
    "        self.layers = layers\n",
    "    # Calling all the layers based on the inputs: Using __call__ for all the layes given all the inputs\n",
    "    def __call__(self, inputs):\n",
    "        for layer in self.layers:\n",
    "            inputs = layer(inputs)\n",
    "        self.out = inputs\n",
    "        return self.out\n",
    "    # Defines a method to return all the parameters used in all the layers in a list\n",
    "    def parameters(self):\n",
    "        return [parameter for layer in self.layers for parameter in layer.parameters()]"
   ]
  },
  {
   "cell_type": "markdown",
   "id": "a814d37f-8c39-4cbf-bea6-abc1ba426b92",
   "metadata": {
    "jp-MarkdownHeadingCollapsed": true
   },
   "source": [
    "### Neural Network Initialization - Weights, Biases & Parameters"
   ]
  },
  {
   "cell_type": "code",
   "execution_count": 20,
   "id": "79d55e37-058a-4258-9ce6-9e76844aab3d",
   "metadata": {},
   "outputs": [
    {
     "name": "stdout",
     "output_type": "stream",
     "text": [
      "Number of parameters: 12124\n"
     ]
    }
   ],
   "source": [
    "# We will define a manual seed to give a similar result on your machine, as of my machine\n",
    "torch.manual_seed(69420)\n",
    "embeddingFeatureSpaceLength = 10\n",
    "numberOfHiddenLayerNeurons = 200\n",
    "\n",
    "# Initializing the layers into a single list called 'layers', stacking them one after another\n",
    "model = Sequential([\n",
    "    Embedding(vocabularySize, embeddingFeatureSpaceLength),\n",
    "    Flatten(),\n",
    "    Linear(embeddingFeatureSpaceLength * blockSize, numberOfHiddenLayerNeurons, bias=False), BatchNorm1d(numberOfHiddenLayerNeurons), Tanh(),\n",
    "    Linear(             numberOfHiddenLayerNeurons,             vocabularySize, bias=False), BatchNorm1d(vocabularySize),\n",
    "])\n",
    "\n",
    "# Disabling Gradient Tracking\n",
    "with torch.no_grad():\n",
    "    # Making the final activation less confident\n",
    "    layers[-1].gamma *= 0.1\n",
    "\n",
    "# We initialize all the parameters\n",
    "parameters = model.parameters()\n",
    "# We check the number of parameters by printing its value\n",
    "print(\"Number of parameters:\", sum(parameter.nelement() for parameter in parameters))\n",
    "# We set 'requires_grad' to True in order to track gradients\n",
    "for parameter in parameters:\n",
    "    parameter.requires_grad = True"
   ]
  },
  {
   "cell_type": "markdown",
   "id": "7c8d99fc-e908-4541-b831-d89b19f73908",
   "metadata": {
    "jp-MarkdownHeadingCollapsed": true
   },
   "source": [
    "### Forward Pass"
   ]
  },
  {
   "cell_type": "code",
   "execution_count": 21,
   "id": "02776706-9a89-41ed-9159-3ba5cc6daa8a",
   "metadata": {},
   "outputs": [
    {
     "name": "stdout",
     "output_type": "stream",
     "text": [
      "      0/ 200000: 3.6497\n",
      "  10000/ 200000: 2.4653\n",
      "  20000/ 200000: 1.6796\n",
      "  30000/ 200000: 2.3646\n",
      "  40000/ 200000: 1.8944\n",
      "  50000/ 200000: 2.0996\n",
      "  60000/ 200000: 1.8235\n",
      "  70000/ 200000: 1.9176\n",
      "  80000/ 200000: 2.2351\n",
      "  90000/ 200000: 2.4220\n",
      " 100000/ 200000: 2.1087\n",
      " 110000/ 200000: 1.5772\n",
      " 120000/ 200000: 1.8115\n",
      " 130000/ 200000: 2.1501\n",
      " 140000/ 200000: 1.6242\n",
      " 150000/ 200000: 1.9227\n",
      " 160000/ 200000: 1.8169\n",
      " 170000/ 200000: 1.6318\n",
      " 180000/ 200000: 1.9186\n",
      " 190000/ 200000: 2.0971\n"
     ]
    }
   ],
   "source": [
    "# We want to track the losses that we use in the training\n",
    "losses = []\n",
    "# We define the number of epochs\n",
    "epochs = 200000\n",
    "# We define the batch size\n",
    "batchSize = 32\n",
    "\n",
    "for i in range(epochs):\n",
    "    # Mini-Batches\n",
    "    indexes = torch.randint(low=0, high=trainingInputs.shape[0], size=(batchSize,))\n",
    "    inputBatch, outputBatch = trainingInputs[indexes], trainingOutputs[indexes]\n",
    "    \n",
    "    # Forward Pass (Mini-Batch)\n",
    "    logits = model(inputBatch)\n",
    "    loss = F.cross_entropy(logits, outputBatch)\n",
    "    # Backward Pass (Mini-Batch)\n",
    "    # We reset the gradients\n",
    "    for parameter in parameters:\n",
    "        parameter.grad = None\n",
    "    loss.backward()\n",
    "\n",
    "    # Update Weights (Mini-Batch)\n",
    "    learning_rate = 0.1 if i < 150000 else 0.01\n",
    "    for parameter in parameters:\n",
    "        parameter.data += -learning_rate * parameter.grad\n",
    "\n",
    "    # Tracking the stats\n",
    "    # We append the losses that we use per iteration\n",
    "    if i % 10000 == 0: \n",
    "        print(f'{i:7d}/{epochs:7d}: {loss.item():.4f}')\n",
    "    losses.append(loss.log10().item()) # We do that to squash the steep curve to a nicer graph"
   ]
  },
  {
   "cell_type": "markdown",
   "id": "0613b8c6-6d47-4c02-8224-63315e08a574",
   "metadata": {
    "jp-MarkdownHeadingCollapsed": true
   },
   "source": [
    "#### Evaluating Losses"
   ]
  },
  {
   "cell_type": "code",
   "execution_count": 22,
   "id": "c2b4b11e-09aa-4aa2-bbea-45435c9693d3",
   "metadata": {},
   "outputs": [
    {
     "name": "stdout",
     "output_type": "stream",
     "text": [
      "Training Loss:1.8957682847976685\n",
      "Validation Loss:1.9175524711608887\n"
     ]
    }
   ],
   "source": [
    "# Decorator for disabling gradient tracking throughout the function underneath\n",
    "@torch.no_grad()\n",
    "def splitLoss(split):\n",
    "    input, output = {\n",
    "        'Training': (trainingInputs, trainingOutputs),\n",
    "        'Validation': (validationInputs, validationOutputs),\n",
    "        'Testing': (testInputs, testOutputs)\n",
    "    }[split]\n",
    "    # Based on the split we can now forward through layers to get the logits\n",
    "    logits = model(input)\n",
    "    loss = F.cross_entropy(logits, output)\n",
    "    print(f\"{split} Loss:{loss.item()}\")\n",
    "# We can then call this method to calculate and print loss\n",
    "splitLoss('Training')\n",
    "splitLoss('Validation')"
   ]
  },
  {
   "cell_type": "markdown",
   "id": "35744a52-ce28-40c8-aee7-aa44c4206b4a",
   "metadata": {},
   "source": [
    "Just for a reminder, let's save the losses so that we can compare them later...\n",
    "\n",
    "For now we get:\n",
    "```python\n",
    "Training Loss:1.8957682847976685\r\n",
    "Validation Loss:1.9175524711608887\n",
    "```"
   ]
  },
  {
   "cell_type": "markdown",
   "id": "6e263760-f057-48c8-9484-4a6b6c55717d",
   "metadata": {
    "jp-MarkdownHeadingCollapsed": true
   },
   "source": [
    "### Sampling from the Neural Network"
   ]
  },
  {
   "cell_type": "code",
   "execution_count": 23,
   "id": "0183d37a-752b-4dad-9d37-0ca08d2a85b8",
   "metadata": {},
   "outputs": [
    {
     "name": "stdout",
     "output_type": "stream",
     "text": [
      "prasenap.\n",
      "saktithrapa.\n",
      "swar.\n",
      "pia.\n",
      "veeran.\n",
      "dhy.\n",
      "haranithusree.\n",
      "sudhandhubh.\n",
      "ridapathini.\n",
      "ummudalan.\n",
      "jaipuswanishani.\n",
      "vasun.\n",
      "swada.\n",
      "yothushan.\n",
      "dheemalaimithasshan.\n",
      "akokilan.\n",
      "tha.\n",
      "prama.\n",
      "nila.\n",
      "divanjalehy.\n"
     ]
    }
   ],
   "source": [
    "# We define a Block Size based on the number of characters we feed are going to feed to predict the next one\n",
    "blockSize = 3\n",
    "# We will define a generator to give the same result on your machine, as of my machine\n",
    "numberOfWordsToSample = 20\n",
    "\n",
    "for layer in model.layers:\n",
    "    layer.training = False\n",
    "\n",
    "# We iterate over the number of words we want to predict\n",
    "for _ in range(numberOfWordsToSample):\n",
    "    # We define a output list to append the next character and print it at the end\n",
    "    output = []\n",
    "    # We define the block for each iteration and fill it with 0 values -> [0, 0, 0]\n",
    "    block = [0] * blockSize\n",
    "\n",
    "    # We will now iterate over each word's characters\n",
    "    while True:\n",
    "        # Now we simply call the model on the context\n",
    "        logits = model(torch.tensor([block]))\n",
    "        # Apply softmax\n",
    "        probabilities = F.softmax(logits, dim=1)\n",
    "        # We can now sample the next character\n",
    "        index = torch.multinomial(probabilities, num_samples=1).item()\n",
    "        # We then take the block, crop it 1 size from the left and append the next index to it (sliding window of name)\n",
    "        block = block[1:] + [index]\n",
    "        # We then append the sampled character to the output\n",
    "        output.append(index)\n",
    "        # If we hit '.' end token, we will break out from the loop\n",
    "        if index == 0:\n",
    "            break\n",
    "    # We print generated name out\n",
    "    print(''.join(itos[index] for index in output))"
   ]
  },
  {
   "cell_type": "markdown",
   "id": "f79afd38-9059-4c56-81b8-aad644533f80",
   "metadata": {
    "jp-MarkdownHeadingCollapsed": true
   },
   "source": [
    "# WaveNet - Overview"
   ]
  },
  {
   "cell_type": "markdown",
   "id": "e90dda5f-23b2-4c0e-a89d-b90b0025c61d",
   "metadata": {},
   "source": [
    "See how are losses, that we got from the above implementation are pretty similar to each other, which means that we are not overfitting too much on this task and we can make additional progress in our performance by scaling up everything and making bigger and deeper."
   ]
  },
  {
   "cell_type": "markdown",
   "id": "287aab79-3ae5-4630-8a56-84a2b93e05b1",
   "metadata": {},
   "source": [
    "Now currently we are using this a version of this architecture:\n",
    "\n",
    "![A Neural Probabilistic Language Model](https://miro.medium.com/v2/resize:fit:1400/1*EqKiy4-6tuLSoPP_kub33Q.png)"
   ]
  },
  {
   "cell_type": "markdown",
   "id": "c51ac8c3-05c6-4674-a407-d3cb485c2687",
   "metadata": {},
   "source": [
    "The problem with this architecture is that, we are crushing may too much information too quickly at the very beginning in a single hidden layer...\n",
    "\n",
    "Which means, that even if we tried to make this network deeper by introducing new hidden layers to the neural network, it would make no sense to miss out on the information that we keep missing out on the *squashed* embeddings of the characters.\n",
    "\n",
    "Instead we would want our network to look a lot more like this paper -><a href=\"https://arxiv.org/abs/1609.03499\">WaveNet: A Generative Model for Raw Audio</a>:\n",
    "![WaveNet: Architecture](ExplanationMedia/Images/Dilated_Masked_Convolutions.png)"
   ]
  },
  {
   "cell_type": "markdown",
   "id": "f68598c3-c900-4c76-8c85-ab20fefeea02",
   "metadata": {},
   "source": [
    "You see how when we are trying to predict the next character in a sequence, it is a function of the *previous* characters that feed in, but these characters are not crushed into a single layer (for which we have a sandwich like our current approach), instead they are crushed slowly.\n",
    "\n",
    "So we take two characters and *fuse* them into a sort of like a **bigram** representation and we do that for all the characters **consecutively**. And then we take the bigrams and *fuse* those bigrams into sort of like a *bi-bigram* 😂 (4 character level chuncks), and then we fuse that again, ultimately creating a *tree-like* hierarchical structure of the neural network and we fuse the information of the previous context **slowly** as we go deeper into the neural network.\n",
    "\n",
    "Now in the WaveNet's case, this is a representation of **Visualization of a stack of dilated causal convolutional layers**.\n",
    "\n",
    "Scared?\n",
    "\n",
    "Don't get scared by the name, the idea behind it is actually very simple, and is an implementation detail to make everything very fast, and we will be discussing it later. But let's just get the basic idea of how this works, which is this *progressive-fusion* of information.\n",
    "\n",
    "Which means that we want to make the neural network deeper, and at each level we want to only fuse two consecutive elements."
   ]
  },
  {
   "cell_type": "markdown",
   "id": "6cd68af9-4579-4524-b336-c51e1b715ea4",
   "metadata": {},
   "source": [
    "Now even though our already implemented network might not give us good results by making it deeper, I want to re-run the network just for the sake of education that we are not missing out on anything by **increasing the `blockSize`** to `8` and save the losses for later comparison...\n",
    "\n",
    "So let's do that now..."
   ]
  },
  {
   "cell_type": "markdown",
   "id": "b675f6c3-4490-45a0-8d0b-f859fa0cb696",
   "metadata": {
    "jp-MarkdownHeadingCollapsed": true
   },
   "source": [
    "## Re-running old neural network with bigger `blockSize`"
   ]
  },
  {
   "cell_type": "markdown",
   "id": "e3076341-e655-4934-819a-217f2405e08d",
   "metadata": {
    "jp-MarkdownHeadingCollapsed": true
   },
   "source": [
    "### Building Dataset"
   ]
  },
  {
   "cell_type": "markdown",
   "id": "c82eb78d-14fa-4c88-876e-1c6a412998b2",
   "metadata": {},
   "source": [
    "Here I changed the code from:\n",
    "```python\n",
    "# We define a Block Size based on the number of characters we feed are going to feed to predict the next one\n",
    "blockSize = 3\n",
    "```\n",
    "To this:\n",
    "```python\n",
    "# We define a Block Size based on the number of characters we feed are going to feed to predict the next one\n",
    "blockSize = 8\n",
    "```"
   ]
  },
  {
   "cell_type": "code",
   "execution_count": 6,
   "id": "b6e2733e-d957-4d12-b59a-eab058d0cd29",
   "metadata": {},
   "outputs": [
    {
     "name": "stdout",
     "output_type": "stream",
     "text": [
      "Total Examples: 53982\n",
      "Training Examples: 43185\n",
      "Validation Examples: 5398\n",
      "Test Examples: 5399\n"
     ]
    }
   ],
   "source": [
    "# We define a Block Size based on the number of characters we feed are going to feed to predict the next one\n",
    "blockSize = 8\n",
    "# Will build the dataset on only the words we take as input\n",
    "def buildDataset(words):\n",
    "    # We define two lists, inputs & outputs, where inputs are our blocks of the block size mentioned above and outputs are the label indexes\n",
    "    inputs , outputs = [], []\n",
    "    # We iterate over each word\n",
    "    for word in words:\n",
    "        # We define the block for each iteration and fill it with 0 values -> [0, 0, 0]\n",
    "        block = [0] * blockSize\n",
    "        # We run another loop for each word's character, here word also needs the ending token '.'\n",
    "        for character in word + '.':\n",
    "            # We take out the index from our look-up table\n",
    "            index = stoi[character]\n",
    "            # We append the input with our block\n",
    "            inputs.append(block)\n",
    "            # We append the output label with out index of the character\n",
    "            outputs.append([index])\n",
    "            # We then take the block, crop it 1 size from the left and append the next index to it (sliding window of name)\n",
    "            block = block[1:] + [index]\n",
    "    # We also convert these inputs and outputs to tensors for neural network processing\n",
    "    inputs = torch.tensor(inputs)\n",
    "    outputs = torch.flatten(torch.tensor(outputs))\n",
    "    # We return the inputs and outputs\n",
    "    return inputs, outputs\n",
    "\n",
    "# We define a manual seed to random\n",
    "random.seed(69)\n",
    "# We shuffle all the words, so that the model receives all kinds of data\n",
    "random.shuffle(words)\n",
    "# We define two number of inputs\n",
    "# We take the number of examples to 80% in the first variable\n",
    "numberOfInputs1 = int(0.8*len(words))\n",
    "# We take the number of examples to 90% in the first variable\n",
    "numberOfInputs2 = int(0.9*len(words))\n",
    "# Inputs and outputs that go till 80% of the examples\n",
    "trainingInputs, trainingOutputs = buildDataset(words[:numberOfInputs1])\n",
    "# Inputs and outputs that start at 80% of the examples and go till 90% of the examples\n",
    "validationInputs, validationOutputs = buildDataset(words[numberOfInputs1:numberOfInputs2])\n",
    "# Inputs and outputs that start at 90% of the examples\n",
    "testInputs, testOutputs = buildDataset(words[numberOfInputs2:])\n",
    "\n",
    "# We can check the numbers\n",
    "print(\"Total Examples:\",len(words)) # 100%\n",
    "print(\"Training Examples:\",len(words[:numberOfInputs1])) # 80%\n",
    "print(\"Validation Examples:\",len(words[numberOfInputs1:numberOfInputs2])) # 10%\n",
    "print(\"Test Examples:\",len(words[numberOfInputs2:])) # 10%"
   ]
  },
  {
   "cell_type": "markdown",
   "id": "45f8ea70-3d47-4334-8304-cd5541d66d8d",
   "metadata": {
    "jp-MarkdownHeadingCollapsed": true
   },
   "source": [
    "### Modular Block Definition"
   ]
  },
  {
   "cell_type": "code",
   "execution_count": 8,
   "id": "0f4dfddb-6743-47c5-abba-913cbdd2664b",
   "metadata": {},
   "outputs": [],
   "source": [
    "class Linear:\n",
    "    # Constructor to initialize the weights and biases\n",
    "    def __init__(self, fan_in, fan_out, bias=True):\n",
    "        # We initialize the weights using fan-in and fan-out and use the kaiming initialization which is the square root of fan-in\n",
    "        self.weights = torch.randn((fan_in, fan_out)) / fan_in**0.5\n",
    "        # We initilize the biases using fan-out and set them to 0 values if bias is set to True else we set it to None\n",
    "        self.biases = torch.zeros(fan_out) if bias else None\n",
    "    # Defines how we forward pass these layers which is (y = wx + b)\n",
    "    def __call__(self, inputs):\n",
    "        # (w*x)\n",
    "        self.out = inputs @ self.weights\n",
    "        # Checking if we have a bias\n",
    "        if self.biases is not None:\n",
    "            # (wx) + b\n",
    "            self.out += self.biases\n",
    "        # We return (y = wx + b)\n",
    "        return self.out\n",
    "    # Defines a method to return all the parameters used by this layer\n",
    "    def parameters(self):\n",
    "        # If bias is there return (w*x + b) else return (w*x)\n",
    "        return [self.weights] + ([] if self.biases is None else [self.biases])\n",
    "class BatchNorm1d:\n",
    "    # Constructor to initialize the gain, bias, and the buffers (running mean and running variance) using the dimensions we get\n",
    "    def __init__(self, dimensions, epsilon=1e-5, momentum=0.1, training=True):\n",
    "        self.epsilon = epsilon\n",
    "        self.momentum = momentum\n",
    "        # Parameters using dimensions\n",
    "        # We initialize the gains to 1 values of dimensions\n",
    "        self.gamma = torch.ones(dimensions)\n",
    "        # We initialize the bias to 0 values of dimensions\n",
    "        self.beta = torch.zeros(dimensions)\n",
    "        # Buffers\n",
    "        # We initialize the running mean to 0 values of dimensions\n",
    "        self.running_mean = torch.zeros(dimensions)\n",
    "        # We initialize the running variance to 1 values of dimensions\n",
    "        self.running_variance = torch.ones(dimensions)\n",
    "        # We initialize a checker parameter that checks whether we are training or not (We will discuss this later) \n",
    "        self.training = training\n",
    "    # Forward Pass and Buffer Updation based on the inputs\n",
    "    def __call__(self, inputs):\n",
    "        # Forward Pass\n",
    "        # ------------\n",
    "        # If training is set to true we will calculate the mean and variance estimated from the current batch of inputs\n",
    "        if self.training:\n",
    "            # Initializing mean of current batch of inputs along dimension 0 and keeping the dimensions\n",
    "            input_mean = inputs.mean(0, keepdim=True)\n",
    "            # Initializing variance of current batch of inputs along dimension 0 and keeping the dimensions\n",
    "            input_variance = inputs.var(0, keepdim=True)\n",
    "        # If not training, we will use the running mean and variance of the inputs of the saved values\n",
    "        else:\n",
    "            input_mean = self.running_mean\n",
    "            input_variance = self.running_variance\n",
    "        # We center the inputs around zero and scaling it to have unit variance using the defined formula\n",
    "        unit_variance = (inputs - input_mean) / torch.sqrt(input_variance) + self.epsilon\n",
    "        # After calulating the unit_variance we can perform the operation (y = wx + b) on this layer\n",
    "        self.out = self.gamma * unit_variance + self.beta\n",
    "        # ------------\n",
    "        # Buffer Updation\n",
    "        # ------------\n",
    "        # If training is set to true we will update the running mean and variance estimated from the momentum (without gradient updation)\n",
    "        if self.training:\n",
    "            # We disable gradient updation\n",
    "            with torch.no_grad():\n",
    "                # We perform (batchRunningMean = 0.999 * batchRunningMean + 0.001 * batchMeanAtIteration)\n",
    "                self.running_mean = (1 - self.momentum) * self.running_mean + self.momentum * input_mean\n",
    "                # We perform (batchRunningStandardDeviation = 0.999 * batchRunningStandardDeviation + 0.001 * batchStandardDeviationAtIteration)\n",
    "                self.running_variance = (1 - self.momentum) * self.running_variance + self.momentum * input_variance\n",
    "        # We return the (y = wx + b) after all the calculations are done (if any)\n",
    "        return self.out\n",
    "        # ------------\n",
    "    # Defines a method to return all the parameters used by this layer\n",
    "    def parameters(self):\n",
    "        # We return the parameters (gamma and beta)\n",
    "        return [self.gamma, self.beta]\n",
    "class Tanh:\n",
    "    def __call__(self, inputs):\n",
    "        # Calculates tanh based on the inputs\n",
    "        self.out = torch.tanh(inputs)\n",
    "        return self.out\n",
    "    # Returns an empty list because there are no paramters in this layer\n",
    "    def parameters(self):\n",
    "        return []\n",
    "class Embedding:\n",
    "    # Constructor to initialize the weights of the embedding\n",
    "    def __init__(self, num_embeddings, embedding_dim):\n",
    "        # Initializing the weights of the embedding\n",
    "        self.weights = torch.randn((num_embeddings, embedding_dim))\n",
    "    # The indexing operation in the forward pass : Similar to -> embedding = embeddingLookUpMatrix[inputBatch]\n",
    "    def __call__(self, indexes):\n",
    "        self.out = self.weights[indexes]\n",
    "        return self.out\n",
    "    # Defines a method to return all the parameters used by this layer in a list (weights)\n",
    "    def parameters(self):\n",
    "        return [self.weights]\n",
    "class Flatten:\n",
    "    # Concatenation operation in the forward pass : Similar to -> concatenatedEmbedding = embedding.view(embedding.shape[0], -1)\n",
    "    def __call__(self, inputs):\n",
    "        self.out = inputs.view(inputs.shape[0], -1)\n",
    "        return self.out\n",
    "    # Defines a method to return all the parameters used by this layer in a list (empty list)\n",
    "    def parameters(self):\n",
    "        return []\n",
    "class Sequential:\n",
    "     # Constructor to initialize the layers\n",
    "    def __init__(self, layers):\n",
    "        # Initializing the weights of the embedding\n",
    "        self.layers = layers\n",
    "    # Calling all the layers based on the inputs: Using __call__ for all the layes given all the inputs\n",
    "    def __call__(self, inputs):\n",
    "        for layer in self.layers:\n",
    "            inputs = layer(inputs)\n",
    "        self.out = inputs\n",
    "        return self.out\n",
    "    # Defines a method to return all the parameters used in all the layers in a list\n",
    "    def parameters(self):\n",
    "        return [parameter for layer in self.layers for parameter in layer.parameters()]"
   ]
  },
  {
   "cell_type": "markdown",
   "id": "cae15697-a9a4-424d-86ef-2f59031ae97d",
   "metadata": {
    "jp-MarkdownHeadingCollapsed": true
   },
   "source": [
    "### Neural Network Initialization - Weights, Biases & Parameters"
   ]
  },
  {
   "cell_type": "markdown",
   "id": "9ae56fd5-e7eb-41bd-b9a2-f6f6cb1002a0",
   "metadata": {},
   "source": [
    "Here I also cleaned the unnecessary `BatchNorm1d(vocabularySize)` layer, because it was not required.\n",
    "\n",
    "In order to change it I had to change the `layers[-1].gamma *= 0.1` to `model.layers[-1].weights *= 0.1` because our last layer is a linear layer and it does not have the `gamma` parameter."
   ]
  },
  {
   "cell_type": "code",
   "execution_count": 9,
   "id": "2e34313c-2868-4d9f-bec2-2d368af8c84a",
   "metadata": {},
   "outputs": [
    {
     "name": "stdout",
     "output_type": "stream",
     "text": [
      "Number of parameters: 22070\n"
     ]
    }
   ],
   "source": [
    "# We will define a manual seed to give a similar result on your machine, as of my machine\n",
    "torch.manual_seed(69420)\n",
    "embeddingFeatureSpaceLength = 10\n",
    "numberOfHiddenLayerNeurons = 200\n",
    "\n",
    "# Initializing the layers into a single list called 'layers', stacking them one after another\n",
    "model = Sequential([\n",
    "    Embedding(vocabularySize, embeddingFeatureSpaceLength),\n",
    "    Flatten(),\n",
    "    Linear(embeddingFeatureSpaceLength * blockSize, numberOfHiddenLayerNeurons, bias=False), BatchNorm1d(numberOfHiddenLayerNeurons), Tanh(),\n",
    "    Linear(             numberOfHiddenLayerNeurons,             vocabularySize, bias=False),\n",
    "])\n",
    "\n",
    "# Disabling Gradient Tracking\n",
    "with torch.no_grad():\n",
    "    # Making the final activation less confident\n",
    "    model.layers[-1].weights *= 0.1\n",
    "\n",
    "# We initialize all the parameters\n",
    "parameters = model.parameters()\n",
    "# We check the number of parameters by printing its value\n",
    "print(\"Number of parameters:\", sum(parameter.nelement() for parameter in parameters))\n",
    "# We set 'requires_grad' to True in order to track gradients\n",
    "for parameter in parameters:\n",
    "    parameter.requires_grad = True"
   ]
  },
  {
   "cell_type": "markdown",
   "id": "f2bfecfb-9f09-45e6-80a3-830fe3a84e9e",
   "metadata": {},
   "source": [
    "We also see that the number of parameters have increased from `12124` to `22070` because there is a lot more context feeding into the network now..."
   ]
  },
  {
   "cell_type": "markdown",
   "id": "1d0a69b1-ce04-4123-98fe-f56e4ba2a61a",
   "metadata": {
    "jp-MarkdownHeadingCollapsed": true
   },
   "source": [
    "### Forward Pass"
   ]
  },
  {
   "cell_type": "code",
   "execution_count": 10,
   "id": "e4c5b86f-8f35-4e58-8c3b-0b59e7a45bc9",
   "metadata": {},
   "outputs": [
    {
     "name": "stdout",
     "output_type": "stream",
     "text": [
      "      0/ 200000: 3.2920\n",
      "  10000/ 200000: 2.4085\n",
      "  20000/ 200000: 2.1335\n",
      "  30000/ 200000: 2.4298\n",
      "  40000/ 200000: 1.9382\n",
      "  50000/ 200000: 1.8395\n",
      "  60000/ 200000: 1.6629\n",
      "  70000/ 200000: 2.1228\n",
      "  80000/ 200000: 2.3765\n",
      "  90000/ 200000: 1.8921\n",
      " 100000/ 200000: 1.6170\n",
      " 110000/ 200000: 1.7706\n",
      " 120000/ 200000: 1.8046\n",
      " 130000/ 200000: 1.7374\n",
      " 140000/ 200000: 1.7751\n",
      " 150000/ 200000: 1.5593\n",
      " 160000/ 200000: 1.7462\n",
      " 170000/ 200000: 1.5239\n",
      " 180000/ 200000: 2.2582\n",
      " 190000/ 200000: 1.9832\n"
     ]
    }
   ],
   "source": [
    "# We want to track the losses that we use in the training\n",
    "losses = []\n",
    "# We define the number of epochs\n",
    "epochs = 200000\n",
    "# We define the batch size\n",
    "batchSize = 32\n",
    "\n",
    "for i in range(epochs):\n",
    "    # Mini-Batches\n",
    "    indexes = torch.randint(low=0, high=trainingInputs.shape[0], size=(batchSize,))\n",
    "    inputBatch, outputBatch = trainingInputs[indexes], trainingOutputs[indexes]\n",
    "    \n",
    "    # Forward Pass (Mini-Batch)\n",
    "    logits = model(inputBatch)\n",
    "    loss = F.cross_entropy(logits, outputBatch)\n",
    "    # Backward Pass (Mini-Batch)\n",
    "    # We reset the gradients\n",
    "    for parameter in parameters:\n",
    "        parameter.grad = None\n",
    "    loss.backward()\n",
    "\n",
    "    # Update Weights (Mini-Batch)\n",
    "    learning_rate = 0.1 if i < 150000 else 0.01\n",
    "    for parameter in parameters:\n",
    "        parameter.data += -learning_rate * parameter.grad\n",
    "\n",
    "    # Tracking the stats\n",
    "    # We append the losses that we use per iteration\n",
    "    if i % 10000 == 0: \n",
    "        print(f'{i:7d}/{epochs:7d}: {loss.item():.4f}')\n",
    "    losses.append(loss.log10().item()) # We do that to squash the steep curve to a nicer graph"
   ]
  },
  {
   "cell_type": "markdown",
   "id": "c422d954-ba39-4c13-9823-32214d56e7c8",
   "metadata": {},
   "source": [
    "#### Evaluating Losses"
   ]
  },
  {
   "cell_type": "code",
   "execution_count": 11,
   "id": "2a705565-3aee-4517-b37c-943e42e89403",
   "metadata": {},
   "outputs": [
    {
     "name": "stdout",
     "output_type": "stream",
     "text": [
      "Training Loss:1.7707616090774536\n",
      "Validation Loss:1.81971275806427\n"
     ]
    }
   ],
   "source": [
    "# Decorator for disabling gradient tracking throughout the function underneath\n",
    "@torch.no_grad()\n",
    "def splitLoss(split):\n",
    "    input, output = {\n",
    "        'Training': (trainingInputs, trainingOutputs),\n",
    "        'Validation': (validationInputs, validationOutputs),\n",
    "        'Testing': (testInputs, testOutputs)\n",
    "    }[split]\n",
    "    # Based on the split we can now forward through layers to get the logits\n",
    "    logits = model(input)\n",
    "    loss = F.cross_entropy(logits, output)\n",
    "    print(f\"{split} Loss:{loss.item()}\")\n",
    "# We can then call this method to calculate and print loss\n",
    "splitLoss('Training')\n",
    "splitLoss('Validation')"
   ]
  },
  {
   "cell_type": "markdown",
   "id": "af712240-7bb1-445c-be35-00d813995ca4",
   "metadata": {},
   "source": [
    "Original Loss:\n",
    "```python\n",
    "Training Loss:1.8957682847976685\n",
    "Validation Loss:1.9175524711608887\n",
    "```\n",
    "\n",
    "Increasing `blockSize` Loss:\n",
    "```python\n",
    "Training Loss:1.7707616090774536\r\n",
    "Validation Loss:1.81971275806427\n",
    "```"
   ]
  },
  {
   "cell_type": "markdown",
   "id": "f62c1026-66df-40b5-b911-0db319b64e98",
   "metadata": {
    "jp-MarkdownHeadingCollapsed": true
   },
   "source": [
    "### Sampling from the Neural Network"
   ]
  },
  {
   "cell_type": "code",
   "execution_count": 12,
   "id": "e6ae43b4-b675-4d04-8e5c-3542d90f1a8f",
   "metadata": {},
   "outputs": [
    {
     "name": "stdout",
     "output_type": "stream",
     "text": [
      "gicharadhan.\n",
      "dupsada.\n",
      "anhiyaa.\n",
      "achen.\n",
      "nikha.\n",
      "advidhi.\n",
      "thanujlyar.\n",
      "arathayan.\n",
      "sheshika.\n",
      "jyotinika.\n",
      "kosaladhasvi.\n",
      "ayarthi.\n",
      "nathina.\n",
      "ralarajan.\n",
      "dhearana.\n",
      "thulasi.\n",
      "maruleen.\n",
      "saaranth.\n",
      "mesilenthan.\n",
      "divashni.\n"
     ]
    }
   ],
   "source": [
    "# We define a Block Size based on the number of characters we feed are going to feed to predict the next one\n",
    "blockSize = 8\n",
    "# We will define a generator to give the same result on your machine, as of my machine\n",
    "numberOfWordsToSample = 20\n",
    "\n",
    "for layer in model.layers:\n",
    "    layer.training = False\n",
    "\n",
    "# We iterate over the number of words we want to predict\n",
    "for _ in range(numberOfWordsToSample):\n",
    "    # We define a output list to append the next character and print it at the end\n",
    "    output = []\n",
    "    # We define the block for each iteration and fill it with 0 values -> [0, 0, 0]\n",
    "    block = [0] * blockSize\n",
    "\n",
    "    # We will now iterate over each word's characters\n",
    "    while True:\n",
    "        # Now we simply call the model on the context\n",
    "        logits = model(torch.tensor([block]))\n",
    "        # Apply softmax\n",
    "        probabilities = F.softmax(logits, dim=1)\n",
    "        # We can now sample the next character\n",
    "        index = torch.multinomial(probabilities, num_samples=1).item()\n",
    "        # We then take the block, crop it 1 size from the left and append the next index to it (sliding window of name)\n",
    "        block = block[1:] + [index]\n",
    "        # We then append the sampled character to the output\n",
    "        output.append(index)\n",
    "        # If we hit '.' end token, we will break out from the loop\n",
    "        if index == 0:\n",
    "            break\n",
    "    # We print generated name out\n",
    "    print(''.join(itos[index] for index in output))"
   ]
  },
  {
   "cell_type": "markdown",
   "id": "4784c9a6-0f5b-4483-a12a-192a34454fde",
   "metadata": {},
   "source": [
    "Seems like we are making progress just by increasing the `blockSize`, but now that we understand that this is still not helping us, let's implement the **WaveNet**."
   ]
  },
  {
   "cell_type": "markdown",
   "id": "e21711e9-92a6-4e28-9cc7-5f622b163c3a",
   "metadata": {
    "jp-MarkdownHeadingCollapsed": true
   },
   "source": [
    "## Implementing **WaveNet**"
   ]
  },
  {
   "cell_type": "markdown",
   "id": "cbde0dd6-4873-4d7d-be78-6ad3e0b1846a",
   "metadata": {
    "jp-MarkdownHeadingCollapsed": true
   },
   "source": [
    "### Idea behind implementing **WaveNet**"
   ]
  },
  {
   "cell_type": "markdown",
   "id": "e34059dc-ee8b-4a24-9eae-f0c565fa6295",
   "metadata": {},
   "source": [
    "Let's take an example and try to work out how we want our **WaveNet** neural network to behave during the forward pass...\n",
    "\n",
    "If we take `4` random indeces from our entire `trainingInputs` dataset, we would generally pick out the indices like:\n",
    "```python\n",
    "indexes = torch.randint(low=0, high=trainingInputs.shape[0], size=(4,))\n",
    "```\n",
    "The code generates a 1-dimensional tensor (`indexes`), where, `low=0` specifies the lowest integer to be generated (inclusive), `high=trainingInputs.shape[0]` specifies the highest integer to be generated (inclusive), `size=(4,)` specifies the size of the output tensor to be generated, which in this case, it's a `1-dimensional tensor` with `4` elements.\n",
    "\n",
    "So if we look at the `indexes` now, we get:\n",
    "```python\n",
    "tensor([185709, 297874,  24823,  11069])\n",
    "```\n",
    "We can now use these `indexes` to get our `examples` for input using:\n",
    "```python\n",
    "inputBatch, outputBatch = trainingInputs[indexes], trainingOutputs[indexes]\n",
    "```\n",
    "Where `inputBatch` and `outputBatch` look like:\n",
    "```python\n",
    "tensor([[ 0,  0,  0,  0,  0,  0,  0,  0],\n",
    "        [ 0,  0,  0,  0,  0,  0,  0,  0],\n",
    "        [ 0,  1,  4, 18,  9, 19,  8, 25],\n",
    "        [ 0,  0,  0,  0, 19,  1,  4,  8]])\n",
    "tensor([19,  8,  1, 21])       \n",
    "```\n",
    "We understand that we can simply now use our already implemented forward pass to forward the model using:\n",
    "```python\n",
    "logits = model(inputBatch)\n",
    "```\n",
    "If we check the shape of our `inputBatch` we get:\n",
    "```python\n",
    "torch.Size([4, 8])\n",
    "```\n",
    "And if we check the shapes of the output of each layer:\n",
    "```python\n",
    "model.layers[0].out.shape # Embedding Layer\n",
    "model.layers[1].out.shape # Flatten Layer\n",
    "model.layers[2].out.shape # Linear Layer\n",
    "```\n",
    "We get:\n",
    "```python\n",
    "torch.Size([4, 8, 10])\n",
    "torch.Size([4, 80])\n",
    "torch.Size([4, 200])\n",
    "```\n",
    "\n",
    "Getting confused?\n",
    "\n",
    "I got you..."
   ]
  },
  {
   "cell_type": "markdown",
   "id": "1ee97f3f-81f4-41c5-a5c2-83f4e772fe37",
   "metadata": {},
   "source": [
    "Let's look at it in an illustrative way:\n",
    "\n",
    "![Before Wave Net](ExplanationMedia/Images/BeforeWaveNetNetwork.png)\n",
    "> If the image is way too small to look at, the images are stored in the ExplanationMedia>Images folder for this repository."
   ]
  },
  {
   "cell_type": "markdown",
   "id": "0d270537-aee2-47e5-aa07-12f58a81e553",
   "metadata": {
    "jp-MarkdownHeadingCollapsed": true
   },
   "source": [
    "#### Understanding Linear Transformation"
   ]
  },
  {
   "cell_type": "markdown",
   "id": "37249c4b-78fc-4ed3-9e06-cea232018295",
   "metadata": {},
   "source": [
    "Let's understand how the linear transformation inside our `Linear Layer` happens for our small example...\n",
    "\n",
    "If we look back at our modular block for `__call__()` for our `Linear` module, we have:\n",
    "```python\n",
    "# Defines how we forward pass these layers which is (y = wx + b)\n",
    "def __call__(self, inputs):\n",
    "    # (w*x)\n",
    "    self.out = inputs @ self.weights\n",
    "    # Checking if we have a bias\n",
    "    if self.biases is not None:\n",
    "        # (wx) + b\n",
    "        self.out += self.biases\n",
    "    # We return (y = wx + b)\n",
    "    return self.out\n",
    "```\n",
    "\n",
    "It looks something like this:\n",
    "```python\n",
    "torch.randn(4, 80) @ torch.randn(80, 200) + torch.randn(200)\n",
    "```\n",
    "\n",
    "$$\n",
    "\\underbrace{\\underbrace{\\text{torch.randn(4, 80)} @ \\text{torch.randn(80, 200)}}_{\\text{[4, 200]}} + \\text{torch.randn(200)}}_{\\text{[4, 200]}}\n",
    "$$"
   ]
  },
  {
   "cell_type": "markdown",
   "id": "4e059640-f952-474e-8c4f-999028b0cab6",
   "metadata": {},
   "source": [
    "Now let me show you something pretty interesting...\n",
    "\n",
    "This same **multiplication** doesn't have to be 2-dimensional. The matrix multiplication operator in PyTorch ($@$) is quite powerful. In face, we can actually pass higer dimensional tensors and everything works just fine.\n",
    "\n",
    "For example, the same line could be used to pass higher dimensional tensors:\n",
    "```python\n",
    "(torch.randn(4, 5, 80) @ torch.randn(80, 200) + torch.randn(200)).shape\n",
    "```\n",
    "And we get:\n",
    "```python\n",
    "torch.Size([4, 5, 200])\n",
    "```\n",
    "And again\n",
    "```python\n",
    "(torch.randn(4, 5, 2, 80) @ torch.randn(80, 200) + torch.randn(200)).shape\n",
    "```\n",
    "And we get:\n",
    "```python\n",
    "torch.Size([4, 5, 2, 200])\n",
    "```\n",
    "And suddenly we see the pattern that, the matrix multiplication operator ($@$) only works on the last dimension, which in our case is `80` and the dimensions specified before it are left unchanged and treated as batch dimensions. In other words, we can have multiple batch dimensions and in parallel over all those dimensions, we end up doing the matrix multiplication over the last dimension.\n",
    "\n",
    "Suddenly this becomes very convenient because, we can now use that in our neural network now...\n"
   ]
  },
  {
   "cell_type": "markdown",
   "id": "441948dc-9b4c-494e-82cd-b0605cd6f74c",
   "metadata": {},
   "source": [
    "Remember how we had our block of `8` characters coming in as an input for a single example?\n",
    "```python\n",
    "A B C D E F G H\n",
    "```\n",
    "It gets flattened out into a large vector. Instead we want to group these:\n",
    "```python\n",
    "(A B) (C D) (E F) (G H)\n",
    "```\n",
    "Which effectively means, all of these characters need to be flattened out in **parallel** and then multiplied by a weight matrix. Which leads us to introduce a batch dimension.\n",
    "\n",
    "So, we want to process all of these **bigram groups** in the `4` batch dimensions of an individual example, and also over the actual batch of all the examples...\n",
    "\n",
    "So let's see how that works..."
   ]
  },
  {
   "cell_type": "markdown",
   "id": "b4fea05a-7898-4ee4-af6e-8ef06bd2bf3a",
   "metadata": {},
   "source": [
    "Right now what happens in our example is:\n",
    "```python\n",
    "torch.randn(4, 80) @ torch.randn(80, 200) + torch.randn(200)\n",
    "```\n",
    "\n",
    "$$\n",
    "\\underbrace{\\text{torch.randn(4, 80)}}_{\\text{Input Examples}} \\text{ @ } \\underbrace{\\text{torch.randn(80, 200)}}_{\\text{Weights}} + \\text{torch.randn(200)}\n",
    "$$\n",
    "\n",
    "1. We don't want a `(4, 80)` tensor now. We rather want a tensor which separates flattened out embeddings into groups for `4` bigrams now. Which means we want something like a `(4, 4, 20)`. (`4` examples of `4` bigram groups, each one having a `10` dimensional embedding)\n",
    "2. Now because we discussed that the matrix multiplication only works on the last dimension, so instead of having a weights matrix of `(80, 200)` we will now have a weights matrix of `(20, 200)`\n",
    "\n",
    "Which effectively tells us, instead of having a line like this during the linear transformation:\n",
    "```python\n",
    "torch.randn(4, 80) @ torch.randn(80, 200) + torch.randn(200)\n",
    "```\n",
    "We would have an expression of something like this:\n",
    "```python\n",
    "torch.randn(4, 4, 20) @ torch.randn(20, 200) + torch.randn(200)\n",
    "```\n",
    "\n",
    "Which tells us to change the `Flatten Layer` such that it outputs a `(4, 4, 20)` instead of a `(4, 80)` tensor (Similar to a concatenation operation)...\n",
    "\n",
    "So let's do that..."
   ]
  },
  {
   "cell_type": "markdown",
   "id": "0d55fe3f-3c87-4c8c-a151-a6c161203b72",
   "metadata": {
    "jp-MarkdownHeadingCollapsed": true
   },
   "source": [
    "#### Understanding Flatten Transformation"
   ]
  },
  {
   "cell_type": "markdown",
   "id": "d49428e5-d6ed-47a8-9832-0eebc69d3220",
   "metadata": {},
   "source": [
    "Let's understand what happens to the inputs before and after the `Flatten Layer`.\n",
    "\n",
    "If we look back at our modular block for `__call__()` for our `Flatten` module, we have:\n",
    "```python\n",
    "# Concatenation operation in the forward pass : Similar to -> concatenatedEmbedding = embedding.view(embedding.shape[0], -1)\n",
    "def __call__(self, inputs):\n",
    "    self.out = inputs.view(inputs.shape[0], -1)\n",
    "    return self.out\n",
    "```\n",
    "It looks something like this:\n",
    "```python\n",
    "inputsBeforeFlatten = torch.randn([4, 8, 10])\n",
    "inputsAfterFlatten = inputsBeforeFlatten.view(inputsBeforeFlatten.shape[0], -1)\n",
    "```\n",
    "$$\n",
    "\\underbrace{\\text{inputsAfterFlatten}}_{\\text{[4, 80]}} = \\underbrace{\\text{inputsBeforeFlatten}}_{\\text{[4, 8, 10]}}\\text{.view(inputsBeforeFlatten.shape[0], -1)}\n",
    "$$"
   ]
  },
  {
   "cell_type": "markdown",
   "id": "10157f46-b2f8-4834-8813-cfe380e0a952",
   "metadata": {},
   "source": [
    "Now let me show you something interesting once again...\n",
    "\n",
    "Let's take for example `10` numbers like this:\n",
    "```python\n",
    "torch.arange(10)\n",
    "```\n",
    "So we get something like this:\n",
    "```python\n",
    "tensor([0, 1, 2, 3, 4, 5, 6, 7, 8, 9])\n",
    "```\n",
    "If you remember *slicing* in python correctly you'd probably remember that we can slice the even parts in the steps of `2` like this:\n",
    "```python\n",
    "torch.arange(10)[::2]\n",
    "```\n",
    "To get:\n",
    "```python\n",
    "tensor([0, 2, 4, 6, 8])\n",
    "```\n",
    "And we get all the odd parts in the steps of `2` starting at `1`, like this:\n",
    "```python\n",
    "torch.arange(10)[1::2]\n",
    "```\n",
    "To get:\n",
    "```python\n",
    "tensor([1, 3, 5, 7, 9])\n",
    "```\n",
    "Remembering this, we can now use this in our logic..."
   ]
  },
  {
   "cell_type": "markdown",
   "id": "a9a39d88-2792-440d-a38b-fdca7260c20a",
   "metadata": {},
   "source": [
    "Remember how we want our `Flatten Layer` to output a `(4, 4, 20)` tensor instead of a `(4, 80)` tensor when it gets an input of `(4, 8, 10)` tensor?\n",
    "\n",
    "In other words,\\\n",
    "The inputs for this *toy* example are `4` examples of `8` characters in a block, each one having a `10` dimensional embedding. \\\n",
    "Which instead of having each of these `4` examples stretching their corresponding `10` dimensional embeddings without any bigram groups into a single row, \\\n",
    "we now want an output tensor with `4` examples of `4` bigram groups, each one having a `20` dimensional embedding.\n",
    "\n",
    "\n",
    "So what better way is it to use our old *odd and even* slicing trick to pick out the `odd` characters in a block and `even` characters in a block like this:\n",
    "```python\n",
    "inputsBeforeFlatten[:, ::2, :], inputsBeforeFlatten[:, 1::2, :] \n",
    "```\n",
    "$$\n",
    "\\underbrace{inputsBeforeFlatten[:, ::2, :]}_{Even Parts}, \\underbrace{inputsBeforeFlatten[:, 1::2, :]}_{Odd Parts}\n",
    "$$\n",
    "Which essentially does something like this for each example:\n",
    "```python\n",
    "example = ['A', 'I', 'N', 'D', 'R', 'I', 'L', 'A']\n",
    "\n",
    "oddParts = ['I', 'D', 'I', 'A']\n",
    "evenParts = ['A', 'N', 'R', 'L']\n",
    "```"
   ]
  },
  {
   "cell_type": "markdown",
   "id": "c6f94378-6a72-4caa-a9e9-e15b0dccc772",
   "metadata": {},
   "source": [
    "We now understand that each of these characters have their own `10` dimensional embeddings.\n",
    "\n",
    "And we can now use these odd parts and even parts to separate out the characters and use them as groups of two in parallel by using a concatenation operation along the dimension of the embeddings (which is `2`), like this:\n",
    "```python\n",
    "outputsAfterFlatten = torch.cat((inputsBeforeFlatten[:, ::2, :], inputsBeforeFlatten[:, 1::2, :]), dim=2)\n",
    "```\n",
    "Which gives us an output like this:\n",
    "```python\n",
    "# Resulting tensor\n",
    "tensor([[[*, *, *, *, *, *, *, *, *, *],  # 'A' embedding (evem)\n",
    "         [*, *, *, *, *, *, *, *, *, *],  # 'N' embedding (even)\n",
    "         [*, *, *, *, *, *, *, *, *, *],  # 'R' embedding (even)\n",
    "         [*, *, *, *, *, *, *, *, *, *],  # 'L' embedding (even)\n",
    "         [*, *, *, *, *, *, *, *, *, *],  # 'I' embedding (odd)\n",
    "         [*, *, *, *, *, *, *, *, *, *],  # 'D' embedding (odd)\n",
    "         [*, *, *, *, *, *, *, *, *, *],  # 'I' embedding (odd)\n",
    "         [*, *, *, *, *, *, *, *, *, *]], # 'A' embedding (odd)\n",
    "        [[...]], # Example 2\n",
    "        [[...]], # Example 3\n",
    "        [[...]]  # Example 4\n",
    "       ])\n",
    "```"
   ]
  },
  {
   "cell_type": "markdown",
   "id": "3284adc4-af29-48af-b644-77ba887e1a07",
   "metadata": {},
   "source": [
    "Remember, this may not look like the ideal thing like the diagram we saw earlier for **WaveNet**, but we want something to act like a bigram group for all the examples in parallel. And this is the kind of output that we want.\n",
    "\n",
    "But it also turns out that we can do the exactly same thing with `view()` from PyTorch and get the same shape we have now if we request the shape to be from `(4, 8, 10)` to `(4, 4, 20)`, like this:\n",
    "```python\n",
    "inputsBeforeFlatten = torch.randn([4, 8, 10]) # (4 examples of 8 characters in a block, each one having a 10 dimensional embedding)\n",
    "outputsAfterFlatten = inputsBeforeFlatten.view(4, 4, 20) # (4 examples of 4 bigram groups, each group having a concatenated 20 dimensional embedding)\n",
    "```\n",
    "So now we can check `inputsAfterFlatten == outputsAfterFlatten` we want to check if they are the same, **element wise**, otherwise we can check using \n",
    "`torch.all(input) → Tensor` (which tests if all elements in `input` evaluate to `True`), like this:\n",
    "```python\n",
    "(inputsAfterFlatten == outputsAfterFlatten).all()\n",
    "```\n",
    "We get:\n",
    "```python\n",
    "tensor(True)\n",
    "```"
   ]
  },
  {
   "cell_type": "markdown",
   "id": "97b7b0cd-c8e4-40b6-8b14-a201240b569e",
   "metadata": {},
   "source": [
    "So long story short, we can simple use `view()` from PyTorch to change the tensor to whatever way we want it to be...\n",
    "\n",
    "For now we want out initialize a `groups` inside `Flatten`. But the moment we do this we start to depart from the original implementation of `TORCH.FLATTEN` from PyTorch. So it's better to use a different name for the module like `ConsecutiveFlatten` that flattens only the *consecutive* elements based on `groups`.\n",
    "\n",
    "Here's the original `Flatten` from PyTorch as a reminder:\n",
    "```python\n",
    "torch.flatten(input, start_dim=0, end_dim=-1) → Tensor\n",
    "```\n",
    "**Parameters**:\n",
    "- **input** (`Tensor`) – the input tensor.\n",
    "- **start_dim** (`int`) – the first dim to flatten\n",
    "- **end_dim** (`int`) – the last dim to flatten"
   ]
  },
  {
   "cell_type": "markdown",
   "id": "ca87356c-515e-4e73-86e2-d72d6bf01b22",
   "metadata": {},
   "source": [
    "Now, we want our `ConsecutiveFlatten` to use these `groups` parameter to calculate a lot of things.\n",
    "\n",
    "Remember how for our *toy* example, the inputs of `(4, 8, 10)` become outputs of `(4, 4, 20)`?\n",
    "\n",
    "We can now use these `groups` to calculate the other dimensions as well for the outputs like this:\\\n",
    "Assuming that we need groups of `2` we can now determine:\n",
    "$$\n",
    "\\displaylines{\n",
    "\\text{If, groups} = 2 \\\\\n",
    "(4, 4, 20) \\implies (4, \\frac{8}{groups}, 10 * groups) \\\\\n",
    "(4, 4, 20) \\implies (4, -1, 10 * groups)\n",
    "}\n",
    "$$\n",
    "Here `-1` is to automatically determine the bigram groups of outputs. But I like to see error messages, and rather don't like the use of `-1`, so I'd rather leave the implementation to $\\frac{8}{groups}$...\n",
    "\n",
    "But once again $\\frac{8}{groups}$ can create problems in further layers...\n",
    "\n",
    "How so? Let's take an example:\n",
    "\n",
    "Suppose we have an input of say size `(2, 2, 4)` and we specify the groups to be `2`, then:\n",
    "$$\n",
    "\\displaylines{\n",
    "\\text{If, groups} = 2 \\\\\n",
    "(2, \\frac{2}{groups}, 4 * groups) \\implies (2, 1, 8)\n",
    "}\n",
    "$$\n",
    "See how we can get a *spurious* dimension `1` as an output? Sending this as an input to the next layer can create performance problems to further calculate and index into the tensor. So we need to have a `torch.squeeze()` to squeeze out dimensions with `1`, but once again we want to be as specific as possible, so we would specify the exact dimension that is creating the problem in the first place, which is `1`...\n",
    "\n",
    "So we can now move ahead and modify our `Flatten` to make it `ConsecutiveFlatten` now..."
   ]
  },
  {
   "cell_type": "markdown",
   "id": "5d73381b-b68a-4964-b79b-80dad421ca19",
   "metadata": {
    "jp-MarkdownHeadingCollapsed": true
   },
   "source": [
    "#### Editing Modular Block `Flatten` to make it `ConsecutiveFlatten`"
   ]
  },
  {
   "cell_type": "code",
   "execution_count": 7,
   "id": "dd6e248b-0547-4b9e-a226-76a966d7e9a4",
   "metadata": {},
   "outputs": [],
   "source": [
    "class Linear:\n",
    "    # Constructor to initialize the weights and biases\n",
    "    def __init__(self, fan_in, fan_out, bias=True):\n",
    "        # We initialize the weights using fan-in and fan-out and use the kaiming initialization which is the square root of fan-in\n",
    "        self.weights = torch.randn((fan_in, fan_out)) / fan_in**0.5\n",
    "        # We initilize the biases using fan-out and set them to 0 values if bias is set to True else we set it to None\n",
    "        self.biases = torch.zeros(fan_out) if bias else None\n",
    "    # Defines how we forward pass these layers which is (y = wx + b)\n",
    "    def __call__(self, inputs):\n",
    "        # (w*x)\n",
    "        self.out = inputs @ self.weights\n",
    "        # Checking if we have a bias\n",
    "        if self.biases is not None:\n",
    "            # (wx) + b\n",
    "            self.out += self.biases\n",
    "        # We return (y = wx + b)\n",
    "        return self.out\n",
    "    # Defines a method to return all the parameters used by this layer\n",
    "    def parameters(self):\n",
    "        # If bias is there return (w*x + b) else return (w*x)\n",
    "        return [self.weights] + ([] if self.biases is None else [self.biases])\n",
    "class BatchNorm1d:\n",
    "    # Constructor to initialize the gain, bias, and the buffers (running mean and running variance) using the dimensions we get\n",
    "    def __init__(self, dimensions, epsilon=1e-5, momentum=0.1, training=True):\n",
    "        self.epsilon = epsilon\n",
    "        self.momentum = momentum\n",
    "        # Parameters using dimensions\n",
    "        # We initialize the gains to 1 values of dimensions\n",
    "        self.gamma = torch.ones(dimensions)\n",
    "        # We initialize the bias to 0 values of dimensions\n",
    "        self.beta = torch.zeros(dimensions)\n",
    "        # Buffers\n",
    "        # We initialize the running mean to 0 values of dimensions\n",
    "        self.running_mean = torch.zeros(dimensions)\n",
    "        # We initialize the running variance to 1 values of dimensions\n",
    "        self.running_variance = torch.ones(dimensions)\n",
    "        # We initialize a checker parameter that checks whether we are training or not (We will discuss this later) \n",
    "        self.training = training\n",
    "    # Forward Pass and Buffer Updation based on the inputs\n",
    "    def __call__(self, inputs):\n",
    "        # Forward Pass\n",
    "        # ------------\n",
    "        # If training is set to true we will calculate the mean and variance estimated from the current batch of inputs\n",
    "        if self.training:\n",
    "            # Initializing mean of current batch of inputs along dimension 0 and keeping the dimensions\n",
    "            input_mean = inputs.mean(0, keepdim=True)\n",
    "            # Initializing variance of current batch of inputs along dimension 0 and keeping the dimensions\n",
    "            input_variance = inputs.var(0, keepdim=True)\n",
    "        # If not training, we will use the running mean and variance of the inputs of the saved values\n",
    "        else:\n",
    "            input_mean = self.running_mean\n",
    "            input_variance = self.running_variance\n",
    "        # We center the inputs around zero and scaling it to have unit variance using the defined formula\n",
    "        unit_variance = (inputs - input_mean) / torch.sqrt(input_variance) + self.epsilon\n",
    "        # After calulating the unit_variance we can perform the operation (y = wx + b) on this layer\n",
    "        self.out = self.gamma * unit_variance + self.beta\n",
    "        # ------------\n",
    "        # Buffer Updation\n",
    "        # ------------\n",
    "        # If training is set to true we will update the running mean and variance estimated from the momentum (without gradient updation)\n",
    "        if self.training:\n",
    "            # We disable gradient updation\n",
    "            with torch.no_grad():\n",
    "                # We perform (batchRunningMean = 0.999 * batchRunningMean + 0.001 * batchMeanAtIteration)\n",
    "                self.running_mean = (1 - self.momentum) * self.running_mean + self.momentum * input_mean\n",
    "                # We perform (batchRunningStandardDeviation = 0.999 * batchRunningStandardDeviation + 0.001 * batchStandardDeviationAtIteration)\n",
    "                self.running_variance = (1 - self.momentum) * self.running_variance + self.momentum * input_variance\n",
    "        # We return the (y = wx + b) after all the calculations are done (if any)\n",
    "        return self.out\n",
    "        # ------------\n",
    "    # Defines a method to return all the parameters used by this layer\n",
    "    def parameters(self):\n",
    "        # We return the parameters (gamma and beta)\n",
    "        return [self.gamma, self.beta]\n",
    "class Tanh:\n",
    "    def __call__(self, inputs):\n",
    "        # Calculates tanh based on the inputs\n",
    "        self.out = torch.tanh(inputs)\n",
    "        return self.out\n",
    "    # Returns an empty list because there are no paramters in this layer\n",
    "    def parameters(self):\n",
    "        return []\n",
    "class Embedding:\n",
    "    # Constructor to initialize the weights of the embedding\n",
    "    def __init__(self, num_embeddings, embedding_dim):\n",
    "        # Initializing the weights of the embedding\n",
    "        self.weights = torch.randn((num_embeddings, embedding_dim))\n",
    "    # The indexing operation in the forward pass : Similar to -> embedding = embeddingLookUpMatrix[inputBatch]\n",
    "    def __call__(self, indexes):\n",
    "        self.out = self.weights[indexes]\n",
    "        return self.out\n",
    "    # Defines a method to return all the parameters used by this layer in a list (weights)\n",
    "    def parameters(self):\n",
    "        return [self.weights]\n",
    "class ConsecutiveFlatten:\n",
    "     # Constructor to initialize the number of groups\n",
    "    def __init__(self, groups):\n",
    "        # Initializing the groups \n",
    "        self.groups = groups\n",
    "    # Concatenation operation in the forward pass : Flatten in groups\n",
    "    def __call__(self, inputs):\n",
    "        # Takes out each dimension from the inputs\n",
    "        batch, charactersInBlock, embeddings = inputs.shape\n",
    "        # Views as the desired group size\n",
    "        outputs = inputs.view(batch, charactersInBlock//self.groups, embeddings*self.groups)\n",
    "        # Checks if dimension 1 creates a spurious dimension\n",
    "        if outputs.shape[1] == 1:\n",
    "            # Squeezes out the dimension 1 to keep it from creating a spurious dimension\n",
    "            outputs = outputs.squeeze(dim=1)\n",
    "        self.out = outputs\n",
    "        return self.out\n",
    "    # Defines a method to return all the parameters used by this layer in a list (empty list)\n",
    "    def parameters(self):\n",
    "        return []\n",
    "class Sequential:\n",
    "     # Constructor to initialize the layers\n",
    "    def __init__(self, layers):\n",
    "        # Initializing the weights of the embedding\n",
    "        self.layers = layers\n",
    "    # Calling all the layers based on the inputs: Using __call__ for all the layes given all the inputs\n",
    "    def __call__(self, inputs):\n",
    "        for layer in self.layers:\n",
    "            inputs = layer(inputs)\n",
    "        self.out = inputs\n",
    "        return self.out\n",
    "    # Defines a method to return all the parameters used in all the layers in a list\n",
    "    def parameters(self):\n",
    "        return [parameter for layer in self.layers for parameter in layer.parameters()]"
   ]
  },
  {
   "cell_type": "markdown",
   "id": "ab7b1b82-2baf-48d7-ade6-6eede65a2e63",
   "metadata": {},
   "source": [
    "We can now test it out on our *toy* example:"
   ]
  },
  {
   "cell_type": "markdown",
   "id": "fd491b57-ac9f-4063-9ff9-5a7435f7ae03",
   "metadata": {
    "jp-MarkdownHeadingCollapsed": true
   },
   "source": [
    "#### Testing `ConsecutiveFlatten` on our *toy-example*"
   ]
  },
  {
   "cell_type": "markdown",
   "id": "63ddd782-f14d-419c-97bb-c7f43410cae0",
   "metadata": {},
   "source": [
    "Remember, for now we will keep the `groups` to current `blockSize`, because we understand that taking the groups of the maximum number the group can have divides the groups to individual elements, ultimately recalling the previous behaviour for our case..."
   ]
  },
  {
   "cell_type": "code",
   "execution_count": 15,
   "id": "b51641e6-114c-46a2-9bb5-23de6d1f5a5c",
   "metadata": {},
   "outputs": [
    {
     "name": "stdout",
     "output_type": "stream",
     "text": [
      "Number of parameters: 22070\n"
     ]
    }
   ],
   "source": [
    "# We will define a manual seed to give a similar result on your machine, as of my machine\n",
    "torch.manual_seed(69420)\n",
    "embeddingFeatureSpaceLength = 10\n",
    "numberOfHiddenLayerNeurons = 200\n",
    "\n",
    "# Initializing the layers into a single list called 'layers', stacking them one after another\n",
    "model = Sequential([\n",
    "    Embedding(vocabularySize, embeddingFeatureSpaceLength),\n",
    "    ConsecutiveFlatten(groups=blockSize),\n",
    "    Linear(embeddingFeatureSpaceLength * blockSize, numberOfHiddenLayerNeurons, bias=False), BatchNorm1d(numberOfHiddenLayerNeurons), Tanh(),\n",
    "    Linear(             numberOfHiddenLayerNeurons,             vocabularySize, bias=False),\n",
    "])\n",
    "\n",
    "# Disabling Gradient Tracking\n",
    "with torch.no_grad():\n",
    "    # Making the final activation less confident\n",
    "    model.layers[-1].weights *= 0.1\n",
    "\n",
    "# We initialize all the parameters\n",
    "parameters = model.parameters()\n",
    "# We check the number of parameters by printing its value\n",
    "print(\"Number of parameters:\", sum(parameter.nelement() for parameter in parameters))\n",
    "# We set 'requires_grad' to True in order to track gradients\n",
    "for parameter in parameters:\n",
    "    parameter.requires_grad = True"
   ]
  },
  {
   "cell_type": "code",
   "execution_count": 16,
   "id": "364759a6-c8e0-4b8b-813f-76398853adf1",
   "metadata": {},
   "outputs": [
    {
     "name": "stdout",
     "output_type": "stream",
     "text": [
      "torch.Size([4, 8])\n"
     ]
    },
    {
     "data": {
      "text/plain": [
       "tensor([[ 0,  0,  0,  0,  0,  0,  0,  0],\n",
       "        [ 0,  0,  0,  0,  0,  0,  0, 11],\n",
       "        [ 0,  0,  0,  0,  0,  7, 15,  7],\n",
       "        [ 0,  0,  0,  0,  0,  0,  0, 16]])"
      ]
     },
     "execution_count": 16,
     "metadata": {},
     "output_type": "execute_result"
    }
   ],
   "source": [
    "indexes = torch.randint(low=0, high=trainingInputs.shape[0], size=(4,))\n",
    "inputBatch, outputBatch = trainingInputs[indexes], trainingOutputs[indexes]\n",
    "logits = model(inputBatch)\n",
    "print(inputBatch.shape)\n",
    "inputBatch"
   ]
  },
  {
   "cell_type": "markdown",
   "id": "b6edf70b-d077-4d92-9bf5-ce890033e8bb",
   "metadata": {},
   "source": [
    "I have also added a small code snippet to check the shapes of the outputs after each layer:"
   ]
  },
  {
   "cell_type": "code",
   "execution_count": 17,
   "id": "f04549ff-5faf-4634-9129-46c596f9ed8e",
   "metadata": {},
   "outputs": [
    {
     "name": "stdout",
     "output_type": "stream",
     "text": [
      "Embedding : torch.Size([4, 8, 10])\n",
      "ConsecutiveFlatten : torch.Size([4, 80])\n",
      "Linear : torch.Size([4, 200])\n",
      "BatchNorm1d : torch.Size([4, 200])\n",
      "Tanh : torch.Size([4, 200])\n",
      "Linear : torch.Size([4, 27])\n"
     ]
    }
   ],
   "source": [
    "for layer in model.layers:\n",
    "    print(layer.__class__.__name__, \":\", layer.out.shape)"
   ]
  },
  {
   "cell_type": "markdown",
   "id": "7c1bd8e1-9d7a-4c78-89a4-7385698707e5",
   "metadata": {},
   "source": [
    "We see that the shapes work out fine after every single layer and its output...\n",
    "\n",
    "Now, let's try to restructure the layer initialization for the `model` and instead of keeping `groups` to current `blockSize`, let's keep it in groups of `2` such that we can have the hierarchy we expect from the very first intention of the **WaveNet**...\n",
    "\n",
    "But now we have to also be careful because, simply specifying groups of `ConsecutiveFlatten` might change the inputs of `Linear` as well, because right now we if we feed in a `4, 4, 20` output of `ConsecutiveFlatten` to a `Linear` layer that expects the inputs of size `embeddingFeatureSpaceLength * blockSize` which evaluates to `80`, its not going to work out...\n",
    "\n",
    "Instead, we need to modify these `fan-in`s of the `Linear` layers to be `embeddingFeatureSpaceLength * groups` which evaluates to a concatenated `20` dimensional embedding as an input for the first layer, and the later `Linear` layers to be `numberOfHiddenLayerNeurons * groups` to do the similar operation...\n",
    "\n",
    "After we have these implemented, we can now chain these entire layers just fine...\n",
    "\n",
    "So let's do this now:"
   ]
  },
  {
   "cell_type": "code",
   "execution_count": 18,
   "id": "9ba63706-88c4-4d32-9648-0c2a7417a96a",
   "metadata": {},
   "outputs": [
    {
     "name": "stdout",
     "output_type": "stream",
     "text": [
      "Number of parameters: 170870\n"
     ]
    }
   ],
   "source": [
    "# We will define a manual seed to give a similar result on your machine, as of my machine\n",
    "torch.manual_seed(69420)\n",
    "embeddingFeatureSpaceLength = 10\n",
    "numberOfHiddenLayerNeurons = 200\n",
    "groups = 2\n",
    "\n",
    "# Initializing the layers into a single list called 'layers', stacking them one after another\n",
    "model = Sequential([\n",
    "    Embedding(vocabularySize, embeddingFeatureSpaceLength),\n",
    "    # Bigram Flatten\n",
    "    ConsecutiveFlatten(groups=groups), Linear(embeddingFeatureSpaceLength * groups, numberOfHiddenLayerNeurons, bias=False), BatchNorm1d(numberOfHiddenLayerNeurons), Tanh(),\n",
    "    # Bi-bigram Flatten\n",
    "    ConsecutiveFlatten(groups=groups), Linear(numberOfHiddenLayerNeurons * groups, numberOfHiddenLayerNeurons, bias=False), BatchNorm1d(numberOfHiddenLayerNeurons), Tanh(),\n",
    "    # Bi-Bi-bigram Flatten\n",
    "    ConsecutiveFlatten(groups=groups), Linear(numberOfHiddenLayerNeurons * groups, numberOfHiddenLayerNeurons, bias=False), BatchNorm1d(numberOfHiddenLayerNeurons), Tanh(),\n",
    "    Linear(numberOfHiddenLayerNeurons, vocabularySize, bias=False),\n",
    "])\n",
    "\n",
    "# Disabling Gradient Tracking\n",
    "with torch.no_grad():\n",
    "    # Making the final activation less confident\n",
    "    model.layers[-1].weights *= 0.1\n",
    "\n",
    "# We initialize all the parameters\n",
    "parameters = model.parameters()\n",
    "# We check the number of parameters by printing its value\n",
    "print(\"Number of parameters:\", sum(parameter.nelement() for parameter in parameters))\n",
    "# We set 'requires_grad' to True in order to track gradients\n",
    "for parameter in parameters:\n",
    "    parameter.requires_grad = True"
   ]
  },
  {
   "cell_type": "markdown",
   "id": "aac2e738-be2b-4fdb-b172-2fc39f7c5388",
   "metadata": {},
   "source": [
    "We suddenly see that we have a much bigger `model`..."
   ]
  },
  {
   "cell_type": "code",
   "execution_count": 19,
   "id": "fd7f87a2-66b4-4108-9013-b7cf4350f749",
   "metadata": {},
   "outputs": [
    {
     "name": "stdout",
     "output_type": "stream",
     "text": [
      "torch.Size([4, 8])\n"
     ]
    },
    {
     "data": {
      "text/plain": [
       "tensor([[ 0,  0,  0,  0,  0,  0,  0,  1],\n",
       "        [ 0,  0,  0, 10,  1, 14,  9, 12],\n",
       "        [ 0,  0, 13,  1,  1, 14,  9, 19],\n",
       "        [ 0,  0, 10,  1, 14,  5, 20,  8]])"
      ]
     },
     "execution_count": 19,
     "metadata": {},
     "output_type": "execute_result"
    }
   ],
   "source": [
    "indexes = torch.randint(low=0, high=trainingInputs.shape[0], size=(4,))\n",
    "inputBatch, outputBatch = trainingInputs[indexes], trainingOutputs[indexes]\n",
    "logits = model(inputBatch)\n",
    "print(inputBatch.shape)\n",
    "inputBatch"
   ]
  },
  {
   "cell_type": "code",
   "execution_count": 20,
   "id": "a03fda3f-ec26-4144-9eda-11700a108d95",
   "metadata": {},
   "outputs": [
    {
     "name": "stdout",
     "output_type": "stream",
     "text": [
      "Embedding : torch.Size([4, 8, 10])\n",
      "ConsecutiveFlatten : torch.Size([4, 4, 20])\n",
      "Linear : torch.Size([4, 4, 200])\n",
      "BatchNorm1d : torch.Size([4, 4, 200])\n",
      "Tanh : torch.Size([4, 4, 200])\n",
      "ConsecutiveFlatten : torch.Size([4, 2, 400])\n",
      "Linear : torch.Size([4, 2, 200])\n",
      "BatchNorm1d : torch.Size([4, 2, 200])\n",
      "Tanh : torch.Size([4, 2, 200])\n",
      "ConsecutiveFlatten : torch.Size([4, 400])\n",
      "Linear : torch.Size([4, 200])\n",
      "BatchNorm1d : torch.Size([4, 200])\n",
      "Tanh : torch.Size([4, 200])\n",
      "Linear : torch.Size([4, 27])\n"
     ]
    }
   ],
   "source": [
    "for layer in model.layers:\n",
    "    print(layer.__class__.__name__, \":\", layer.out.shape)"
   ]
  },
  {
   "cell_type": "markdown",
   "id": "8d250db5-1f07-4a62-a62b-04afcf2e8d1e",
   "metadata": {},
   "source": [
    "Looking at this, when we verify the shapes, we see that all the shapes work out fine, but now we also see that `BatchNorm1d` runs out of the box without creating any errors.\n",
    "\n",
    "We still need to verify `BatchNorm1d`, and if it works like the way it should...\n",
    "\n",
    "But before we do that, let's run our neural network once to evaluate the losses once more, just to keep score, and then we can keep fixing bugs for the `BatchNorm1d`..."
   ]
  },
  {
   "cell_type": "markdown",
   "id": "0950d49a-3e09-4ce5-a444-626339b49046",
   "metadata": {
    "jp-MarkdownHeadingCollapsed": true
   },
   "source": [
    "### Running **WaveNet** for implemented `ConsecutiveFlatten`"
   ]
  },
  {
   "cell_type": "markdown",
   "id": "fc361eda-b49d-4d38-a212-4256ca56c9ca",
   "metadata": {},
   "source": [
    "Before we run this, I want to specify that I will be changing the `numberOfHiddenLayerNeurons` from `200` to `68` in order to make the architecture parameters to be the same as our old neural network, so that we have the same amount of capacity as the neural network to check if we are properly utilizing these parameters in a more efficient architecture as a comparison.\n",
    "\n",
    "And I have also increased the batchSize from `32` to `128`, such that it does not lead to numerical instability like we discussed in our previous notebooks..."
   ]
  },
  {
   "cell_type": "markdown",
   "id": "1c3036b9-d169-4774-85a1-98bc51feb502",
   "metadata": {
    "jp-MarkdownHeadingCollapsed": true
   },
   "source": [
    "#### Building Dataset"
   ]
  },
  {
   "cell_type": "code",
   "execution_count": 7,
   "id": "3d4c842e-b3b4-4476-9cd5-7b71baffcc58",
   "metadata": {},
   "outputs": [
    {
     "name": "stdout",
     "output_type": "stream",
     "text": [
      "Total Examples: 53982\n",
      "Training Examples: 43185\n",
      "Validation Examples: 5398\n",
      "Test Examples: 5399\n"
     ]
    }
   ],
   "source": [
    "# We define a Block Size based on the number of characters we feed are going to feed to predict the next one\n",
    "blockSize = 8\n",
    "# Will build the dataset on only the words we take as input\n",
    "def buildDataset(words):\n",
    "    # We define two lists, inputs & outputs, where inputs are our blocks of the block size mentioned above and outputs are the label indexes\n",
    "    inputs , outputs = [], []\n",
    "    # We iterate over each word\n",
    "    for word in words:\n",
    "        # We define the block for each iteration and fill it with 0 values -> [0, 0, 0]\n",
    "        block = [0] * blockSize\n",
    "        # We run another loop for each word's character, here word also needs the ending token '.'\n",
    "        for character in word + '.':\n",
    "            # We take out the index from our look-up table\n",
    "            index = stoi[character]\n",
    "            # We append the input with our block\n",
    "            inputs.append(block)\n",
    "            # We append the output label with out index of the character\n",
    "            outputs.append([index])\n",
    "            # We then take the block, crop it 1 size from the left and append the next index to it (sliding window of name)\n",
    "            block = block[1:] + [index]\n",
    "    # We also convert these inputs and outputs to tensors for neural network processing\n",
    "    inputs = torch.tensor(inputs)\n",
    "    outputs = torch.flatten(torch.tensor(outputs))\n",
    "    # We return the inputs and outputs\n",
    "    return inputs, outputs\n",
    "\n",
    "# We define a manual seed to random\n",
    "random.seed(69)\n",
    "# We shuffle all the words, so that the model receives all kinds of data\n",
    "random.shuffle(words)\n",
    "# We define two number of inputs\n",
    "# We take the number of examples to 80% in the first variable\n",
    "numberOfInputs1 = int(0.8*len(words))\n",
    "# We take the number of examples to 90% in the first variable\n",
    "numberOfInputs2 = int(0.9*len(words))\n",
    "# Inputs and outputs that go till 80% of the examples\n",
    "trainingInputs, trainingOutputs = buildDataset(words[:numberOfInputs1])\n",
    "# Inputs and outputs that start at 80% of the examples and go till 90% of the examples\n",
    "validationInputs, validationOutputs = buildDataset(words[numberOfInputs1:numberOfInputs2])\n",
    "# Inputs and outputs that start at 90% of the examples\n",
    "testInputs, testOutputs = buildDataset(words[numberOfInputs2:])\n",
    "\n",
    "# We can check the numbers\n",
    "print(\"Total Examples:\",len(words)) # 100%\n",
    "print(\"Training Examples:\",len(words[:numberOfInputs1])) # 80%\n",
    "print(\"Validation Examples:\",len(words[numberOfInputs1:numberOfInputs2])) # 10%\n",
    "print(\"Test Examples:\",len(words[numberOfInputs2:])) # 10%"
   ]
  },
  {
   "cell_type": "markdown",
   "id": "25ab61b0-d5cd-4426-bd11-10b6d06f8db3",
   "metadata": {
    "jp-MarkdownHeadingCollapsed": true
   },
   "source": [
    "#### Modular Block Definition"
   ]
  },
  {
   "cell_type": "code",
   "execution_count": 8,
   "id": "75839035-3862-4e7f-9615-2617b68244e7",
   "metadata": {},
   "outputs": [],
   "source": [
    "class Linear:\n",
    "    # Constructor to initialize the weights and biases\n",
    "    def __init__(self, fan_in, fan_out, bias=True):\n",
    "        # We initialize the weights using fan-in and fan-out and use the kaiming initialization which is the square root of fan-in\n",
    "        self.weights = torch.randn((fan_in, fan_out)) / fan_in**0.5\n",
    "        # We initilize the biases using fan-out and set them to 0 values if bias is set to True else we set it to None\n",
    "        self.biases = torch.zeros(fan_out) if bias else None\n",
    "    # Defines how we forward pass these layers which is (y = wx + b)\n",
    "    def __call__(self, inputs):\n",
    "        # (w*x)\n",
    "        self.out = inputs @ self.weights\n",
    "        # Checking if we have a bias\n",
    "        if self.biases is not None:\n",
    "            # (wx) + b\n",
    "            self.out += self.biases\n",
    "        # We return (y = wx + b)\n",
    "        return self.out\n",
    "    # Defines a method to return all the parameters used by this layer\n",
    "    def parameters(self):\n",
    "        # If bias is there return (w*x + b) else return (w*x)\n",
    "        return [self.weights] + ([] if self.biases is None else [self.biases])\n",
    "class BatchNorm1d:\n",
    "    # Constructor to initialize the gain, bias, and the buffers (running mean and running variance) using the dimensions we get\n",
    "    def __init__(self, dimensions, epsilon=1e-5, momentum=0.1, training=True):\n",
    "        self.epsilon = epsilon\n",
    "        self.momentum = momentum\n",
    "        # Parameters using dimensions\n",
    "        # We initialize the gains to 1 values of dimensions\n",
    "        self.gamma = torch.ones(dimensions)\n",
    "        # We initialize the bias to 0 values of dimensions\n",
    "        self.beta = torch.zeros(dimensions)\n",
    "        # Buffers\n",
    "        # We initialize the running mean to 0 values of dimensions\n",
    "        self.running_mean = torch.zeros(dimensions)\n",
    "        # We initialize the running variance to 1 values of dimensions\n",
    "        self.running_variance = torch.ones(dimensions)\n",
    "        # We initialize a checker parameter that checks whether we are training or not (We will discuss this later) \n",
    "        self.training = training\n",
    "    # Forward Pass and Buffer Updation based on the inputs\n",
    "    def __call__(self, inputs):\n",
    "        # Forward Pass\n",
    "        # ------------\n",
    "        # If training is set to true we will calculate the mean and variance estimated from the current batch of inputs\n",
    "        if self.training:\n",
    "            # Initializing mean of current batch of inputs along dimension 0 and keeping the dimensions\n",
    "            input_mean = inputs.mean(0, keepdim=True)\n",
    "            # Initializing variance of current batch of inputs along dimension 0 and keeping the dimensions\n",
    "            input_variance = inputs.var(0, keepdim=True)\n",
    "        # If not training, we will use the running mean and variance of the inputs of the saved values\n",
    "        else:\n",
    "            input_mean = self.running_mean\n",
    "            input_variance = self.running_variance\n",
    "        # We center the inputs around zero and scaling it to have unit variance using the defined formula\n",
    "        unit_variance = (inputs - input_mean) / torch.sqrt(input_variance) + self.epsilon\n",
    "        # After calulating the unit_variance we can perform the operation (y = wx + b) on this layer\n",
    "        self.out = self.gamma * unit_variance + self.beta\n",
    "        # ------------\n",
    "        # Buffer Updation\n",
    "        # ------------\n",
    "        # If training is set to true we will update the running mean and variance estimated from the momentum (without gradient updation)\n",
    "        if self.training:\n",
    "            # We disable gradient updation\n",
    "            with torch.no_grad():\n",
    "                # We perform (batchRunningMean = 0.999 * batchRunningMean + 0.001 * batchMeanAtIteration)\n",
    "                self.running_mean = (1 - self.momentum) * self.running_mean + self.momentum * input_mean\n",
    "                # We perform (batchRunningStandardDeviation = 0.999 * batchRunningStandardDeviation + 0.001 * batchStandardDeviationAtIteration)\n",
    "                self.running_variance = (1 - self.momentum) * self.running_variance + self.momentum * input_variance\n",
    "        # We return the (y = wx + b) after all the calculations are done (if any)\n",
    "        return self.out\n",
    "        # ------------\n",
    "    # Defines a method to return all the parameters used by this layer\n",
    "    def parameters(self):\n",
    "        # We return the parameters (gamma and beta)\n",
    "        return [self.gamma, self.beta]\n",
    "class Tanh:\n",
    "    def __call__(self, inputs):\n",
    "        # Calculates tanh based on the inputs\n",
    "        self.out = torch.tanh(inputs)\n",
    "        return self.out\n",
    "    # Returns an empty list because there are no paramters in this layer\n",
    "    def parameters(self):\n",
    "        return []\n",
    "class Embedding:\n",
    "    # Constructor to initialize the weights of the embedding\n",
    "    def __init__(self, num_embeddings, embedding_dim):\n",
    "        # Initializing the weights of the embedding\n",
    "        self.weights = torch.randn((num_embeddings, embedding_dim))\n",
    "    # The indexing operation in the forward pass : Similar to -> embedding = embeddingLookUpMatrix[inputBatch]\n",
    "    def __call__(self, indexes):\n",
    "        self.out = self.weights[indexes]\n",
    "        return self.out\n",
    "    # Defines a method to return all the parameters used by this layer in a list (weights)\n",
    "    def parameters(self):\n",
    "        return [self.weights]\n",
    "class ConsecutiveFlatten:\n",
    "     # Constructor to initialize the number of groups\n",
    "    def __init__(self, groups):\n",
    "        # Initializing the groups \n",
    "        self.groups = groups\n",
    "    # Concatenation operation in the forward pass : Flatten in groups\n",
    "    def __call__(self, inputs):\n",
    "        # Takes out each dimension from the inputs\n",
    "        batch, charactersInBlock, embeddings = inputs.shape\n",
    "        # Views as the desired group size\n",
    "        outputs = inputs.view(batch, charactersInBlock//self.groups, embeddings*self.groups)\n",
    "        # Checks if dimension 1 creates a spurious dimension\n",
    "        if outputs.shape[1] == 1:\n",
    "            # Squeezes out the dimension 1 to keep it from creating a spurious dimension\n",
    "            outputs = outputs.squeeze(dim=1)\n",
    "        self.out = outputs\n",
    "        return self.out\n",
    "    # Defines a method to return all the parameters used by this layer in a list (empty list)\n",
    "    def parameters(self):\n",
    "        return []\n",
    "class Sequential:\n",
    "     # Constructor to initialize the layers\n",
    "    def __init__(self, layers):\n",
    "        # Initializing the weights of the embedding\n",
    "        self.layers = layers\n",
    "    # Calling all the layers based on the inputs: Using __call__ for all the layes given all the inputs\n",
    "    def __call__(self, inputs):\n",
    "        for layer in self.layers:\n",
    "            inputs = layer(inputs)\n",
    "        self.out = inputs\n",
    "        return self.out\n",
    "    # Defines a method to return all the parameters used in all the layers in a list\n",
    "    def parameters(self):\n",
    "        return [parameter for layer in self.layers for parameter in layer.parameters()]"
   ]
  },
  {
   "cell_type": "markdown",
   "id": "3f59c9b0-ac77-4a3c-be8d-52c0ce14c7c0",
   "metadata": {
    "jp-MarkdownHeadingCollapsed": true
   },
   "source": [
    "#### Neural Network Initialization - Weights, Biases & Parameters"
   ]
  },
  {
   "cell_type": "code",
   "execution_count": 9,
   "id": "62af8c07-c87c-4edc-9fd2-b927d85930ed",
   "metadata": {},
   "outputs": [
    {
     "name": "stdout",
     "output_type": "stream",
     "text": [
      "Number of parameters: 22370\n"
     ]
    }
   ],
   "source": [
    "# We will define a manual seed to give a similar result on your machine, as of my machine\n",
    "torch.manual_seed(69420)\n",
    "embeddingFeatureSpaceLength = 10\n",
    "numberOfHiddenLayerNeurons = 68\n",
    "groups = 2\n",
    "\n",
    "# Initializing the layers into a single list called 'layers', stacking them one after another\n",
    "model = Sequential([\n",
    "    Embedding(vocabularySize, embeddingFeatureSpaceLength),\n",
    "    # Bigram Flatten\n",
    "    ConsecutiveFlatten(groups=groups), Linear(embeddingFeatureSpaceLength * groups, numberOfHiddenLayerNeurons, bias=False), BatchNorm1d(numberOfHiddenLayerNeurons), Tanh(),\n",
    "    # Bi-bigram Flatten\n",
    "    ConsecutiveFlatten(groups=groups), Linear(numberOfHiddenLayerNeurons * groups, numberOfHiddenLayerNeurons, bias=False), BatchNorm1d(numberOfHiddenLayerNeurons), Tanh(),\n",
    "    # Bi-Bi-bigram Flatten\n",
    "    ConsecutiveFlatten(groups=groups), Linear(numberOfHiddenLayerNeurons * groups, numberOfHiddenLayerNeurons, bias=False), BatchNorm1d(numberOfHiddenLayerNeurons), Tanh(),\n",
    "    Linear(numberOfHiddenLayerNeurons, vocabularySize, bias=False),\n",
    "])\n",
    "\n",
    "# Disabling Gradient Tracking\n",
    "with torch.no_grad():\n",
    "    # Making the final activation less confident\n",
    "    model.layers[-1].weights *= 0.1\n",
    "\n",
    "# We initialize all the parameters\n",
    "parameters = model.parameters()\n",
    "# We check the number of parameters by printing its value\n",
    "print(\"Number of parameters:\", sum(parameter.nelement() for parameter in parameters))\n",
    "# We set 'requires_grad' to True in order to track gradients\n",
    "for parameter in parameters:\n",
    "    parameter.requires_grad = True"
   ]
  },
  {
   "cell_type": "markdown",
   "id": "92a82679-0165-46bd-bc2e-fc860a41dcf6",
   "metadata": {
    "jp-MarkdownHeadingCollapsed": true
   },
   "source": [
    "#### Forward Pass"
   ]
  },
  {
   "cell_type": "code",
   "execution_count": 11,
   "id": "f4536b8e-0083-4c76-8b0c-acede22099bf",
   "metadata": {},
   "outputs": [
    {
     "name": "stdout",
     "output_type": "stream",
     "text": [
      "      0/ 200000: 3.2710\n",
      "  10000/ 200000: 1.7531\n",
      "  20000/ 200000: 1.9206\n",
      "  30000/ 200000: 1.8199\n",
      "  40000/ 200000: 1.8127\n",
      "  50000/ 200000: 1.7926\n",
      "  60000/ 200000: 1.7219\n",
      "  70000/ 200000: 1.6272\n",
      "  80000/ 200000: 1.8719\n",
      "  90000/ 200000: 1.8040\n",
      " 100000/ 200000: 1.7283\n",
      " 110000/ 200000: 1.9233\n",
      " 120000/ 200000: 2.0418\n",
      " 130000/ 200000: 1.8635\n",
      " 140000/ 200000: 1.7831\n",
      " 150000/ 200000: 1.7067\n",
      " 160000/ 200000: 1.7407\n",
      " 170000/ 200000: 1.6656\n",
      " 180000/ 200000: 1.7841\n",
      " 190000/ 200000: 1.5795\n"
     ]
    }
   ],
   "source": [
    "# We want to track the losses that we use in the training\n",
    "losses = []\n",
    "# We define the number of epochs\n",
    "epochs = 200000\n",
    "# We define the batch size\n",
    "batchSize = 128\n",
    "\n",
    "for i in range(epochs):\n",
    "    # Mini-Batches\n",
    "    indexes = torch.randint(low=0, high=trainingInputs.shape[0], size=(batchSize,))\n",
    "    inputBatch, outputBatch = trainingInputs[indexes], trainingOutputs[indexes]\n",
    "    \n",
    "    # Forward Pass (Mini-Batch)\n",
    "    logits = model(inputBatch)\n",
    "    loss = F.cross_entropy(logits, outputBatch)\n",
    "    # Backward Pass (Mini-Batch)\n",
    "    # We reset the gradients\n",
    "    for parameter in parameters:\n",
    "        parameter.grad = None\n",
    "    loss.backward()\n",
    "\n",
    "    # Update Weights (Mini-Batch)\n",
    "    learning_rate = 0.1 if i < 150000 else 0.01\n",
    "    for parameter in parameters:\n",
    "        parameter.data += -learning_rate * parameter.grad\n",
    "\n",
    "    # Tracking the stats\n",
    "    # We append the losses that we use per iteration\n",
    "    if i % 10000 == 0: \n",
    "        print(f'{i:7d}/{epochs:7d}: {loss.item():.4f}')\n",
    "    losses.append(loss.log10().item()) # We do that to squash the steep curve to a nicer graph"
   ]
  },
  {
   "cell_type": "markdown",
   "id": "8d3ce2a3-5f02-4f52-b166-4900e70a366b",
   "metadata": {
    "jp-MarkdownHeadingCollapsed": true
   },
   "source": [
    "##### Evaluating Losses"
   ]
  },
  {
   "cell_type": "code",
   "execution_count": 12,
   "id": "f10cb2b3-5c33-4722-baca-522a1fa819f6",
   "metadata": {},
   "outputs": [
    {
     "name": "stdout",
     "output_type": "stream",
     "text": [
      "Training Loss:1.720413088798523\n",
      "Validation Loss:1.7969316244125366\n"
     ]
    }
   ],
   "source": [
    "# Decorator for disabling gradient tracking throughout the function underneath\n",
    "@torch.no_grad()\n",
    "def splitLoss(split):\n",
    "    input, output = {\n",
    "        'Training': (trainingInputs, trainingOutputs),\n",
    "        'Validation': (validationInputs, validationOutputs),\n",
    "        'Testing': (testInputs, testOutputs)\n",
    "    }[split]\n",
    "    # Based on the split we can now forward through layers to get the logits\n",
    "    logits = model(input)\n",
    "    loss = F.cross_entropy(logits, output)\n",
    "    print(f\"{split} Loss:{loss.item()}\")\n",
    "# We can then call this method to calculate and print loss\n",
    "splitLoss('Training')\n",
    "splitLoss('Validation')"
   ]
  },
  {
   "cell_type": "markdown",
   "id": "1f1ae32f-d36c-4601-9d6c-4dfd5935a0ca",
   "metadata": {},
   "source": [
    "Original Loss:\n",
    "```python\n",
    "Training Loss:1.8957682847976685\n",
    "Validation Loss:1.9175524711608887\n",
    "```\n",
    "\n",
    "Increasing `blockSize` Loss:\n",
    "```python\n",
    "Training Loss:1.7707616090774536\n",
    "Validation Loss:1.81971275806427\n",
    "```\n",
    "\n",
    "Implementing WaveNet for `ConsecutiveFlatten` Loss:\n",
    "```python\n",
    "Training Loss:1.720413088798523\r\n",
    "Validation Loss:1.7969316244125366\n",
    "```"
   ]
  },
  {
   "cell_type": "markdown",
   "id": "911f6777-658c-4c23-be03-11c4fbbcd6a9",
   "metadata": {
    "jp-MarkdownHeadingCollapsed": true
   },
   "source": [
    "### Fixing `BatchNorm1d` for implemented `ConsecutiveFlatten`"
   ]
  },
  {
   "cell_type": "markdown",
   "id": "8bee544c-115a-46e7-97a2-d42045029fd4",
   "metadata": {},
   "source": [
    "Let's recall the `BatchNorm1d` layer code implementation first:\n",
    "\n",
    "```python\n",
    "class BatchNorm1d:\n",
    "    def __init__(self, dimensions, epsilon=1e-5, momentum=0.1, training=True):\n",
    "        self.epsilon = epsilon\n",
    "        self.momentum = momentum\n",
    "        self.gamma = torch.ones(dimensions)\n",
    "        self.beta = torch.zeros(dimensions)\n",
    "        # Buffers\n",
    "        self.running_mean = torch.zeros(dimensions)\n",
    "        self.running_variance = torch.ones(dimensions)\n",
    "        self.training = training\n",
    "    def __call__(self, inputs):\n",
    "        if self.training:\n",
    "            input_mean = inputs.mean(0, keepdim=True)\n",
    "            input_variance = inputs.var(0, keepdim=True)\n",
    "        else:\n",
    "            input_mean = self.running_mean\n",
    "            input_variance = self.running_variance\n",
    "        unit_variance = (inputs - input_mean) / torch.sqrt(input_variance) + self.epsilon\n",
    "        self.out = self.gamma * unit_variance + self.beta\n",
    "        # ------------\n",
    "        # Buffer Updation\n",
    "        # ------------\n",
    "        if self.training:\n",
    "            with torch.no_grad():\n",
    "                self.running_mean = (1 - self.momentum) * self.running_mean + self.momentum * input_mean\n",
    "                self.running_variance = (1 - self.momentum) * self.running_variance + self.momentum * input_variance\n",
    "        return self.out\n",
    "    def parameters(self):\n",
    "        return [self.gamma, self.beta]\n",
    "```"
   ]
  },
  {
   "cell_type": "markdown",
   "id": "0e477def-2da7-4ad6-844d-64707ebea962",
   "metadata": {},
   "source": [
    "Now let's try to think through the `inputs` and `outputs` of a `BatchNorm1d` layer by looking at the shapes of inputs...\n",
    "\n",
    "Let's try to take an example...\n",
    "\n",
    "Right now, the shapes of outputs look something like this:\n",
    "```python\n",
    "Embedding : torch.Size(32, 8, 10)\n",
    "ConsecutiveFlatten : torch.Size(32, 4, 20)\n",
    "Linear : torch.Size(32, 4, 68)\n",
    "BatchNorm1d : torch.Size(32, 4, 68)\n",
    "Tanh : torch.Size(32, 4, 68)\n",
    "ConsecutiveFlatten : torch.Size(32, 2, 136)\n",
    "Linear : torch.Size(32, 2, 68)\n",
    "BatchNorm1d : torch.Size(32, 2, 68)\n",
    "Tanh : torch.Size(32, 2, 68)\n",
    "ConsecutiveFlatten : torch.Size(32, 136)\n",
    "Linear : torch.Size(32, 68)\n",
    "BatchNorm1d : torch.Size(32, 68)\n",
    "Tanh : torch.Size(32, 68)\n",
    "Linear: torch.Size(32, 27)\n",
    "```\n",
    "\n",
    "Let's take the inputs for the first `BatchNorm1d` layer, which is the output of the `Linear` layer...\n",
    "\n",
    "Right now the forward pass looks something like this:\n",
    "```python\n",
    "inputs = torch.randn(32, 4, 68)\n",
    "input_mean = inputs.mean(0, keepdim=True)\n",
    "input_variance = inputs.var(0, keepdim=True)\n",
    "input_hat = (inputs - input_mean) / torch.sqrt(input_variance + 1e-5)\n",
    "input_hat.shape\n",
    "```\n",
    "And we see that the output broadcasts properly:\n",
    "```python\n",
    "torch.Size([32, 4, 68])\n",
    "```"
   ]
  },
  {
   "cell_type": "markdown",
   "id": "1b68606e-7bf9-4d90-91ab-5bf98e166ad5",
   "metadata": {},
   "source": [
    "Still not understandable?\n",
    "\n",
    "Okay let's break it down with illustrations...\n",
    "\n",
    "Previously we had something like this *toy* example:\\\n",
    "![BatchNormApproachBeforeWaveNet](ExplanationMedia/Images/BatchNormApproachBeforeWaveNet.png)\n",
    "\n",
    "Here we had a batch of `4` examples, with let's say `6` dimensional embeddings, and we calculated mean across all the examples in a batch.\n",
    "\n",
    "But now we have something like this:\n",
    "![BatchNormBeforeFixingWaveNet](ExplanationMedia/Images/BatchNormBeforeFixingWaveNet.png)"
   ]
  },
  {
   "cell_type": "markdown",
   "id": "d418e423-ee29-4e6f-a90d-7401150e95b9",
   "metadata": {},
   "source": [
    "Here, we see that we mean across only the batch of examples, which is not what we want...\n",
    "\n",
    "Rather we also need to do mean across all the bigram groups like this (treat the bigram groups as a **batch-dimension** as well):\n",
    "![BatchNormAfterFixingWaveNet](ExplanationMedia/Images/BatchNormAfterFixingWaveNet.png)"
   ]
  },
  {
   "cell_type": "markdown",
   "id": "91ce13b5-ef21-4569-a608-c06760fd4ff7",
   "metadata": {},
   "source": [
    "Turns out we can do this pretty easily when we look at the documentation of `TORCH.MEAN` from PyTorch, we have:\n",
    "\n",
    "```python\n",
    "torch.mean(input, *, dtype=None) → Tensor\n",
    "```\n",
    "\n",
    "**Parameters**:\n",
    "- **input** (`Tensor`) – the input tensor.\n",
    "- **dim** (`int` or `tuple of ints`) – the dimension or dimensions to reduce.\n",
    "- **keepdim** (`bool`) – whether the output tensor has dim retained or not.\n",
    "\n",
    "**Keyword Arguments**:\n",
    "- **dtype** (`torch.dtype`, *optional*) – the desired data type of returned tensor. If specified, the input tensor is casted to dtype before the operation is performed. This is useful for preventing data type overflows. Default: None.\n",
    "- **out** (`Tensor`, *optional*) – the output tensor.\n",
    "\n",
    "We see that instead of just an `int` we can specify a `tuple of ints` to reduce over dimensions, so we can easily perform reduction over the dimensions specified in the tuple...\n",
    "\n",
    "For us, it will be dimension `0` and `1`..."
   ]
  },
  {
   "cell_type": "markdown",
   "id": "481fd38d-3598-4b60-8a08-4eef1814901d",
   "metadata": {},
   "source": [
    "But also see how in the later layers, the `BatchNorm1d` performs the batch normalization on `2` dimensional inputs as well, so we need to handle different calculations for different dimensions as well...\n",
    "\n",
    "And it seems pretty straight forward it seems... We simply check if the inputs are of shape of `2` dimensions then we pass in `dim=0` into the `input_mean` and `input_variance` otherwise we pass in `dim=(0, 1)` if we get a three dimensional input, otherwise it will throw an error which is good in my opinion...\n",
    "\n",
    "But the moment we think of this we should also know that, even here we start departing from the original `BATCHNORM1D` from PyTorch.\n",
    "\n",
    "Why?\n",
    "\n",
    "Because if we look at the documentation of `BATCHNORM1D`, it states the shapes should be:\n",
    "- **Input**: `(N,C)` or `(N,C,L)`, where `N` is the batch size, `C` is the number of features or channels, and `L` is the sequence length\n",
    "- **Output**: `(N,C)` or `(N,C,L)` (same shape as input)\n",
    "\n",
    "Which means `BATCHNORM1D` from PyTorch reduces the dimensions `(0, 2)` instead of `(0, 1)`, because our `BatchNorm1d` expects `(N,C)` or `(N,L,C)`. \n",
    "\n",
    "Honestly I like the expression `(0, 1)` instead of `(0, 2)` so we will keep the implemenation as we have done till now...\n",
    "\n",
    "Let's now edit our modular block for `BatchNorm1d`..."
   ]
  },
  {
   "cell_type": "code",
   "execution_count": 1,
   "id": "a09952f8-6a3f-4fbd-8ad7-b86149e4e372",
   "metadata": {},
   "outputs": [],
   "source": [
    "class Linear:\n",
    "    # Constructor to initialize the weights and biases\n",
    "    def __init__(self, fan_in, fan_out, bias=True):\n",
    "        # We initialize the weights using fan-in and fan-out and use the kaiming initialization which is the square root of fan-in\n",
    "        self.weights = torch.randn((fan_in, fan_out)) / fan_in**0.5\n",
    "        # We initilize the biases using fan-out and set them to 0 values if bias is set to True else we set it to None\n",
    "        self.biases = torch.zeros(fan_out) if bias else None\n",
    "    # Defines how we forward pass these layers which is (y = wx + b)\n",
    "    def __call__(self, inputs):\n",
    "        # (w*x)\n",
    "        self.out = inputs @ self.weights\n",
    "        # Checking if we have a bias\n",
    "        if self.biases is not None:\n",
    "            # (wx) + b\n",
    "            self.out += self.biases\n",
    "        # We return (y = wx + b)\n",
    "        return self.out\n",
    "    # Defines a method to return all the parameters used by this layer\n",
    "    def parameters(self):\n",
    "        # If bias is there return (w*x + b) else return (w*x)\n",
    "        return [self.weights] + ([] if self.biases is None else [self.biases])\n",
    "class BatchNorm1d:\n",
    "    # Constructor to initialize the gain, bias, and the buffers (running mean and running variance) using the dimensions we get\n",
    "    def __init__(self, dimensions, epsilon=1e-5, momentum=0.1, training=True):\n",
    "        self.epsilon = epsilon\n",
    "        self.momentum = momentum\n",
    "        # Parameters using dimensions\n",
    "        # We initialize the gains to 1 values of dimensions\n",
    "        self.gamma = torch.ones(dimensions)\n",
    "        # We initialize the bias to 0 values of dimensions\n",
    "        self.beta = torch.zeros(dimensions)\n",
    "        # Buffers\n",
    "        # We initialize the running mean to 0 values of dimensions\n",
    "        self.running_mean = torch.zeros(dimensions)\n",
    "        # We initialize the running variance to 1 values of dimensions\n",
    "        self.running_variance = torch.ones(dimensions)\n",
    "        # We initialize a checker parameter that checks whether we are training or not (We will discuss this later) \n",
    "        self.training = training\n",
    "    # Forward Pass and Buffer Updation based on the inputs\n",
    "    def __call__(self, inputs):\n",
    "        # Forward Pass\n",
    "        # ------------\n",
    "        # If training is set to true we will calculate the mean and variance estimated from the current batch of inputs\n",
    "        if self.training:\n",
    "            # Checking if the inputs are 2-dimensional\n",
    "            if inputs.ndim == 2:\n",
    "                # Setting the dimension to reduce over to 0\n",
    "                dimensions = 0\n",
    "            # Checking if the inputs are 3-dimensional\n",
    "            elif inputs.ndim == 3:\n",
    "                # Setting the dimension to reduce over to (0, 1)\n",
    "                dimensions = 0\n",
    "            # Initializing mean of current batch of inputs along dimensions and keeping the dimensions\n",
    "            input_mean = inputs.mean(dimensions, keepdim=True)\n",
    "            # Initializing variance of current batch of inputs along dimensions and keeping the dimensions\n",
    "            input_variance = inputs.var(dimensions, keepdim=True)\n",
    "        # If not training, we will use the running mean and variance of the inputs of the saved values\n",
    "        else:\n",
    "            input_mean = self.running_mean\n",
    "            input_variance = self.running_variance\n",
    "        # We center the inputs around zero and scaling it to have unit variance using the defined formula\n",
    "        unit_variance = (inputs - input_mean) / torch.sqrt(input_variance) + self.epsilon\n",
    "        # After calulating the unit_variance we can perform the operation (y = wx + b) on this layer\n",
    "        self.out = self.gamma * unit_variance + self.beta\n",
    "        # ------------\n",
    "        # Buffer Updation\n",
    "        # ------------\n",
    "        # If training is set to true we will update the running mean and variance estimated from the momentum (without gradient updation)\n",
    "        if self.training:\n",
    "            # We disable gradient updation\n",
    "            with torch.no_grad():\n",
    "                # We perform (batchRunningMean = 0.999 * batchRunningMean + 0.001 * batchMeanAtIteration)\n",
    "                self.running_mean = (1 - self.momentum) * self.running_mean + self.momentum * input_mean\n",
    "                # We perform (batchRunningStandardDeviation = 0.999 * batchRunningStandardDeviation + 0.001 * batchStandardDeviationAtIteration)\n",
    "                self.running_variance = (1 - self.momentum) * self.running_variance + self.momentum * input_variance\n",
    "        # We return the (y = wx + b) after all the calculations are done (if any)\n",
    "        return self.out\n",
    "        # ------------\n",
    "    # Defines a method to return all the parameters used by this layer\n",
    "    def parameters(self):\n",
    "        # We return the parameters (gamma and beta)\n",
    "        return [self.gamma, self.beta]\n",
    "class Tanh:\n",
    "    def __call__(self, inputs):\n",
    "        # Calculates tanh based on the inputs\n",
    "        self.out = torch.tanh(inputs)\n",
    "        return self.out\n",
    "    # Returns an empty list because there are no paramters in this layer\n",
    "    def parameters(self):\n",
    "        return []\n",
    "class Embedding:\n",
    "    # Constructor to initialize the weights of the embedding\n",
    "    def __init__(self, num_embeddings, embedding_dim):\n",
    "        # Initializing the weights of the embedding\n",
    "        self.weights = torch.randn((num_embeddings, embedding_dim))\n",
    "    # The indexing operation in the forward pass : Similar to -> embedding = embeddingLookUpMatrix[inputBatch]\n",
    "    def __call__(self, indexes):\n",
    "        self.out = self.weights[indexes]\n",
    "        return self.out\n",
    "    # Defines a method to return all the parameters used by this layer in a list (weights)\n",
    "    def parameters(self):\n",
    "        return [self.weights]\n",
    "class ConsecutiveFlatten:\n",
    "     # Constructor to initialize the number of groups\n",
    "    def __init__(self, groups):\n",
    "        # Initializing the groups \n",
    "        self.groups = groups\n",
    "    # Concatenation operation in the forward pass : Flatten in groups\n",
    "    def __call__(self, inputs):\n",
    "        # Takes out each dimension from the inputs\n",
    "        batch, charactersInBlock, embeddings = inputs.shape\n",
    "        # Views as the desired group size\n",
    "        outputs = inputs.view(batch, charactersInBlock//self.groups, embeddings*self.groups)\n",
    "        # Checks if dimension 1 creates a spurious dimension\n",
    "        if outputs.shape[1] == 1:\n",
    "            # Squeezes out the dimension 1 to keep it from creating a spurious dimension\n",
    "            outputs = outputs.squeeze(dim=1)\n",
    "        self.out = outputs\n",
    "        return self.out\n",
    "    # Defines a method to return all the parameters used by this layer in a list (empty list)\n",
    "    def parameters(self):\n",
    "        return []\n",
    "class Sequential:\n",
    "     # Constructor to initialize the layers\n",
    "    def __init__(self, layers):\n",
    "        # Initializing the weights of the embedding\n",
    "        self.layers = layers\n",
    "    # Calling all the layers based on the inputs: Using __call__ for all the layes given all the inputs\n",
    "    def __call__(self, inputs):\n",
    "        for layer in self.layers:\n",
    "            inputs = layer(inputs)\n",
    "        self.out = inputs\n",
    "        return self.out\n",
    "    # Defines a method to return all the parameters used in all the layers in a list\n",
    "    def parameters(self):\n",
    "        return [parameter for layer in self.layers for parameter in layer.parameters()]"
   ]
  },
  {
   "cell_type": "markdown",
   "id": "d62b102b-66d5-4a05-9812-c255a8e18265",
   "metadata": {},
   "source": [
    "Let's now try to run the WaveNet with fixed `BatchNorm1d` now..."
   ]
  },
  {
   "cell_type": "markdown",
   "id": "3cff6051-9daa-4761-b3f0-4a31828e742c",
   "metadata": {
    "jp-MarkdownHeadingCollapsed": true
   },
   "source": [
    "### Running **WaveNet** for implemented `ConsecutiveFlatten` and `BatchNorm1d`"
   ]
  },
  {
   "cell_type": "markdown",
   "id": "23238434-ad97-4991-8904-dd99985e2a2c",
   "metadata": {
    "jp-MarkdownHeadingCollapsed": true
   },
   "source": [
    "#### Building Dataset"
   ]
  },
  {
   "cell_type": "code",
   "execution_count": 12,
   "id": "cb51537c-ae67-4ce7-9369-7a72d7209209",
   "metadata": {},
   "outputs": [
    {
     "name": "stdout",
     "output_type": "stream",
     "text": [
      "Total Examples: 53982\n",
      "Training Examples: 43185\n",
      "Validation Examples: 5398\n",
      "Test Examples: 5399\n"
     ]
    }
   ],
   "source": [
    "# We define a Block Size based on the number of characters we feed are going to feed to predict the next one\n",
    "blockSize = 8\n",
    "# Will build the dataset on only the words we take as input\n",
    "def buildDataset(words):\n",
    "    # We define two lists, inputs & outputs, where inputs are our blocks of the block size mentioned above and outputs are the label indexes\n",
    "    inputs , outputs = [], []\n",
    "    # We iterate over each word\n",
    "    for word in words:\n",
    "        # We define the block for each iteration and fill it with 0 values -> [0, 0, 0]\n",
    "        block = [0] * blockSize\n",
    "        # We run another loop for each word's character, here word also needs the ending token '.'\n",
    "        for character in word + '.':\n",
    "            # We take out the index from our look-up table\n",
    "            index = stoi[character]\n",
    "            # We append the input with our block\n",
    "            inputs.append(block)\n",
    "            # We append the output label with out index of the character\n",
    "            outputs.append([index])\n",
    "            # We then take the block, crop it 1 size from the left and append the next index to it (sliding window of name)\n",
    "            block = block[1:] + [index]\n",
    "    # We also convert these inputs and outputs to tensors for neural network processing\n",
    "    inputs = torch.tensor(inputs)\n",
    "    outputs = torch.flatten(torch.tensor(outputs))\n",
    "    # We return the inputs and outputs\n",
    "    return inputs, outputs\n",
    "\n",
    "# We define a manual seed to random\n",
    "random.seed(69)\n",
    "# We shuffle all the words, so that the model receives all kinds of data\n",
    "random.shuffle(words)\n",
    "# We define two number of inputs\n",
    "# We take the number of examples to 80% in the first variable\n",
    "numberOfInputs1 = int(0.8*len(words))\n",
    "# We take the number of examples to 90% in the first variable\n",
    "numberOfInputs2 = int(0.9*len(words))\n",
    "# Inputs and outputs that go till 80% of the examples\n",
    "trainingInputs, trainingOutputs = buildDataset(words[:numberOfInputs1])\n",
    "# Inputs and outputs that start at 80% of the examples and go till 90% of the examples\n",
    "validationInputs, validationOutputs = buildDataset(words[numberOfInputs1:numberOfInputs2])\n",
    "# Inputs and outputs that start at 90% of the examples\n",
    "testInputs, testOutputs = buildDataset(words[numberOfInputs2:])\n",
    "\n",
    "# We can check the numbers\n",
    "print(\"Total Examples:\",len(words)) # 100%\n",
    "print(\"Training Examples:\",len(words[:numberOfInputs1])) # 80%\n",
    "print(\"Validation Examples:\",len(words[numberOfInputs1:numberOfInputs2])) # 10%\n",
    "print(\"Test Examples:\",len(words[numberOfInputs2:])) # 10%"
   ]
  },
  {
   "cell_type": "markdown",
   "id": "eb44c2ee-1e4e-4020-a2c1-29822205ba52",
   "metadata": {
    "jp-MarkdownHeadingCollapsed": true
   },
   "source": [
    "#### Modular Block Definition"
   ]
  },
  {
   "cell_type": "code",
   "execution_count": 13,
   "id": "92ff54ac-7f00-4447-a2ba-3634998d7ad5",
   "metadata": {},
   "outputs": [],
   "source": [
    "class Linear:\n",
    "    # Constructor to initialize the weights and biases\n",
    "    def __init__(self, fan_in, fan_out, bias=True):\n",
    "        # We initialize the weights using fan-in and fan-out and use the kaiming initialization which is the square root of fan-in\n",
    "        self.weights = torch.randn((fan_in, fan_out)) / fan_in**0.5\n",
    "        # We initilize the biases using fan-out and set them to 0 values if bias is set to True else we set it to None\n",
    "        self.biases = torch.zeros(fan_out) if bias else None\n",
    "    # Defines how we forward pass these layers which is (y = wx + b)\n",
    "    def __call__(self, inputs):\n",
    "        # (w*x)\n",
    "        self.out = inputs @ self.weights\n",
    "        # Checking if we have a bias\n",
    "        if self.biases is not None:\n",
    "            # (wx) + b\n",
    "            self.out += self.biases\n",
    "        # We return (y = wx + b)\n",
    "        return self.out\n",
    "    # Defines a method to return all the parameters used by this layer\n",
    "    def parameters(self):\n",
    "        # If bias is there return (w*x + b) else return (w*x)\n",
    "        return [self.weights] + ([] if self.biases is None else [self.biases])\n",
    "class BatchNorm1d:\n",
    "    # Constructor to initialize the gain, bias, and the buffers (running mean and running variance) using the dimensions we get\n",
    "    def __init__(self, dimensions, epsilon=1e-5, momentum=0.1, training=True):\n",
    "        self.epsilon = epsilon\n",
    "        self.momentum = momentum\n",
    "        # Parameters using dimensions\n",
    "        # We initialize the gains to 1 values of dimensions\n",
    "        self.gamma = torch.ones(dimensions)\n",
    "        # We initialize the bias to 0 values of dimensions\n",
    "        self.beta = torch.zeros(dimensions)\n",
    "        # Buffers\n",
    "        # We initialize the running mean to 0 values of dimensions\n",
    "        self.running_mean = torch.zeros(dimensions)\n",
    "        # We initialize the running variance to 1 values of dimensions\n",
    "        self.running_variance = torch.ones(dimensions)\n",
    "        # We initialize a checker parameter that checks whether we are training or not (We will discuss this later) \n",
    "        self.training = training\n",
    "    # Forward Pass and Buffer Updation based on the inputs\n",
    "    def __call__(self, inputs):\n",
    "        # Forward Pass\n",
    "        # ------------\n",
    "        # If training is set to true we will calculate the mean and variance estimated from the current batch of inputs\n",
    "        if self.training:\n",
    "            # Checking if the inputs are 2-dimensional\n",
    "            if inputs.ndim == 2:\n",
    "                # Setting the dimension to reduce over to 0\n",
    "                dimensions = 0\n",
    "            # Checking if the inputs are 3-dimensional\n",
    "            elif inputs.ndim == 3:\n",
    "                # Setting the dimension to reduce over to (0, 1)\n",
    "                dimensions = 0\n",
    "            # Initializing mean of current batch of inputs along dimensions and keeping the dimensions\n",
    "            input_mean = inputs.mean(dimensions, keepdim=True)\n",
    "            # Initializing variance of current batch of inputs along dimensions and keeping the dimensions\n",
    "            input_variance = inputs.var(dimensions, keepdim=True)\n",
    "        # If not training, we will use the running mean and variance of the inputs of the saved values\n",
    "        else:\n",
    "            input_mean = self.running_mean\n",
    "            input_variance = self.running_variance\n",
    "        # We center the inputs around zero and scaling it to have unit variance using the defined formula\n",
    "        unit_variance = (inputs - input_mean) / torch.sqrt(input_variance) + self.epsilon\n",
    "        # After calulating the unit_variance we can perform the operation (y = wx + b) on this layer\n",
    "        self.out = self.gamma * unit_variance + self.beta\n",
    "        # ------------\n",
    "        # Buffer Updation\n",
    "        # ------------\n",
    "        # If training is set to true we will update the running mean and variance estimated from the momentum (without gradient updation)\n",
    "        if self.training:\n",
    "            # We disable gradient updation\n",
    "            with torch.no_grad():\n",
    "                # We perform (batchRunningMean = 0.999 * batchRunningMean + 0.001 * batchMeanAtIteration)\n",
    "                self.running_mean = (1 - self.momentum) * self.running_mean + self.momentum * input_mean\n",
    "                # We perform (batchRunningStandardDeviation = 0.999 * batchRunningStandardDeviation + 0.001 * batchStandardDeviationAtIteration)\n",
    "                self.running_variance = (1 - self.momentum) * self.running_variance + self.momentum * input_variance\n",
    "        # We return the (y = wx + b) after all the calculations are done (if any)\n",
    "        return self.out\n",
    "        # ------------\n",
    "    # Defines a method to return all the parameters used by this layer\n",
    "    def parameters(self):\n",
    "        # We return the parameters (gamma and beta)\n",
    "        return [self.gamma, self.beta]\n",
    "class Tanh:\n",
    "    def __call__(self, inputs):\n",
    "        # Calculates tanh based on the inputs\n",
    "        self.out = torch.tanh(inputs)\n",
    "        return self.out\n",
    "    # Returns an empty list because there are no paramters in this layer\n",
    "    def parameters(self):\n",
    "        return []\n",
    "class Embedding:\n",
    "    # Constructor to initialize the weights of the embedding\n",
    "    def __init__(self, num_embeddings, embedding_dim):\n",
    "        # Initializing the weights of the embedding\n",
    "        self.weights = torch.randn((num_embeddings, embedding_dim))\n",
    "    # The indexing operation in the forward pass : Similar to -> embedding = embeddingLookUpMatrix[inputBatch]\n",
    "    def __call__(self, indexes):\n",
    "        self.out = self.weights[indexes]\n",
    "        return self.out\n",
    "    # Defines a method to return all the parameters used by this layer in a list (weights)\n",
    "    def parameters(self):\n",
    "        return [self.weights]\n",
    "class ConsecutiveFlatten:\n",
    "     # Constructor to initialize the number of groups\n",
    "    def __init__(self, groups):\n",
    "        # Initializing the groups \n",
    "        self.groups = groups\n",
    "    # Concatenation operation in the forward pass : Flatten in groups\n",
    "    def __call__(self, inputs):\n",
    "        # Takes out each dimension from the inputs\n",
    "        batch, charactersInBlock, embeddings = inputs.shape\n",
    "        # Views as the desired group size\n",
    "        outputs = inputs.view(batch, charactersInBlock//self.groups, embeddings*self.groups)\n",
    "        # Checks if dimension 1 creates a spurious dimension\n",
    "        if outputs.shape[1] == 1:\n",
    "            # Squeezes out the dimension 1 to keep it from creating a spurious dimension\n",
    "            outputs = outputs.squeeze(dim=1)\n",
    "        self.out = outputs\n",
    "        return self.out\n",
    "    # Defines a method to return all the parameters used by this layer in a list (empty list)\n",
    "    def parameters(self):\n",
    "        return []\n",
    "class Sequential:\n",
    "     # Constructor to initialize the layers\n",
    "    def __init__(self, layers):\n",
    "        # Initializing the weights of the embedding\n",
    "        self.layers = layers\n",
    "    # Calling all the layers based on the inputs: Using __call__ for all the layes given all the inputs\n",
    "    def __call__(self, inputs):\n",
    "        for layer in self.layers:\n",
    "            inputs = layer(inputs)\n",
    "        self.out = inputs\n",
    "        return self.out\n",
    "    # Defines a method to return all the parameters used in all the layers in a list\n",
    "    def parameters(self):\n",
    "        return [parameter for layer in self.layers for parameter in layer.parameters()]"
   ]
  },
  {
   "cell_type": "markdown",
   "id": "61f2e1aa-1935-4aab-9952-b508a3528efc",
   "metadata": {
    "jp-MarkdownHeadingCollapsed": true
   },
   "source": [
    "#### Neural Network Initialization - Weights, Biases & Parameters"
   ]
  },
  {
   "cell_type": "code",
   "execution_count": 14,
   "id": "3bce5277-ce80-4fbc-a61e-eee2a1df68dc",
   "metadata": {},
   "outputs": [
    {
     "name": "stdout",
     "output_type": "stream",
     "text": [
      "Number of parameters: 22370\n"
     ]
    }
   ],
   "source": [
    "# We will define a manual seed to give a similar result on your machine, as of my machine\n",
    "torch.manual_seed(69420)\n",
    "embeddingFeatureSpaceLength = 10\n",
    "numberOfHiddenLayerNeurons = 68\n",
    "groups = 2\n",
    "\n",
    "# Initializing the layers into a single list called 'layers', stacking them one after another\n",
    "model = Sequential([\n",
    "    Embedding(vocabularySize, embeddingFeatureSpaceLength),\n",
    "    # Bigram Flatten\n",
    "    ConsecutiveFlatten(groups=groups), Linear(embeddingFeatureSpaceLength * groups, numberOfHiddenLayerNeurons, bias=False), BatchNorm1d(numberOfHiddenLayerNeurons), Tanh(),\n",
    "    # Bi-bigram Flatten\n",
    "    ConsecutiveFlatten(groups=groups), Linear(numberOfHiddenLayerNeurons * groups, numberOfHiddenLayerNeurons, bias=False), BatchNorm1d(numberOfHiddenLayerNeurons), Tanh(),\n",
    "    # Bi-Bi-bigram Flatten\n",
    "    ConsecutiveFlatten(groups=groups), Linear(numberOfHiddenLayerNeurons * groups, numberOfHiddenLayerNeurons, bias=False), BatchNorm1d(numberOfHiddenLayerNeurons), Tanh(),\n",
    "    Linear(numberOfHiddenLayerNeurons, vocabularySize, bias=False),\n",
    "])\n",
    "\n",
    "# Disabling Gradient Tracking\n",
    "with torch.no_grad():\n",
    "    # Making the final activation less confident\n",
    "    model.layers[-1].weights *= 0.1\n",
    "\n",
    "# We initialize all the parameters\n",
    "parameters = model.parameters()\n",
    "# We check the number of parameters by printing its value\n",
    "print(\"Number of parameters:\", sum(parameter.nelement() for parameter in parameters))\n",
    "# We set 'requires_grad' to True in order to track gradients\n",
    "for parameter in parameters:\n",
    "    parameter.requires_grad = True"
   ]
  },
  {
   "cell_type": "markdown",
   "id": "80e2d841-1fb8-4e18-97f3-ccce03234675",
   "metadata": {
    "jp-MarkdownHeadingCollapsed": true
   },
   "source": [
    "#### Forward Pass"
   ]
  },
  {
   "cell_type": "code",
   "execution_count": 15,
   "id": "66a5a3b2-9f35-4684-9c7c-1f72230a319b",
   "metadata": {},
   "outputs": [
    {
     "name": "stdout",
     "output_type": "stream",
     "text": [
      "      0/ 200000: 3.2983\n",
      "  10000/ 200000: 1.7105\n",
      "  20000/ 200000: 2.0210\n",
      "  30000/ 200000: 1.8848\n",
      "  40000/ 200000: 2.0244\n",
      "  50000/ 200000: 1.8346\n",
      "  60000/ 200000: 1.9690\n",
      "  70000/ 200000: 1.6829\n",
      "  80000/ 200000: 1.6780\n",
      "  90000/ 200000: 1.6910\n",
      " 100000/ 200000: 1.5295\n",
      " 110000/ 200000: 1.6481\n",
      " 120000/ 200000: 1.6747\n",
      " 130000/ 200000: 1.6409\n",
      " 140000/ 200000: 1.6980\n",
      " 150000/ 200000: 1.7050\n",
      " 160000/ 200000: 1.5885\n",
      " 170000/ 200000: 1.7374\n",
      " 180000/ 200000: 1.7919\n",
      " 190000/ 200000: 1.6802\n"
     ]
    }
   ],
   "source": [
    "# We want to track the losses that we use in the training\n",
    "losses = []\n",
    "# We define the number of epochs\n",
    "epochs = 200000\n",
    "# We define the batch size\n",
    "batchSize = 128\n",
    "\n",
    "for i in range(epochs):\n",
    "    # Mini-Batches\n",
    "    indexes = torch.randint(low=0, high=trainingInputs.shape[0], size=(batchSize,))\n",
    "    inputBatch, outputBatch = trainingInputs[indexes], trainingOutputs[indexes]\n",
    "    \n",
    "    # Forward Pass (Mini-Batch)\n",
    "    logits = model(inputBatch)\n",
    "    loss = F.cross_entropy(logits, outputBatch)\n",
    "    # Backward Pass (Mini-Batch)\n",
    "    # We reset the gradients\n",
    "    for parameter in parameters:\n",
    "        parameter.grad = None\n",
    "    loss.backward()\n",
    "\n",
    "    # Update Weights (Mini-Batch)\n",
    "    learning_rate = 0.1 if i < 150000 else 0.01\n",
    "    for parameter in parameters:\n",
    "        parameter.data += -learning_rate * parameter.grad\n",
    "\n",
    "    # Tracking the stats\n",
    "    # We append the losses that we use per iteration\n",
    "    if i % 10000 == 0: \n",
    "        print(f'{i:7d}/{epochs:7d}: {loss.item():.4f}')\n",
    "    losses.append(loss.log10().item()) # We do that to squash the steep curve to a nicer graph"
   ]
  },
  {
   "cell_type": "markdown",
   "id": "d4212b27-26d1-4cf7-8399-9c1f7a1a4f62",
   "metadata": {
    "jp-MarkdownHeadingCollapsed": true
   },
   "source": [
    "##### Evaluating Losses"
   ]
  },
  {
   "cell_type": "code",
   "execution_count": 16,
   "id": "077a8aa2-1dcd-4cd5-ad60-9a54a98d8d55",
   "metadata": {},
   "outputs": [
    {
     "name": "stdout",
     "output_type": "stream",
     "text": [
      "Training Loss:1.7204307317733765\n",
      "Validation Loss:1.7969590425491333\n"
     ]
    }
   ],
   "source": [
    "# Decorator for disabling gradient tracking throughout the function underneath\n",
    "@torch.no_grad()\n",
    "def splitLoss(split):\n",
    "    input, output = {\n",
    "        'Training': (trainingInputs, trainingOutputs),\n",
    "        'Validation': (validationInputs, validationOutputs),\n",
    "        'Testing': (testInputs, testOutputs)\n",
    "    }[split]\n",
    "    # Based on the split we can now forward through layers to get the logits\n",
    "    logits = model(input)\n",
    "    loss = F.cross_entropy(logits, output)\n",
    "    print(f\"{split} Loss:{loss.item()}\")\n",
    "# We can then call this method to calculate and print loss\n",
    "splitLoss('Training')\n",
    "splitLoss('Validation')"
   ]
  },
  {
   "cell_type": "markdown",
   "id": "a426b838-c17a-4fcc-bedc-ae3d3df31242",
   "metadata": {},
   "source": [
    "Original Loss:\n",
    "```python\n",
    "Training Loss:1.8957682847976685\n",
    "Validation Loss:1.9175524711608887\n",
    "```\n",
    "\n",
    "Increasing `blockSize` Loss:\n",
    "```python\n",
    "Training Loss:1.7707616090774536\n",
    "Validation Loss:1.81971275806427\n",
    "```\n",
    "\n",
    "Implementing WaveNet for `ConsecutiveFlatten` Loss:\n",
    "```python\n",
    "Training Loss:1.720413088798523\n",
    "Validation Loss:1.7969316244125366\n",
    "```\n",
    "\n",
    "Implementing WaveNet for `ConsecutiveFlatten` and `BatchNorm1d` Loss:\n",
    "```python\n",
    "Training Loss:1.7204307317733765\r\n",
    "Validation Loss:1.7969590425491333\n",
    "```"
   ]
  },
  {
   "cell_type": "markdown",
   "id": "064b6c7a-e96c-44b9-a6a7-15ec072bf7e9",
   "metadata": {},
   "source": [
    "We see that we get a slightly improved statistics as we go forward...\n",
    "\n",
    "We still expect a slightly improved performance because now we are not only estimating the means and the variances of `128` examples in a batch, instead now we are estimating the means and the variances of `128` times `4` groups in a batch, which means that we have a lot more numbers that go into any one estimate of the mean and variance, which makes it a lot more stable and less *wiggly* for those estimates of those statistics...\n",
    "\n",
    "We can now try to scale up the WaveNet now... And try to sample from it... 😊"
   ]
  },
  {
   "cell_type": "markdown",
   "id": "e1c98bb0-79b9-4a38-8cfd-3d35fa3a4c51",
   "metadata": {
    "jp-MarkdownHeadingCollapsed": true
   },
   "source": [
    "# Scaling Up the **WaveNet**"
   ]
  },
  {
   "cell_type": "markdown",
   "id": "07473184-43dc-4939-b847-46c88896125c",
   "metadata": {},
   "source": [
    "We can now push the network futher by increasing the size of the network...\n",
    "\n",
    "I will bump up the value of `embeddingFeatureSpaceLength` from `10` to `24`, and also increase the value of `numberOfHiddenLayerNeurons` to `128`, and evaluate the losses on the exact same architecture..."
   ]
  },
  {
   "cell_type": "markdown",
   "id": "154dcc05-fd02-4f66-b342-2fb725536318",
   "metadata": {
    "jp-MarkdownHeadingCollapsed": true
   },
   "source": [
    "## Building Dataset"
   ]
  },
  {
   "cell_type": "code",
   "execution_count": 6,
   "id": "2b981a66-50c0-4417-bdb0-6df9a10db035",
   "metadata": {},
   "outputs": [
    {
     "name": "stdout",
     "output_type": "stream",
     "text": [
      "Total Examples: 53982\n",
      "Training Examples: 43185\n",
      "Validation Examples: 5398\n",
      "Test Examples: 5399\n"
     ]
    }
   ],
   "source": [
    "# We define a Block Size based on the number of characters we feed are going to feed to predict the next one\n",
    "blockSize = 8\n",
    "# Will build the dataset on only the words we take as input\n",
    "def buildDataset(words):\n",
    "    # We define two lists, inputs & outputs, where inputs are our blocks of the block size mentioned above and outputs are the label indexes\n",
    "    inputs , outputs = [], []\n",
    "    # We iterate over each word\n",
    "    for word in words:\n",
    "        # We define the block for each iteration and fill it with 0 values -> [0, 0, 0]\n",
    "        block = [0] * blockSize\n",
    "        # We run another loop for each word's character, here word also needs the ending token '.'\n",
    "        for character in word + '.':\n",
    "            # We take out the index from our look-up table\n",
    "            index = stoi[character]\n",
    "            # We append the input with our block\n",
    "            inputs.append(block)\n",
    "            # We append the output label with out index of the character\n",
    "            outputs.append([index])\n",
    "            # We then take the block, crop it 1 size from the left and append the next index to it (sliding window of name)\n",
    "            block = block[1:] + [index]\n",
    "    # We also convert these inputs and outputs to tensors for neural network processing\n",
    "    inputs = torch.tensor(inputs)\n",
    "    outputs = torch.flatten(torch.tensor(outputs))\n",
    "    # We return the inputs and outputs\n",
    "    return inputs, outputs\n",
    "\n",
    "# We define a manual seed to random\n",
    "random.seed(69)\n",
    "# We shuffle all the words, so that the model receives all kinds of data\n",
    "random.shuffle(words)\n",
    "# We define two number of inputs\n",
    "# We take the number of examples to 80% in the first variable\n",
    "numberOfInputs1 = int(0.8*len(words))\n",
    "# We take the number of examples to 90% in the first variable\n",
    "numberOfInputs2 = int(0.9*len(words))\n",
    "# Inputs and outputs that go till 80% of the examples\n",
    "trainingInputs, trainingOutputs = buildDataset(words[:numberOfInputs1])\n",
    "# Inputs and outputs that start at 80% of the examples and go till 90% of the examples\n",
    "validationInputs, validationOutputs = buildDataset(words[numberOfInputs1:numberOfInputs2])\n",
    "# Inputs and outputs that start at 90% of the examples\n",
    "testInputs, testOutputs = buildDataset(words[numberOfInputs2:])\n",
    "\n",
    "# We can check the numbers\n",
    "print(\"Total Examples:\",len(words)) # 100%\n",
    "print(\"Training Examples:\",len(words[:numberOfInputs1])) # 80%\n",
    "print(\"Validation Examples:\",len(words[numberOfInputs1:numberOfInputs2])) # 10%\n",
    "print(\"Test Examples:\",len(words[numberOfInputs2:])) # 10%"
   ]
  },
  {
   "cell_type": "markdown",
   "id": "f1056eb6-cead-41a9-9e59-3514ec583542",
   "metadata": {
    "jp-MarkdownHeadingCollapsed": true
   },
   "source": [
    "## Modular Block Definition"
   ]
  },
  {
   "cell_type": "code",
   "execution_count": 7,
   "id": "f89af18a-cc30-4f9f-b746-d83777529084",
   "metadata": {},
   "outputs": [],
   "source": [
    "class Linear:\n",
    "    # Constructor to initialize the weights and biases\n",
    "    def __init__(self, fan_in, fan_out, bias=True):\n",
    "        # We initialize the weights using fan-in and fan-out and use the kaiming initialization which is the square root of fan-in\n",
    "        self.weights = torch.randn((fan_in, fan_out)) / fan_in**0.5\n",
    "        # We initilize the biases using fan-out and set them to 0 values if bias is set to True else we set it to None\n",
    "        self.biases = torch.zeros(fan_out) if bias else None\n",
    "    # Defines how we forward pass these layers which is (y = wx + b)\n",
    "    def __call__(self, inputs):\n",
    "        # (w*x)\n",
    "        self.out = inputs @ self.weights\n",
    "        # Checking if we have a bias\n",
    "        if self.biases is not None:\n",
    "            # (wx) + b\n",
    "            self.out += self.biases\n",
    "        # We return (y = wx + b)\n",
    "        return self.out\n",
    "    # Defines a method to return all the parameters used by this layer\n",
    "    def parameters(self):\n",
    "        # If bias is there return (w*x + b) else return (w*x)\n",
    "        return [self.weights] + ([] if self.biases is None else [self.biases])\n",
    "class BatchNorm1d:\n",
    "    # Constructor to initialize the gain, bias, and the buffers (running mean and running variance) using the dimensions we get\n",
    "    def __init__(self, dimensions, epsilon=1e-5, momentum=0.1, training=True):\n",
    "        self.epsilon = epsilon\n",
    "        self.momentum = momentum\n",
    "        # Parameters using dimensions\n",
    "        # We initialize the gains to 1 values of dimensions\n",
    "        self.gamma = torch.ones(dimensions)\n",
    "        # We initialize the bias to 0 values of dimensions\n",
    "        self.beta = torch.zeros(dimensions)\n",
    "        # Buffers\n",
    "        # We initialize the running mean to 0 values of dimensions\n",
    "        self.running_mean = torch.zeros(dimensions)\n",
    "        # We initialize the running variance to 1 values of dimensions\n",
    "        self.running_variance = torch.ones(dimensions)\n",
    "        # We initialize a checker parameter that checks whether we are training or not (We will discuss this later) \n",
    "        self.training = training\n",
    "    # Forward Pass and Buffer Updation based on the inputs\n",
    "    def __call__(self, inputs):\n",
    "        # Forward Pass\n",
    "        # ------------\n",
    "        # If training is set to true we will calculate the mean and variance estimated from the current batch of inputs\n",
    "        if self.training:\n",
    "            # Checking if the inputs are 2-dimensional\n",
    "            if inputs.ndim == 2:\n",
    "                # Setting the dimension to reduce over to 0\n",
    "                dimensions = 0\n",
    "            # Checking if the inputs are 3-dimensional\n",
    "            elif inputs.ndim == 3:\n",
    "                # Setting the dimension to reduce over to (0, 1)\n",
    "                dimensions = 0\n",
    "            # Initializing mean of current batch of inputs along dimensions and keeping the dimensions\n",
    "            input_mean = inputs.mean(dimensions, keepdim=True)\n",
    "            # Initializing variance of current batch of inputs along dimensions and keeping the dimensions\n",
    "            input_variance = inputs.var(dimensions, keepdim=True)\n",
    "        # If not training, we will use the running mean and variance of the inputs of the saved values\n",
    "        else:\n",
    "            input_mean = self.running_mean\n",
    "            input_variance = self.running_variance\n",
    "        # We center the inputs around zero and scaling it to have unit variance using the defined formula\n",
    "        unit_variance = (inputs - input_mean) / torch.sqrt(input_variance) + self.epsilon\n",
    "        # After calulating the unit_variance we can perform the operation (y = wx + b) on this layer\n",
    "        self.out = self.gamma * unit_variance + self.beta\n",
    "        # ------------\n",
    "        # Buffer Updation\n",
    "        # ------------\n",
    "        # If training is set to true we will update the running mean and variance estimated from the momentum (without gradient updation)\n",
    "        if self.training:\n",
    "            # We disable gradient updation\n",
    "            with torch.no_grad():\n",
    "                # We perform (batchRunningMean = 0.999 * batchRunningMean + 0.001 * batchMeanAtIteration)\n",
    "                self.running_mean = (1 - self.momentum) * self.running_mean + self.momentum * input_mean\n",
    "                # We perform (batchRunningStandardDeviation = 0.999 * batchRunningStandardDeviation + 0.001 * batchStandardDeviationAtIteration)\n",
    "                self.running_variance = (1 - self.momentum) * self.running_variance + self.momentum * input_variance\n",
    "        # We return the (y = wx + b) after all the calculations are done (if any)\n",
    "        return self.out\n",
    "        # ------------\n",
    "    # Defines a method to return all the parameters used by this layer\n",
    "    def parameters(self):\n",
    "        # We return the parameters (gamma and beta)\n",
    "        return [self.gamma, self.beta]\n",
    "class Tanh:\n",
    "    def __call__(self, inputs):\n",
    "        # Calculates tanh based on the inputs\n",
    "        self.out = torch.tanh(inputs)\n",
    "        return self.out\n",
    "    # Returns an empty list because there are no paramters in this layer\n",
    "    def parameters(self):\n",
    "        return []\n",
    "class Embedding:\n",
    "    # Constructor to initialize the weights of the embedding\n",
    "    def __init__(self, num_embeddings, embedding_dim):\n",
    "        # Initializing the weights of the embedding\n",
    "        self.weights = torch.randn((num_embeddings, embedding_dim))\n",
    "    # The indexing operation in the forward pass : Similar to -> embedding = embeddingLookUpMatrix[inputBatch]\n",
    "    def __call__(self, indexes):\n",
    "        self.out = self.weights[indexes]\n",
    "        return self.out\n",
    "    # Defines a method to return all the parameters used by this layer in a list (weights)\n",
    "    def parameters(self):\n",
    "        return [self.weights]\n",
    "class ConsecutiveFlatten:\n",
    "     # Constructor to initialize the number of groups\n",
    "    def __init__(self, groups):\n",
    "        # Initializing the groups \n",
    "        self.groups = groups\n",
    "    # Concatenation operation in the forward pass : Flatten in groups\n",
    "    def __call__(self, inputs):\n",
    "        # Takes out each dimension from the inputs\n",
    "        batch, charactersInBlock, embeddings = inputs.shape\n",
    "        # Views as the desired group size\n",
    "        outputs = inputs.view(batch, charactersInBlock//self.groups, embeddings*self.groups)\n",
    "        # Checks if dimension 1 creates a spurious dimension\n",
    "        if outputs.shape[1] == 1:\n",
    "            # Squeezes out the dimension 1 to keep it from creating a spurious dimension\n",
    "            outputs = outputs.squeeze(dim=1)\n",
    "        self.out = outputs\n",
    "        return self.out\n",
    "    # Defines a method to return all the parameters used by this layer in a list (empty list)\n",
    "    def parameters(self):\n",
    "        return []\n",
    "class Sequential:\n",
    "     # Constructor to initialize the layers\n",
    "    def __init__(self, layers):\n",
    "        # Initializing the weights of the embedding\n",
    "        self.layers = layers\n",
    "    # Calling all the layers based on the inputs: Using __call__ for all the layes given all the inputs\n",
    "    def __call__(self, inputs):\n",
    "        for layer in self.layers:\n",
    "            inputs = layer(inputs)\n",
    "        self.out = inputs\n",
    "        return self.out\n",
    "    # Defines a method to return all the parameters used in all the layers in a list\n",
    "    def parameters(self):\n",
    "        return [parameter for layer in self.layers for parameter in layer.parameters()]"
   ]
  },
  {
   "cell_type": "markdown",
   "id": "ad8391eb-4abd-45f6-ba96-1cd1963c0b56",
   "metadata": {
    "jp-MarkdownHeadingCollapsed": true
   },
   "source": [
    "## Neural Network Initialization - Weights, Biases & Parameters"
   ]
  },
  {
   "cell_type": "code",
   "execution_count": 8,
   "id": "d415ed58-c827-4044-836a-231b6fd27b25",
   "metadata": {},
   "outputs": [
    {
     "name": "stdout",
     "output_type": "stream",
     "text": [
      "Number of parameters: 76552\n"
     ]
    }
   ],
   "source": [
    "# We will define a manual seed to give a similar result on your machine, as of my machine\n",
    "torch.manual_seed(69420)\n",
    "embeddingFeatureSpaceLength = 24\n",
    "numberOfHiddenLayerNeurons = 128\n",
    "groups = 2\n",
    "\n",
    "# Initializing the layers into a single list called 'layers', stacking them one after another\n",
    "model = Sequential([\n",
    "    Embedding(vocabularySize, embeddingFeatureSpaceLength),\n",
    "    # Bigram Flatten\n",
    "    ConsecutiveFlatten(groups=groups), Linear(embeddingFeatureSpaceLength * groups, numberOfHiddenLayerNeurons, bias=False), BatchNorm1d(numberOfHiddenLayerNeurons), Tanh(),\n",
    "    # Bi-bigram Flatten\n",
    "    ConsecutiveFlatten(groups=groups), Linear(numberOfHiddenLayerNeurons * groups, numberOfHiddenLayerNeurons, bias=False), BatchNorm1d(numberOfHiddenLayerNeurons), Tanh(),\n",
    "    # Bi-Bi-bigram Flatten\n",
    "    ConsecutiveFlatten(groups=groups), Linear(numberOfHiddenLayerNeurons * groups, numberOfHiddenLayerNeurons, bias=False), BatchNorm1d(numberOfHiddenLayerNeurons), Tanh(),\n",
    "    Linear(numberOfHiddenLayerNeurons, vocabularySize, bias=False),\n",
    "])\n",
    "\n",
    "# Disabling Gradient Tracking\n",
    "with torch.no_grad():\n",
    "    # Making the final activation less confident\n",
    "    model.layers[-1].weights *= 0.1\n",
    "\n",
    "# We initialize all the parameters\n",
    "parameters = model.parameters()\n",
    "# We check the number of parameters by printing its value\n",
    "print(\"Number of parameters:\", sum(parameter.nelement() for parameter in parameters))\n",
    "# We set 'requires_grad' to True in order to track gradients\n",
    "for parameter in parameters:\n",
    "    parameter.requires_grad = True"
   ]
  },
  {
   "cell_type": "markdown",
   "id": "d0883447-aef6-480c-beb1-13132d322a87",
   "metadata": {
    "jp-MarkdownHeadingCollapsed": true
   },
   "source": [
    "## Forward Pass"
   ]
  },
  {
   "cell_type": "code",
   "execution_count": 9,
   "id": "adbae448-fb25-49d9-ba0f-34c7ac57a907",
   "metadata": {},
   "outputs": [
    {
     "name": "stdout",
     "output_type": "stream",
     "text": [
      "      0/ 200000: 3.2992\n",
      "  10000/ 200000: 1.9408\n",
      "  20000/ 200000: 1.8636\n",
      "  30000/ 200000: 1.7191\n",
      "  40000/ 200000: 1.6555\n",
      "  50000/ 200000: 1.7864\n",
      "  60000/ 200000: 1.7578\n",
      "  70000/ 200000: 1.7906\n",
      "  80000/ 200000: 1.7198\n",
      "  90000/ 200000: 1.8472\n",
      " 100000/ 200000: 1.5488\n",
      " 110000/ 200000: 1.8393\n",
      " 120000/ 200000: 1.8030\n",
      " 130000/ 200000: 1.5182\n",
      " 140000/ 200000: 1.6534\n",
      " 150000/ 200000: 1.5239\n",
      " 160000/ 200000: 1.5851\n",
      " 170000/ 200000: 1.6528\n",
      " 180000/ 200000: 1.6250\n",
      " 190000/ 200000: 1.5788\n"
     ]
    }
   ],
   "source": [
    "# We want to track the losses that we use in the training\n",
    "losses = []\n",
    "# We define the number of epochs\n",
    "epochs = 200000\n",
    "# We define the batch size\n",
    "batchSize = 128\n",
    "\n",
    "for i in range(epochs):\n",
    "    # Mini-Batches\n",
    "    indexes = torch.randint(low=0, high=trainingInputs.shape[0], size=(batchSize,))\n",
    "    inputBatch, outputBatch = trainingInputs[indexes], trainingOutputs[indexes]\n",
    "    \n",
    "    # Forward Pass (Mini-Batch)\n",
    "    logits = model(inputBatch)\n",
    "    loss = F.cross_entropy(logits, outputBatch)\n",
    "    # Backward Pass (Mini-Batch)\n",
    "    # We reset the gradients\n",
    "    for parameter in parameters:\n",
    "        parameter.grad = None\n",
    "    loss.backward()\n",
    "\n",
    "    # Update Weights (Mini-Batch)\n",
    "    learning_rate = 0.1 if i < 150000 else 0.01\n",
    "    for parameter in parameters:\n",
    "        parameter.data += -learning_rate * parameter.grad\n",
    "\n",
    "    # Tracking the stats\n",
    "    # We append the losses that we use per iteration\n",
    "    if i % 10000 == 0: \n",
    "        print(f'{i:7d}/{epochs:7d}: {loss.item():.4f}')\n",
    "    losses.append(loss.log10().item()) # We do that to squash the steep curve to a nicer graph"
   ]
  },
  {
   "cell_type": "markdown",
   "id": "7fd59d9b-acac-4a15-80f0-f1b6de9644d9",
   "metadata": {
    "jp-MarkdownHeadingCollapsed": true
   },
   "source": [
    "### Evaluating Losses"
   ]
  },
  {
   "cell_type": "code",
   "execution_count": 10,
   "id": "f9dd5bbf-59e4-4f78-8c91-f05f80367820",
   "metadata": {},
   "outputs": [
    {
     "name": "stdout",
     "output_type": "stream",
     "text": [
      "Training Loss:1.5872479677200317\n",
      "Validation Loss:1.77836275100708\n"
     ]
    }
   ],
   "source": [
    "# Decorator for disabling gradient tracking throughout the function underneath\n",
    "@torch.no_grad()\n",
    "def splitLoss(split):\n",
    "    input, output = {\n",
    "        'Training': (trainingInputs, trainingOutputs),\n",
    "        'Validation': (validationInputs, validationOutputs),\n",
    "        'Testing': (testInputs, testOutputs)\n",
    "    }[split]\n",
    "    # Based on the split we can now forward through layers to get the logits\n",
    "    logits = model(input)\n",
    "    loss = F.cross_entropy(logits, output)\n",
    "    print(f\"{split} Loss:{loss.item()}\")\n",
    "# We can then call this method to calculate and print loss\n",
    "splitLoss('Training')\n",
    "splitLoss('Validation')"
   ]
  },
  {
   "cell_type": "markdown",
   "id": "c82a7c01-b226-440a-bd87-16b6d188a990",
   "metadata": {},
   "source": [
    "Original Loss:\n",
    "```python\n",
    "Training Loss:1.8957682847976685\n",
    "Validation Loss:1.9175524711608887\n",
    "```\n",
    "\n",
    "Increasing `blockSize` Loss:\n",
    "```python\n",
    "Training Loss:1.7707616090774536\n",
    "Validation Loss:1.81971275806427\n",
    "```\n",
    "\n",
    "Implementing WaveNet for `ConsecutiveFlatten` Loss:\n",
    "```python\n",
    "Training Loss:1.720413088798523\n",
    "Validation Loss:1.7969316244125366\n",
    "```\n",
    "\n",
    "Implementing WaveNet for `ConsecutiveFlatten` and `BatchNorm1d` Loss:\n",
    "```python\n",
    "Training Loss:1.7204307317733765\n",
    "Validation Loss:1.7969590425491333\n",
    "```\n",
    "\n",
    "Scaling Up WaveNet Loss:\n",
    "```python\n",
    "Training Loss:1.5872479677200317\r\n",
    "Validation Loss:1.77836275100708\n",
    "```"
   ]
  },
  {
   "cell_type": "markdown",
   "id": "43d9da6d-6aca-440f-be96-577965e0fbae",
   "metadata": {
    "jp-MarkdownHeadingCollapsed": true
   },
   "source": [
    "#### Plotting Losses"
   ]
  },
  {
   "cell_type": "code",
   "execution_count": 11,
   "id": "70ae0f5c-5a28-407d-ae00-32b0d07ccf7d",
   "metadata": {},
   "outputs": [
    {
     "data": {
      "text/plain": [
       "[<matplotlib.lines.Line2D at 0x1ea169c50d0>]"
      ]
     },
     "execution_count": 11,
     "metadata": {},
     "output_type": "execute_result"
    },
    {
     "data": {
      "image/png": "[encoded data removed]",
      "text/plain": [
       "<Figure size 640x480 with 1 Axes>"
      ]
     },
     "metadata": {},
     "output_type": "display_data"
    }
   ],
   "source": [
    "plt.plot(torch.tensor(losses).view(-1, 1000).mean(1))"
   ]
  },
  {
   "cell_type": "markdown",
   "id": "314e3a62-1524-4bad-90c1-b0480992d697",
   "metadata": {},
   "source": [
    "Notice how the `losses` after `150000` epochs in the graph come down in a steep curve, and is more visible now?\n",
    "\n",
    "This is the `learning rate decay` we talked about..."
   ]
  },
  {
   "cell_type": "markdown",
   "id": "47b5a67e-6dcf-49fa-be74-359f77fdf989",
   "metadata": {
    "jp-MarkdownHeadingCollapsed": true
   },
   "source": [
    "## Sampling from the Neural Network"
   ]
  },
  {
   "cell_type": "code",
   "execution_count": 12,
   "id": "8b605942-01bf-44fe-b9f9-2cd6fce5e28f",
   "metadata": {},
   "outputs": [
    {
     "name": "stdout",
     "output_type": "stream",
     "text": [
      "harieswarupakar.\n",
      "rithish.\n",
      "jeyanes.\n",
      "premlathi.\n",
      "roopashan.\n",
      "revansh.\n",
      "bilaan.\n",
      "budhvinga.\n",
      "ratheekan.\n",
      "elangrea.\n",
      "uthusa.\n",
      "seyaapahi.\n",
      "abinavi.\n",
      "nivushen.\n",
      "sashikaa.\n",
      "thirugan.\n",
      "vidyanna.\n",
      "dashini.\n",
      "priyanga.\n",
      "kowshiba.\n"
     ]
    }
   ],
   "source": [
    "# We define a Block Size based on the number of characters we feed are going to feed to predict the next one\n",
    "blockSize = 8\n",
    "# We will define a generator to give the same result on your machine, as of my machine\n",
    "numberOfWordsToSample = 20\n",
    "\n",
    "for layer in model.layers:\n",
    "    layer.training = False\n",
    "\n",
    "# We iterate over the number of words we want to predict\n",
    "for _ in range(numberOfWordsToSample):\n",
    "    # We define a output list to append the next character and print it at the end\n",
    "    output = []\n",
    "    # We define the block for each iteration and fill it with 0 values -> [0, 0, 0]\n",
    "    block = [0] * blockSize\n",
    "\n",
    "    # We will now iterate over each word's characters\n",
    "    while True:\n",
    "        # Now we simply call the model on the context\n",
    "        logits = model(torch.tensor([block]))\n",
    "        # Apply softmax\n",
    "        probabilities = F.softmax(logits, dim=1)\n",
    "        # We can now sample the next character\n",
    "        index = torch.multinomial(probabilities, num_samples=1).item()\n",
    "        # We then take the block, crop it 1 size from the left and append the next index to it (sliding window of name)\n",
    "        block = block[1:] + [index]\n",
    "        # We then append the sampled character to the output\n",
    "        output.append(index)\n",
    "        # If we hit '.' end token, we will break out from the loop\n",
    "        if index == 0:\n",
    "            break\n",
    "    # We print generated name out\n",
    "    print(''.join(itos[index] for index in output))"
   ]
  },
  {
   "cell_type": "markdown",
   "id": "0b13ee77-bb3e-4de1-85b9-32c70741a403",
   "metadata": {},
   "source": [
    "We see that we have beaten our older loss and are getting much nicer performance in terms of the names...\n",
    "\n",
    "But we are still taking a lot of time to train now and we are missing out the experimental harness that could be used to really tune these architecture pretty well. And we are only looking at the training loss, but instead if we really want to do statistics, we have to look at both training and validation losses...\n",
    "\n",
    "And we did not implement the Residual Connections and Skip Connections as well from the WaveNet paper:\n",
    "![WaveNet: Architecture](ExplanationMedia/Images/ResidualBlockArchitectureOverview.png)\n",
    "\n",
    "I want to discuss some more things as well..."
   ]
  },
  {
   "cell_type": "markdown",
   "id": "912eedcb-0dc3-4f36-a08b-8de3dda8034b",
   "metadata": {
    "jp-MarkdownHeadingCollapsed": true
   },
   "source": [
    "# Relation of WaveNet with Convolutional Neural Networks (CNNs)"
   ]
  },
  {
   "cell_type": "markdown",
   "id": "d8956f12-4ba5-492a-8589-f649c7e07db9",
   "metadata": {},
   "source": [
    "I want to discuss how what we have done here in this notebook, relates to **Convolutional Neural Networks (CNNs)**, as used in a WaveNet paper..."
   ]
  },
  {
   "cell_type": "markdown",
   "id": "a3410953-b7a9-4ee8-9f99-25498bcc3a33",
   "metadata": {},
   "source": [
    "Basically, the use of **convolutions** are strictly for efficiency, and doesn't actually change the model that we have implemented here..."
   ]
  },
  {
   "cell_type": "markdown",
   "id": "8878606c-8ac4-4708-a934-38359a93118b",
   "metadata": {},
   "source": [
    "First of all, **what are convolutions**?\n",
    "\n",
    "In mathematics (in particular, functional analysis), **convolution** is a mathematical operation on two functions that produces a third function. The term convolution refers to both the result function and to the process of computing it.\n",
    "\n",
    "And `Convolutional Neural Networks (CNNs)` look at lot like this:\n",
    "![Masked Convolutions](ExplanationMedia/Images/Convolutions.gif)\n",
    "\n",
    "Confusing? We'll come to this later..."
   ]
  },
  {
   "cell_type": "markdown",
   "id": "62b04654-30ef-4e2c-b55e-b75e4bfb33e3",
   "metadata": {},
   "source": [
    "Let's look at the architecture we have implemented first here...\n",
    "\n",
    "![Masked Convolutions](ExplanationMedia/Images/MaskedConvolutions.png)"
   ]
  },
  {
   "cell_type": "markdown",
   "id": "30fa11e4-e222-495f-92a8-4f944a499b4a",
   "metadata": {},
   "source": [
    "Let's take a small example to explain this...\n",
    "\n",
    "Let's take a single name from our datset `Indian_Names.txt` like this from our training set:\n",
    "```python\n",
    "for example, label in zip(trainingInputs[0:8], trainingOutputs[0:8]):\n",
    "    print(''.join(itos[index.item()] for index in example), '-->', itos[label.item()])\n",
    "```\n",
    "For which we get the name:\n",
    "```python\n",
    "'........' --> 's'\n",
    "'.......s' --> 'a'\n",
    "'......sa' --> 'j'\n",
    "'.....saj' --> 'u'\n",
    "'....saju' --> 'b'\n",
    "'...sajub' --> 'a'\n",
    "'..sajuba' --> 'n'\n",
    "'.sajuban' --> '.'\n",
    "```\n",
    "It seems to have `7` letters, and thus has `8` independent examples..."
   ]
  },
  {
   "cell_type": "markdown",
   "id": "b5439b1d-e9b4-42c2-8c14-d914bc10b1cf",
   "metadata": {},
   "source": [
    "If we look at `trainingInputs[0]`, we see that we get a single example `tensor([0, 0, 0, 0, 0, 0, 0, 0])`. And if we try to look at the `shape` of it we see that we get `torch.Size([8])` which is nothing but a `1-dimensional` array of `8` characters in a sequence.\n",
    "\n",
    "But right now we cannot use this single example to forward it into the model. That is because it does not contain any **batch-dimension**.\n",
    "\n",
    "So if you try to call the model like this on this example:\n",
    "```python\n",
    "logits = model(trainingInputs[0])\n",
    "```\n",
    "We would get an error like this: `ValueError: not enough values to unpack (expected 3, got 2)`\n",
    "\n",
    "Instead we want add a **batch-dimension** to forward this single example, and the way to do that is wrap it in a single dimensional list like `trainingInputs[[0]]`, and if we now look at it, it look something like `tensor([[0, 0, 0, 0, 0, 0, 0, 0]])`. And if we now try to look at the `shape` of it we see that we get `torch.Size([1, 8])`, which means that we get an extra **batch-dimension** of `1` and then we can forward the input to the model like this:\n",
    "```python\n",
    "logits = model(trainingInputs[[0]])\n",
    "```\n",
    "And if we look at the shape of the `logits` now, we get `torch.Size([1, 27])`, which seems to be correct.\n",
    "\n",
    "This looks to be *okay*, but don't you think we want to forward all of these examples, to the model at the **same** time to train it?\n",
    "\n",
    "So to do that let's allocate some space for our `logits` like this:\n",
    "```python\n",
    "logits = torch.zeros(8, 27) # 8 Examples with Probabilities of 27 Characters\n",
    "```\n",
    "\n",
    "So we can now do a `for-loop` for all the examples (which is `8` in our case) to forward all the examples to the model like this:\n",
    "```python\n",
    "for i in range(8):\n",
    "    logits[i] = model(trainingInputs[[0+i]])\n",
    "```\n",
    "\n",
    "And if we look at the `shape of logits` now, we get `torch.Size([8, 27])`, which is nothing but `8` Examples with Probabilities of `27` Characters..."
   ]
  },
  {
   "cell_type": "markdown",
   "id": "6ceafcef-b1e7-4ccd-9997-773ebae5a1fe",
   "metadata": {},
   "source": [
    "Notice how the `for-loop` iterates over each sequence in the training data, one at a time. This can be seen as **sliding a virtual window over the input sequence**, where the window covers one sequence at each step.\n",
    "\n",
    "And inside the loop, the model processes each input sequence using `model(trainingInputs[[0+i]])`. This is similar to applying a transformation (like a `filter`) to the input sequence within the sliding window.\n",
    "\n",
    "And this `for-loop` can be done, not outside in python, but inside of kernels in `cuda`, and so this `for-loop` gets **hidden** into the convolution.\n",
    "\n",
    "So, we can think of **convolutions** as a `for-loop`, applying a little `linear-filter` over space of some input sequence.\n",
    "\n",
    "In our case, the space we are interested in is `1-dimensional` and we're interested in sliding these filters over the input data."
   ]
  },
  {
   "cell_type": "markdown",
   "id": "ec34f05c-d8b8-4f79-a8a4-b50f1eecc46b",
   "metadata": {},
   "source": [
    "Let's look at this diagram now:\n",
    "![Masked Convolutions](ExplanationMedia/Images/MaskedConvolutionsRelationWithCNN.png)"
   ]
  },
  {
   "cell_type": "markdown",
   "id": "4bb52b28-d032-4ef1-a571-e484ffbc12bd",
   "metadata": {},
   "source": [
    "We have implemented this architecutre of *highlighted-black-tree* of this calculation, of just calculating a single example. But what **convolutions** allow us to do is, it allows us to take the *highlighted-black-structure* and **slide** it over the input sequence and calculate all the *un-highlighted* outputs at the **same** time. (Which corresponds to calculating all the outputs of the name 'sajuban' at the same time, for our case example)."
   ]
  },
  {
   "cell_type": "markdown",
   "id": "92d86ad2-7ebe-4e18-9581-800e1e57a990",
   "metadata": {},
   "source": [
    "Let's understand how convolutions are efficient now...\n",
    "\n",
    "1. The `for-loop` happens within the `cuda` kernels\n",
    "2. Notice the *variable re-use* within the diagram\n",
    "\n",
    "See how the encircled node is the right child of another node, and left child of another?\n",
    "\n",
    "Which means the value of the same node is used **twice** .\n",
    "\n",
    "Right now what we have is, we have to recalculte this value, but in convolutions we are allowed to reuse it."
   ]
  },
  {
   "cell_type": "markdown",
   "id": "d62d344e-e013-4503-be0e-4b1fff50caed",
   "metadata": {},
   "source": [
    "In **convolutions**, we think of these `Linear` layers that we have up-above as `filters` and we take these `linear-filters` and we *slide* them over the input sequence for each of these layers in a sandwich. And these are all done very efficiently during convolutions...\n",
    "\n",
    "And we will cover that in a future **notebook**... "
   ]
  },
  {
   "cell_type": "markdown",
   "id": "37ddca33-b988-45d1-8981-2aac413fe00b",
   "metadata": {},
   "source": [
    "And I also invite you to beat my `loss` and tune the `hyper-parameters` in order to get a more efficient and better model, because we are still missing a lot of **experimental harness** that we typically do when training a deep neural network, and we will cover it in future..."
   ]
  },
  {
   "cell_type": "markdown",
   "id": "268d7953-8dbd-4e9f-92f1-8e0e37f40053",
   "metadata": {
    "jp-MarkdownHeadingCollapsed": true
   },
   "source": [
    "# Bonus - Trying to Sample A Name"
   ]
  },
  {
   "cell_type": "markdown",
   "id": "deb9ace0-ba10-4b75-9874-312f0e93dbaa",
   "metadata": {},
   "source": [
    "Let's try to sample a name by setting half of the name, and watching if it can generate the rest of it..."
   ]
  },
  {
   "cell_type": "code",
   "execution_count": 12,
   "id": "4390dcd2-babc-42d7-97a7-5a2a0da566cf",
   "metadata": {},
   "outputs": [
    {
     "data": {
      "text/plain": [
       "[1, 2, 8, 9]"
      ]
     },
     "execution_count": 12,
     "metadata": {},
     "output_type": "execute_result"
    }
   ],
   "source": [
    "halfName = \"abhi\"\n",
    "initials = list(map(lambda character: stoi[character], halfName))\n",
    "initials"
   ]
  },
  {
   "cell_type": "markdown",
   "id": "d2767f06-66e9-425f-ace1-4912e487feca",
   "metadata": {},
   "source": [
    "We can take these initials to make it a full length block now, that corresponds to our `blockSize` and we can forward it into our network during sampling..."
   ]
  },
  {
   "cell_type": "code",
   "execution_count": 13,
   "id": "04a0451b-7d42-43c8-8ba8-1237e2397080",
   "metadata": {},
   "outputs": [
    {
     "data": {
      "text/plain": [
       "[0, 0, 0, 0, 1, 2, 8, 9]"
      ]
     },
     "execution_count": 13,
     "metadata": {},
     "output_type": "execute_result"
    }
   ],
   "source": [
    "context = [0] * (blockSize - len(initials)) + initials\n",
    "context"
   ]
  },
  {
   "cell_type": "markdown",
   "id": "3c5ff7ad-a21d-4839-a2e0-8d2c142c2cc3",
   "metadata": {},
   "source": [
    "Now we can forward the context into the sampling code to make it generate the rest of it..."
   ]
  },
  {
   "cell_type": "code",
   "execution_count": 14,
   "id": "b1ecccb8-8770-44b4-90d2-8958cc7c2972",
   "metadata": {},
   "outputs": [
    {
     "name": "stdout",
     "output_type": "stream",
     "text": [
      "abhirathna.\n",
      "abhianie.\n",
      "abhi.\n",
      "abhi.\n",
      "abhi.\n",
      "abhirenith.\n",
      "abhia.\n",
      "abhi.\n",
      "abhi.\n",
      "abhi.\n"
     ]
    }
   ],
   "source": [
    "# We define a Block Size based on the number of characters we feed are going to feed to predict the next one\n",
    "blockSize = 8\n",
    "# We will define a generator to give the same result on your machine, as of my machine\n",
    "numberOfWordsToSample = 10\n",
    "\n",
    "for layer in model.layers:\n",
    "    layer.training = False\n",
    "\n",
    "# We iterate over the number of words we want to predict\n",
    "for _ in range(numberOfWordsToSample):\n",
    "    # We define a output list to append the next character and print it at the end\n",
    "    output = initials.copy()\n",
    "    # We will now iterate over each word's characters\n",
    "    while True:\n",
    "        # Now we simply call the model on the context\n",
    "        logits = model(torch.tensor([context]))\n",
    "        # Apply softmax\n",
    "        probabilities = F.softmax(logits, dim=1)\n",
    "        # We can now sample the next character\n",
    "        index = torch.multinomial(probabilities, num_samples=1).item()\n",
    "        # We then take the block, crop it 1 size from the left and append the next index to it (sliding window of name)\n",
    "        context = context[1:] + [index]\n",
    "        # We then append the sampled character to the output\n",
    "        output.append(index)\n",
    "        # If we hit '.' end token, we will break out from the loop\n",
    "        if index == 0:\n",
    "            break\n",
    "    # We print generated name out\n",
    "    print(''.join(itos[index] for index in output))"
   ]
  }
 ],
 "metadata": {
  "kernelspec": {
   "display_name": "Python 3 (ipykernel)",
   "language": "python",
   "name": "python3"
  },
  "language_info": {
   "codemirror_mode": {
    "name": "ipython",
    "version": 3
   },
   "file_extension": ".py",
   "mimetype": "text/x-python",
   "name": "python",
   "nbconvert_exporter": "python",
   "pygments_lexer": "ipython3",
   "version": "3.11.7"
  }
 },
 "nbformat": 4,
 "nbformat_minor": 5
}
