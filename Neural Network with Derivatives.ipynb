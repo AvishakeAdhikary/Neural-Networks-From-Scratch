{
 "cells": [
  {
   "cell_type": "markdown",
   "id": "f01cb0e7-db31-4865-b2b9-c732c46b6a24",
   "metadata": {},
   "source": [
    "# Neural Networks with Derivatives"
   ]
  },
  {
   "cell_type": "markdown",
   "id": "7591e9fe-adae-4f00-8659-eaa2219d2c06",
   "metadata": {},
   "source": [
    "# Installing Dependencies"
   ]
  },
  {
   "cell_type": "markdown",
   "id": "da314e45-ecda-4201-8248-9bf8a9fa05d3",
   "metadata": {},
   "source": [
    "- networkx is for visualizing graphs\n",
    "- numpy is for array manipulation\n",
    "- pandas is for data manipulations in form of tables\n",
    "- matplotlib is for plotting data and visualization"
   ]
  },
  {
   "cell_type": "code",
   "execution_count": 1,
   "id": "3d0d40dc-8361-4b68-89cb-1848319aed30",
   "metadata": {},
   "outputs": [
    {
     "name": "stdout",
     "output_type": "stream",
     "text": [
      "Requirement already satisfied: networkx in c:\\users\\avhis\\appdata\\local\\programs\\python\\python312\\lib\\site-packages (3.2.1)\n",
      "Requirement already satisfied: numpy in c:\\users\\avhis\\appdata\\local\\programs\\python\\python312\\lib\\site-packages (1.26.3)\n",
      "Requirement already satisfied: pandas in c:\\users\\avhis\\appdata\\local\\programs\\python\\python312\\lib\\site-packages (2.1.4)\n",
      "Requirement already satisfied: numpy<2,>=1.26.0 in c:\\users\\avhis\\appdata\\local\\programs\\python\\python312\\lib\\site-packages (from pandas) (1.26.3)\n",
      "Requirement already satisfied: python-dateutil>=2.8.2 in c:\\users\\avhis\\appdata\\local\\programs\\python\\python312\\lib\\site-packages (from pandas) (2.8.2)\n",
      "Requirement already satisfied: pytz>=2020.1 in c:\\users\\avhis\\appdata\\local\\programs\\python\\python312\\lib\\site-packages (from pandas) (2023.3.post1)\n",
      "Requirement already satisfied: tzdata>=2022.1 in c:\\users\\avhis\\appdata\\local\\programs\\python\\python312\\lib\\site-packages (from pandas) (2023.4)\n",
      "Requirement already satisfied: six>=1.5 in c:\\users\\avhis\\appdata\\local\\programs\\python\\python312\\lib\\site-packages (from python-dateutil>=2.8.2->pandas) (1.16.0)\n",
      "Requirement already satisfied: matplotlib in c:\\users\\avhis\\appdata\\local\\programs\\python\\python312\\lib\\site-packages (3.8.2)\n",
      "Requirement already satisfied: contourpy>=1.0.1 in c:\\users\\avhis\\appdata\\local\\programs\\python\\python312\\lib\\site-packages (from matplotlib) (1.2.0)\n",
      "Requirement already satisfied: cycler>=0.10 in c:\\users\\avhis\\appdata\\local\\programs\\python\\python312\\lib\\site-packages (from matplotlib) (0.12.1)\n",
      "Requirement already satisfied: fonttools>=4.22.0 in c:\\users\\avhis\\appdata\\local\\programs\\python\\python312\\lib\\site-packages (from matplotlib) (4.47.2)\n",
      "Requirement already satisfied: kiwisolver>=1.3.1 in c:\\users\\avhis\\appdata\\local\\programs\\python\\python312\\lib\\site-packages (from matplotlib) (1.4.5)\n",
      "Requirement already satisfied: numpy<2,>=1.21 in c:\\users\\avhis\\appdata\\local\\programs\\python\\python312\\lib\\site-packages (from matplotlib) (1.26.3)\n",
      "Requirement already satisfied: packaging>=20.0 in c:\\users\\avhis\\appdata\\local\\programs\\python\\python312\\lib\\site-packages (from matplotlib) (23.2)\n",
      "Requirement already satisfied: pillow>=8 in c:\\users\\avhis\\appdata\\local\\programs\\python\\python312\\lib\\site-packages (from matplotlib) (10.2.0)\n",
      "Requirement already satisfied: pyparsing>=2.3.1 in c:\\users\\avhis\\appdata\\local\\programs\\python\\python312\\lib\\site-packages (from matplotlib) (3.1.1)\n",
      "Requirement already satisfied: python-dateutil>=2.7 in c:\\users\\avhis\\appdata\\local\\programs\\python\\python312\\lib\\site-packages (from matplotlib) (2.8.2)\n",
      "Requirement already satisfied: six>=1.5 in c:\\users\\avhis\\appdata\\local\\programs\\python\\python312\\lib\\site-packages (from python-dateutil>=2.7->matplotlib) (1.16.0)\n"
     ]
    }
   ],
   "source": [
    "!pip install networkx\n",
    "!pip install numpy\n",
    "!pip install pandas\n",
    "!pip install matplotlib"
   ]
  },
  {
   "cell_type": "markdown",
   "id": "73d8c072-1c01-4a95-b936-e88928442efb",
   "metadata": {},
   "source": [
    "# Importing Libraries"
   ]
  },
  {
   "cell_type": "code",
   "execution_count": 2,
   "id": "abbe1632-1bad-4813-8704-7cfaf518f2ad",
   "metadata": {},
   "outputs": [],
   "source": [
    "import networkx as nx\n",
    "import numpy as np\n",
    "import pandas as pd\n",
    "import matplotlib.pyplot as plt"
   ]
  },
  {
   "cell_type": "markdown",
   "id": "22e2bb0c-f9b6-4d05-a487-7ca489bb520a",
   "metadata": {},
   "source": [
    "# Derivative:\n",
    "#### The derivative is a fundamental tool of calculus that **quantifies the sensitivity of change** of a **function's output with respect to its input**."
   ]
  },
  {
   "cell_type": "markdown",
   "id": "c9970fa6-546c-47a9-b601-63557fe8d75f",
   "metadata": {},
   "source": [
    "$$ L = \\lim_{{h \\to 0}} \\frac{{f(a + h) - f(a)}}{h} $$"
   ]
  },
  {
   "cell_type": "markdown",
   "id": "14bfaa0f-2d6e-4e88-b2b3-d854678fdc0b",
   "metadata": {},
   "source": [
    "### Let's take a Simple Parabolic Function:"
   ]
  },
  {
   "cell_type": "markdown",
   "id": "11c5cacb-6cac-4176-a4f6-63df8657ea60",
   "metadata": {},
   "source": [
    "$$ f(x) = ax^2 + bx + c $$\n"
   ]
  },
  {
   "cell_type": "code",
   "execution_count": 3,
   "id": "722c4500-c7da-4bf9-b291-1b28677ed275",
   "metadata": {},
   "outputs": [],
   "source": [
    "# Assuming random 'a', 'b' and 'c' values\n",
    "def f(x):\n",
    "    return 3*x**2 + 2*x + 1"
   ]
  },
  {
   "cell_type": "code",
   "execution_count": 4,
   "id": "92c2acf9-30e8-4456-aad0-0dc408898bb7",
   "metadata": {},
   "outputs": [
    {
     "name": "stdout",
     "output_type": "stream",
     "text": [
      "When x=-5.0; y=66.0\n",
      "When x=-4.75; y=59.1875\n",
      "When x=-4.5; y=52.75\n",
      "When x=-4.25; y=46.6875\n",
      "When x=-4.0; y=41.0\n",
      "When x=-3.75; y=35.6875\n",
      "When x=-3.5; y=30.75\n",
      "When x=-3.25; y=26.1875\n",
      "When x=-3.0; y=22.0\n",
      "When x=-2.75; y=18.1875\n",
      "When x=-2.5; y=14.75\n",
      "When x=-2.25; y=11.6875\n",
      "When x=-2.0; y=9.0\n",
      "When x=-1.75; y=6.6875\n",
      "When x=-1.5; y=4.75\n",
      "When x=-1.25; y=3.1875\n",
      "When x=-1.0; y=2.0\n",
      "When x=-0.75; y=1.1875\n",
      "When x=-0.5; y=0.75\n",
      "When x=-0.25; y=0.6875\n",
      "When x=0.0; y=1.0\n",
      "When x=0.25; y=1.6875\n",
      "When x=0.5; y=2.75\n",
      "When x=0.75; y=4.1875\n",
      "When x=1.0; y=6.0\n",
      "When x=1.25; y=8.1875\n",
      "When x=1.5; y=10.75\n",
      "When x=1.75; y=13.6875\n",
      "When x=2.0; y=17.0\n",
      "When x=2.25; y=20.6875\n",
      "When x=2.5; y=24.75\n",
      "When x=2.75; y=29.1875\n",
      "When x=3.0; y=34.0\n",
      "When x=3.25; y=39.1875\n",
      "When x=3.5; y=44.75\n",
      "When x=3.75; y=50.6875\n",
      "When x=4.0; y=57.0\n",
      "When x=4.25; y=63.6875\n",
      "When x=4.5; y=70.75\n",
      "When x=4.75; y=78.1875\n"
     ]
    }
   ],
   "source": [
    "xs = np.arange(-5,5,0.25) # Creates a list of numbers from -5 to +5 with a step of 0.25\n",
    "ys = f(xs)\n",
    "for i in range(len(xs)):\n",
    "    print(f\"When x={xs[i]}; y={ys[i]}\")"
   ]
  },
  {
   "cell_type": "code",
   "execution_count": 5,
   "id": "5ee466bf-2cac-42f2-9287-dbd240e1d992",
   "metadata": {},
   "outputs": [
    {
     "data": {
      "text/plain": [
       "[<matplotlib.lines.Line2D at 0x1ac0f177080>]"
      ]
     },
     "execution_count": 5,
     "metadata": {},
     "output_type": "execute_result"
    },
    {
     "data": {
      "image/png": "[encoded data removed]",
      "text/plain": [
       "<Figure size 640x480 with 1 Axes>"
      ]
     },
     "metadata": {},
     "output_type": "display_data"
    }
   ],
   "source": [
    "# Plotting the points on a graph gives us...\n",
    "plt.plot(xs,ys)"
   ]
  },
  {
   "cell_type": "markdown",
   "id": "4d97c0e9-8cac-4122-9b24-24f731135075",
   "metadata": {},
   "source": [
    "According to the definition of Derivatives, we have to check what is the sensitivity of 'x' if we bump the value with 'h'"
   ]
  },
  {
   "cell_type": "code",
   "execution_count": 6,
   "id": "00edbeb0-ae40-4a1e-a5d5-adcfb6676eae",
   "metadata": {},
   "outputs": [
    {
     "data": {
      "text/plain": [
       "11.383333333333333"
      ]
     },
     "execution_count": 6,
     "metadata": {},
     "output_type": "execute_result"
    }
   ],
   "source": [
    "# Let's take a very small value of h and check the sensitivity in both positive and negetive\n",
    "h = 0.1\n",
    "x = 1.0\n",
    "( f(x + h) / ( f(x) ) ) / h"
   ]
  },
  {
   "cell_type": "code",
   "execution_count": 7,
   "id": "4f9504b7-0a18-4d1b-9930-f921b7aa659a",
   "metadata": {},
   "outputs": [
    {
     "data": {
      "text/plain": [
       "-8.716666666666667"
      ]
     },
     "execution_count": 7,
     "metadata": {},
     "output_type": "execute_result"
    }
   ],
   "source": [
    "# Let's take a very small value of h and check the sensitivity in both positive and negetive\n",
    "h = -0.1\n",
    "x = 1.0\n",
    "( f(x + h) / ( f(x) ) ) / h"
   ]
  },
  {
   "cell_type": "markdown",
   "id": "0c1d3937-f76f-4efd-8508-5361fb514623",
   "metadata": {},
   "source": [
    "Let's try a different scenario where we use mathematical expressions to understand derivatives"
   ]
  },
  {
   "cell_type": "code",
   "execution_count": 8,
   "id": "39d05555-97ba-4b92-b9aa-e2eed6be25d6",
   "metadata": {},
   "outputs": [
    {
     "name": "stdout",
     "output_type": "stream",
     "text": [
      "Expression before bumping: 9.5; Expression after bumping: 9.501; Slope 0.9999999999994458\n"
     ]
    }
   ],
   "source": [
    "# Let's say we have an expression with values\n",
    "\n",
    "j = 5.0\n",
    "k = -0.1\n",
    "l = 10.0\n",
    "\n",
    "h = 0.001\n",
    "\n",
    "expressionBeforeBumping = j * k + l\n",
    "l += h # Here the value of l is bumped up in the positive direction\n",
    "expressionAfterBumping = j * k + l\n",
    "slope = (expressionAfterBumping - expressionBeforeBumping)/h\n",
    "\n",
    "print(f\"Expression before bumping: {expressionBeforeBumping};\", f\"Expression after bumping: {expressionAfterBumping};\", f\"Slope {slope}\")"
   ]
  },
  {
   "cell_type": "markdown",
   "id": "028d2f99-83ad-4a85-a1af-7cb4e3c84e64",
   "metadata": {},
   "source": [
    "# Why are Derivatives Important?"
   ]
  },
  {
   "cell_type": "markdown",
   "id": "c1b1b3ca-9bd9-41cd-adb9-940cefb5159a",
   "metadata": {},
   "source": [
    "Eventually, when we arrive at the important parts like gradient descent algorithm, we will be requiring derivatives.\n",
    "\n",
    "**What is \"Gradient\" you ask?**\n",
    "\n",
    "Imagine a car being dropped on a parabolic slope. You want the car to 'eventually' stop at a particular point. So you start applying brakes (basically a force in the opposite direction) of the movement.\n",
    "\n",
    "This force in the opposite direction is known as a gradient.\n",
    "\n",
    "**What is the relationship between a 'derivative' and a 'gradient'?**\n",
    "\n",
    "A 'Gradient' is a 'Derivative' with known direction.\n",
    "In Derivatives we check the sensitivity in all directions for a value.\n",
    "But in Gradients we know the direction we want to push, we just have to tinker with the value."
   ]
  },
  {
   "cell_type": "markdown",
   "id": "cb2871d1-a5aa-4744-969b-b227ea1c4e44",
   "metadata": {},
   "source": [
    "# Mathematical Example"
   ]
  },
  {
   "cell_type": "markdown",
   "id": "e4cd89fb-18ff-47ec-8220-dca9494bd524",
   "metadata": {},
   "source": [
    "#### Let's take a more complicated mathematical expression and try to evaluate it with gradients:\n",
    "\n",
    "Let's assume random values as 'r'\n",
    "\n",
    "1. A = r\n",
    "2. B = r\n",
    "3. C = A * B\n",
    "4. D = r\n",
    "5. E = C + D\n",
    "6. F = r\n",
    "7. L = E * F\n",
    "\n",
    "Where **L** is the result of this expression"
   ]
  },
  {
   "cell_type": "code",
   "execution_count": 9,
   "id": "704dba60-3e26-48e6-8884-5d952b112f91",
   "metadata": {},
   "outputs": [],
   "source": [
    "# Let's construct a Value class to store all the expressions for simpler calculations\n",
    "class Value:\n",
    "    # Constructor\n",
    "    def __init__(self , data,_children=(), label='', _op=''):\n",
    "        self.data = data\n",
    "        self.label = label\n",
    "        # Used for Graph Construction\n",
    "        self._prev = set(_children)\n",
    "        self._op = _op if _op else label\n",
    "    # For Printing Without Print Statements | Representation\n",
    "    def __repr__(self):\n",
    "        return f\"Value(data={self.data})\"\n",
    "    def __add__(self, other):\n",
    "        other = other if isinstance(other, Value) else Value(other)\n",
    "        return Value(self.data + other.data, (self, other), '+')\n",
    "    def __mul__(self, other):\n",
    "        other = other if isinstance(other, Value) else Value(other)\n",
    "        return Value(self.data * other.data, (self, other), '*')\n",
    "    # other + self\n",
    "    def __radd__(self, other):\n",
    "        return self + other\n",
    "    # other * self\n",
    "    def __rmul__(self, other):\n",
    "        return self * other"
   ]
  },
  {
   "cell_type": "code",
   "execution_count": 10,
   "id": "46d98b12-b378-4564-a8b8-b4ce3d0e0f46",
   "metadata": {},
   "outputs": [],
   "source": [
    "a = Value(3, label='a')\n",
    "b = Value(-2, label='b')\n",
    "c = a * b\n",
    "d = Value(5, label='d')\n",
    "e = c + d\n",
    "f = Value(-10, label='f')\n",
    "L = e * f\n",
    "\n",
    "c.label = 'c'\n",
    "e.label = 'e'\n",
    "L.label = 'L'"
   ]
  },
  {
   "cell_type": "markdown",
   "id": "7cfa5e2e-3f62-45ba-9d39-4e1b0954e4fa",
   "metadata": {},
   "source": [
    "Let's visualize our expression in form of expression graphs now"
   ]
  },
  {
   "cell_type": "code",
   "execution_count": 11,
   "id": "e50a24e9-f4f2-4db1-bd55-2ab0b6b8e219",
   "metadata": {},
   "outputs": [],
   "source": [
    "def trace(root):\n",
    "    nodes, edges = set(), set()\n",
    "    def build(v):\n",
    "        if v not in nodes:\n",
    "            nodes.add(v)\n",
    "            for child in v._prev:\n",
    "                edges.add((child, v))\n",
    "                build(child)\n",
    "    build(root)\n",
    "    return nodes, edges\n",
    "\n",
    "def draw_networkx(root, rankdir='LR'):\n",
    "    assert rankdir in ['LR', 'TB']\n",
    "    nodes, edges = trace(root)\n",
    "    \n",
    "    G = nx.DiGraph()\n",
    "    \n",
    "    for n in nodes:\n",
    "        label = \"{label} \\n d={data:.4f}\".format(label=n.label, data=n.data)\n",
    "        G.add_node(str(id(n)), label=label)\n",
    "        if n._op:\n",
    "            G.add_node(str(id(n)) + n._op, label=n._op)\n",
    "            G.add_edge(str(id(n)) + n._op, str(id(n)))\n",
    "    \n",
    "    for n1, n2 in edges:\n",
    "        G.add_edge(str(id(n1)), str(id(n2)) + n2._op)\n",
    "    \n",
    "    pos = None\n",
    "    if rankdir == 'LR':\n",
    "        pos = nx.spring_layout(G, seed=4)\n",
    "    \n",
    "    labels = nx.get_node_attributes(G, 'label')\n",
    "    nx.draw(G, pos=pos, with_labels=True, labels=labels, font_size=6, font_weight='bold')\n",
    "    plt.show()"
   ]
  },
  {
   "cell_type": "code",
   "execution_count": 12,
   "id": "f8da8d5f-ba26-43c7-8d14-f4dd30d444f0",
   "metadata": {},
   "outputs": [
    {
     "data": {
      "image/png": "[encoded data removed]",
      "text/plain": [
       "<Figure size 640x480 with 1 Axes>"
      ]
     },
     "metadata": {},
     "output_type": "display_data"
    }
   ],
   "source": [
    "draw_networkx(L)"
   ]
  },
  {
   "cell_type": "markdown",
   "id": "d639e5d2-4e01-40d2-aea6-69fe60bcdae5",
   "metadata": {},
   "source": [
    "Now the expression brings us to our next question...\n",
    "\n",
    "We know that L = E * F\n",
    "\n",
    "What is the **derivative of L**?\n",
    "\n",
    "Or more specifically\n",
    "\n",
    "What is the result of\n",
    "\n",
    "$$ \\frac{dL}{de} $$\n",
    "\n",
    "?"
   ]
  },
  {
   "cell_type": "markdown",
   "id": "a37193af-b71b-44a4-bd29-8201762f2436",
   "metadata": {},
   "source": [
    "If we take the formula for our good old derivatives... \n",
    "We get:\n",
    "$$ ((f(x+h) - f(x)) / h) $$\n",
    "\n",
    "Substituting the values from the formula L = E * F\n",
    "\n",
    "Because we are trying to understand that if we nudge the value of e by a certain amount 'h' how sensitive 'L' is:\n",
    "\n",
    "=> $$ ((e+h)*f - (e*f)) / h $$\n",
    "=> $$ (e*f) + (h*f) - (e*f) / h $$\n",
    "=> $$ (h*f) / h $$\n",
    "=> $$ f $$"
   ]
  },
  {
   "cell_type": "code",
   "execution_count": 13,
   "id": "a5ca3736-04ce-4a18-8b7e-399342e0674e",
   "metadata": {},
   "outputs": [],
   "source": [
    "# Let's modify our Value Class\n",
    "\n",
    "class Value:\n",
    "    # Constructor\n",
    "    def __init__(self, data, _children=(), label='', _op=''):\n",
    "        self.data = data\n",
    "        self.label = label\n",
    "        self.grad = 0\n",
    "        self._backward = lambda: None\n",
    "        # Used for Graph Construction\n",
    "        self._prev = set(_children)\n",
    "        self._op = _op if _op else label\n",
    "\n",
    "    def backward(self):\n",
    "        # Topological Sort, Sorting for Directed Acyclic Graph\n",
    "        topo = []\n",
    "        visited = set()\n",
    "        def build_topo(v):\n",
    "            if v not in visited:\n",
    "                visited.add(v)\n",
    "                for child in v._prev:\n",
    "                    build_topo(child)\n",
    "                topo.append(v)\n",
    "        build_topo(self)\n",
    "\n",
    "        # Freshly starting back propagation with its value as 1\n",
    "        self.grad = 1\n",
    "\n",
    "        # Backpropagation for Other Nodes\n",
    "        for vertex in topo:\n",
    "            vertex._backward()\n",
    "        \n",
    "    # For Printing Without Print Statements | Representation\n",
    "    def __repr__(self):\n",
    "        return f\"Value(data={self.data})\"\n",
    "    def __add__(self, other):\n",
    "        other = other if isinstance(other, Value) else Value(other)\n",
    "        return Value(self.data + other.data, (self, other), '+')\n",
    "    def __mul__(self, other):\n",
    "        other = other if isinstance(other, Value) else Value(other)\n",
    "        out = Value(self.data * other.data, (self, other), '*')\n",
    "\n",
    "        def _backward():\n",
    "            self.grad += other.data * out.grad\n",
    "            other.grad += self.data * out.grad\n",
    "        out._backward = _backward\n",
    "\n",
    "        return out\n",
    "    # other + self\n",
    "    def __radd__(self, other):\n",
    "        return self + other\n",
    "    # other * self\n",
    "    def __rmul__(self, other):\n",
    "        return self * other"
   ]
  },
  {
   "cell_type": "markdown",
   "id": "863cdd58-949f-40f4-a3b9-bae500f1d79c",
   "metadata": {},
   "source": [
    "We can manually back propagate and set the gradient to be interchanged with the data of the adjacent class for the moment...\n",
    "Cause we cannot do L.backward() at the moment, as we only implemented the derivative function of the multiplication method..."
   ]
  },
  {
   "cell_type": "code",
   "execution_count": 14,
   "id": "b73142e8-2107-443a-be9d-1574a8a20d51",
   "metadata": {},
   "outputs": [],
   "source": [
    "# Let's modify our draw network to represent the gradients as well...\n",
    "\n",
    "def trace(root):\n",
    "    nodes, edges = set(), set()\n",
    "    def build(v):\n",
    "        if v not in nodes:\n",
    "            nodes.add(v)\n",
    "            for child in v._prev:\n",
    "                edges.add((child, v))\n",
    "                build(child)\n",
    "    build(root)\n",
    "    return nodes, edges\n",
    "\n",
    "def draw_networkx(root, rankdir='LR'):\n",
    "    assert rankdir in ['LR', 'TB']\n",
    "    nodes, edges = trace(root)\n",
    "    \n",
    "    G = nx.DiGraph()\n",
    "    \n",
    "    for n in nodes:\n",
    "        label = \"{label} \\n d={data:.4f} \\n g={grad:.4f}\".format(label=n.label, data=n.data, grad=n.grad)\n",
    "        G.add_node(str(id(n)), label=label)\n",
    "        if n._op:\n",
    "            G.add_node(str(id(n)) + n._op, label=n._op)\n",
    "            G.add_edge(str(id(n)) + n._op, str(id(n)))\n",
    "    \n",
    "    for n1, n2 in edges:\n",
    "        G.add_edge(str(id(n1)), str(id(n2)) + n2._op)\n",
    "    \n",
    "    pos = None\n",
    "    if rankdir == 'LR':\n",
    "        pos = nx.spring_layout(G, seed=4)\n",
    "    \n",
    "    labels = nx.get_node_attributes(G, 'label')\n",
    "    nx.draw(G, pos=pos, with_labels=True, labels=labels, font_size=6, font_weight='bold')\n",
    "    plt.show()"
   ]
  },
  {
   "cell_type": "code",
   "execution_count": 15,
   "id": "a3ce28b4-c7b2-4ad0-98cb-9683f9311206",
   "metadata": {},
   "outputs": [],
   "source": [
    "# draw_networkx(L) Won't Work"
   ]
  },
  {
   "cell_type": "code",
   "execution_count": 16,
   "id": "50fff2eb-9d91-47bb-b8d4-1b407066c218",
   "metadata": {},
   "outputs": [
    {
     "data": {
      "image/png": "[encoded data removed]",
      "text/plain": [
       "<Figure size 640x480 with 1 Axes>"
      ]
     },
     "metadata": {},
     "output_type": "display_data"
    }
   ],
   "source": [
    "# Manually Setting Gradient for Expression L = E * F\n",
    "L.grad = 1\n",
    "\n",
    "e.grad = f.data\n",
    "\n",
    "f.grad = e.data\n",
    "\n",
    "# All other nodes, required for drawing graph otherwise would throw an error expecting for gradient value\n",
    "a.grad = 0\n",
    "b.grad = 0\n",
    "c.grad = 0\n",
    "d.grad = 0\n",
    "\n",
    "draw_networkx(L)"
   ]
  },
  {
   "cell_type": "markdown",
   "id": "64e45ccf-52a5-46ed-ba38-04946dcfea52",
   "metadata": {},
   "source": [
    "Now the next question that comes to the mind is...\n",
    "\n",
    "**What is the result of**\n",
    "\n",
    "$$ \\frac{dL}{dd} $$\n",
    "\n",
    "?\n",
    "\n",
    "Which follows up with\n",
    "\n",
    "$$ \\frac{de}{dd} $$\n",
    "\n",
    "Because we are now **know how L is sensitive to e**, we are now trying to **understand how L is sensitive to d**\n",
    "\n",
    "We Know:\n",
    "E = C + D\n",
    "\n",
    "Lets take our old derivative formula again:\n",
    "\n",
    "$$ ((f(x+h) - f(x)) / h) $$\n",
    "\n",
    "Substituting the values from the formula: E = C + D\n",
    "\n",
    "Because we are trying to understand that if we nudge the value of d by a certain amount 'h' how sensitive 'e' is:\n",
    "\n",
    "=> $$ (((d+h)+c) - (d+c)) / h $$\n",
    "=> $$ (d + h + c - d - c) / h $$\n",
    "=> $$ (h) / h $$\n",
    "=> $$ 1 $$"
   ]
  },
  {
   "cell_type": "markdown",
   "id": "4e2bb48c-eeea-48ee-aaea-f7e0d8a67b05",
   "metadata": {},
   "source": [
    "Now let's follow up with another mathematical section of the derivatives known as\n",
    "\n",
    "# Chain Rule\n",
    "\n",
    "The expression evaluates to :\n",
    "\n",
    "$$ \\frac{dz}{dx} = \\frac{dz}{dy} * \\frac{dy}{dx} $$"
   ]
  },
  {
   "cell_type": "markdown",
   "id": "1cefde2e-b93c-4a74-b764-5930e21e3b42",
   "metadata": {},
   "source": [
    "So,\n",
    "\n",
    "We **WANT**:\n",
    "$$ \\frac{dL}{dd} $$\n",
    "\n",
    "We **KNOW**:\n",
    "$$ \\frac{dL}{de} $$\n",
    "$$ \\frac{de}{dd} $$\n",
    "\n",
    "Applying Chain Rule:\n",
    "\n",
    "$$ \\frac{dz}{dx} = \\frac{dz}{dy} * \\frac{dy}{dx} $$\n",
    "\n",
    "We Substitute the values of:\n",
    "- z with L\n",
    "- y with e\n",
    "- x with d\n",
    "\n",
    "We get:\n",
    "$$ \\frac{dL}{dd} = \\frac{dL}{de} * \\frac{de}{dd} $$"
   ]
  },
  {
   "cell_type": "code",
   "execution_count": 17,
   "id": "611472ca-39d2-44f9-b006-e010478d5948",
   "metadata": {},
   "outputs": [
    {
     "data": {
      "image/png": "[encoded data removed]",
      "text/plain": [
       "<Figure size 640x480 with 1 Axes>"
      ]
     },
     "metadata": {},
     "output_type": "display_data"
    }
   ],
   "source": [
    "# Manually Setting Gradient for Expression E = C + D\n",
    "\n",
    "# Old Expression\n",
    "L.grad = 1\n",
    "e.grad = f.data\n",
    "f.grad = e.data\n",
    "\n",
    "# New Expression\n",
    "c.grad = e.grad\n",
    "d.grad = e.grad\n",
    "\n",
    "# All other nodes\n",
    "a.grad = 0\n",
    "b.grad = 0\n",
    "\n",
    "draw_networkx(L)"
   ]
  },
  {
   "cell_type": "markdown",
   "id": "fec01145-0adb-4089-8acf-7b2f6d216ccc",
   "metadata": {},
   "source": [
    "Once again,\n",
    "\n",
    "We **WANT**:\n",
    "$$ \\frac{dL}{da} $$\n",
    "\n",
    "We **KNOW**:\n",
    "$$ \\frac{dL}{de} $$ Our Global Derivative\n",
    "\n",
    "Applying Chain Rule:\n",
    "\n",
    "$$ \\frac{dz}{dx} = \\frac{dz}{dy} * \\frac{dy}{dx} $$\n",
    "\n",
    "We get:\n",
    "$$ \\frac{dL}{da} = \\frac{dL}{de} * \\frac{de}{dd} $$\n",
    "\n",
    "Where,\n",
    "$$ \\frac{dL}{de} $$ Is our **Global Derivative**\n",
    "$$ \\frac{dc}{da} $$ Is our **Local Derivative**\n",
    "\n",
    "To our good old,\n",
    "C = A * B\n",
    "\n",
    "We ask what is:\n",
    "$$ \\frac{dc}{da} $$\n",
    "\n",
    "So with the perspective of **Global Derivative** & **Local Derivative**,\n",
    "\n",
    "We get:\n",
    "$$ Current Gradient = Global Derivative * Local Derivative $$"
   ]
  },
  {
   "cell_type": "code",
   "execution_count": 18,
   "id": "0145b279-b5df-4ec4-9ea4-9a4b0ccffe14",
   "metadata": {},
   "outputs": [
    {
     "data": {
      "image/png": "[encoded data removed]",
      "text/plain": [
       "<Figure size 640x480 with 1 Axes>"
      ]
     },
     "metadata": {},
     "output_type": "display_data"
    }
   ],
   "source": [
    "# Manually Setting Gradient for Expression C = A * B\n",
    "\n",
    "# Old Expression\n",
    "L.grad = 1\n",
    "e.grad = f.data\n",
    "f.grad = e.data\n",
    "c.grad = e.grad\n",
    "d.grad = e.grad\n",
    "\n",
    "# New Expression\n",
    "a.grad = (c.grad * b.data)\n",
    "b.grad = (c.grad * a.data)\n",
    "\n",
    "draw_networkx(L)"
   ]
  },
  {
   "cell_type": "code",
   "execution_count": 19,
   "id": "7c081fbd-da41-460c-9598-ac9233668e74",
   "metadata": {},
   "outputs": [],
   "source": [
    "# Let's modify our Value Class again after getting the idea of global and local derivatives\n",
    "\n",
    "class Value:\n",
    "    # Constructor\n",
    "    def __init__(self, data, _children=(), label='', _op=''):\n",
    "        self.data = data\n",
    "        self.label = label\n",
    "        self.grad = 0\n",
    "        self._backward = lambda: None\n",
    "        # Used for Graph Construction\n",
    "        self._prev = set(_children)\n",
    "        self._op = _op if _op else label\n",
    "\n",
    "    def backward(self):\n",
    "        # Topological Sort, Sorting for Directed Acyclic Graph\n",
    "        topo = []\n",
    "        visited = set()\n",
    "        def build_topo(v):\n",
    "            if v not in visited:\n",
    "                visited.add(v)\n",
    "                for child in v._prev:\n",
    "                    build_topo(child)\n",
    "                topo.append(v)\n",
    "        build_topo(self)\n",
    "\n",
    "        # Freshly starting back propagation with its value as 1\n",
    "        self.grad = 1\n",
    "\n",
    "        # Backpropagation for Other Nodes\n",
    "        for vertex in topo:\n",
    "            vertex._backward()\n",
    "        \n",
    "    # For Printing Without Print Statements | Representation\n",
    "    def __repr__(self):\n",
    "        return f\"Value(data={self.data})\"\n",
    "    def __add__(self, other):\n",
    "        other = other if isinstance(other, Value) else Value(other)\n",
    "        out = Value(self.data + other.data, (self, other), '+')\n",
    "\n",
    "        def _backward():\n",
    "            self.grad += out.grad\n",
    "            other.grad += out.grad\n",
    "        out._backward = _backward\n",
    "\n",
    "        return out\n",
    "    def __mul__(self, other):\n",
    "        other = other if isinstance(other, Value) else Value(other)\n",
    "        out = Value(self.data * other.data, (self, other), '*')\n",
    "\n",
    "        def _backward():\n",
    "            self.grad += other.data * out.grad\n",
    "            other.grad += self.data * out.grad\n",
    "        out._backward = _backward\n",
    "\n",
    "        return out\n",
    "    # other + self\n",
    "    def __radd__(self, other):\n",
    "        return self + other\n",
    "    # other * self\n",
    "    def __rmul__(self, other):\n",
    "        return self * other"
   ]
  },
  {
   "cell_type": "code",
   "execution_count": 20,
   "id": "b3bdd2ba-3928-41f3-a2c0-408a6a57a506",
   "metadata": {},
   "outputs": [
    {
     "data": {
      "image/png": "[encoded data removed]",
      "text/plain": [
       "<Figure size 640x480 with 1 Axes>"
      ]
     },
     "metadata": {},
     "output_type": "display_data"
    }
   ],
   "source": [
    "# Redefining our expression\n",
    "\n",
    "a = Value(3, label='a')\n",
    "b = Value(-2, label='b')\n",
    "d = Value(5, label='d')\n",
    "f = Value(-10, label='f')\n",
    "\n",
    "# Forward Pass\n",
    "c = a * b\n",
    "e = c + d\n",
    "L = e * f\n",
    "\n",
    "c.label = 'c'\n",
    "e.label = 'e'\n",
    "L.label = 'L'\n",
    "\n",
    "# Backward Pass\n",
    "L.backward()\n",
    "e.backward()\n",
    "c.backward()\n",
    "\n",
    "draw_networkx(L)"
   ]
  },
  {
   "cell_type": "markdown",
   "id": "7c0aaef5-3c97-4090-afd7-f9bc3c364ed6",
   "metadata": {},
   "source": [
    "So we know how **forward pass** and **backward pass** works now\n",
    "\n",
    "Let's now move on to something called a \n",
    "# Neuron"
   ]
  },
  {
   "cell_type": "markdown",
   "id": "b2c2334b-cbf1-478c-8529-29211f96d040",
   "metadata": {},
   "source": [
    "So what is a **Neuron**? Or more specifically an **Artificial Neuron**?\n",
    "\n",
    "An artificial neuron is a mathematical function:\n",
    "\n",
    "$$\n",
    "y_k = \\varphi\\left(\\sum_{j=0}^{m} w_{kj}x_j\\right)\n",
    "$$\n",
    "\n",
    "Let's Visualize this \\\n",
    "![Artificial Neuron](https://i.stack.imgur.com/7mTvt.jpg)\n"
   ]
  },
  {
   "cell_type": "markdown",
   "id": "ae1cb532-d86e-4b54-b632-3710f9f6232e",
   "metadata": {},
   "source": [
    "So in simple terms an Artificial Neuron is a mathematical expression, \\\n",
    "That takes multiple inputs of say 'x' \\\n",
    "These inputs have their own weights, say 'w' \\\n",
    "And all this inputs have a common bias, say 'b' \\\n",
    "These inputs are then passed through a summation function \\\n",
    "The output of these summed inputs is then passed through an activation function \\\n",
    "which acts as a threshold function to limit the output to a certain value.\n",
    "\n",
    "Which evaluates to the expression:\n",
    "\n",
    "$$\n",
    "\\text{Summation Function} = x_1w_1 + x_2w_2 + \\ldots + x_nw_n + b\n",
    "$$\n",
    "\n",
    "Then,\n",
    "$$\n",
    "\\text{Neuron Output} =f(\\text{Summation Function})\n",
    "$$"
   ]
  },
  {
   "cell_type": "markdown",
   "id": "aafa7e2b-7e3c-4c06-9d3e-f07a3a5ad2fd",
   "metadata": {},
   "source": [
    "So let's now practice with a neuron expression\n",
    "Let's take a simple expression:\n",
    "\n",
    "Summation Function = (x1w1 + x2w2 + b)\n",
    "Neuron Output = (Summation Function) -> tanh(Summation Function)\n",
    "\n",
    "Where tanh() is our activation function of choice."
   ]
  },
  {
   "cell_type": "markdown",
   "id": "ef98104f-c1ac-4029-be02-985e20c64a3f",
   "metadata": {},
   "source": [
    "**How does tanh() work?**\n",
    "\n",
    "![](https://images.squarespace-cdn.com/content/v1/5acbdd3a25bf024c12f4c8b4/1524687495762-MQLVJGP4I57NT34XXTF4/TanhFunction.jpg)\n",
    "\n",
    "We can see it returns a value between -1 and 1"
   ]
  },
  {
   "cell_type": "code",
   "execution_count": 21,
   "id": "86f59154-5d00-4c72-8afa-ff124adc758d",
   "metadata": {},
   "outputs": [
    {
     "data": {
      "image/png": "[encoded data removed]",
      "text/plain": [
       "<Figure size 640x480 with 1 Axes>"
      ]
     },
     "metadata": {},
     "output_type": "display_data"
    }
   ],
   "source": [
    "# So, let's take our simple expression\n",
    "\n",
    "# Inputs\n",
    "x1 = Value(1, label='x1')\n",
    "x2 = Value(2, label='x2')\n",
    "\n",
    "# Weights\n",
    "w1 = Value(-3, label='w1')\n",
    "w2 = Value(0, label='w2')\n",
    "\n",
    "# Inputs\n",
    "b = Value(6.9, label='b')\n",
    "\n",
    "# Forward Pass\n",
    "x1w1 = x1 * w1; x1w1.label = 'x1w1'\n",
    "x2w2 = x2 * w2; x2w2.label = 'x2w2'\n",
    "x1w1x2w2 = x1w1 + x2w2; x1w1x2w2.label = 'x1w1x2w2'\n",
    "n = x1w1x2w2 + b; n.label = 'n'\n",
    "# n.tanh()\n",
    "# tanh is not implemented yet... so lets do that next\n",
    "\n",
    "draw_networkx(n)"
   ]
  },
  {
   "cell_type": "markdown",
   "id": "9bee1fdc-4bd0-451d-8725-4fbe12dd7213",
   "metadata": {},
   "source": [
    "So Let's Now Construct Tanh()\n",
    "\n",
    "\n",
    "According to the definition tanh() formulates to:\n",
    "$$ \\tanh x = \\frac{\\sinh x}{\\cosh x} = \\frac{e^x - e^{-x}}{e^x + e^{-x}} = \\frac{e^{2x} - 1}{e^{2x} + 1} $$\n",
    "\n",
    "We see that, in order to use the tanh method we need to implement **exponentiation** as well..."
   ]
  },
  {
   "cell_type": "markdown",
   "id": "9f77e281-9b65-46ba-8810-d4f534a55ccf",
   "metadata": {},
   "source": [
    "Now what is the **exponentiation function**?\n",
    "\n",
    "It evaluates to:\n",
    "$$ e^x = 1 + x + \\frac{x^2}{2!} + \\frac{x^3}{3!} + \\frac{x^4}{4!} + \\ldots $$\r\n",
    "![Exponentiation Function](https://upload.wikimedia.org/wikipedia/commons/thumb/6/62/Exp_series.gif/220px-Exp_series.gif)\n",
    "\n"
   ]
  },
  {
   "cell_type": "markdown",
   "id": "a6da32b6-da58-4d48-9d38-02907fae4c68",
   "metadata": {},
   "source": [
    "We can see that, in the exponentiation function the series can go upto $$ \\infty $$\n",
    "\n",
    "So we can define our own exponentiation function limiting the series to 'n' terms..."
   ]
  },
  {
   "cell_type": "markdown",
   "id": "68ffe667-c719-40f7-a3d1-a2539383803d",
   "metadata": {},
   "source": [
    "Note:\n",
    "\n",
    "Derivative of tanh() according to Wikipedia is:\n",
    "$$ 1 - \\tanh^2 x $$\n",
    "\n",
    "Derivative of exp() according to Wikipedia is:\n",
    "$$ \\frac{d}{dx}e^x = e^x \\quad \\text{and} \\quad e^0 = 1 $$"
   ]
  },
  {
   "cell_type": "code",
   "execution_count": 22,
   "id": "d41fbf68-44c5-436e-bbd0-e5e697955b7f",
   "metadata": {},
   "outputs": [],
   "source": [
    "# Let's modify our Value Class again to implement exp and tanh functionality\n",
    "\n",
    "class Value:\n",
    "    # Constructor\n",
    "    def __init__(self, data, _children=(), label='', _op=''):\n",
    "        self.data = data\n",
    "        self.label = label\n",
    "        self.grad = 0\n",
    "        self._backward = lambda: None\n",
    "        # Used for Graph Construction\n",
    "        self._prev = set(_children)\n",
    "        self._op = _op if _op else label\n",
    "\n",
    "    def backward(self):\n",
    "        # Topological Sort, Sorting for Directed Acyclic Graph\n",
    "        topo = []\n",
    "        visited = set()\n",
    "        def build_topo(v):\n",
    "            if v not in visited:\n",
    "                visited.add(v)\n",
    "                for child in v._prev:\n",
    "                    build_topo(child)\n",
    "                topo.append(v)\n",
    "        build_topo(self)\n",
    "\n",
    "        # Freshly starting back propagation with its value as 1\n",
    "        self.grad = 1\n",
    "\n",
    "        # Backpropagation for Other Nodes\n",
    "        for vertex in topo:\n",
    "            vertex._backward()\n",
    "        \n",
    "    # For Printing Without Print Statements | Representation\n",
    "    def __repr__(self):\n",
    "        return f\"Value(data={self.data}, label='{self.label}', grad={self.grad:.4f})\"\n",
    "    def __format__(self, format_spec):\n",
    "        if format_spec == '':\n",
    "            return str(self)\n",
    "        return self.data.__format__(format_spec)\n",
    "    def __add__(self, other):\n",
    "        other = other if isinstance(other, Value) else Value(other)\n",
    "        out = Value(self.data + other.data, (self, other), '+')\n",
    "\n",
    "        def _backward():\n",
    "            self.grad += out.grad\n",
    "            other.grad += out.grad\n",
    "        out._backward = _backward\n",
    "\n",
    "        return out\n",
    "    def __mul__(self, other):\n",
    "        other = other if isinstance(other, Value) else Value(other)\n",
    "        out = Value(self.data * other.data, (self, other), '*')\n",
    "\n",
    "        def _backward():\n",
    "            self.grad += other.data * out.grad\n",
    "            other.grad += self.data * out.grad\n",
    "        out._backward = _backward\n",
    "\n",
    "        return out\n",
    "    def __pow__(self, other):\n",
    "        assert isinstance(other, (int, float)), \"only supporting int/float powers for now\"\n",
    "        out = Value(self.data**other, (self,), f'**{other}')\n",
    "\n",
    "        def _backward():\n",
    "            self.grad += (other * self.data**(other-1)) * out.grad\n",
    "        out._backward = _backward\n",
    "\n",
    "        return out\n",
    "    def exp(self, terms=10):\n",
    "        x = self.data\n",
    "        result = 1.0\n",
    "        factorial = 1.0\n",
    "    \n",
    "        for i in range(1, int(terms) + 1):\n",
    "            factorial *= i\n",
    "            result += (x**i) / factorial\n",
    "        out = Value(result, (self, ), 'exp')\n",
    "        \n",
    "        def _backward():\n",
    "            self.grad += out.data * out.grad\n",
    "        out._backward = _backward\n",
    "        \n",
    "        return out\n",
    "    def tanh(self):\n",
    "        x = self.data\n",
    "        t = (self.exp(2*x) - 1)/(self.exp(2*x) + 1)\n",
    "        out = Value(t, (self, ), 'tanh')\n",
    "    \n",
    "        def _backward():\n",
    "          self.grad += (1 - t**2) * out.grad\n",
    "        out._backward = _backward\n",
    "\n",
    "        return out\n",
    "    # -self\n",
    "    def __neg__(self):\n",
    "        return self * -1\n",
    "    # other + self\n",
    "    def __radd__(self, other):\n",
    "        return self + other\n",
    "    # self - other\n",
    "    def __sub__(self, other): \n",
    "        return self + (-other)\n",
    "    # other - self\n",
    "    def __rsub__(self, other): \n",
    "        return other + (-self)\n",
    "    # other * self\n",
    "    def __rmul__(self, other):\n",
    "        return self * other\n",
    "    # self / other\n",
    "    def __truediv__(self, other):\n",
    "        return self * other**-1\n",
    "    # other / self\n",
    "    def __rtruediv__(self, other):\n",
    "        return other * self**-1"
   ]
  },
  {
   "cell_type": "code",
   "execution_count": 23,
   "id": "f05dfb4a-8a5b-4145-be15-94d9d6dd90a8",
   "metadata": {},
   "outputs": [
    {
     "data": {
      "image/png": "[encoded data removed]",
      "text/plain": [
       "<Figure size 640x480 with 1 Axes>"
      ]
     },
     "metadata": {},
     "output_type": "display_data"
    }
   ],
   "source": [
    "# So, let's take our simple expression\n",
    "\n",
    "# Inputs\n",
    "x1 = Value(1, label='x1')\n",
    "x2 = Value(2, label='x2')\n",
    "\n",
    "# Weights\n",
    "w1 = Value(-3, label='w1')\n",
    "w2 = Value(0, label='w2')\n",
    "\n",
    "# Inputs\n",
    "b = Value(6.9, label='b')\n",
    "\n",
    "# Forward Pass\n",
    "x1w1 = x1 * w1; x1w1.label = 'x1w1'\n",
    "x2w2 = x2 * w2; x2w2.label = 'x2w2'\n",
    "x1w1x2w2 = x1w1 + x2w2; x1w1x2w2.label = 'x1w1x2w2'\n",
    "n = x1w1x2w2 + b; n.label = 'n'\n",
    "o = n.tanh(); o.label = 'o'\n",
    "\n",
    "draw_networkx(o)"
   ]
  },
  {
   "cell_type": "markdown",
   "id": "49601010-6e93-4bde-8258-18baaa771226",
   "metadata": {},
   "source": [
    "Now that we understand how neurons work, we can now move on to building the official Neuron class"
   ]
  },
  {
   "cell_type": "code",
   "execution_count": 24,
   "id": "9bf2ecb4-a39d-44a8-bb0d-ced24b408a69",
   "metadata": {},
   "outputs": [],
   "source": [
    "import random # Yes I did cheat a little bit, otherwise without 'random' my brain would pop like a popsickle\n",
    "\n",
    "class Neuron:\n",
    "    def __init__(self, numberOfInputs):\n",
    "        self.w = [Value(random.uniform(-1,1)) for _ in range(numberOfInputs)]\n",
    "        self.b = Value(random.uniform(-1,1))\n",
    "    # Method to use f(x) notation when we initialize the variable f with Neuron class as a Neuron object\n",
    "    def __call__(self, x):\n",
    "        activation = sum((wi*xi for wi,xi in zip(self.w, x)), self.b)\n",
    "        output = activation.tanh()\n",
    "        return output"
   ]
  },
  {
   "cell_type": "code",
   "execution_count": 25,
   "id": "453de058-3125-4e9f-8477-2c8830859601",
   "metadata": {},
   "outputs": [
    {
     "data": {
      "text/plain": [
       "Value(data=Value(data=0.0, label='*', grad=0.0000), label='tanh', grad=0.0000)"
      ]
     },
     "execution_count": 25,
     "metadata": {},
     "output_type": "execute_result"
    }
   ],
   "source": [
    "# Testing the initial Neuron class\n",
    "inputs = [6.0,9.0]\n",
    "testNeuron = Neuron(2)\n",
    "testNeuron(inputs)"
   ]
  },
  {
   "cell_type": "markdown",
   "id": "eaa89b64-77e2-490a-b6f3-8d536e6d9677",
   "metadata": {},
   "source": [
    "Let's now make a **Neuron Layer** which will eventually help us make a **Multi Layer Perceptron** or **MLP**\n",
    "\n",
    "Let's visualize a Neural Network with MLP: \\\n",
    "![MLP](https://editor.analyticsvidhya.com/uploads/84918Neural-network-architecture-diagram.png)"
   ]
  },
  {
   "cell_type": "markdown",
   "id": "54b2b9f3-ca9c-41ed-8081-407c6cd25e7c",
   "metadata": {},
   "source": [
    "Let's construct a Layer class"
   ]
  },
  {
   "cell_type": "code",
   "execution_count": 26,
   "id": "fddd3fd1-079c-4bb6-b8dd-a5d352690a3e",
   "metadata": {},
   "outputs": [],
   "source": [
    "class Neuron:\n",
    "    def __init__(self, numberOfInputs):\n",
    "        self.w = [Value(random.uniform(-1,1)) for _ in range(numberOfInputs)]\n",
    "        self.b = Value(random.uniform(-1,1))\n",
    "    # Method to use f(x) notation when we initialize the variable f with Neuron class as a Neuron object\n",
    "    def __call__(self, x):\n",
    "        activation = sum((wi*xi for wi,xi in zip(self.w, x)), self.b)\n",
    "        output = activation.tanh()\n",
    "        return output\n",
    "\n",
    "class Layer:\n",
    "    def __init__(self, numberOfInputs, numberOfOutputs):\n",
    "        self.neurons = [Neuron(numberOfInputs) for _ in range(numberOfOutputs)]\n",
    "    def __call__(self, x):\n",
    "        return [n(x) for n in self.neurons]"
   ]
  },
  {
   "cell_type": "code",
   "execution_count": 27,
   "id": "b1a62137-38b3-472c-83c8-9c7b7021f68a",
   "metadata": {},
   "outputs": [
    {
     "data": {
      "text/plain": [
       "[Value(data=Value(data=0.0, label='*', grad=0.0000), label='tanh', grad=0.0000),\n",
       " Value(data=Value(data=0.8758937285024199, label='*', grad=0.0000), label='tanh', grad=0.0000),\n",
       " Value(data=Value(data=0.9470786783646301, label='*', grad=0.0000), label='tanh', grad=0.0000)]"
      ]
     },
     "execution_count": 27,
     "metadata": {},
     "output_type": "execute_result"
    }
   ],
   "source": [
    "# Testing the initial Layer class\n",
    "inputs = [6.0,9.0]\n",
    "testLayer = Layer(2,3)\n",
    "testLayer(inputs)"
   ]
  },
  {
   "cell_type": "markdown",
   "id": "8e0f527d-7f01-4abf-8bb7-6eb1d3306859",
   "metadata": {},
   "source": [
    "We can now construct a MultiLayerPerceptron\n",
    "Let's construct our very own diagram as MLP example \\\n",
    "![MLP](https://editor.analyticsvidhya.com/uploads/84918Neural-network-architecture-diagram.png)"
   ]
  },
  {
   "cell_type": "code",
   "execution_count": 28,
   "id": "9ff86564-7325-4b00-a610-6702b365c01f",
   "metadata": {},
   "outputs": [],
   "source": [
    "# Modified Value class to fix tanh error in computing int(terms)\n",
    "class Value:\n",
    "    # Constructor\n",
    "    def __init__(self, data, _children=(), label='', _op=''):\n",
    "        self.data = data\n",
    "        self.label = label\n",
    "        self.grad = 0\n",
    "        self._backward = lambda: None\n",
    "        # Used for Graph Construction\n",
    "        self._prev = set(_children)\n",
    "        self._op = _op if _op else label\n",
    "\n",
    "    def backward(self):\n",
    "        # Topological Sort, Sorting for Directed Acyclic Graph\n",
    "        topo = []\n",
    "        visited = set()\n",
    "        def build_topo(v):\n",
    "            if v not in visited:\n",
    "                visited.add(v)\n",
    "                for child in v._prev:\n",
    "                    build_topo(child)\n",
    "                topo.append(v)\n",
    "        build_topo(self)\n",
    "\n",
    "        # Freshly starting back propagation with its value as 1\n",
    "        self.grad = 1\n",
    "\n",
    "        # Backpropagation for Other Nodes\n",
    "        for vertex in topo:\n",
    "            vertex._backward()\n",
    "        \n",
    "    # For Printing Without Print Statements | Representation\n",
    "    def __repr__(self):\n",
    "        return f\"Value(data={self.data}, label='{self.label}', grad={self.grad:.4f})\"\n",
    "    def __format__(self, format_spec):\n",
    "        if format_spec == '':\n",
    "            return str(self)\n",
    "        return self.data.__format__(format_spec)\n",
    "    def __add__(self, other):\n",
    "        other = other if isinstance(other, Value) else Value(other)\n",
    "        out = Value(self.data + other.data, (self, other), '+')\n",
    "\n",
    "        def _backward():\n",
    "            self.grad += out.grad\n",
    "            other.grad += out.grad\n",
    "        out._backward = _backward\n",
    "\n",
    "        return out\n",
    "    def __mul__(self, other):\n",
    "        other = other if isinstance(other, Value) else Value(other)\n",
    "        out = Value(self.data * other.data, (self, other), '*')\n",
    "\n",
    "        def _backward():\n",
    "            self.grad += other.data * out.grad\n",
    "            other.grad += self.data * out.grad\n",
    "        out._backward = _backward\n",
    "\n",
    "        return out\n",
    "    def __pow__(self, other):\n",
    "        assert isinstance(other, (int, float)), \"only supporting int/float powers for now\"\n",
    "        out = Value(self.data**other, (self,), f'**{other}')\n",
    "\n",
    "        def _backward():\n",
    "            self.grad += (other * self.data**(other-1)) * out.grad\n",
    "        out._backward = _backward\n",
    "\n",
    "        return out\n",
    "    def exp(self, terms=10):\n",
    "        x = self.data\n",
    "        result = 1.0\n",
    "        factorial = 1.0\n",
    "    \n",
    "        for i in range(1, int(terms) + 1):\n",
    "            factorial *= i\n",
    "            result += (x**i) / factorial\n",
    "    \n",
    "        out = Value(result, (self,), 'exp')\n",
    "    \n",
    "        def _backward():\n",
    "            self.grad += out.data * out.grad\n",
    "    \n",
    "        out._backward = _backward\n",
    "    \n",
    "        return out\n",
    "    def tanh(self):\n",
    "        x = self.data\n",
    "        exp_2x = self.exp(2*x)\n",
    "        t = (exp_2x - 1) / (exp_2x + 1)\n",
    "        out = Value(t.data, (self, ), 'tanh')\n",
    "    \n",
    "        def _backward():\n",
    "            self.grad += (1 - t.data**2) * out.grad\n",
    "        out._backward = _backward\n",
    "\n",
    "        return out\n",
    "    # -self\n",
    "    def __neg__(self):\n",
    "        return self * -1\n",
    "    # other + self\n",
    "    def __radd__(self, other):\n",
    "        return self + other\n",
    "    # self - other\n",
    "    def __sub__(self, other): \n",
    "        return self + (-other)\n",
    "    # other - self\n",
    "    def __rsub__(self, other): \n",
    "        return other + (-self)\n",
    "    # other * self\n",
    "    def __rmul__(self, other):\n",
    "        return self * other\n",
    "    # self / other\n",
    "    def __truediv__(self, other):\n",
    "        return self * other**-1\n",
    "    # other / self\n",
    "    def __rtruediv__(self, other):\n",
    "        return other * self**-1\n",
    "        \n",
    "class Neuron:\n",
    "    def __init__(self, numberOfInputs):\n",
    "        self.w = [Value(random.uniform(-1,1)) for _ in range(numberOfInputs)]\n",
    "        self.b = Value(random.uniform(-1,1))\n",
    "    # Method to use f(x) notation when we initialize the variable f with Neuron class as a Neuron object\n",
    "    def __call__(self, x):\n",
    "        activation = sum((wi*xi for wi,xi in zip(self.w, x)), self.b)\n",
    "        output = activation.tanh()\n",
    "        return output\n",
    "\n",
    "class Layer:\n",
    "    def __init__(self, numberOfInputs, numberOfOutputs):\n",
    "        self.neurons = [Neuron(numberOfInputs) for _ in range(numberOfOutputs)]\n",
    "    def __call__(self, x):\n",
    "        return [n(x) for n in self.neurons]\n",
    "        \n",
    "class MultiLayerPerceptron:\n",
    "    def __init__(self, numberOfInputs, listOfNumberOfOutputsInEachLayer):\n",
    "        sz = [numberOfInputs] + listOfNumberOfOutputsInEachLayer\n",
    "        self.layers = [Layer(sz[i], sz[i+1]) for i in range(len(listOfNumberOfOutputsInEachLayer))]\n",
    "    def __call__(self, x):\n",
    "        for layer in self.layers:\n",
    "            x = layer(x)\n",
    "        return x"
   ]
  },
  {
   "cell_type": "code",
   "execution_count": 29,
   "id": "f0b7d28e-7831-491d-bfc7-036b28ba0328",
   "metadata": {},
   "outputs": [
    {
     "data": {
      "text/plain": [
       "[Value(data=0.0, label='tanh', grad=0.0000),\n",
       " Value(data=0.0, label='tanh', grad=0.0000)]"
      ]
     },
     "execution_count": 29,
     "metadata": {},
     "output_type": "execute_result"
    }
   ],
   "source": [
    "# Testing the initial MultiLayerPerceptron class\n",
    "inputs = [6.0,9.0,6.0,9.0]\n",
    "testMultiLayerPerceptron = MultiLayerPerceptron(3,[5,3,2])\n",
    "testMultiLayerPerceptron(inputs)"
   ]
  },
  {
   "cell_type": "code",
   "execution_count": 30,
   "id": "00201791-a91b-4eaa-a145-c9cf6530472c",
   "metadata": {},
   "outputs": [
    {
     "data": {
      "text/plain": [
       "[Value(data=0.0, label='tanh', grad=0.0000)]"
      ]
     },
     "execution_count": 30,
     "metadata": {},
     "output_type": "execute_result"
    }
   ],
   "source": [
    "# Lets create a simpler neural network to eventually build the loss function\n",
    "inputs = [6.0,9.0]\n",
    "testMultiLayerPerceptron = MultiLayerPerceptron(3,[4,4,1])\n",
    "testMultiLayerPerceptron(inputs)"
   ]
  },
  {
   "cell_type": "markdown",
   "id": "d91f2163-8d88-4164-8acc-685d94fe3e98",
   "metadata": {},
   "source": [
    "Now,\n",
    "\n",
    "**What is a loss function**?\n",
    "\n",
    "Loss function is a single number that is evaluated based on the individual losses of a neural network which says how good is our neural network.\n",
    "\n",
    "If loss is high, our neural network is performing bad.\n",
    "If loss is low, our neural network is performing good."
   ]
  },
  {
   "cell_type": "markdown",
   "id": "018c9eee-20cc-4097-bdfa-f7cfa31a5b29",
   "metadata": {},
   "source": [
    "Before that let's define our **dataset** to train our network"
   ]
  },
  {
   "cell_type": "code",
   "execution_count": 31,
   "id": "cef28e48-55c0-4f09-b724-d567faf5fb61",
   "metadata": {},
   "outputs": [],
   "source": [
    "# Let's define four different input examples to the dataset\n",
    "xs = [\n",
    "  [1.0, 1.0, -1.],\n",
    "  [3.0, -1.0, 0.5],\n",
    "  [0.5, 1.0, 1.0],\n",
    "  [2.0, 3.0, -1.0],\n",
    "]\n",
    "# And their individual outputs as labels\n",
    "ys = [-1.0, 1.0, 1.0, -1.0]"
   ]
  },
  {
   "cell_type": "markdown",
   "id": "930a82eb-d9eb-495d-ad49-db5bf990ca54",
   "metadata": {},
   "source": [
    "One of the most popular way to calculate loss is the **Mean Squared Error**\n",
    "\n",
    "$$ \\text{MSE} = \\frac{1}{n} \\sum_{i=1}^{n} \\left(Y_i - \\hat{Y_i}\\right)^2 $$\n",
    "\n",
    "Where,\n",
    "$$ \\text{MSE} = \\text{Mean Squared Error} $$\t\n",
    "$$ {n} = \\text{Number of data points} $$\n",
    "$$ Y_{i} = \\text{Observed Values or Actual Values} $$\n",
    "$$ \\hat{Y}_{i} = \\text{Predicted Values} $$"
   ]
  },
  {
   "cell_type": "code",
   "execution_count": 32,
   "id": "57b3b7e8-5f40-4e4f-ae6d-f6a382efaa19",
   "metadata": {},
   "outputs": [
    {
     "data": {
      "text/plain": [
       "Value(data=4.0, label='+', grad=0.0000)"
      ]
     },
     "execution_count": 32,
     "metadata": {},
     "output_type": "execute_result"
    }
   ],
   "source": [
    "# Predicting Values from Data Examples\n",
    "ypred = [testMultiLayerPerceptron(inputs) for inputs in xs]\n",
    "# So eventually loss can be calculated as\n",
    "loss = sum((yout[0] - ygt)**2 for ygt, yout in zip(ys, ypred))\n",
    "loss"
   ]
  },
  {
   "cell_type": "code",
   "execution_count": 33,
   "id": "32d8db30-c511-4b98-865e-5d7b7155d7ba",
   "metadata": {},
   "outputs": [],
   "source": [
    "# We can now backpropagate from our loss element\n",
    "loss.backward()"
   ]
  },
  {
   "cell_type": "markdown",
   "id": "7f753a7b-a547-47e4-8d2f-d1caea7030ca",
   "metadata": {},
   "source": [
    "Let's now make a parameters attribute in each of these classes' definition to very handily set parameters in a batch\n",
    "\n",
    "For us, our parameters are:\n",
    " - For a Neuron -> The Weights and Biases\n",
    " - For a Layer -> The Parameters for all the Neurons in that Layer\n",
    " - For a Multi-Layer Perceptron -> The Parameters for all the Parameters in a Layer"
   ]
  },
  {
   "cell_type": "code",
   "execution_count": 34,
   "id": "66c653f5-4fb7-4d84-93fe-1b760c0ef6bc",
   "metadata": {},
   "outputs": [],
   "source": [
    "# So eventually our classes look like\n",
    "class Value:\n",
    "    # Constructor\n",
    "    def __init__(self, data, _children=(), label='', _op=''):\n",
    "        self.data = data\n",
    "        self.label = label\n",
    "        self.grad = 0\n",
    "        self._backward = lambda: None\n",
    "        # Used for Graph Construction\n",
    "        self._prev = set(_children)\n",
    "        self._op = _op if _op else label\n",
    "\n",
    "    def backward(self):\n",
    "        # Topological Sort, Sorting for Directed Acyclic Graph\n",
    "        topo = []\n",
    "        visited = set()\n",
    "        def build_topo(v):\n",
    "            if v not in visited:\n",
    "                visited.add(v)\n",
    "                for child in v._prev:\n",
    "                    build_topo(child)\n",
    "                topo.append(v)\n",
    "        build_topo(self)\n",
    "\n",
    "        # Freshly starting back propagation with its value as 1\n",
    "        self.grad = 1\n",
    "\n",
    "        # Backpropagation for Other Nodes\n",
    "        for vertex in topo:\n",
    "            vertex._backward()\n",
    "        \n",
    "    # For Printing Without Print Statements | Representation\n",
    "    def __repr__(self):\n",
    "        return f\"Value(data={self.data}, label='{self.label}', grad={self.grad:.4f})\"\n",
    "    def __format__(self, format_spec):\n",
    "        if format_spec == '':\n",
    "            return str(self)\n",
    "        return self.data.__format__(format_spec)\n",
    "    def __add__(self, other):\n",
    "        other = other if isinstance(other, Value) else Value(other)\n",
    "        out = Value(self.data + other.data, (self, other), '+')\n",
    "\n",
    "        def _backward():\n",
    "            self.grad += out.grad\n",
    "            other.grad += out.grad\n",
    "        out._backward = _backward\n",
    "\n",
    "        return out\n",
    "    def __mul__(self, other):\n",
    "        other = other if isinstance(other, Value) else Value(other)\n",
    "        out = Value(self.data * other.data, (self, other), '*')\n",
    "\n",
    "        def _backward():\n",
    "            self.grad += other.data * out.grad\n",
    "            other.grad += self.data * out.grad\n",
    "        out._backward = _backward\n",
    "\n",
    "        return out\n",
    "    def __pow__(self, other):\n",
    "        assert isinstance(other, (int, float)), \"only supporting int/float powers for now\"\n",
    "        out = Value(self.data**other, (self,), f'**{other}')\n",
    "\n",
    "        def _backward():\n",
    "            self.grad += (other * self.data**(other-1)) * out.grad\n",
    "        out._backward = _backward\n",
    "\n",
    "        return out\n",
    "    def exp(self, terms=10):\n",
    "        x = self.data\n",
    "        result = 1.0\n",
    "        factorial = 1.0\n",
    "    \n",
    "        for i in range(1, int(terms) + 1):\n",
    "            factorial *= i\n",
    "            result += (x**i) / factorial\n",
    "    \n",
    "        out = Value(result, (self,), 'exp')\n",
    "    \n",
    "        def _backward():\n",
    "            self.grad += out.data * out.grad\n",
    "    \n",
    "        out._backward = _backward\n",
    "    \n",
    "        return out\n",
    "    def tanh(self):\n",
    "        x = self.data\n",
    "        exp_2x = self.exp(2*x)\n",
    "        t = (exp_2x - 1) / (exp_2x + 1)\n",
    "        out = Value(t.data, (self, ), 'tanh')\n",
    "    \n",
    "        def _backward():\n",
    "            self.grad += (1 - t.data**2) * out.grad\n",
    "        out._backward = _backward\n",
    "\n",
    "        return out\n",
    "    # -self\n",
    "    def __neg__(self):\n",
    "        return self * -1\n",
    "    # other + self\n",
    "    def __radd__(self, other):\n",
    "        return self + other\n",
    "    # self - other\n",
    "    def __sub__(self, other): \n",
    "        return self + (-other)\n",
    "    # other - self\n",
    "    def __rsub__(self, other): \n",
    "        return other + (-self)\n",
    "    # other * self\n",
    "    def __rmul__(self, other):\n",
    "        return self * other\n",
    "    # self / other\n",
    "    def __truediv__(self, other):\n",
    "        return self * other**-1\n",
    "    # other / self\n",
    "    def __rtruediv__(self, other):\n",
    "        return other * self**-1\n",
    "        \n",
    "class Neuron:\n",
    "    def __init__(self, numberOfInputs):\n",
    "        self.w = [Value(random.uniform(-1,1)) for _ in range(numberOfInputs)]\n",
    "        self.b = Value(random.uniform(-1,1))\n",
    "    # Method to use f(x) notation when we initialize the variable f with Neuron class as a Neuron object\n",
    "    def __call__(self, x):\n",
    "        activation = sum((wi*xi for wi,xi in zip(self.w, x)), self.b)\n",
    "        output = activation.tanh()\n",
    "        return output\n",
    "    # The weights and biases in the Neuron\n",
    "    def parameters(self):\n",
    "        return self.w + [self.b]\n",
    "\n",
    "class Layer:\n",
    "    def __init__(self, numberOfInputs, numberOfOutputs):\n",
    "        self.neurons = [Neuron(numberOfInputs) for _ in range(numberOfOutputs)]\n",
    "    def __call__(self, x):\n",
    "        return [n(x) for n in self.neurons]\n",
    "    # The Parameters for all the Neurons in that Layer\n",
    "    def parameters(self):\n",
    "        return [p for n in self.neurons for p in n.parameters()]\n",
    "        \n",
    "class MultiLayerPerceptron:\n",
    "    def __init__(self, numberOfInputs, listOfNumberOfOutputsInEachLayer):\n",
    "        sz = [numberOfInputs] + listOfNumberOfOutputsInEachLayer\n",
    "        self.layers = [Layer(sz[i], sz[i+1]) for i in range(len(listOfNumberOfOutputsInEachLayer))]\n",
    "    def __call__(self, x):\n",
    "        for layer in self.layers:\n",
    "            x = layer(x)\n",
    "        return x\n",
    "    # The Parameters for all the Parameters in a Layer\n",
    "    def parameters(self):\n",
    "        return [p for layer in self.layers for p in layer.parameters()]\n",
    "    def __repr__(self):\n",
    "        return f\"MultiLayerPerceptron of [{', '.join(str(layer) for layer in self.layers)}]\""
   ]
  },
  {
   "cell_type": "code",
   "execution_count": 35,
   "id": "ed8d12b7-0c5f-4499-bdcf-00a3fb49d0fe",
   "metadata": {},
   "outputs": [
    {
     "data": {
      "text/plain": [
       "[Value(data=0.0, label='tanh', grad=0.0000)]"
      ]
     },
     "execution_count": 35,
     "metadata": {},
     "output_type": "execute_result"
    }
   ],
   "source": [
    "# Lets create a simpler neural network to eventually build the loss function\n",
    "inputs = [6.0,9.0]\n",
    "testMultiLayerPerceptron = MultiLayerPerceptron(3,[4,4,1])\n",
    "testMultiLayerPerceptron(inputs)"
   ]
  },
  {
   "cell_type": "code",
   "execution_count": 36,
   "id": "652002e9-0f7c-4716-8d93-1e5ad186535d",
   "metadata": {},
   "outputs": [],
   "source": [
    "# Let's define four different input examples to the dataset\n",
    "xs = [\n",
    "  [1.0, 1.0, -1.],\n",
    "  [3.0, -1.0, 0.5],\n",
    "  [0.5, 1.0, 1.0],\n",
    "  [2.0, 3.0, -1.0],\n",
    "]\n",
    "# And their individual outputs as labels\n",
    "ys = [-1.0, 1.0, 1.0, -1.0]"
   ]
  },
  {
   "cell_type": "code",
   "execution_count": 37,
   "id": "21d0e642-1909-4f46-ad94-6165e8fa9ba4",
   "metadata": {},
   "outputs": [
    {
     "data": {
      "text/plain": [
       "Value(data=4.0, label='+', grad=0.0000)"
      ]
     },
     "execution_count": 37,
     "metadata": {},
     "output_type": "execute_result"
    }
   ],
   "source": [
    "# Predicting Values from Data Examples\n",
    "ypred = [testMultiLayerPerceptron(inputs) for inputs in xs]\n",
    "# So eventually loss can be calculated as\n",
    "loss = sum((yout[0] - ygt)**2 for ygt, yout in zip(ys, ypred))\n",
    "loss"
   ]
  },
  {
   "cell_type": "code",
   "execution_count": 38,
   "id": "43d6a201-0b66-4fc0-bea4-9fd3f2c167a4",
   "metadata": {},
   "outputs": [],
   "source": [
    "# We can now backpropagate from our loss element\n",
    "loss.backward()"
   ]
  },
  {
   "cell_type": "markdown",
   "id": "fb738c67-0d86-40f6-8ca4-e1d7b636f2c1",
   "metadata": {},
   "source": [
    "If we start nudging the data based on the gradient for all the parameters now,\n",
    "Our loss starts to effectively decrese now..."
   ]
  },
  {
   "cell_type": "code",
   "execution_count": 39,
   "id": "7debda02-0c1b-47f8-b43d-ebb93e60409e",
   "metadata": {},
   "outputs": [],
   "source": [
    "for p in testMultiLayerPerceptron.parameters():\n",
    "    p.data += -0.1 * p.grad"
   ]
  },
  {
   "cell_type": "code",
   "execution_count": 40,
   "id": "83ff04b4-576f-4a0a-80c6-58398ad3bdcd",
   "metadata": {},
   "outputs": [
    {
     "name": "stdout",
     "output_type": "stream",
     "text": [
      "4.0000000000\n"
     ]
    }
   ],
   "source": [
    "# We can now run this same cell over and over to get a loss sequentially\n",
    "\n",
    "# Forward Pass\n",
    "ypred = [testMultiLayerPerceptron(inputs) for inputs in xs]\n",
    "loss = sum((yout[0] - ygt)**2 for ygt, yout in zip(ys, ypred))\n",
    "print(f\"{loss.data:.10f}\")\n",
    "\n",
    "# Backward Pass\n",
    "loss.backward()\n",
    "\n",
    "# Updating Data Values\n",
    "for p in testMultiLayerPerceptron.parameters():\n",
    "    p.data += -1 * p.grad"
   ]
  },
  {
   "cell_type": "markdown",
   "id": "3e301bee-88fb-44b9-b849-63d7d761e39b",
   "metadata": {},
   "source": [
    "We can now eventually build a loop to iteratively come to gradient descent approach in a more natural manner"
   ]
  },
  {
   "cell_type": "code",
   "execution_count": 41,
   "id": "0ad5ead7-d6f5-4168-8e7a-d1e7a2e0b1fb",
   "metadata": {},
   "outputs": [
    {
     "name": "stdout",
     "output_type": "stream",
     "text": [
      "0 4.00000000000000000000\n",
      "1 4.00000000000000000000\n",
      "2 4.00000000000000000000\n",
      "3 4.00000000000000000000\n",
      "4 4.00000000000000000000\n",
      "5 4.00000000000000000000\n",
      "6 4.00000000000000000000\n",
      "7 4.00000000000000000000\n",
      "8 4.00000000000000000000\n",
      "9 4.00000000000000000000\n"
     ]
    }
   ],
   "source": [
    "passes = 10\n",
    "\n",
    "for index in range(passes):\n",
    "    # Forward Pass\n",
    "    ypred = [testMultiLayerPerceptron(inputs) for inputs in xs]\n",
    "    loss = sum((yout[0] - ygt)**2 for ygt, yout in zip(ys, ypred))\n",
    "    \n",
    "    # Backward Pass\n",
    "    loss.backward()\n",
    "    \n",
    "    # Updating Data Values\n",
    "    for p in testMultiLayerPerceptron.parameters():\n",
    "        p.data += -1 * p.grad\n",
    "\n",
    "    print(index,f\"{loss.data:.20f}\")"
   ]
  },
  {
   "cell_type": "markdown",
   "id": "6896079d-0495-4033-9599-e519bd4975f3",
   "metadata": {},
   "source": [
    "In Conclusion,\n",
    "\n",
    "1. We saw how we can turn simple Values into mathematical expressions\n",
    "2. How their derivatives take place mathematically and practically\n",
    "3. Reused these Values to build Neurons\n",
    "4. Saw how these Neurons can form a Layer\n",
    "5. Saw how these Layers can be grouped to make a Multi Layer Perceptron\n",
    "6. Saw how we do a forward pass in these Neural Networks\n",
    "7. Saw how we calculate the loss function in these Neural Networks\n",
    "8. Saw how we do a backward pass in these Neural Networks\n",
    "9. Saw how update the data values in these Neural Networks\n",
    "10. Saw how we make a natural loop to do a forward pass, backward pass and updation of data values in a iterative manner"
   ]
  },
  {
   "cell_type": "markdown",
   "id": "e27de49c-4747-4fd1-822d-2d5c0a374c5e",
   "metadata": {},
   "source": [
    "I now also invite you all to contribute more to this notebook and eventually make improvements to the already written code...\n",
    "Happy Coding. :)"
   ]
  }
 ],
 "metadata": {
  "kernelspec": {
   "display_name": "Python 3 (ipykernel)",
   "language": "python",
   "name": "python3"
  },
  "language_info": {
   "codemirror_mode": {
    "name": "ipython",
    "version": 3
   },
   "file_extension": ".py",
   "mimetype": "text/x-python",
   "name": "python",
   "nbconvert_exporter": "python",
   "pygments_lexer": "ipython3",
   "version": "3.12.1"
  }
 },
 "nbformat": 4,
 "nbformat_minor": 5
}
