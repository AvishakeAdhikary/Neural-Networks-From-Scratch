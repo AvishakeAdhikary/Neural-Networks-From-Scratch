{
 "cells": [
  {
   "cell_type": "markdown",
   "id": "f01cb0e7-db31-4865-b2b9-c732c46b6a24",
   "metadata": {},
   "source": [
    "# Neural Networks with Derivatives"
   ]
  },
  {
   "cell_type": "markdown",
   "id": "7591e9fe-adae-4f00-8659-eaa2219d2c06",
   "metadata": {},
   "source": [
    "# Installing Dependencies"
   ]
  },
  {
   "cell_type": "markdown",
   "id": "da314e45-ecda-4201-8248-9bf8a9fa05d3",
   "metadata": {},
   "source": [
    "- networkx is for visualizing graphs\n",
    "- numpy is for array manipulation\n",
    "- pandas is for data manipulations in form of tables\n",
    "- matplotlib is for plotting data and visualization"
   ]
  },
  {
   "cell_type": "code",
   "execution_count": 3,
   "id": "3d0d40dc-8361-4b68-89cb-1848319aed30",
   "metadata": {},
   "outputs": [
    {
     "name": "stdout",
     "output_type": "stream",
     "text": [
      "Requirement already satisfied: networkx in c:\\users\\avhis\\appdata\\local\\programs\\python\\python312\\lib\\site-packages (3.2.1)\n",
      "Requirement already satisfied: numpy in c:\\users\\avhis\\appdata\\local\\programs\\python\\python312\\lib\\site-packages (1.26.3)\n",
      "Requirement already satisfied: pandas in c:\\users\\avhis\\appdata\\local\\programs\\python\\python312\\lib\\site-packages (2.1.4)\n",
      "Requirement already satisfied: numpy<2,>=1.26.0 in c:\\users\\avhis\\appdata\\local\\programs\\python\\python312\\lib\\site-packages (from pandas) (1.26.3)\n",
      "Requirement already satisfied: python-dateutil>=2.8.2 in c:\\users\\avhis\\appdata\\local\\programs\\python\\python312\\lib\\site-packages (from pandas) (2.8.2)\n",
      "Requirement already satisfied: pytz>=2020.1 in c:\\users\\avhis\\appdata\\local\\programs\\python\\python312\\lib\\site-packages (from pandas) (2023.3.post1)\n",
      "Requirement already satisfied: tzdata>=2022.1 in c:\\users\\avhis\\appdata\\local\\programs\\python\\python312\\lib\\site-packages (from pandas) (2023.4)\n",
      "Requirement already satisfied: six>=1.5 in c:\\users\\avhis\\appdata\\local\\programs\\python\\python312\\lib\\site-packages (from python-dateutil>=2.8.2->pandas) (1.16.0)\n",
      "Requirement already satisfied: matplotlib in c:\\users\\avhis\\appdata\\local\\programs\\python\\python312\\lib\\site-packages (3.8.2)\n",
      "Requirement already satisfied: contourpy>=1.0.1 in c:\\users\\avhis\\appdata\\local\\programs\\python\\python312\\lib\\site-packages (from matplotlib) (1.2.0)\n",
      "Requirement already satisfied: cycler>=0.10 in c:\\users\\avhis\\appdata\\local\\programs\\python\\python312\\lib\\site-packages (from matplotlib) (0.12.1)\n",
      "Requirement already satisfied: fonttools>=4.22.0 in c:\\users\\avhis\\appdata\\local\\programs\\python\\python312\\lib\\site-packages (from matplotlib) (4.47.2)\n",
      "Requirement already satisfied: kiwisolver>=1.3.1 in c:\\users\\avhis\\appdata\\local\\programs\\python\\python312\\lib\\site-packages (from matplotlib) (1.4.5)\n",
      "Requirement already satisfied: numpy<2,>=1.21 in c:\\users\\avhis\\appdata\\local\\programs\\python\\python312\\lib\\site-packages (from matplotlib) (1.26.3)\n",
      "Requirement already satisfied: packaging>=20.0 in c:\\users\\avhis\\appdata\\local\\programs\\python\\python312\\lib\\site-packages (from matplotlib) (23.2)\n",
      "Requirement already satisfied: pillow>=8 in c:\\users\\avhis\\appdata\\local\\programs\\python\\python312\\lib\\site-packages (from matplotlib) (10.2.0)\n",
      "Requirement already satisfied: pyparsing>=2.3.1 in c:\\users\\avhis\\appdata\\local\\programs\\python\\python312\\lib\\site-packages (from matplotlib) (3.1.1)\n",
      "Requirement already satisfied: python-dateutil>=2.7 in c:\\users\\avhis\\appdata\\local\\programs\\python\\python312\\lib\\site-packages (from matplotlib) (2.8.2)\n",
      "Requirement already satisfied: six>=1.5 in c:\\users\\avhis\\appdata\\local\\programs\\python\\python312\\lib\\site-packages (from python-dateutil>=2.7->matplotlib) (1.16.0)\n"
     ]
    }
   ],
   "source": [
    "!pip install networkx\n",
    "!pip install numpy\n",
    "!pip install pandas\n",
    "!pip install matplotlib"
   ]
  },
  {
   "cell_type": "markdown",
   "id": "73d8c072-1c01-4a95-b936-e88928442efb",
   "metadata": {},
   "source": [
    "# Importing Libraries"
   ]
  },
  {
   "cell_type": "code",
   "execution_count": 4,
   "id": "abbe1632-1bad-4813-8704-7cfaf518f2ad",
   "metadata": {},
   "outputs": [],
   "source": [
    "import networkx as nx\n",
    "import numpy as np\n",
    "import pandas as pd\n",
    "import matplotlib.pyplot as plt"
   ]
  },
  {
   "cell_type": "markdown",
   "id": "22e2bb0c-f9b6-4d05-a487-7ca489bb520a",
   "metadata": {},
   "source": [
    "# Derivative:\n",
    "#### The derivative is a fundamental tool of calculus that **quantifies the sensitivity of change** of a **function's output with respect to its input**."
   ]
  },
  {
   "cell_type": "markdown",
   "id": "c9970fa6-546c-47a9-b601-63557fe8d75f",
   "metadata": {},
   "source": [
    "$$ \\[\n",
    "L = \\lim_{{h \\to 0}} \\frac{{f(a + h) - f(a)}}{h}\n",
    "\\]\n",
    "$$"
   ]
  },
  {
   "cell_type": "markdown",
   "id": "14bfaa0f-2d6e-4e88-b2b3-d854678fdc0b",
   "metadata": {},
   "source": [
    "### Let's take a Simple Parabolic Function:"
   ]
  },
  {
   "cell_type": "markdown",
   "id": "11c5cacb-6cac-4176-a4f6-63df8657ea60",
   "metadata": {},
   "source": [
    "$$ \\[ f(x) = ax^2 + bx + c \\] $$\n"
   ]
  },
  {
   "cell_type": "code",
   "execution_count": 5,
   "id": "722c4500-c7da-4bf9-b291-1b28677ed275",
   "metadata": {},
   "outputs": [],
   "source": [
    "# Assuming random 'a', 'b' and 'c' values\n",
    "def f(x):\n",
    "    return 3*x**2 + 2*x + 1"
   ]
  },
  {
   "cell_type": "code",
   "execution_count": 6,
   "id": "92c2acf9-30e8-4456-aad0-0dc408898bb7",
   "metadata": {},
   "outputs": [
    {
     "name": "stdout",
     "output_type": "stream",
     "text": [
      "When x=-5.0; y=66.0\n",
      "When x=-4.75; y=59.1875\n",
      "When x=-4.5; y=52.75\n",
      "When x=-4.25; y=46.6875\n",
      "When x=-4.0; y=41.0\n",
      "When x=-3.75; y=35.6875\n",
      "When x=-3.5; y=30.75\n",
      "When x=-3.25; y=26.1875\n",
      "When x=-3.0; y=22.0\n",
      "When x=-2.75; y=18.1875\n",
      "When x=-2.5; y=14.75\n",
      "When x=-2.25; y=11.6875\n",
      "When x=-2.0; y=9.0\n",
      "When x=-1.75; y=6.6875\n",
      "When x=-1.5; y=4.75\n",
      "When x=-1.25; y=3.1875\n",
      "When x=-1.0; y=2.0\n",
      "When x=-0.75; y=1.1875\n",
      "When x=-0.5; y=0.75\n",
      "When x=-0.25; y=0.6875\n",
      "When x=0.0; y=1.0\n",
      "When x=0.25; y=1.6875\n",
      "When x=0.5; y=2.75\n",
      "When x=0.75; y=4.1875\n",
      "When x=1.0; y=6.0\n",
      "When x=1.25; y=8.1875\n",
      "When x=1.5; y=10.75\n",
      "When x=1.75; y=13.6875\n",
      "When x=2.0; y=17.0\n",
      "When x=2.25; y=20.6875\n",
      "When x=2.5; y=24.75\n",
      "When x=2.75; y=29.1875\n",
      "When x=3.0; y=34.0\n",
      "When x=3.25; y=39.1875\n",
      "When x=3.5; y=44.75\n",
      "When x=3.75; y=50.6875\n",
      "When x=4.0; y=57.0\n",
      "When x=4.25; y=63.6875\n",
      "When x=4.5; y=70.75\n",
      "When x=4.75; y=78.1875\n"
     ]
    }
   ],
   "source": [
    "xs = np.arange(-5,5,0.25) # Creates a list of numbers from -5 to +5 with a step of 0.25\n",
    "ys = f(xs)\n",
    "for i in range(len(xs)):\n",
    "    print(f\"When x={xs[i]}; y={ys[i]}\")"
   ]
  },
  {
   "cell_type": "code",
   "execution_count": 7,
   "id": "5ee466bf-2cac-42f2-9287-dbd240e1d992",
   "metadata": {},
   "outputs": [
    {
     "data": {
      "text/plain": [
       "[<matplotlib.lines.Line2D at 0x145b284d700>]"
      ]
     },
     "execution_count": 7,
     "metadata": {},
     "output_type": "execute_result"
    },
    {
     "data": {
      "image/png": "[encoded data removed]",
      "text/plain": [
       "<Figure size 640x480 with 1 Axes>"
      ]
     },
     "metadata": {},
     "output_type": "display_data"
    }
   ],
   "source": [
    "# Plotting the points on a graph gives us...\n",
    "plt.plot(xs,ys)"
   ]
  },
  {
   "cell_type": "markdown",
   "id": "4d97c0e9-8cac-4122-9b24-24f731135075",
   "metadata": {},
   "source": [
    "According to the definition of Derivatives, we have to check what is the sensitivity of 'x' if we bump the value with 'h'"
   ]
  },
  {
   "cell_type": "code",
   "execution_count": 8,
   "id": "00edbeb0-ae40-4a1e-a5d5-adcfb6676eae",
   "metadata": {},
   "outputs": [
    {
     "data": {
      "text/plain": [
       "11.383333333333333"
      ]
     },
     "execution_count": 8,
     "metadata": {},
     "output_type": "execute_result"
    }
   ],
   "source": [
    "# Let's take a very small value of h and check the sensitivity in both positive and negetive\n",
    "h = 0.1\n",
    "x = 1.0\n",
    "( f(x + h) / ( f(x) ) ) / h"
   ]
  },
  {
   "cell_type": "code",
   "execution_count": 9,
   "id": "4f9504b7-0a18-4d1b-9930-f921b7aa659a",
   "metadata": {},
   "outputs": [
    {
     "data": {
      "text/plain": [
       "-8.716666666666667"
      ]
     },
     "execution_count": 9,
     "metadata": {},
     "output_type": "execute_result"
    }
   ],
   "source": [
    "# Let's take a very small value of h and check the sensitivity in both positive and negetive\n",
    "h = -0.1\n",
    "x = 1.0\n",
    "( f(x + h) / ( f(x) ) ) / h"
   ]
  },
  {
   "cell_type": "markdown",
   "id": "0c1d3937-f76f-4efd-8508-5361fb514623",
   "metadata": {},
   "source": [
    "Let's try a different scenario where we use mathematical expressions to understand derivatives"
   ]
  },
  {
   "cell_type": "code",
   "execution_count": 10,
   "id": "39d05555-97ba-4b92-b9aa-e2eed6be25d6",
   "metadata": {},
   "outputs": [
    {
     "name": "stdout",
     "output_type": "stream",
     "text": [
      "Expression before bumping: 9.5; Expression after bumping: 9.501; Slope 0.9999999999994458\n"
     ]
    }
   ],
   "source": [
    "# Let's say we have an expression with values\n",
    "\n",
    "j = 5.0\n",
    "k = -0.1\n",
    "l = 10.0\n",
    "\n",
    "h = 0.001\n",
    "\n",
    "expressionBeforeBumping = j * k + l\n",
    "l += h # Here the value of l is bumped up in the positive direction\n",
    "expressionAfterBumping = j * k + l\n",
    "slope = (expressionAfterBumping - expressionBeforeBumping)/h\n",
    "\n",
    "print(f\"Expression before bumping: {expressionBeforeBumping};\", f\"Expression after bumping: {expressionAfterBumping};\", f\"Slope {slope}\")"
   ]
  },
  {
   "cell_type": "markdown",
   "id": "028d2f99-83ad-4a85-a1af-7cb4e3c84e64",
   "metadata": {},
   "source": [
    "# Why are Derivatives Important?"
   ]
  },
  {
   "cell_type": "markdown",
   "id": "c1b1b3ca-9bd9-41cd-adb9-940cefb5159a",
   "metadata": {},
   "source": [
    "Eventually, when we arrive at the important parts like gradient descent algorithm, we will be requiring derivatives.\n",
    "\n",
    "**What is \"Gradient\" you ask?**\n",
    "\n",
    "Imagine a car being dropped on a parabolic slope. You want the car to 'eventually' stop at a particular point. So you start applying brakes (basically a force in the opposite direction) of the movement.\n",
    "\n",
    "This force in the opposite direction is known as a gradient.\n",
    "\n",
    "**What is the relationship between a 'derivative' and a 'gradient'?**\n",
    "\n",
    "A 'Gradient' is a 'Derivative' with known direction.\n",
    "In Derivatives we check the sensitivity in all directions for a value.\n",
    "But in Gradients we know the direction we want to push, we just have to tinker with the value."
   ]
  },
  {
   "cell_type": "markdown",
   "id": "cb2871d1-a5aa-4744-969b-b227ea1c4e44",
   "metadata": {},
   "source": [
    "# Mathematical Example"
   ]
  },
  {
   "cell_type": "markdown",
   "id": "e4cd89fb-18ff-47ec-8220-dca9494bd524",
   "metadata": {},
   "source": [
    "#### Let's take a more complicated mathematical expression and try to evaluate it with gradients:\n",
    "\n",
    "Let's assume random values as 'r'\n",
    "\n",
    "1. A = r\n",
    "2. B = r\n",
    "3. C = A * B\n",
    "4. D = r\n",
    "5. E = C + D\n",
    "6. F = r\n",
    "7. L = E * F\n",
    "\n",
    "Where **L** is the result of this expression"
   ]
  },
  {
   "cell_type": "code",
   "execution_count": 143,
   "id": "704dba60-3e26-48e6-8884-5d952b112f91",
   "metadata": {},
   "outputs": [],
   "source": [
    "# Let's construct a Value class to store all the expressions for simpler calculations\n",
    "class Value:\n",
    "    # Constructor\n",
    "    def __init__(self , data,_children=(), label='', _op=''):\n",
    "        self.data = data\n",
    "        self.label = label\n",
    "        # Used for Graph Construction\n",
    "        self._prev = set(_children)\n",
    "        self._op = _op if _op else label\n",
    "    # For Printing Without Print Statements | Representation\n",
    "    def __repr__(self):\n",
    "        return f\"Value(data={self.data})\"\n",
    "    def __add__(self, other):\n",
    "        other = other if isinstance(other, Value) else Value(other)\n",
    "        return Value(self.data + other.data, (self, other), '+')\n",
    "    def __mul__(self, other):\n",
    "        other = other if isinstance(other, Value) else Value(other)\n",
    "        return Value(self.data * other.data, (self, other), '*')\n",
    "    # other + self\n",
    "    def __radd__(self, other):\n",
    "        return self + other\n",
    "    # other * self\n",
    "    def __rmul__(self, other):\n",
    "        return self * other"
   ]
  },
  {
   "cell_type": "code",
   "execution_count": 144,
   "id": "46d98b12-b378-4564-a8b8-b4ce3d0e0f46",
   "metadata": {},
   "outputs": [],
   "source": [
    "a = Value(3, label='a')\n",
    "b = Value(-2, label='b')\n",
    "c = a * b\n",
    "d = Value(5, label='d')\n",
    "e = c + d\n",
    "f = Value(-10, label='f')\n",
    "L = e * f\n",
    "\n",
    "c.label = 'c'\n",
    "e.label = 'e'\n",
    "L.label = 'L'"
   ]
  },
  {
   "cell_type": "markdown",
   "id": "7cfa5e2e-3f62-45ba-9d39-4e1b0954e4fa",
   "metadata": {},
   "source": [
    "Let's visualize our expression in form of expression graphs now"
   ]
  },
  {
   "cell_type": "code",
   "execution_count": 147,
   "id": "e50a24e9-f4f2-4db1-bd55-2ab0b6b8e219",
   "metadata": {},
   "outputs": [],
   "source": [
    "def trace(root):\n",
    "    nodes, edges = set(), set()\n",
    "    def build(v):\n",
    "        if v not in nodes:\n",
    "            nodes.add(v)\n",
    "            for child in v._prev:\n",
    "                edges.add((child, v))\n",
    "                build(child)\n",
    "    build(root)\n",
    "    return nodes, edges\n",
    "\n",
    "def draw_networkx(root, rankdir='LR'):\n",
    "    assert rankdir in ['LR', 'TB']\n",
    "    nodes, edges = trace(root)\n",
    "    \n",
    "    G = nx.DiGraph()\n",
    "    \n",
    "    for n in nodes:\n",
    "        label = \"{label} \\n d={data:.4f}\".format(label=n.label, data=n.data)\n",
    "        G.add_node(str(id(n)), label=label)\n",
    "        if n._op:\n",
    "            G.add_node(str(id(n)) + n._op, label=n._op)\n",
    "            G.add_edge(str(id(n)) + n._op, str(id(n)))\n",
    "    \n",
    "    for n1, n2 in edges:\n",
    "        G.add_edge(str(id(n1)), str(id(n2)) + n2._op)\n",
    "    \n",
    "    pos = None\n",
    "    if rankdir == 'LR':\n",
    "        pos = nx.spring_layout(G, seed=4)\n",
    "    \n",
    "    labels = nx.get_node_attributes(G, 'label')\n",
    "    nx.draw(G, pos=pos, with_labels=True, labels=labels, font_size=6, font_weight='bold')\n",
    "    plt.show()"
   ]
  },
  {
   "cell_type": "code",
   "execution_count": 148,
   "id": "f8da8d5f-ba26-43c7-8d14-f4dd30d444f0",
   "metadata": {},
   "outputs": [
    {
     "data": {
      "image/png": "[encoded data removed]",
      "text/plain": [
       "<Figure size 640x480 with 1 Axes>"
      ]
     },
     "metadata": {},
     "output_type": "display_data"
    }
   ],
   "source": [
    "draw_networkx(L)"
   ]
  }
 ],
 "metadata": {
  "kernelspec": {
   "display_name": "Python 3 (ipykernel)",
   "language": "python",
   "name": "python3"
  },
  "language_info": {
   "codemirror_mode": {
    "name": "ipython",
    "version": 3
   },
   "file_extension": ".py",
   "mimetype": "text/x-python",
   "name": "python",
   "nbconvert_exporter": "python",
   "pygments_lexer": "ipython3",
   "version": "3.12.1"
  }
 },
 "nbformat": 4,
 "nbformat_minor": 5
}
